{
 "cells": [
  {
   "cell_type": "code",
   "execution_count": 1,
   "id": "b1980d71-c121-49a3-b541-729fc6614343",
   "metadata": {},
   "outputs": [],
   "source": [
    "import numpy as np\n",
    "# Matrix and Vector Operations"
   ]
  },
  {
   "cell_type": "code",
   "execution_count": 3,
   "id": "4e77ec50-cb5f-4339-b937-badfad7f3183",
   "metadata": {},
   "outputs": [],
   "source": [
    "# Matrix multiplication"
   ]
  },
  {
   "cell_type": "code",
   "execution_count": 5,
   "id": "6dd88fef-1a29-4a78-abe1-9c1102cd1bc6",
   "metadata": {},
   "outputs": [],
   "source": [
    "A = np.arange(1,7).reshape(2,3)"
   ]
  },
  {
   "cell_type": "code",
   "execution_count": 7,
   "id": "c404568f-6066-46ef-b7e6-9200f21991ae",
   "metadata": {},
   "outputs": [],
   "source": [
    "B = np.arange(1,7).reshape(3,2)"
   ]
  },
  {
   "cell_type": "code",
   "execution_count": 9,
   "id": "c2edc278-64d1-4e13-8333-ce9cdc8de405",
   "metadata": {},
   "outputs": [
    {
     "data": {
      "text/plain": [
       "array([[1, 2, 3],\n",
       "       [4, 5, 6]])"
      ]
     },
     "execution_count": 9,
     "metadata": {},
     "output_type": "execute_result"
    }
   ],
   "source": [
    "A"
   ]
  },
  {
   "cell_type": "code",
   "execution_count": 11,
   "id": "8791696d-d2af-4f22-ae31-e30803cf9342",
   "metadata": {},
   "outputs": [
    {
     "data": {
      "text/plain": [
       "array([[1, 2],\n",
       "       [3, 4],\n",
       "       [5, 6]])"
      ]
     },
     "execution_count": 11,
     "metadata": {},
     "output_type": "execute_result"
    }
   ],
   "source": [
    "B"
   ]
  },
  {
   "cell_type": "code",
   "execution_count": 13,
   "id": "8f54cfb9-8d4b-4125-9adf-4487ae07b57f",
   "metadata": {},
   "outputs": [
    {
     "data": {
      "text/plain": [
       "array([[22, 28],\n",
       "       [49, 64]])"
      ]
     },
     "execution_count": 13,
     "metadata": {},
     "output_type": "execute_result"
    }
   ],
   "source": [
    "A.dot(B)"
   ]
  },
  {
   "cell_type": "code",
   "execution_count": 15,
   "id": "612190f7-719f-461f-a136-4b6980678912",
   "metadata": {},
   "outputs": [
    {
     "data": {
      "text/plain": [
       "array([[ 9, 12, 15],\n",
       "       [19, 26, 33],\n",
       "       [29, 40, 51]])"
      ]
     },
     "execution_count": 15,
     "metadata": {},
     "output_type": "execute_result"
    }
   ],
   "source": [
    "B.dot(A)"
   ]
  },
  {
   "cell_type": "code",
   "execution_count": 17,
   "id": "1b122c5b-8589-4da6-ae06-81e27b1730f7",
   "metadata": {},
   "outputs": [],
   "source": [
    "# matrix vector multiplication (2D-Matix X 1D-Array represents vector)"
   ]
  },
  {
   "cell_type": "code",
   "execution_count": 19,
   "id": "17ec5668-bf74-4ab0-8f15-4ac03353c516",
   "metadata": {},
   "outputs": [],
   "source": [
    "A = np.arange(9).reshape(3,3)"
   ]
  },
  {
   "cell_type": "code",
   "execution_count": 21,
   "id": "c377f871-a493-4bdc-88d3-0459b4bf70f1",
   "metadata": {},
   "outputs": [
    {
     "data": {
      "text/plain": [
       "array([[0, 1, 2],\n",
       "       [3, 4, 5],\n",
       "       [6, 7, 8]])"
      ]
     },
     "execution_count": 21,
     "metadata": {},
     "output_type": "execute_result"
    }
   ],
   "source": [
    "A"
   ]
  },
  {
   "cell_type": "code",
   "execution_count": 23,
   "id": "4958a33f-531e-4512-b6ca-5fb137dc2586",
   "metadata": {},
   "outputs": [],
   "source": [
    "x = np.arange(3)"
   ]
  },
  {
   "cell_type": "code",
   "execution_count": 25,
   "id": "048b5178-d79d-44e1-8d11-383204352265",
   "metadata": {},
   "outputs": [
    {
     "data": {
      "text/plain": [
       "array([0, 1, 2])"
      ]
     },
     "execution_count": 25,
     "metadata": {},
     "output_type": "execute_result"
    }
   ],
   "source": [
    "x"
   ]
  },
  {
   "cell_type": "code",
   "execution_count": 27,
   "id": "baf9b2f8-b416-4ac9-8146-cab480d8a114",
   "metadata": {},
   "outputs": [
    {
     "data": {
      "text/plain": [
       "array([ 5, 14, 23])"
      ]
     },
     "execution_count": 27,
     "metadata": {},
     "output_type": "execute_result"
    }
   ],
   "source": [
    "np.dot(A,x)"
   ]
  },
  {
   "cell_type": "code",
   "execution_count": 29,
   "id": "736e93dd-3621-4de7-b054-7a3f26f2845c",
   "metadata": {},
   "outputs": [],
   "source": [
    "A = np.random.rand(3,3)"
   ]
  },
  {
   "cell_type": "code",
   "execution_count": 31,
   "id": "fb69f853-417b-4ea3-86a2-fa888f391566",
   "metadata": {},
   "outputs": [],
   "source": [
    "B = np.random.rand(3,3)"
   ]
  },
  {
   "cell_type": "code",
   "execution_count": 35,
   "id": "c3e5c2b1-4b5d-4fdf-9251-9142eaa26f3e",
   "metadata": {},
   "outputs": [
    {
     "data": {
      "text/plain": [
       "array([[0.03241797, 0.54675252, 0.07384823],\n",
       "       [0.49386153, 0.29680591, 0.33771318],\n",
       "       [0.79884005, 0.18259834, 0.08268243]])"
      ]
     },
     "execution_count": 35,
     "metadata": {},
     "output_type": "execute_result"
    }
   ],
   "source": [
    "A"
   ]
  },
  {
   "cell_type": "code",
   "execution_count": 37,
   "id": "b37858fa-3ab5-4205-8159-07cb90354c49",
   "metadata": {},
   "outputs": [
    {
     "data": {
      "text/plain": [
       "array([[0.20754219, 0.65465825, 0.17159519],\n",
       "       [0.16222162, 0.86408596, 0.87916481],\n",
       "       [0.15089114, 0.88524979, 0.93809723]])"
      ]
     },
     "execution_count": 37,
     "metadata": {},
     "output_type": "execute_result"
    }
   ],
   "source": [
    "B"
   ]
  },
  {
   "cell_type": "code",
   "execution_count": 39,
   "id": "ef51a3e0-a47a-422d-bbcc-087f29a86a9b",
   "metadata": {},
   "outputs": [],
   "source": [
    "Ap = np.dot(B,np.dot(A,np.linalg.inv(B)))"
   ]
  },
  {
   "cell_type": "code",
   "execution_count": 41,
   "id": "3a65a36f-6d28-44de-b76b-ec45dfd7afcd",
   "metadata": {},
   "outputs": [
    {
     "data": {
      "text/plain": [
       "array([[  -3.09935044,   47.31019996,  -43.50404933],\n",
       "       [  -8.35039952,  123.80487887, -114.09853559],\n",
       "       [  -8.81924494,  130.5194656 , -120.29362212]])"
      ]
     },
     "execution_count": 41,
     "metadata": {},
     "output_type": "execute_result"
    }
   ],
   "source": [
    "Ap"
   ]
  },
  {
   "cell_type": "code",
   "execution_count": 45,
   "id": "7737c05f-b11f-48b1-99b1-811daa1610f1",
   "metadata": {},
   "outputs": [],
   "source": [
    "A = np.matrix(A)\n",
    "B = np.matrix(B)\n",
    "Ap = A*B*B.I"
   ]
  },
  {
   "cell_type": "code",
   "execution_count": 47,
   "id": "88d55ddb-7c93-4023-8679-a03622ca19aa",
   "metadata": {},
   "outputs": [
    {
     "data": {
      "text/plain": [
       "matrix([[0.03241797, 0.54675252, 0.07384823],\n",
       "        [0.49386153, 0.29680591, 0.33771318],\n",
       "        [0.79884005, 0.18259834, 0.08268243]])"
      ]
     },
     "execution_count": 47,
     "metadata": {},
     "output_type": "execute_result"
    }
   ],
   "source": [
    "Ap"
   ]
  },
  {
   "cell_type": "code",
   "execution_count": 49,
   "id": "1f1a50e2-b2f5-437e-aaad-1aa288f983d3",
   "metadata": {},
   "outputs": [],
   "source": [
    "Ap = np.asarray(Ap)"
   ]
  },
  {
   "cell_type": "code",
   "execution_count": 51,
   "id": "829bb8cd-0ca4-42b3-ba39-4805adcb7b48",
   "metadata": {},
   "outputs": [
    {
     "data": {
      "text/plain": [
       "array([[0.03241797, 0.54675252, 0.07384823],\n",
       "       [0.49386153, 0.29680591, 0.33771318],\n",
       "       [0.79884005, 0.18259834, 0.08268243]])"
      ]
     },
     "execution_count": 51,
     "metadata": {},
     "output_type": "execute_result"
    }
   ],
   "source": [
    "Ap"
   ]
  },
  {
   "cell_type": "code",
   "execution_count": 59,
   "id": "21f0c6fe-0a1e-4590-a194-ea12141acad7",
   "metadata": {},
   "outputs": [
    {
     "data": {
      "text/plain": [
       "14"
      ]
     },
     "execution_count": 59,
     "metadata": {},
     "output_type": "execute_result"
    }
   ],
   "source": [
    "x = np.array([1,2,3])\n",
    "np.inner(x,x) # vector to scalar"
   ]
  },
  {
   "cell_type": "code",
   "execution_count": 61,
   "id": "bcc62473-303b-42ca-b16c-d5c5b94a04b5",
   "metadata": {},
   "outputs": [
    {
     "data": {
      "text/plain": [
       "array([[1, 2, 3],\n",
       "       [2, 4, 6],\n",
       "       [3, 6, 9]])"
      ]
     },
     "execution_count": 61,
     "metadata": {},
     "output_type": "execute_result"
    }
   ],
   "source": [
    "np.outer(x,x) # complimentary operation of mapping 2 vectors to a matrix"
   ]
  },
  {
   "cell_type": "code",
   "execution_count": 84,
   "id": "9beb690c-1a3a-461f-88e8-bbab3b792cbf",
   "metadata": {},
   "outputs": [],
   "source": [
    "A = np.matrix(np.array([[1,3,2],[2,0,-1],[1,2,3]]))"
   ]
  },
  {
   "cell_type": "code",
   "execution_count": 112,
   "id": "84310c84-321d-4b6d-8232-fdeabb661000",
   "metadata": {},
   "outputs": [],
   "source": [
    "y = np.matrix(np.array([[11,0,0],[0,11,0],[0,0,11]]))"
   ]
  },
  {
   "cell_type": "code",
   "execution_count": 114,
   "id": "e60d0ad6-43fa-4b90-8020-487bac9768d9",
   "metadata": {},
   "outputs": [],
   "source": [
    "x = A*A*A - 4*A*A -3*A + y"
   ]
  },
  {
   "cell_type": "code",
   "execution_count": 116,
   "id": "a242f780-4500-4098-b59f-515cf6674da3",
   "metadata": {},
   "outputs": [
    {
     "data": {
      "text/plain": [
       "matrix([[0, 0, 0],\n",
       "        [0, 0, 0],\n",
       "        [0, 0, 0]])"
      ]
     },
     "execution_count": 116,
     "metadata": {},
     "output_type": "execute_result"
    }
   ],
   "source": [
    "x"
   ]
  },
  {
   "cell_type": "code",
   "execution_count": 166,
   "id": "df8d150d-296b-4875-9c0d-21c8f84e8415",
   "metadata": {},
   "outputs": [],
   "source": [
    "X = np.matrix(np.array([[1,-1],[3,0]]))"
   ]
  },
  {
   "cell_type": "code",
   "execution_count": 168,
   "id": "d49ad4af-65e6-4653-b4cb-92f5f7ea9d1b",
   "metadata": {},
   "outputs": [],
   "source": [
    "Y = np.matrix(np.array([[3,1],[1,4]]))"
   ]
  },
  {
   "cell_type": "code",
   "execution_count": 170,
   "id": "d55415ac-2226-4721-8cae-b4f03f753d89",
   "metadata": {},
   "outputs": [
    {
     "name": "stdout",
     "output_type": "stream",
     "text": [
      "[[ 1 -1]\n",
      " [ 3  0]]\n",
      "[[3 1]\n",
      " [1 4]]\n"
     ]
    }
   ],
   "source": [
    "print(X)\n",
    "print(Y)"
   ]
  },
  {
   "cell_type": "code",
   "execution_count": 172,
   "id": "46f235fa-d509-467c-ba93-057e0dfc0f87",
   "metadata": {},
   "outputs": [],
   "source": [
    "A = (X+Y)*(1/2)"
   ]
  },
  {
   "cell_type": "code",
   "execution_count": 174,
   "id": "fff7ab10-c487-4ec2-9bdb-ca35d6024d2c",
   "metadata": {},
   "outputs": [
    {
     "data": {
      "text/plain": [
       "matrix([[2., 0.],\n",
       "        [2., 2.]])"
      ]
     },
     "execution_count": 174,
     "metadata": {},
     "output_type": "execute_result"
    }
   ],
   "source": [
    "A"
   ]
  },
  {
   "cell_type": "code",
   "execution_count": 176,
   "id": "db552e09-2844-47ba-a1c2-8b5a2f76fb02",
   "metadata": {},
   "outputs": [],
   "source": [
    "B = A-Y"
   ]
  },
  {
   "cell_type": "code",
   "execution_count": 178,
   "id": "76f330e4-3462-43c5-ac26-fc32e5eef1a3",
   "metadata": {},
   "outputs": [
    {
     "data": {
      "text/plain": [
       "matrix([[-1., -1.],\n",
       "        [ 1., -2.]])"
      ]
     },
     "execution_count": 178,
     "metadata": {},
     "output_type": "execute_result"
    }
   ],
   "source": [
    "B"
   ]
  },
  {
   "cell_type": "code",
   "execution_count": 180,
   "id": "ce8227bc-4165-406a-8df6-666dd2e6d9d7",
   "metadata": {},
   "outputs": [
    {
     "data": {
      "text/plain": [
       "matrix([[-2., -2.],\n",
       "        [ 0., -6.]])"
      ]
     },
     "execution_count": 180,
     "metadata": {},
     "output_type": "execute_result"
    }
   ],
   "source": [
    "A*B"
   ]
  },
  {
   "cell_type": "code",
   "execution_count": 182,
   "id": "3ae2f35c-e570-4749-b3b4-5fa421edc3d3",
   "metadata": {},
   "outputs": [],
   "source": [
    "P = np.matrix([[1,2,3,4],[2,0,1,2],[3,1,0,5]])\n",
    "Q = np.matrix([[2,1,0],[3,2,1],[1,0,1]])"
   ]
  },
  {
   "cell_type": "code",
   "execution_count": 184,
   "id": "e254c53f-366e-4a33-8ce9-a0cd7a4e3b7f",
   "metadata": {},
   "outputs": [
    {
     "name": "stdout",
     "output_type": "stream",
     "text": [
      "[[1 2 3 4]\n",
      " [2 0 1 2]\n",
      " [3 1 0 5]]\n"
     ]
    }
   ],
   "source": [
    "print(P)"
   ]
  },
  {
   "cell_type": "code",
   "execution_count": 186,
   "id": "fd370807-4664-4edc-b962-aa92218d84ed",
   "metadata": {},
   "outputs": [
    {
     "name": "stdout",
     "output_type": "stream",
     "text": [
      "[[2 1 0]\n",
      " [3 2 1]\n",
      " [1 0 1]]\n"
     ]
    }
   ],
   "source": [
    "print(Q)"
   ]
  },
  {
   "cell_type": "code",
   "execution_count": 190,
   "id": "909c8678-91f0-4b8c-9d05-e79c94bac421",
   "metadata": {},
   "outputs": [
    {
     "data": {
      "text/plain": [
       "matrix([[ 4,  4,  7, 10],\n",
       "        [10,  7, 11, 21],\n",
       "        [ 4,  3,  3,  9]])"
      ]
     },
     "execution_count": 190,
     "metadata": {},
     "output_type": "execute_result"
    }
   ],
   "source": [
    "Q*P"
   ]
  },
  {
   "cell_type": "code",
   "execution_count": 192,
   "id": "7d30456a-6f1c-4e5f-ada3-d8ea043387c6",
   "metadata": {},
   "outputs": [],
   "source": [
    "A = np.matrix([[1,-2,3],[2,3,-1],[-3,1,2]])"
   ]
  },
  {
   "cell_type": "code",
   "execution_count": 194,
   "id": "4f1bc0bc-cf99-4aa0-816c-7418842176ed",
   "metadata": {},
   "outputs": [],
   "source": [
    "z = A*A-3*A+np.matrix([[9,0,0],[0,9,0],[0,0,9]])"
   ]
  },
  {
   "cell_type": "code",
   "execution_count": 196,
   "id": "2b106ff2-9b58-45a6-8e17-2505bbbcbc86",
   "metadata": {},
   "outputs": [
    {
     "data": {
      "text/plain": [
       "matrix([[-6,  1,  2],\n",
       "        [ 5,  4,  4],\n",
       "        [ 2,  8, -3]])"
      ]
     },
     "execution_count": 196,
     "metadata": {},
     "output_type": "execute_result"
    }
   ],
   "source": [
    "z"
   ]
  },
  {
   "cell_type": "code",
   "execution_count": 206,
   "id": "f0600a86-101c-4e77-a809-8aba40194f3d",
   "metadata": {},
   "outputs": [],
   "source": [
    "E = np.zeros((3,3),dtype=np.int64)\n",
    "F = np.zeros((3,3),dtype=np.int64)\n",
    "E[0][1] = E[1][2] = F[1][0] = F[2][1] = 1"
   ]
  },
  {
   "cell_type": "code",
   "execution_count": 208,
   "id": "52a6e340-088e-4ec9-842c-c27dcc8e3dcd",
   "metadata": {},
   "outputs": [],
   "source": [
    "E = np.matrix(E)\n",
    "F = np.matrix(F)"
   ]
  },
  {
   "cell_type": "code",
   "execution_count": 210,
   "id": "a159739e-5176-4097-a6bb-56f8f7fc8d27",
   "metadata": {},
   "outputs": [
    {
     "data": {
      "text/plain": [
       "matrix([[0, 1, 0],\n",
       "        [0, 0, 1],\n",
       "        [0, 0, 0]])"
      ]
     },
     "execution_count": 210,
     "metadata": {},
     "output_type": "execute_result"
    }
   ],
   "source": [
    "E"
   ]
  },
  {
   "cell_type": "code",
   "execution_count": 212,
   "id": "70fd96b3-11ad-4959-a38a-f41fb8b4893e",
   "metadata": {},
   "outputs": [
    {
     "data": {
      "text/plain": [
       "matrix([[0, 0, 0],\n",
       "        [1, 0, 0],\n",
       "        [0, 1, 0]])"
      ]
     },
     "execution_count": 212,
     "metadata": {},
     "output_type": "execute_result"
    }
   ],
   "source": [
    "F"
   ]
  },
  {
   "cell_type": "code",
   "execution_count": 218,
   "id": "47ee58da-9b06-446d-8b41-eb247f39b38a",
   "metadata": {},
   "outputs": [
    {
     "data": {
      "text/plain": [
       "True"
      ]
     },
     "execution_count": 218,
     "metadata": {},
     "output_type": "execute_result"
    }
   ],
   "source": [
    "np.all((E*E*F + F*E*E) == E)"
   ]
  },
  {
   "cell_type": "code",
   "execution_count": null,
   "id": "702dd881-09d5-4502-9a87-420d49c0de45",
   "metadata": {},
   "outputs": [],
   "source": []
  }
 ],
 "metadata": {
  "kernelspec": {
   "display_name": "Python [conda env:base] *",
   "language": "python",
   "name": "conda-base-py"
  },
  "language_info": {
   "codemirror_mode": {
    "name": "ipython",
    "version": 3
   },
   "file_extension": ".py",
   "mimetype": "text/x-python",
   "name": "python",
   "nbconvert_exporter": "python",
   "pygments_lexer": "ipython3",
   "version": "3.10.9"
  }
 },
 "nbformat": 4,
 "nbformat_minor": 5
}
