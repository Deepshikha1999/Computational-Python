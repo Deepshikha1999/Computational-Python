{
 "cells": [
  {
   "cell_type": "markdown",
   "id": "5ec688e2-71cf-401f-8676-57fd4a46d233",
   "metadata": {},
   "source": [
    "# PANDAS"
   ]
  },
  {
   "cell_type": "code",
   "execution_count": 4,
   "id": "7f62953a-28bf-4014-bdbd-06ba133a1892",
   "metadata": {},
   "outputs": [],
   "source": [
    "import numpy as np\n",
    "import pandas as pd\n",
    "import matplotlib.pyplot as plt\n",
    "import matplotlib as mpl\n",
    "mpl.style.use('ggplot')"
   ]
  },
  {
   "cell_type": "markdown",
   "id": "55d44f3f-28f3-42a0-a7cb-ad94d9b86749",
   "metadata": {},
   "source": [
    "#### SERIES"
   ]
  },
  {
   "cell_type": "code",
   "execution_count": 7,
   "id": "5046f059-6ac3-4a36-9e1b-54629d4aa26a",
   "metadata": {},
   "outputs": [],
   "source": [
    "# Pandas libraray for data analysis mainly provides data structures and methods for representing and manipulating data [Series, DataFrames]"
   ]
  },
  {
   "cell_type": "code",
   "execution_count": 19,
   "id": "24a5478d-44a1-4383-9650-e36bafbff339",
   "metadata": {},
   "outputs": [],
   "source": [
    "s = pd.Series(np.linspace(-5,5,11))"
   ]
  },
  {
   "cell_type": "code",
   "execution_count": 21,
   "id": "fd1663fa-63cb-4d9f-bfb6-510bca30bf91",
   "metadata": {},
   "outputs": [
    {
     "data": {
      "text/plain": [
       "0    -5.0\n",
       "1    -4.0\n",
       "2    -3.0\n",
       "3    -2.0\n",
       "4    -1.0\n",
       "5     0.0\n",
       "6     1.0\n",
       "7     2.0\n",
       "8     3.0\n",
       "9     4.0\n",
       "10    5.0\n",
       "dtype: float64"
      ]
     },
     "execution_count": 21,
     "metadata": {},
     "output_type": "execute_result"
    }
   ],
   "source": [
    "s "
   ]
  },
  {
   "cell_type": "code",
   "execution_count": 23,
   "id": "ecc851a5-80b5-4365-9d01-396eac733b99",
   "metadata": {},
   "outputs": [
    {
     "data": {
      "text/plain": [
       "[0, 1, 2, 3, 4, 5, 6, 7, 8, 9, 10]"
      ]
     },
     "execution_count": 23,
     "metadata": {},
     "output_type": "execute_result"
    }
   ],
   "source": [
    "list(s.index)"
   ]
  },
  {
   "cell_type": "code",
   "execution_count": null,
   "id": "179f18f1-bb4b-4309-bd82-8ac019f014e0",
   "metadata": {},
   "outputs": [],
   "source": []
  }
 ],
 "metadata": {
  "kernelspec": {
   "display_name": "Python [conda env:base] *",
   "language": "python",
   "name": "conda-base-py"
  },
  "language_info": {
   "codemirror_mode": {
    "name": "ipython",
    "version": 3
   },
   "file_extension": ".py",
   "mimetype": "text/x-python",
   "name": "python",
   "nbconvert_exporter": "python",
   "pygments_lexer": "ipython3",
   "version": "3.10.9"
  }
 },
 "nbformat": 4,
 "nbformat_minor": 5
}
