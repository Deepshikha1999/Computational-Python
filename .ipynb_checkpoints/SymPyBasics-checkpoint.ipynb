{
 "cells": [
  {
   "cell_type": "code",
   "execution_count": 1,
   "id": "06a61e78-cbb9-486a-b3a4-8a42e2fd2b5c",
   "metadata": {},
   "outputs": [],
   "source": [
    "import sympy"
   ]
  },
  {
   "cell_type": "code",
   "execution_count": 3,
   "id": "6ad2e40c-2aee-4014-b409-f21059888f80",
   "metadata": {},
   "outputs": [],
   "source": [
    "sympy.init_printing()"
   ]
  },
  {
   "cell_type": "code",
   "execution_count": 4,
   "id": "98354da9-c5d1-4b4b-a769-0bbb3ad77c1f",
   "metadata": {},
   "outputs": [],
   "source": [
    "from sympy import I,pi,oo"
   ]
  },
  {
   "cell_type": "code",
   "execution_count": 7,
   "id": "4eafd786-de08-4126-9281-e315e7b5c480",
   "metadata": {},
   "outputs": [
    {
     "data": {
      "image/png": "[encoded data removed]",
      "text/latex": [
       "$\\displaystyle i$"
      ],
      "text/plain": [
       "ⅈ"
      ]
     },
     "execution_count": 7,
     "metadata": {},
     "output_type": "execute_result"
    }
   ],
   "source": [
    "I"
   ]
  },
  {
   "cell_type": "code",
   "execution_count": 8,
   "id": "0a9e9c98-7ae8-4b4b-bf95-f23b21273c80",
   "metadata": {},
   "outputs": [
    {
     "data": {
      "image/png": "[encoded data removed]",
      "text/latex": [
       "$\\displaystyle \\pi$"
      ],
      "text/plain": [
       "π"
      ]
     },
     "execution_count": 8,
     "metadata": {},
     "output_type": "execute_result"
    }
   ],
   "source": [
    "pi"
   ]
  },
  {
   "cell_type": "code",
   "execution_count": 11,
   "id": "a002a5fa-a259-46ba-b2e7-5867065cd35a",
   "metadata": {},
   "outputs": [
    {
     "data": {
      "image/png": "[encoded data removed]",
      "text/latex": [
       "$\\displaystyle \\pi$"
      ],
      "text/plain": [
       "π"
      ]
     },
     "execution_count": 11,
     "metadata": {},
     "output_type": "execute_result"
    }
   ],
   "source": [
    "sympy.pi"
   ]
  },
  {
   "cell_type": "code",
   "execution_count": 13,
   "id": "5c2c57b4-2f44-40df-8633-92995677377a",
   "metadata": {},
   "outputs": [],
   "source": [
    "# Core feature of sympy is to represent mathematical symbols as python objects"
   ]
  },
  {
   "cell_type": "code",
   "execution_count": 15,
   "id": "31d1dc21-4bae-4430-bfc6-259faf86d65d",
   "metadata": {},
   "outputs": [],
   "source": [
    "x = sympy.Symbol('x')"
   ]
  },
  {
   "cell_type": "code",
   "execution_count": 17,
   "id": "19a0ca33-b9f1-4d67-9d75-2305634b067c",
   "metadata": {},
   "outputs": [
    {
     "data": {
      "image/png": "[encoded data removed]",
      "text/latex": [
       "$\\displaystyle x$"
      ],
      "text/plain": [
       "x"
      ]
     },
     "execution_count": 17,
     "metadata": {},
     "output_type": "execute_result"
    }
   ],
   "source": [
    "x"
   ]
  },
  {
   "cell_type": "code",
   "execution_count": 19,
   "id": "b34841b8-41ab-4bc2-81ce-87eef7405c9b",
   "metadata": {},
   "outputs": [],
   "source": [
    "y = sympy.Symbol('y', real=True)"
   ]
  },
  {
   "cell_type": "code",
   "execution_count": 21,
   "id": "1c7e081d-c8f5-4038-9f1b-74c791dfde1c",
   "metadata": {},
   "outputs": [
    {
     "data": {
      "text/plain": [
       "True"
      ]
     },
     "execution_count": 21,
     "metadata": {},
     "output_type": "execute_result"
    }
   ],
   "source": [
    "x.is_real is None"
   ]
  },
  {
   "cell_type": "code",
   "execution_count": 23,
   "id": "3299eccd-147e-48eb-8791-c3a10923c432",
   "metadata": {},
   "outputs": [
    {
     "data": {
      "text/plain": [
       "False"
      ]
     },
     "execution_count": 23,
     "metadata": {},
     "output_type": "execute_result"
    }
   ],
   "source": [
    "sympy.Symbol(\"z\",imaginary=True).is_real"
   ]
  },
  {
   "cell_type": "code",
   "execution_count": 25,
   "id": "2a6fcec1-ec56-477a-a83c-ade5f073c046",
   "metadata": {},
   "outputs": [
    {
     "data": {
      "image/png": "[encoded data removed]",
      "text/latex": [
       "$\\displaystyle \\sqrt{x^{2}}$"
      ],
      "text/plain": [
       "   ____\n",
       "  ╱  2 \n",
       "╲╱  x  "
      ]
     },
     "execution_count": 25,
     "metadata": {},
     "output_type": "execute_result"
    }
   ],
   "source": [
    "sympy.sqrt(x**2) # system does not know what type of data is x so it is giving the result of the equation as root over x square"
   ]
  },
  {
   "cell_type": "code",
   "execution_count": 27,
   "id": "bca01e19-825a-4641-a928-13940f0faee7",
   "metadata": {},
   "outputs": [
    {
     "data": {
      "image/png": "[encoded data removed]",
      "text/latex": [
       "$\\displaystyle \\left|{y}\\right|$"
      ],
      "text/plain": [
       "│y│"
      ]
     },
     "execution_count": 27,
     "metadata": {},
     "output_type": "execute_result"
    }
   ],
   "source": [
    "sympy.sqrt(y**2) # System knows that y is real number so it is resolving the equation easily from root over y square as y"
   ]
  },
  {
   "cell_type": "code",
   "execution_count": 29,
   "id": "94189f31-8633-4415-8a82-b3754b27e226",
   "metadata": {},
   "outputs": [],
   "source": [
    "n1 = sympy.Symbol('n')\n",
    "n2 = sympy.Symbol('n',integer=True)\n",
    "n3 = sympy.Symbol('n',odd=True)"
   ]
  },
  {
   "cell_type": "code",
   "execution_count": 31,
   "id": "f160d24c-2ed7-43d0-a556-74dd5dd1888a",
   "metadata": {},
   "outputs": [
    {
     "data": {
      "image/png": "[encoded data removed]",
      "text/latex": [
       "$\\displaystyle \\cos{\\left(\\pi n \\right)}$"
      ],
      "text/plain": [
       "cos(π⋅n)"
      ]
     },
     "execution_count": 31,
     "metadata": {},
     "output_type": "execute_result"
    }
   ],
   "source": [
    "sympy.cos(n1*pi)"
   ]
  },
  {
   "cell_type": "code",
   "execution_count": 33,
   "id": "25198c1b-c29f-4bbd-98ad-a7fd341bab48",
   "metadata": {},
   "outputs": [
    {
     "data": {
      "image/png": "[encoded data removed]",
      "text/latex": [
       "$\\displaystyle \\left(-1\\right)^{n}$"
      ],
      "text/plain": [
       "    n\n",
       "(-1) "
      ]
     },
     "execution_count": 33,
     "metadata": {},
     "output_type": "execute_result"
    }
   ],
   "source": [
    "sympy.cos(n2*pi)"
   ]
  },
  {
   "cell_type": "code",
   "execution_count": 35,
   "id": "2fed380d-1fc3-4419-b270-18f6f53db121",
   "metadata": {},
   "outputs": [
    {
     "data": {
      "image/png": "[encoded data removed]",
      "text/latex": [
       "$\\displaystyle -1$"
      ],
      "text/plain": [
       "-1"
      ]
     },
     "execution_count": 35,
     "metadata": {},
     "output_type": "execute_result"
    }
   ],
   "source": [
    "sympy.cos(n3*pi)"
   ]
  },
  {
   "cell_type": "code",
   "execution_count": 37,
   "id": "24b13251-fc66-4446-a52e-11e3890ed8ca",
   "metadata": {},
   "outputs": [],
   "source": [
    "a,b,c = sympy.symbols(\"a,b,c\",negative=True)\n",
    "d,e,f = sympy.symbols(\"d,e,f\",positive=True)"
   ]
  },
  {
   "cell_type": "code",
   "execution_count": 39,
   "id": "51493d06-e02e-47a1-90e5-be0c8cac932a",
   "metadata": {},
   "outputs": [],
   "source": [
    "i = sympy.Integer(19)"
   ]
  },
  {
   "cell_type": "code",
   "execution_count": 41,
   "id": "660bd8c9-0488-4b5e-b508-7c22eaab8fab",
   "metadata": {},
   "outputs": [
    {
     "data": {
      "image/png": "[encoded data removed]",
      "text/latex": [
       "$\\displaystyle 19$"
      ],
      "text/plain": [
       "19"
      ]
     },
     "execution_count": 41,
     "metadata": {},
     "output_type": "execute_result"
    }
   ],
   "source": [
    "i"
   ]
  },
  {
   "cell_type": "code",
   "execution_count": 43,
   "id": "1c946680-e2fc-4178-97b9-399115895657",
   "metadata": {},
   "outputs": [
    {
     "data": {
      "text/plain": [
       "sympy.core.numbers.Integer"
      ]
     },
     "execution_count": 43,
     "metadata": {},
     "output_type": "execute_result"
    }
   ],
   "source": [
    "type(i)"
   ]
  },
  {
   "cell_type": "code",
   "execution_count": 45,
   "id": "b85e1b4b-c096-4914-ba3b-8af3662e6372",
   "metadata": {},
   "outputs": [
    {
     "data": {
      "text/plain": [
       "(True, True, True)"
      ]
     },
     "execution_count": 45,
     "metadata": {},
     "output_type": "execute_result"
    }
   ],
   "source": [
    "i.is_Integer,i.is_real,i.is_odd"
   ]
  },
  {
   "cell_type": "code",
   "execution_count": 47,
   "id": "0a432a6f-e9c5-4963-9a9c-98561f139015",
   "metadata": {},
   "outputs": [],
   "source": [
    "s = sympy.Float(2.3)"
   ]
  },
  {
   "cell_type": "code",
   "execution_count": 49,
   "id": "4a7f09c8-a532-4b72-a3ef-a338c0d8677b",
   "metadata": {},
   "outputs": [
    {
     "data": {
      "image/png": "[encoded data removed]",
      "text/latex": [
       "$\\displaystyle 2.3$"
      ],
      "text/plain": [
       "2.30000000000000"
      ]
     },
     "execution_count": 49,
     "metadata": {},
     "output_type": "execute_result"
    }
   ],
   "source": [
    "s"
   ]
  },
  {
   "cell_type": "code",
   "execution_count": 51,
   "id": "c439ea8d-2452-4cd4-930a-f41e68aea5a3",
   "metadata": {},
   "outputs": [
    {
     "data": {
      "text/plain": [
       "sympy.core.numbers.Float"
      ]
     },
     "execution_count": 51,
     "metadata": {},
     "output_type": "execute_result"
    }
   ],
   "source": [
    "type(s)"
   ]
  },
  {
   "cell_type": "code",
   "execution_count": 53,
   "id": "75d975f0-b9a9-4006-9cbe-604dabe9f654",
   "metadata": {},
   "outputs": [
    {
     "data": {
      "text/plain": [
       "(True, True, False)"
      ]
     },
     "execution_count": 53,
     "metadata": {},
     "output_type": "execute_result"
    }
   ],
   "source": [
    "s.is_Float,s.is_real,s.is_odd"
   ]
  },
  {
   "cell_type": "code",
   "execution_count": 55,
   "id": "2775337c-6f44-449d-8b70-322c6c6ee815",
   "metadata": {},
   "outputs": [],
   "source": [
    "i,f = sympy.simplify(19),sympy.simplify(2.3)"
   ]
  },
  {
   "cell_type": "code",
   "execution_count": 57,
   "id": "da48f53c-a2e7-4fbb-8dde-680befe1f344",
   "metadata": {},
   "outputs": [
    {
     "data": {
      "text/plain": [
       "(sympy.core.numbers.Integer, sympy.core.numbers.Float)"
      ]
     },
     "execution_count": 57,
     "metadata": {},
     "output_type": "execute_result"
    }
   ],
   "source": [
    "type(i),type(f)"
   ]
  },
  {
   "cell_type": "code",
   "execution_count": 59,
   "id": "1ea0461e-48cd-43a7-b81e-265015c86f4f",
   "metadata": {},
   "outputs": [
    {
     "data": {
      "image/png": "[encoded data removed]",
      "text/latex": [
       "$\\displaystyle 8663234049605954426644038200675212212900743262211018069459689001$"
      ],
      "text/plain": [
       "8663234049605954426644038200675212212900743262211018069459689001"
      ]
     },
     "execution_count": 59,
     "metadata": {},
     "output_type": "execute_result"
    }
   ],
   "source": [
    "i**50"
   ]
  },
  {
   "cell_type": "code",
   "execution_count": 61,
   "id": "869a03ac-74f2-4ba7-9752-910383ebab57",
   "metadata": {},
   "outputs": [
    {
     "data": {
      "image/png": "[encoded data removed]",
      "text/latex": [
       "$\\displaystyle 93326215443944152681699238856266700490715968264381621468592963895217599993229915608941463976156518286253697920827223758251185210916864000000000000000000000000$"
      ],
      "text/plain": [
       "933262154439441526816992388562667004907159682643816214685929638952175999932299 ↪\n",
       "\n",
       "↪ 1560894146397615651828625369792082722375825118521091686400000000000000000000 ↪\n",
       "\n",
       "↪ 0000"
      ]
     },
     "execution_count": 61,
     "metadata": {},
     "output_type": "execute_result"
    }
   ],
   "source": [
    "sympy.factorial(100)"
   ]
  },
  {
   "cell_type": "code",
   "execution_count": 63,
   "id": "e1216a94-bc92-4bb1-9a64-a69dc0054343",
   "metadata": {},
   "outputs": [
    {
     "data": {
      "text/plain": [
       "'0.2999999999999999888977698'"
      ]
     },
     "execution_count": 63,
     "metadata": {},
     "output_type": "execute_result"
    }
   ],
   "source": [
    "\"%.25f\" % 0.3 #create a string representation with 25 decimals"
   ]
  },
  {
   "cell_type": "code",
   "execution_count": 65,
   "id": "47de88db-a635-47d9-9ee4-b3ff819480c7",
   "metadata": {},
   "outputs": [
    {
     "data": {
      "image/png": "[encoded data removed]",
      "text/latex": [
       "$\\displaystyle 0.2999999999999999888977698$"
      ],
      "text/plain": [
       "0.2999999999999999888977698"
      ]
     },
     "execution_count": 65,
     "metadata": {},
     "output_type": "execute_result"
    }
   ],
   "source": [
    "sympy.Float(0.3,25)"
   ]
  },
  {
   "cell_type": "code",
   "execution_count": 67,
   "id": "609caf95-5a06-4c03-8ec0-08423499d947",
   "metadata": {},
   "outputs": [
    {
     "data": {
      "image/png": "[encoded data removed]",
      "text/latex": [
       "$\\displaystyle 0.3$"
      ],
      "text/plain": [
       "0.3000000000000000000000000"
      ]
     },
     "execution_count": 67,
     "metadata": {},
     "output_type": "execute_result"
    }
   ],
   "source": [
    "sympy.Float('0.3',25)"
   ]
  },
  {
   "cell_type": "code",
   "execution_count": 69,
   "id": "60d38ea3-4d0f-471b-9585-c6df2203b02f",
   "metadata": {},
   "outputs": [],
   "source": [
    "# Rational Number"
   ]
  },
  {
   "cell_type": "code",
   "execution_count": 71,
   "id": "66068719-fe65-4796-a409-a83e896b7cd3",
   "metadata": {},
   "outputs": [
    {
     "data": {
      "image/png": "[encoded data removed]",
      "text/latex": [
       "$\\displaystyle \\frac{11}{13}$"
      ],
      "text/plain": [
       "11\n",
       "──\n",
       "13"
      ]
     },
     "execution_count": 71,
     "metadata": {},
     "output_type": "execute_result"
    }
   ],
   "source": [
    "sympy.Rational(11,13)"
   ]
  },
  {
   "cell_type": "code",
   "execution_count": 73,
   "id": "112d4553-48a4-4c16-be14-048d544660f3",
   "metadata": {},
   "outputs": [],
   "source": [
    "r1 = sympy.Rational(2,3)"
   ]
  },
  {
   "cell_type": "code",
   "execution_count": 75,
   "id": "720bb44e-0cee-4055-b13c-062aa5f189aa",
   "metadata": {},
   "outputs": [],
   "source": [
    "r2 = sympy.Rational(4,5)"
   ]
  },
  {
   "cell_type": "code",
   "execution_count": 77,
   "id": "c2a7b77a-6d30-46fb-a4bc-e16298b4f93e",
   "metadata": {},
   "outputs": [
    {
     "data": {
      "image/png": "[encoded data removed]",
      "text/latex": [
       "$\\displaystyle \\frac{8}{15}$"
      ],
      "text/plain": [
       "8/15"
      ]
     },
     "execution_count": 77,
     "metadata": {},
     "output_type": "execute_result"
    }
   ],
   "source": [
    "r1*r2"
   ]
  },
  {
   "cell_type": "code",
   "execution_count": 79,
   "id": "ec7cf625-3845-4542-b0be-808575af807a",
   "metadata": {},
   "outputs": [
    {
     "data": {
      "image/png": "[encoded data removed]",
      "text/latex": [
       "$\\displaystyle \\frac{5}{6}$"
      ],
      "text/plain": [
       "5/6"
      ]
     },
     "execution_count": 79,
     "metadata": {},
     "output_type": "execute_result"
    }
   ],
   "source": [
    "r1/r2"
   ]
  },
  {
   "cell_type": "code",
   "execution_count": 81,
   "id": "971fa107-aed3-4886-9c6c-117f76345a24",
   "metadata": {},
   "outputs": [],
   "source": [
    "# Mathematical Functions"
   ]
  },
  {
   "cell_type": "code",
   "execution_count": 83,
   "id": "e6ceb438-d3a1-4d44-904c-3ee21c495998",
   "metadata": {},
   "outputs": [],
   "source": [
    "x,y,z = sympy.symbols('x,y,z')"
   ]
  },
  {
   "cell_type": "code",
   "execution_count": 85,
   "id": "b5b45d40-8d33-49db-8e9c-87c6bbc6ea4a",
   "metadata": {},
   "outputs": [],
   "source": [
    "f = sympy.Function(\"f\")"
   ]
  },
  {
   "cell_type": "code",
   "execution_count": 87,
   "id": "2410ca6a-b5b1-46f2-adcc-16bc558d302e",
   "metadata": {},
   "outputs": [
    {
     "data": {
      "text/plain": [
       "sympy.core.function.UndefinedFunction"
      ]
     },
     "execution_count": 87,
     "metadata": {},
     "output_type": "execute_result"
    }
   ],
   "source": [
    "type(f)"
   ]
  },
  {
   "cell_type": "code",
   "execution_count": 89,
   "id": "01db561a-2ff7-436b-96a8-37ebb1d29320",
   "metadata": {},
   "outputs": [
    {
     "data": {
      "image/png": "[encoded data removed]",
      "text/latex": [
       "$\\displaystyle f{\\left(x \\right)}$"
      ],
      "text/plain": [
       "f(x)"
      ]
     },
     "execution_count": 89,
     "metadata": {},
     "output_type": "execute_result"
    }
   ],
   "source": [
    "f(x)"
   ]
  },
  {
   "cell_type": "code",
   "execution_count": 91,
   "id": "0e48dd64-f368-4285-af0c-e961b85ac4f1",
   "metadata": {},
   "outputs": [],
   "source": [
    "g = sympy.Function(\"g\")(x,y,z)"
   ]
  },
  {
   "cell_type": "code",
   "execution_count": 93,
   "id": "67631785-e97d-4112-9585-5986bb36ea1e",
   "metadata": {},
   "outputs": [
    {
     "data": {
      "image/png": "[encoded data removed]",
      "text/latex": [
       "$\\displaystyle g{\\left(x,y,z \\right)}$"
      ],
      "text/plain": [
       "g(x, y, z)"
      ]
     },
     "execution_count": 93,
     "metadata": {},
     "output_type": "execute_result"
    }
   ],
   "source": [
    "g"
   ]
  },
  {
   "cell_type": "code",
   "execution_count": 95,
   "id": "7b79e6bf-675b-4ca1-acd3-9b84b94c3838",
   "metadata": {},
   "outputs": [
    {
     "data": {
      "image/png": "[encoded data removed]",
      "text/latex": [
       "$\\displaystyle \\left\\{x, y, z\\right\\}$"
      ],
      "text/plain": [
       "{x, y, z}"
      ]
     },
     "execution_count": 95,
     "metadata": {},
     "output_type": "execute_result"
    }
   ],
   "source": [
    "g.free_symbols"
   ]
  },
  {
   "cell_type": "code",
   "execution_count": 97,
   "id": "1e433347-143e-4067-8a38-d24d2e8a1ca4",
   "metadata": {},
   "outputs": [
    {
     "data": {
      "text/plain": [
       "sin"
      ]
     },
     "execution_count": 97,
     "metadata": {},
     "output_type": "execute_result"
    }
   ],
   "source": [
    "sympy.sin"
   ]
  },
  {
   "cell_type": "code",
   "execution_count": 99,
   "id": "b8431150-6346-446c-81d2-14b9c897eb34",
   "metadata": {},
   "outputs": [
    {
     "data": {
      "image/png": "[encoded data removed]",
      "text/latex": [
       "$\\displaystyle \\sin{\\left(x \\right)}$"
      ],
      "text/plain": [
       "sin(x)"
      ]
     },
     "execution_count": 99,
     "metadata": {},
     "output_type": "execute_result"
    }
   ],
   "source": [
    "sympy.sin(x)"
   ]
  },
  {
   "cell_type": "code",
   "execution_count": 101,
   "id": "438391fa-8c4f-4cae-926c-bc5dd23dfd10",
   "metadata": {},
   "outputs": [
    {
     "data": {
      "image/png": "[encoded data removed]",
      "text/latex": [
       "$\\displaystyle -1$"
      ],
      "text/plain": [
       "-1"
      ]
     },
     "execution_count": 101,
     "metadata": {},
     "output_type": "execute_result"
    }
   ],
   "source": [
    "sympy.sin(pi*1.5)"
   ]
  },
  {
   "cell_type": "code",
   "execution_count": 103,
   "id": "5d8217eb-62d2-441f-a193-ce238d71b090",
   "metadata": {},
   "outputs": [],
   "source": [
    "n = sympy.Symbol(\"n\",integer=True)"
   ]
  },
  {
   "cell_type": "code",
   "execution_count": 105,
   "id": "2cf30695-f4ea-4f3c-860a-7d88c5e9df0f",
   "metadata": {},
   "outputs": [
    {
     "data": {
      "image/png": "[encoded data removed]",
      "text/latex": [
       "$\\displaystyle 0$"
      ],
      "text/plain": [
       "0"
      ]
     },
     "execution_count": 105,
     "metadata": {},
     "output_type": "execute_result"
    }
   ],
   "source": [
    "sympy.sin(pi*n)"
   ]
  },
  {
   "cell_type": "code",
   "execution_count": 107,
   "id": "9c2d47c6-591f-4ec9-b7e4-c04b0068737f",
   "metadata": {},
   "outputs": [],
   "source": [
    "h = sympy.Lambda(x,x**2)"
   ]
  },
  {
   "cell_type": "code",
   "execution_count": 109,
   "id": "22c69ef7-e9b1-4b6e-8a50-2d60f2f21219",
   "metadata": {},
   "outputs": [
    {
     "data": {
      "image/png": "[encoded data removed]",
      "text/latex": [
       "$\\displaystyle \\left( x \\mapsto x^{2} \\right)$"
      ],
      "text/plain": [
       "     2\n",
       "x ↦ x "
      ]
     },
     "execution_count": 109,
     "metadata": {},
     "output_type": "execute_result"
    }
   ],
   "source": [
    "h"
   ]
  },
  {
   "cell_type": "code",
   "execution_count": 111,
   "id": "b78e61f7-b1fb-4201-a7e5-e9517be01ce2",
   "metadata": {},
   "outputs": [
    {
     "data": {
      "image/png": "[encoded data removed]",
      "text/latex": [
       "$\\displaystyle 25$"
      ],
      "text/plain": [
       "25"
      ]
     },
     "execution_count": 111,
     "metadata": {},
     "output_type": "execute_result"
    }
   ],
   "source": [
    "h(5)"
   ]
  },
  {
   "cell_type": "code",
   "execution_count": 113,
   "id": "42f4f984-c9f5-4053-851d-787e25d63186",
   "metadata": {},
   "outputs": [
    {
     "data": {
      "image/png": "[encoded data removed]",
      "text/latex": [
       "$\\displaystyle \\left(x + 1\\right)^{2}$"
      ],
      "text/plain": [
       "       2\n",
       "(x + 1) "
      ]
     },
     "execution_count": 113,
     "metadata": {},
     "output_type": "execute_result"
    }
   ],
   "source": [
    "h(1+x)"
   ]
  },
  {
   "cell_type": "code",
   "execution_count": 115,
   "id": "41f4f1d8-4f00-4335-94da-2093ecc82977",
   "metadata": {},
   "outputs": [],
   "source": [
    "# Expressions"
   ]
  },
  {
   "cell_type": "code",
   "execution_count": 117,
   "id": "56554b15-9e68-451c-83f1-2ec6001508d4",
   "metadata": {},
   "outputs": [],
   "source": [
    "x = sympy.Symbol(\"x\")"
   ]
  },
  {
   "cell_type": "code",
   "execution_count": 119,
   "id": "49891795-c274-4adf-9e09-0004440f73b9",
   "metadata": {},
   "outputs": [],
   "source": [
    "expr = 1+2*x**2+3*x**3"
   ]
  },
  {
   "cell_type": "code",
   "execution_count": 121,
   "id": "594f14aa-775b-4a61-be72-fd1209ae5e12",
   "metadata": {},
   "outputs": [
    {
     "data": {
      "image/png": "[encoded data removed]",
      "text/latex": [
       "$\\displaystyle 3 x^{3} + 2 x^{2} + 1$"
      ],
      "text/plain": [
       "   3      2    \n",
       "3⋅x  + 2⋅x  + 1"
      ]
     },
     "execution_count": 121,
     "metadata": {},
     "output_type": "execute_result"
    }
   ],
   "source": [
    "expr"
   ]
  },
  {
   "cell_type": "code",
   "execution_count": 123,
   "id": "89b366d1-77ac-4823-a8e0-978309bf31fb",
   "metadata": {},
   "outputs": [
    {
     "data": {
      "image/png": "[encoded data removed]",
      "text/latex": [
       "$\\displaystyle \\left( 1, \\  2 x^{2}, \\  3 x^{3}\\right)$"
      ],
      "text/plain": [
       "⎛      2     3⎞\n",
       "⎝1, 2⋅x , 3⋅x ⎠"
      ]
     },
     "execution_count": 123,
     "metadata": {},
     "output_type": "execute_result"
    }
   ],
   "source": [
    "expr.args"
   ]
  },
  {
   "cell_type": "code",
   "execution_count": 125,
   "id": "19f2ff7d-cbc8-4c20-9117-09ce3cc74849",
   "metadata": {},
   "outputs": [
    {
     "data": {
      "image/png": "[encoded data removed]",
      "text/latex": [
       "$\\displaystyle 2 x^{2}$"
      ],
      "text/plain": [
       "   2\n",
       "2⋅x "
      ]
     },
     "execution_count": 125,
     "metadata": {},
     "output_type": "execute_result"
    }
   ],
   "source": [
    "expr.args[1]"
   ]
  },
  {
   "cell_type": "code",
   "execution_count": 127,
   "id": "aa3c49cd-938c-4e9f-9a6e-c7453c75cc63",
   "metadata": {},
   "outputs": [
    {
     "data": {
      "image/png": "[encoded data removed]",
      "text/latex": [
       "$\\displaystyle x^{2}$"
      ],
      "text/plain": [
       " 2\n",
       "x "
      ]
     },
     "execution_count": 127,
     "metadata": {},
     "output_type": "execute_result"
    }
   ],
   "source": [
    "expr.args[1].args[1]"
   ]
  },
  {
   "cell_type": "code",
   "execution_count": 129,
   "id": "5c7457a0-d079-4cac-bbd2-5648972ec0f7",
   "metadata": {},
   "outputs": [
    {
     "data": {
      "image/png": "[encoded data removed]",
      "text/latex": [
       "$\\displaystyle 2$"
      ],
      "text/plain": [
       "2"
      ]
     },
     "execution_count": 129,
     "metadata": {},
     "output_type": "execute_result"
    }
   ],
   "source": [
    "expr.args[1].args[1].args[1]"
   ]
  },
  {
   "cell_type": "code",
   "execution_count": 131,
   "id": "5718bd86-01d7-4324-a1df-3d20dd312eeb",
   "metadata": {},
   "outputs": [
    {
     "data": {
      "image/png": "[encoded data removed]",
      "text/latex": [
       "$\\displaystyle \\left( \\right)$"
      ],
      "text/plain": [
       "()"
      ]
     },
     "execution_count": 131,
     "metadata": {},
     "output_type": "execute_result"
    }
   ],
   "source": [
    "expr.args[1].args[1].args[1].args"
   ]
  },
  {
   "cell_type": "code",
   "execution_count": 133,
   "id": "5ff58be0-e902-4ea9-bb5f-0a14c56f379e",
   "metadata": {},
   "outputs": [],
   "source": [
    "expr1 = 1 + 2*x**2 + 3*x**2"
   ]
  },
  {
   "cell_type": "code",
   "execution_count": 135,
   "id": "5838015b-05af-4f05-9313-a7c45255e3cb",
   "metadata": {},
   "outputs": [
    {
     "data": {
      "image/png": "[encoded data removed]",
      "text/latex": [
       "$\\displaystyle 5 x^{2} + 1$"
      ],
      "text/plain": [
       "   2    \n",
       "5⋅x  + 1"
      ]
     },
     "execution_count": 135,
     "metadata": {},
     "output_type": "execute_result"
    }
   ],
   "source": [
    "expr1"
   ]
  },
  {
   "cell_type": "code",
   "execution_count": 137,
   "id": "e17d7196-84cd-4686-b7e2-a52ea3867d3a",
   "metadata": {},
   "outputs": [
    {
     "data": {
      "image/png": "[encoded data removed]",
      "text/latex": [
       "$\\displaystyle \\left( 1, \\  5 x^{2}\\right)$"
      ],
      "text/plain": [
       "⎛      2⎞\n",
       "⎝1, 5⋅x ⎠"
      ]
     },
     "execution_count": 137,
     "metadata": {},
     "output_type": "execute_result"
    }
   ],
   "source": [
    "expr1.args"
   ]
  },
  {
   "cell_type": "code",
   "execution_count": 139,
   "id": "922e30da-1619-4922-bba7-82eeede1bb61",
   "metadata": {},
   "outputs": [],
   "source": [
    "# Simplification"
   ]
  },
  {
   "cell_type": "code",
   "execution_count": 141,
   "id": "6157f88b-603a-4068-b7ec-ca7b92954123",
   "metadata": {},
   "outputs": [],
   "source": [
    "expr = 2*(x**2-x)-x*(x+1)"
   ]
  },
  {
   "cell_type": "code",
   "execution_count": 143,
   "id": "039408fb-0b5a-4b5c-a90b-52838b9fe344",
   "metadata": {},
   "outputs": [
    {
     "data": {
      "image/png": "[encoded data removed]",
      "text/latex": [
       "$\\displaystyle 2 x^{2} - x \\left(x + 1\\right) - 2 x$"
      ],
      "text/plain": [
       "   2                  \n",
       "2⋅x  - x⋅(x + 1) - 2⋅x"
      ]
     },
     "execution_count": 143,
     "metadata": {},
     "output_type": "execute_result"
    }
   ],
   "source": [
    "expr"
   ]
  },
  {
   "cell_type": "code",
   "execution_count": 145,
   "id": "8fb486df-a320-4e0e-9748-0aa324732b34",
   "metadata": {},
   "outputs": [
    {
     "data": {
      "image/png": "[encoded data removed]",
      "text/latex": [
       "$\\displaystyle x \\left(x - 3\\right)$"
      ],
      "text/plain": [
       "x⋅(x - 3)"
      ]
     },
     "execution_count": 145,
     "metadata": {},
     "output_type": "execute_result"
    }
   ],
   "source": [
    "expr.simplify()"
   ]
  },
  {
   "cell_type": "code",
   "execution_count": 147,
   "id": "ec62e279-dc6a-4a22-b5d8-b5a1cd4422e4",
   "metadata": {},
   "outputs": [
    {
     "data": {
      "image/png": "[encoded data removed]",
      "text/latex": [
       "$\\displaystyle x \\left(x - 3\\right)$"
      ],
      "text/plain": [
       "x⋅(x - 3)"
      ]
     },
     "execution_count": 147,
     "metadata": {},
     "output_type": "execute_result"
    }
   ],
   "source": [
    "# or\n",
    "sympy.simplify(expr)"
   ]
  },
  {
   "cell_type": "code",
   "execution_count": 149,
   "id": "94257cf8-bddf-4848-8533-23cfcaf5442b",
   "metadata": {},
   "outputs": [
    {
     "data": {
      "image/png": "[encoded data removed]",
      "text/latex": [
       "$\\displaystyle 2 x^{2} - x \\left(x + 1\\right) - 2 x$"
      ],
      "text/plain": [
       "   2                  \n",
       "2⋅x  - x⋅(x + 1) - 2⋅x"
      ]
     },
     "execution_count": 149,
     "metadata": {},
     "output_type": "execute_result"
    }
   ],
   "source": [
    "expr"
   ]
  },
  {
   "cell_type": "code",
   "execution_count": 151,
   "id": "275c46f8-5353-45e7-a11b-8024f1f47104",
   "metadata": {},
   "outputs": [],
   "source": [
    "expr = 2 * sympy.cos(x) *sympy.sin(x)"
   ]
  },
  {
   "cell_type": "code",
   "execution_count": 153,
   "id": "b6a17d50-325f-4159-a49c-b21240df3812",
   "metadata": {},
   "outputs": [
    {
     "data": {
      "image/png": "[encoded data removed]",
      "text/latex": [
       "$\\displaystyle 2 \\sin{\\left(x \\right)} \\cos{\\left(x \\right)}$"
      ],
      "text/plain": [
       "2⋅sin(x)⋅cos(x)"
      ]
     },
     "execution_count": 153,
     "metadata": {},
     "output_type": "execute_result"
    }
   ],
   "source": [
    "expr"
   ]
  },
  {
   "cell_type": "code",
   "execution_count": 155,
   "id": "3be7c7f9-6c60-4487-bb49-f053a36d259b",
   "metadata": {},
   "outputs": [
    {
     "data": {
      "image/png": "[encoded data removed]",
      "text/latex": [
       "$\\displaystyle \\sin{\\left(2 x \\right)}$"
      ],
      "text/plain": [
       "sin(2⋅x)"
      ]
     },
     "execution_count": 155,
     "metadata": {},
     "output_type": "execute_result"
    }
   ],
   "source": [
    "sympy.simplify(expr)"
   ]
  },
  {
   "cell_type": "code",
   "execution_count": 157,
   "id": "30294116-3eba-4f81-9a9e-d237fa8da171",
   "metadata": {},
   "outputs": [],
   "source": [
    "expr = sympy.exp(x)*sympy.exp(y)"
   ]
  },
  {
   "cell_type": "code",
   "execution_count": 159,
   "id": "8c57aeae-adda-4530-9981-bd85b10a38d5",
   "metadata": {},
   "outputs": [
    {
     "data": {
      "image/png": "[encoded data removed]",
      "text/latex": [
       "$\\displaystyle e^{x} e^{y}$"
      ],
      "text/plain": [
       " x  y\n",
       "ℯ ⋅ℯ "
      ]
     },
     "execution_count": 159,
     "metadata": {},
     "output_type": "execute_result"
    }
   ],
   "source": [
    "expr"
   ]
  },
  {
   "cell_type": "code",
   "execution_count": 161,
   "id": "93ed3bab-d399-4c18-b251-6d89a9351d57",
   "metadata": {},
   "outputs": [
    {
     "data": {
      "image/png": "[encoded data removed]",
      "text/latex": [
       "$\\displaystyle e^{x + y}$"
      ],
      "text/plain": [
       " x + y\n",
       "ℯ     "
      ]
     },
     "execution_count": 161,
     "metadata": {},
     "output_type": "execute_result"
    }
   ],
   "source": [
    "expr.simplify()"
   ]
  },
  {
   "cell_type": "code",
   "execution_count": 163,
   "id": "46369098-0345-41db-8ec4-e919aa567bb1",
   "metadata": {},
   "outputs": [],
   "source": [
    "expr = (x+1)*(x+2)"
   ]
  },
  {
   "cell_type": "code",
   "execution_count": 165,
   "id": "95ae12e0-2349-4343-816a-162ac63aabae",
   "metadata": {},
   "outputs": [
    {
     "data": {
      "image/png": "[encoded data removed]",
      "text/latex": [
       "$\\displaystyle \\left(x + 1\\right) \\left(x + 2\\right)$"
      ],
      "text/plain": [
       "(x + 1)⋅(x + 2)"
      ]
     },
     "execution_count": 165,
     "metadata": {},
     "output_type": "execute_result"
    }
   ],
   "source": [
    "expr"
   ]
  },
  {
   "cell_type": "code",
   "execution_count": 167,
   "id": "de7a850c-9db4-4c96-a84e-4ad17116c863",
   "metadata": {},
   "outputs": [
    {
     "data": {
      "image/png": "[encoded data removed]",
      "text/latex": [
       "$\\displaystyle x^{2} + 3 x + 2$"
      ],
      "text/plain": [
       " 2          \n",
       "x  + 3⋅x + 2"
      ]
     },
     "execution_count": 167,
     "metadata": {},
     "output_type": "execute_result"
    }
   ],
   "source": [
    "expr.expand()"
   ]
  },
  {
   "cell_type": "code",
   "execution_count": 169,
   "id": "5987f32e-d32d-4a72-b17b-9da3deaabd3b",
   "metadata": {},
   "outputs": [
    {
     "data": {
      "image/png": "[encoded data removed]",
      "text/latex": [
       "$\\displaystyle \\sin{\\left(x \\right)} \\cos{\\left(y \\right)} + \\sin{\\left(y \\right)} \\cos{\\left(x \\right)}$"
      ],
      "text/plain": [
       "sin(x)⋅cos(y) + sin(y)⋅cos(x)"
      ]
     },
     "execution_count": 169,
     "metadata": {},
     "output_type": "execute_result"
    }
   ],
   "source": [
    "sympy.sin(x+y).expand(trig=True)"
   ]
  },
  {
   "cell_type": "code",
   "execution_count": 171,
   "id": "faf1af8f-3c7e-409e-b293-871118e9f26b",
   "metadata": {},
   "outputs": [],
   "source": [
    "a,b=sympy.symbols(\"a,b\",positive=True)"
   ]
  },
  {
   "cell_type": "code",
   "execution_count": 173,
   "id": "3d3459dc-e4cb-49fb-a2d0-374cb59cb98a",
   "metadata": {},
   "outputs": [
    {
     "data": {
      "image/png": "[encoded data removed]",
      "text/latex": [
       "$\\displaystyle \\log{\\left(a \\right)} + \\log{\\left(b \\right)}$"
      ],
      "text/plain": [
       "log(a) + log(b)"
      ]
     },
     "execution_count": 173,
     "metadata": {},
     "output_type": "execute_result"
    }
   ],
   "source": [
    "sympy.log(a*b).expand(log=True)"
   ]
  },
  {
   "cell_type": "code",
   "execution_count": 175,
   "id": "ab8313c7-9a66-49c0-80e6-4aa89f86765d",
   "metadata": {},
   "outputs": [
    {
     "data": {
      "image/png": "[encoded data removed]",
      "text/latex": [
       "$\\displaystyle i e^{b} \\sin{\\left(a \\right)} + e^{b} \\cos{\\left(a \\right)}$"
      ],
      "text/plain": [
       "   b           b       \n",
       "ⅈ⋅ℯ ⋅sin(a) + ℯ ⋅cos(a)"
      ]
     },
     "execution_count": 175,
     "metadata": {},
     "output_type": "execute_result"
    }
   ],
   "source": [
    "sympy.exp(I*a+b).expand(complex=True)"
   ]
  },
  {
   "cell_type": "code",
   "execution_count": 177,
   "id": "58f84b3a-e95b-435e-9afd-b0620564270d",
   "metadata": {},
   "outputs": [
    {
     "data": {
      "image/png": "[encoded data removed]",
      "text/latex": [
       "$\\displaystyle a^{x} b^{x}$"
      ],
      "text/plain": [
       " x  x\n",
       "a ⋅b "
      ]
     },
     "execution_count": 177,
     "metadata": {},
     "output_type": "execute_result"
    }
   ],
   "source": [
    "sympy.expand((a*b)**x,power_base=True)"
   ]
  },
  {
   "cell_type": "code",
   "execution_count": 212,
   "id": "93eb4f2d-4371-4e49-b20a-808dc4540c95",
   "metadata": {},
   "outputs": [
    {
     "data": {
      "image/png": "[encoded data removed]",
      "text/latex": [
       "$\\displaystyle e^{a x} e^{- b x}$"
      ],
      "text/plain": [
       " a⋅x  -b⋅x\n",
       "ℯ   ⋅ℯ    "
      ]
     },
     "execution_count": 212,
     "metadata": {},
     "output_type": "execute_result"
    }
   ],
   "source": [
    "sympy.exp((a-b)*x).expand(power_exp=True)"
   ]
  },
  {
   "cell_type": "code",
   "execution_count": 179,
   "id": "abc72181-6a69-4c40-8666-1853aed86bb1",
   "metadata": {},
   "outputs": [
    {
     "data": {
      "image/png": "[encoded data removed]",
      "text/latex": [
       "$\\displaystyle \\left(x - 1\\right) \\left(x + 1\\right)$"
      ],
      "text/plain": [
       "(x - 1)⋅(x + 1)"
      ]
     },
     "execution_count": 179,
     "metadata": {},
     "output_type": "execute_result"
    }
   ],
   "source": [
    "sympy.factor(x**2-1)"
   ]
  },
  {
   "cell_type": "code",
   "execution_count": 181,
   "id": "7b88ed7f-da2a-4fc1-a685-ad83aff2f118",
   "metadata": {},
   "outputs": [
    {
     "data": {
      "image/png": "[encoded data removed]",
      "text/latex": [
       "$\\displaystyle x \\left(\\sin{\\left(z \\right)} + \\cos{\\left(y \\right)}\\right)$"
      ],
      "text/plain": [
       "x⋅(sin(z) + cos(y))"
      ]
     },
     "execution_count": 181,
     "metadata": {},
     "output_type": "execute_result"
    }
   ],
   "source": [
    "sympy.factor(x*sympy.cos(y)+sympy.sin(z)*x)"
   ]
  },
  {
   "cell_type": "code",
   "execution_count": 183,
   "id": "0c6b6db1-bd77-47a0-9ed6-a5dd945f85b2",
   "metadata": {},
   "outputs": [
    {
     "data": {
      "image/png": "[encoded data removed]",
      "text/latex": [
       "$\\displaystyle \\log{\\left(\\frac{a}{b} \\right)}$"
      ],
      "text/plain": [
       "   ⎛a⎞\n",
       "log⎜─⎟\n",
       "   ⎝b⎠"
      ]
     },
     "execution_count": 183,
     "metadata": {},
     "output_type": "execute_result"
    }
   ],
   "source": [
    "sympy.logcombine(sympy.log(a)-sympy.log(b))"
   ]
  },
  {
   "cell_type": "code",
   "execution_count": 185,
   "id": "bf450d5b-92af-494f-9e10-647b42abb4c8",
   "metadata": {},
   "outputs": [],
   "source": [
    "expr = x+y+x*y*z"
   ]
  },
  {
   "cell_type": "code",
   "execution_count": 187,
   "id": "6bf5cedd-620f-4de8-a94f-51975531af32",
   "metadata": {},
   "outputs": [
    {
     "data": {
      "image/png": "[encoded data removed]",
      "text/latex": [
       "$\\displaystyle x \\left(y z + 1\\right) + y$"
      ],
      "text/plain": [
       "x⋅(y⋅z + 1) + y"
      ]
     },
     "execution_count": 187,
     "metadata": {},
     "output_type": "execute_result"
    }
   ],
   "source": [
    "expr.collect(x)"
   ]
  },
  {
   "cell_type": "code",
   "execution_count": 189,
   "id": "bb2b59fc-7d5c-4fb4-9cc1-5170a980b1a6",
   "metadata": {},
   "outputs": [
    {
     "data": {
      "image/png": "[encoded data removed]",
      "text/latex": [
       "$\\displaystyle x + y \\left(x z + 1\\right)$"
      ],
      "text/plain": [
       "x + y⋅(x⋅z + 1)"
      ]
     },
     "execution_count": 189,
     "metadata": {},
     "output_type": "execute_result"
    }
   ],
   "source": [
    "expr.collect(y)"
   ]
  },
  {
   "cell_type": "code",
   "execution_count": 191,
   "id": "3ade7581-bf47-46ff-b1e7-db2be6d8d475",
   "metadata": {},
   "outputs": [],
   "source": [
    "expr = sympy.cos(x+y)+sympy.sin(x-y)"
   ]
  },
  {
   "cell_type": "code",
   "execution_count": 197,
   "id": "351eb1d1-89f2-4880-ae87-51b65776a4cf",
   "metadata": {},
   "outputs": [
    {
     "data": {
      "image/png": "[encoded data removed]",
      "text/latex": [
       "$\\displaystyle \\left(\\sin{\\left(x \\right)} + \\cos{\\left(x \\right)}\\right) \\left(- \\sin{\\left(y \\right)} + \\cos{\\left(y \\right)}\\right)$"
      ],
      "text/plain": [
       "(sin(x) + cos(x))⋅(-sin(y) + cos(y))"
      ]
     },
     "execution_count": 197,
     "metadata": {},
     "output_type": "execute_result"
    }
   ],
   "source": [
    "expr.expand(trig=True).collect([sympy.cos(x),sympy.sin(x)]).collect(sympy.cos(y)-sympy.sin(y))"
   ]
  },
  {
   "cell_type": "code",
   "execution_count": 201,
   "id": "0f63fa45-e9f2-4357-a5c8-157347076047",
   "metadata": {},
   "outputs": [
    {
     "data": {
      "image/png": "[encoded data removed]",
      "text/latex": [
       "$\\displaystyle - \\frac{1}{x + 2} + \\frac{1}{x + 1}$"
      ],
      "text/plain": [
       "    1       1  \n",
       "- ───── + ─────\n",
       "  x + 2   x + 1"
      ]
     },
     "execution_count": 201,
     "metadata": {},
     "output_type": "execute_result"
    }
   ],
   "source": [
    "sympy.apart(1/(x**2 + 3*x + 2),x)"
   ]
  },
  {
   "cell_type": "code",
   "execution_count": 203,
   "id": "c50828bf-d3b9-4837-93eb-a7b4678c5fd2",
   "metadata": {},
   "outputs": [
    {
     "data": {
      "image/png": "[encoded data removed]",
      "text/latex": [
       "$\\displaystyle \\frac{y + 1}{y \\left(x + 1\\right)}$"
      ],
      "text/plain": [
       "  y + 1  \n",
       "─────────\n",
       "y⋅(x + 1)"
      ]
     },
     "execution_count": 203,
     "metadata": {},
     "output_type": "execute_result"
    }
   ],
   "source": [
    "sympy.together(1/(y*x+y)+1/(1+x))"
   ]
  },
  {
   "cell_type": "code",
   "execution_count": 205,
   "id": "5c7e0218-c019-4e56-99aa-4931bc74eaed",
   "metadata": {},
   "outputs": [
    {
     "data": {
      "image/png": "[encoded data removed]",
      "text/latex": [
       "$\\displaystyle \\frac{1}{x + 1}$"
      ],
      "text/plain": [
       "  1  \n",
       "─────\n",
       "x + 1"
      ]
     },
     "execution_count": 205,
     "metadata": {},
     "output_type": "execute_result"
    }
   ],
   "source": [
    "sympy.cancel(y/(y*x+y))"
   ]
  },
  {
   "cell_type": "code",
   "execution_count": 207,
   "id": "2649d973-5b8d-4a39-a795-09d98789338a",
   "metadata": {},
   "outputs": [
    {
     "data": {
      "image/png": "[encoded data removed]",
      "text/latex": [
       "$\\displaystyle 2 y$"
      ],
      "text/plain": [
       "2⋅y"
      ]
     },
     "execution_count": 207,
     "metadata": {},
     "output_type": "execute_result"
    }
   ],
   "source": [
    "(x+y).subs(x,y)"
   ]
  },
  {
   "cell_type": "code",
   "execution_count": 209,
   "id": "6913d2fb-d714-441e-af50-15e1d991d27e",
   "metadata": {},
   "outputs": [
    {
     "data": {
      "image/png": "[encoded data removed]",
      "text/latex": [
       "$\\displaystyle \\sin{\\left(y e^{y} \\right)}$"
      ],
      "text/plain": [
       "   ⎛   y⎞\n",
       "sin⎝y⋅ℯ ⎠"
      ]
     },
     "execution_count": 209,
     "metadata": {},
     "output_type": "execute_result"
    }
   ],
   "source": [
    "sympy.sin(x*sympy.exp(x)).subs(x,y)"
   ]
  },
  {
   "cell_type": "code",
   "execution_count": 213,
   "id": "72589f68-67ee-4f36-a3fb-682a92363ceb",
   "metadata": {},
   "outputs": [
    {
     "data": {
      "image/png": "[encoded data removed]",
      "text/latex": [
       "$\\displaystyle \\cos{\\left(y e^{y} \\right)}$"
      ],
      "text/plain": [
       "   ⎛   y⎞\n",
       "cos⎝y⋅ℯ ⎠"
      ]
     },
     "execution_count": 213,
     "metadata": {},
     "output_type": "execute_result"
    }
   ],
   "source": [
    "sympy.sin(x*z).subs({z:sympy.exp(y),x:y,sympy.sin:sympy.cos})"
   ]
  },
  {
   "cell_type": "code",
   "execution_count": 215,
   "id": "86f12e4a-2871-407b-8427-396eddae862e",
   "metadata": {},
   "outputs": [],
   "source": [
    "expr = x*y+z**2 *x"
   ]
  },
  {
   "cell_type": "code",
   "execution_count": 217,
   "id": "f382859f-5e0c-4462-83c3-138b3e6828c6",
   "metadata": {},
   "outputs": [],
   "source": [
    "values = {x:1.25,y:0.4,z:3.2}"
   ]
  },
  {
   "cell_type": "code",
   "execution_count": 219,
   "id": "647a0cac-fa0d-40b0-aa32-d556d9720768",
   "metadata": {},
   "outputs": [
    {
     "data": {
      "image/png": "[encoded data removed]",
      "text/latex": [
       "$\\displaystyle 13.3$"
      ],
      "text/plain": [
       "13.3000000000000"
      ]
     },
     "execution_count": 219,
     "metadata": {},
     "output_type": "execute_result"
    }
   ],
   "source": [
    "expr.subs(values)"
   ]
  },
  {
   "cell_type": "code",
   "execution_count": null,
   "id": "27570721-540a-4da9-bd2c-6a5418c61a2f",
   "metadata": {},
   "outputs": [],
   "source": []
  }
 ],
 "metadata": {
  "kernelspec": {
   "display_name": "Python [conda env:base] *",
   "language": "python",
   "name": "conda-base-py"
  },
  "language_info": {
   "codemirror_mode": {
    "name": "ipython",
    "version": 3
   },
   "file_extension": ".py",
   "mimetype": "text/x-python",
   "name": "python",
   "nbconvert_exporter": "python",
   "pygments_lexer": "ipython3",
   "version": "3.10.9"
  }
 },
 "nbformat": 4,
 "nbformat_minor": 5
}
