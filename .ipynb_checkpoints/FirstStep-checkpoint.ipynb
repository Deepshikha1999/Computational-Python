{
 "cells": [
  {
   "cell_type": "code",
   "execution_count": 2,
   "id": "fcc578e3-5722-4037-a86a-70e189fd4200",
   "metadata": {},
   "outputs": [],
   "source": [
    "import numpy as np"
   ]
  },
  {
   "cell_type": "code",
   "execution_count": 4,
   "id": "3c07fa99-2790-4538-b794-a486b16928e4",
   "metadata": {},
   "outputs": [],
   "source": [
    "data = np.array([[1,2],[3,4],[5,6]])"
   ]
  },
  {
   "cell_type": "code",
   "execution_count": 6,
   "id": "7ec3d0bf-ba0f-4a68-bb75-65c23352c97c",
   "metadata": {},
   "outputs": [
    {
     "data": {
      "text/plain": [
       "array([[1, 2],\n",
       "       [3, 4],\n",
       "       [5, 6]])"
      ]
     },
     "execution_count": 6,
     "metadata": {},
     "output_type": "execute_result"
    }
   ],
   "source": [
    "data"
   ]
  },
  {
   "cell_type": "code",
   "execution_count": 8,
   "id": "05e05606-c4ff-4446-8c7a-77d25e41d587",
   "metadata": {},
   "outputs": [
    {
     "data": {
      "text/plain": [
       "array([3, 4])"
      ]
     },
     "execution_count": 8,
     "metadata": {},
     "output_type": "execute_result"
    }
   ],
   "source": [
    "data[1]"
   ]
  },
  {
   "cell_type": "code",
   "execution_count": 10,
   "id": "0226379f-4959-40e9-8a6d-1389e4f56005",
   "metadata": {},
   "outputs": [
    {
     "data": {
      "text/plain": [
       "array([ 9, 10])"
      ]
     },
     "execution_count": 10,
     "metadata": {},
     "output_type": "execute_result"
    }
   ],
   "source": [
    "data[1]+6"
   ]
  },
  {
   "cell_type": "code",
   "execution_count": 12,
   "id": "0dce94f8-4b76-41a1-994a-64d939bd6d5f",
   "metadata": {},
   "outputs": [
    {
     "data": {
      "text/plain": [
       "numpy.ndarray"
      ]
     },
     "execution_count": 12,
     "metadata": {},
     "output_type": "execute_result"
    }
   ],
   "source": [
    "type(data)"
   ]
  },
  {
   "cell_type": "code",
   "execution_count": 14,
   "id": "84758720-76d3-4609-a523-fbf2139343cf",
   "metadata": {},
   "outputs": [
    {
     "data": {
      "text/plain": [
       "dtype('int64')"
      ]
     },
     "execution_count": 14,
     "metadata": {},
     "output_type": "execute_result"
    }
   ],
   "source": [
    "data.dtype"
   ]
  },
  {
   "cell_type": "code",
   "execution_count": 16,
   "id": "463c86f9-0d1d-4e17-9478-528bf9d6ba3e",
   "metadata": {},
   "outputs": [
    {
     "data": {
      "text/plain": [
       "array([1.+0.j, 2.+0.j, 3.+0.j])"
      ]
     },
     "execution_count": 16,
     "metadata": {},
     "output_type": "execute_result"
    }
   ],
   "source": [
    "dc = np.array([1,2,3],dtype=complex)\n",
    "dc"
   ]
  },
  {
   "cell_type": "raw",
   "id": "34c19526-b122-48e8-bc14-2f1f7ad0942f",
   "metadata": {},
   "source": [
    "dc + 5+2j"
   ]
  },
  {
   "cell_type": "code",
   "execution_count": 20,
   "id": "25fa040c-719c-4ff2-bceb-3dd4b23d080d",
   "metadata": {},
   "outputs": [
    {
     "data": {
      "text/plain": [
       "array([1.+0.j, 2.+0.j, 3.+0.j])"
      ]
     },
     "execution_count": 20,
     "metadata": {},
     "output_type": "execute_result"
    }
   ],
   "source": [
    "dc"
   ]
  },
  {
   "cell_type": "code",
   "execution_count": 22,
   "id": "d6bbb2d1-44a9-4a8b-a3c5-29dbaad89e76",
   "metadata": {},
   "outputs": [
    {
     "data": {
      "text/plain": [
       "array([6.+2.j, 7.+2.j, 8.+2.j])"
      ]
     },
     "execution_count": 22,
     "metadata": {},
     "output_type": "execute_result"
    }
   ],
   "source": [
    "dc2 = dc + 5.0+2.0j\n",
    "dc2"
   ]
  },
  {
   "cell_type": "code",
   "execution_count": 24,
   "id": "ccef1385-7262-4ef7-bd6a-8f1cb0ed4493",
   "metadata": {},
   "outputs": [
    {
     "data": {
      "text/plain": [
       "array([1, 2, 3])"
      ]
     },
     "execution_count": 24,
     "metadata": {},
     "output_type": "execute_result"
    }
   ],
   "source": [
    "lst = np.array((1,2,3))\n",
    "lst"
   ]
  },
  {
   "cell_type": "code",
   "execution_count": 28,
   "id": "413d08c0-ee01-4bb6-87ca-6c447faeee81",
   "metadata": {},
   "outputs": [
    {
     "data": {
      "text/plain": [
       "(3,)"
      ]
     },
     "execution_count": 28,
     "metadata": {},
     "output_type": "execute_result"
    }
   ],
   "source": [
    "lst.shape"
   ]
  },
  {
   "cell_type": "code",
   "execution_count": 32,
   "id": "36525668-af66-42f1-864e-4bd54fb608cb",
   "metadata": {},
   "outputs": [
    {
     "data": {
      "text/plain": [
       "1"
      ]
     },
     "execution_count": 32,
     "metadata": {},
     "output_type": "execute_result"
    }
   ],
   "source": [
    "lst.ndim"
   ]
  },
  {
   "cell_type": "code",
   "execution_count": 36,
   "id": "de7da1ce-4105-4ea6-abe0-6b7ff9a56e60",
   "metadata": {},
   "outputs": [
    {
     "data": {
      "text/plain": [
       "array([[0, 0, 0],\n",
       "       [0, 0, 0]])"
      ]
     },
     "execution_count": 36,
     "metadata": {},
     "output_type": "execute_result"
    }
   ],
   "source": [
    "# Arrays filled with constants\n",
    "np.zeros((2,3),dtype='int')"
   ]
  },
  {
   "cell_type": "code",
   "execution_count": 40,
   "id": "e97615a4-2a34-4086-b659-a934ba7d9bd1",
   "metadata": {},
   "outputs": [
    {
     "data": {
      "text/plain": [
       "array([1, 1, 1, 1])"
      ]
     },
     "execution_count": 40,
     "metadata": {},
     "output_type": "execute_result"
    }
   ],
   "source": [
    "np.ones(4,dtype=\"int\")"
   ]
  },
  {
   "cell_type": "code",
   "execution_count": 42,
   "id": "4b1362be-1061-4c5d-8dd1-bad0201d4e23",
   "metadata": {},
   "outputs": [],
   "source": [
    "x1 = 5.4 * np.ones(10)\n",
    "x2 = np.full(10,5.4)"
   ]
  },
  {
   "cell_type": "code",
   "execution_count": 46,
   "id": "c903f217-a959-4a19-a41f-aeb488807ae5",
   "metadata": {},
   "outputs": [
    {
     "name": "stdout",
     "output_type": "stream",
     "text": [
      "[5.4 5.4 5.4 5.4 5.4 5.4 5.4 5.4 5.4 5.4] [5.4 5.4 5.4 5.4 5.4 5.4 5.4 5.4 5.4 5.4]\n"
     ]
    }
   ],
   "source": [
    "print(x1,x2)"
   ]
  },
  {
   "cell_type": "code",
   "execution_count": 48,
   "id": "c02331bf-51c6-47f6-a814-c04d79c61abc",
   "metadata": {},
   "outputs": [],
   "source": [
    "x3 = np.empty(5)"
   ]
  },
  {
   "cell_type": "code",
   "execution_count": 54,
   "id": "30c97ad7-2d99-4088-be3d-2c304c3e7c2a",
   "metadata": {},
   "outputs": [
    {
     "name": "stdout",
     "output_type": "stream",
     "text": [
      "[ 1.    2.75  6.   10.75 17.  ]\n"
     ]
    }
   ],
   "source": [
    "print(x3)"
   ]
  },
  {
   "cell_type": "code",
   "execution_count": 58,
   "id": "d613c475-d7ae-4233-ad2f-a1d28004adce",
   "metadata": {},
   "outputs": [
    {
     "data": {
      "text/plain": [
       "array([0., 1., 2., 3., 4., 5., 6., 7., 8., 9.])"
      ]
     },
     "execution_count": 58,
     "metadata": {},
     "output_type": "execute_result"
    }
   ],
   "source": [
    "# Arrays filled with incremental sequence\n",
    "np.arange(0.0,10,1)"
   ]
  },
  {
   "cell_type": "code",
   "execution_count": 72,
   "id": "cdfd8b90-04bd-4bd9-980c-35efce5c66c3",
   "metadata": {},
   "outputs": [
    {
     "data": {
      "text/plain": [
       "array([ 0.,  1.,  2.,  3.,  4.,  5.,  6.,  7.,  8.,  9., 10.])"
      ]
     },
     "execution_count": 72,
     "metadata": {},
     "output_type": "execute_result"
    }
   ],
   "source": [
    "np.linspace(0,10,11)"
   ]
  },
  {
   "cell_type": "code",
   "execution_count": 76,
   "id": "afe7ea0a-0069-4b2b-8ab3-5c547080ec99",
   "metadata": {},
   "outputs": [
    {
     "data": {
      "text/plain": [
       "array([  1.        ,   3.16227766,  10.        ,  31.6227766 ,\n",
       "       100.        ])"
      ]
     },
     "execution_count": 76,
     "metadata": {},
     "output_type": "execute_result"
    }
   ],
   "source": [
    "# Arrays filled with logarithm sequence\n",
    "np.logspace(0,2,5) # five data points between 10**0 to 10**2"
   ]
  },
  {
   "cell_type": "code",
   "execution_count": 78,
   "id": "4d3bd3a2-daa6-4c08-bfde-e84c132273ce",
   "metadata": {},
   "outputs": [
    {
     "name": "stdout",
     "output_type": "stream",
     "text": [
      "[[-1  0  1]\n",
      " [-1  0  1]\n",
      " [-1  0  1]]\n",
      "[[-2 -2 -2]\n",
      " [ 0  0  0]\n",
      " [ 2  2  2]]\n"
     ]
    }
   ],
   "source": [
    "# meshgrid\n",
    "x = np.array([-1,0,1])\n",
    "y = np.array([-2,0,2])\n",
    "\n",
    "X,Y = np.meshgrid(x,y)\n",
    "print(X)\n",
    "print(Y)"
   ]
  },
  {
   "cell_type": "code",
   "execution_count": 80,
   "id": "58133b44-5421-463b-b025-05fed564b26b",
   "metadata": {},
   "outputs": [
    {
     "name": "stdout",
     "output_type": "stream",
     "text": [
      "[[9 4 1]\n",
      " [1 0 1]\n",
      " [1 4 9]]\n"
     ]
    }
   ],
   "source": [
    "Z = (X+Y)**2\n",
    "print(Z)"
   ]
  },
  {
   "cell_type": "code",
   "execution_count": 82,
   "id": "b6c4b4e2-3d46-4718-bfcc-f3ce2dd06311",
   "metadata": {},
   "outputs": [
    {
     "name": "stdout",
     "output_type": "stream",
     "text": [
      "[1 1 1]\n"
     ]
    }
   ],
   "source": [
    "# Creating array with properties of other arrays\n",
    "def f(x):\n",
    "    y = np.ones_like(x)\n",
    "    # Compute with x and y\n",
    "    return y\n",
    "print(f(x))  # Copies the type and shape of array x"
   ]
  },
  {
   "cell_type": "code",
   "execution_count": 84,
   "id": "f66fb5d5-cfc8-47e0-a6d4-649ea26eaf21",
   "metadata": {},
   "outputs": [
    {
     "name": "stdout",
     "output_type": "stream",
     "text": [
      "[1. 1. 1. 1. 1. 1. 1. 1. 1. 1.]\n"
     ]
    }
   ],
   "source": [
    "print(f(x1)) # Copies the type and shape of array x1"
   ]
  },
  {
   "cell_type": "code",
   "execution_count": null,
   "id": "c978ae38-b7ed-4a13-9ce4-d2fc0f1afc10",
   "metadata": {},
   "outputs": [],
   "source": []
  }
 ],
 "metadata": {
  "kernelspec": {
   "display_name": "Python [conda env:base] *",
   "language": "python",
   "name": "conda-base-py"
  },
  "language_info": {
   "codemirror_mode": {
    "name": "ipython",
    "version": 3
   },
   "file_extension": ".py",
   "mimetype": "text/x-python",
   "name": "python",
   "nbconvert_exporter": "python",
   "pygments_lexer": "ipython3",
   "version": "3.10.9"
  }
 },
 "nbformat": 4,
 "nbformat_minor": 5
}
