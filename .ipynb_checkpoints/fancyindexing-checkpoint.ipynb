{
 "cells": [
  {
   "cell_type": "code",
   "execution_count": 1,
   "id": "a9c9740b-96e8-495b-86b3-002958b1a80a",
   "metadata": {},
   "outputs": [],
   "source": [
    "import numpy as np\n",
    "# fancy indexing"
   ]
  },
  {
   "cell_type": "code",
   "execution_count": 3,
   "id": "085bfab4-5f88-48a4-9415-5192158ea298",
   "metadata": {},
   "outputs": [],
   "source": [
    "A = np.linspace(0,1,11)"
   ]
  },
  {
   "cell_type": "code",
   "execution_count": 5,
   "id": "c4ad9d37-c091-4f7e-9591-0420847bb915",
   "metadata": {},
   "outputs": [
    {
     "data": {
      "text/plain": [
       "array([0. , 0.1, 0.2, 0.3, 0.4, 0.5, 0.6, 0.7, 0.8, 0.9, 1. ])"
      ]
     },
     "execution_count": 5,
     "metadata": {},
     "output_type": "execute_result"
    }
   ],
   "source": [
    "A"
   ]
  },
  {
   "cell_type": "code",
   "execution_count": 11,
   "id": "e1bffd15-41d3-48f2-9275-a548d9672fea",
   "metadata": {},
   "outputs": [
    {
     "data": {
      "text/plain": [
       "array([0. , 0.2, 0.4])"
      ]
     },
     "execution_count": 11,
     "metadata": {},
     "output_type": "execute_result"
    }
   ],
   "source": [
    "A[np.array([0,2,4])]"
   ]
  },
  {
   "cell_type": "code",
   "execution_count": 13,
   "id": "699b5570-9352-40a6-a1e9-77776b833d84",
   "metadata": {},
   "outputs": [
    {
     "data": {
      "text/plain": [
       "array([0. , 0.2, 0.4])"
      ]
     },
     "execution_count": 13,
     "metadata": {},
     "output_type": "execute_result"
    }
   ],
   "source": [
    "A[[0,2,4]]"
   ]
  },
  {
   "cell_type": "code",
   "execution_count": 21,
   "id": "1dedf58e-82cc-4296-884b-31b27160bb00",
   "metadata": {},
   "outputs": [
    {
     "name": "stdout",
     "output_type": "stream",
     "text": [
      "[[ 0  1  2  3  4  5  6]\n",
      " [ 5  6  7  8  9 10 11]\n",
      " [10 11 12 13 14 15 16]\n",
      " [15 16 17 18 19 20 21]\n",
      " [20 21 22 23 24 25 26]\n",
      " [25 26 27 28 29 30 31]\n",
      " [30 31 32 33 34 35 36]]\n"
     ]
    }
   ],
   "source": [
    "f = lambda m,n: n+5*m\n",
    "A1 = np.fromfunction(f,(7,7),dtype=int)\n",
    "print(A1)"
   ]
  },
  {
   "cell_type": "code",
   "execution_count": 23,
   "id": "f4e64e4b-e2e1-415f-af31-ab33d11d424f",
   "metadata": {},
   "outputs": [
    {
     "data": {
      "text/plain": [
       "array([11, 19, 30])"
      ]
     },
     "execution_count": 23,
     "metadata": {},
     "output_type": "execute_result"
    }
   ],
   "source": [
    "A1[[2,3,5],[1,4,5]]"
   ]
  },
  {
   "cell_type": "code",
   "execution_count": 25,
   "id": "c445cbd0-e9c0-4593-8d06-f2d0ea6b4331",
   "metadata": {},
   "outputs": [],
   "source": [
    "# Boolean based indexing"
   ]
  },
  {
   "cell_type": "code",
   "execution_count": 27,
   "id": "a319e4ba-079f-4110-9858-8684bca65059",
   "metadata": {},
   "outputs": [
    {
     "data": {
      "text/plain": [
       "array([False, False, False, False, False, False,  True,  True,  True,\n",
       "        True,  True])"
      ]
     },
     "execution_count": 27,
     "metadata": {},
     "output_type": "execute_result"
    }
   ],
   "source": [
    "A>0.5"
   ]
  },
  {
   "cell_type": "code",
   "execution_count": 33,
   "id": "6b6afe0b-f5b5-4dc5-962d-608e20a4d40e",
   "metadata": {},
   "outputs": [
    {
     "data": {
      "text/plain": [
       "array([ True, False, False, False, False, False, False, False, False,\n",
       "       False, False])"
      ]
     },
     "execution_count": 33,
     "metadata": {},
     "output_type": "execute_result"
    }
   ],
   "source": [
    "A%2==0"
   ]
  },
  {
   "cell_type": "code",
   "execution_count": 35,
   "id": "94b4dd00-d007-4a13-b69e-e838881ced39",
   "metadata": {},
   "outputs": [
    {
     "data": {
      "text/plain": [
       "array([0.6, 0.7, 0.8, 0.9, 1. ])"
      ]
     },
     "execution_count": 35,
     "metadata": {},
     "output_type": "execute_result"
    }
   ],
   "source": [
    "A[A>0.5]"
   ]
  },
  {
   "cell_type": "code",
   "execution_count": 37,
   "id": "714a0ef1-f992-47f2-a1e8-03ec943ca045",
   "metadata": {},
   "outputs": [],
   "source": [
    "# Arrays created using fancy indexing and boolean indexing are not views but independent arrays"
   ]
  },
  {
   "cell_type": "code",
   "execution_count": 39,
   "id": "57ecd670-42e7-4cb6-a35c-dc6ce2433bb8",
   "metadata": {},
   "outputs": [],
   "source": [
    "A = np.arange(10)"
   ]
  },
  {
   "cell_type": "code",
   "execution_count": 41,
   "id": "a75e3b1e-1721-4a45-92f2-4d867d2a36d1",
   "metadata": {},
   "outputs": [
    {
     "data": {
      "text/plain": [
       "array([0, 1, 2, 3, 4, 5, 6, 7, 8, 9])"
      ]
     },
     "execution_count": 41,
     "metadata": {},
     "output_type": "execute_result"
    }
   ],
   "source": [
    "A"
   ]
  },
  {
   "cell_type": "code",
   "execution_count": 43,
   "id": "a1f7e24a-f5ae-4657-ace5-e4171b947611",
   "metadata": {},
   "outputs": [],
   "source": [
    "indices = [2,5,7]"
   ]
  },
  {
   "cell_type": "code",
   "execution_count": 45,
   "id": "5df579ee-a1e0-4f35-90f4-de32d1faaaea",
   "metadata": {},
   "outputs": [],
   "source": [
    "B = A[indices]"
   ]
  },
  {
   "cell_type": "code",
   "execution_count": 47,
   "id": "ef5b741d-8b3d-4900-8752-dbd1b858558c",
   "metadata": {},
   "outputs": [
    {
     "data": {
      "text/plain": [
       "array([2, 5, 7])"
      ]
     },
     "execution_count": 47,
     "metadata": {},
     "output_type": "execute_result"
    }
   ],
   "source": [
    "B"
   ]
  },
  {
   "cell_type": "code",
   "execution_count": 49,
   "id": "f5840eba-5b92-4360-b2c9-06b75c1e691f",
   "metadata": {},
   "outputs": [],
   "source": [
    "B[0] = -1"
   ]
  },
  {
   "cell_type": "code",
   "execution_count": 51,
   "id": "21fe9c54-88a0-449d-9413-0f4d59e972c6",
   "metadata": {},
   "outputs": [
    {
     "data": {
      "text/plain": [
       "array([-1,  5,  7])"
      ]
     },
     "execution_count": 51,
     "metadata": {},
     "output_type": "execute_result"
    }
   ],
   "source": [
    "B"
   ]
  },
  {
   "cell_type": "code",
   "execution_count": 53,
   "id": "97ad1143-bd16-4a2f-89cb-d63956e3a9ae",
   "metadata": {},
   "outputs": [
    {
     "data": {
      "text/plain": [
       "array([0, 1, 2, 3, 4, 5, 6, 7, 8, 9])"
      ]
     },
     "execution_count": 53,
     "metadata": {},
     "output_type": "execute_result"
    }
   ],
   "source": [
    "A"
   ]
  },
  {
   "cell_type": "code",
   "execution_count": 55,
   "id": "163247d7-0c21-4b54-8084-d27fd74014ec",
   "metadata": {},
   "outputs": [],
   "source": [
    "C = A[A%3==0]"
   ]
  },
  {
   "cell_type": "code",
   "execution_count": 57,
   "id": "010377c9-3f1d-4e1c-ac05-79f7fedcb002",
   "metadata": {},
   "outputs": [
    {
     "data": {
      "text/plain": [
       "array([0, 3, 6, 9])"
      ]
     },
     "execution_count": 57,
     "metadata": {},
     "output_type": "execute_result"
    }
   ],
   "source": [
    "C"
   ]
  },
  {
   "cell_type": "code",
   "execution_count": 59,
   "id": "198b539a-fda8-441f-8892-11088ab6715c",
   "metadata": {},
   "outputs": [
    {
     "data": {
      "text/plain": [
       "array([0, 1, 2, 3, 4, 5, 6, 7, 8, 9])"
      ]
     },
     "execution_count": 59,
     "metadata": {},
     "output_type": "execute_result"
    }
   ],
   "source": [
    "A"
   ]
  },
  {
   "cell_type": "code",
   "execution_count": 61,
   "id": "c0bcaf7f-bb62-46d1-b42b-181e16dd8f60",
   "metadata": {},
   "outputs": [],
   "source": [
    "C[0] = 12"
   ]
  },
  {
   "cell_type": "code",
   "execution_count": 63,
   "id": "0e54f3cb-bdea-4cf7-b548-eb6317c4444f",
   "metadata": {},
   "outputs": [
    {
     "data": {
      "text/plain": [
       "array([12,  3,  6,  9])"
      ]
     },
     "execution_count": 63,
     "metadata": {},
     "output_type": "execute_result"
    }
   ],
   "source": [
    "C"
   ]
  },
  {
   "cell_type": "code",
   "execution_count": 65,
   "id": "9f51410d-7091-4c55-b0cc-8e26880ae42f",
   "metadata": {},
   "outputs": [
    {
     "data": {
      "text/plain": [
       "array([0, 1, 2, 3, 4, 5, 6, 7, 8, 9])"
      ]
     },
     "execution_count": 65,
     "metadata": {},
     "output_type": "execute_result"
    }
   ],
   "source": [
    "A"
   ]
  },
  {
   "cell_type": "code",
   "execution_count": 67,
   "id": "7696bdea-96d1-4173-beda-e0a4784b8789",
   "metadata": {},
   "outputs": [],
   "source": [
    "A[A>5] = -1"
   ]
  },
  {
   "cell_type": "code",
   "execution_count": 69,
   "id": "c5180c96-5111-406b-aafb-f71bd8008397",
   "metadata": {},
   "outputs": [
    {
     "data": {
      "text/plain": [
       "array([ 0,  1,  2,  3,  4,  5, -1, -1, -1, -1])"
      ]
     },
     "execution_count": 69,
     "metadata": {},
     "output_type": "execute_result"
    }
   ],
   "source": [
    "A"
   ]
  },
  {
   "cell_type": "code",
   "execution_count": null,
   "id": "7bd8e478-cc5e-4d7d-aae2-92f18bde32df",
   "metadata": {},
   "outputs": [],
   "source": []
  }
 ],
 "metadata": {
  "kernelspec": {
   "display_name": "Python [conda env:base] *",
   "language": "python",
   "name": "conda-base-py"
  },
  "language_info": {
   "codemirror_mode": {
    "name": "ipython",
    "version": 3
   },
   "file_extension": ".py",
   "mimetype": "text/x-python",
   "name": "python",
   "nbconvert_exporter": "python",
   "pygments_lexer": "ipython3",
   "version": "3.10.9"
  }
 },
 "nbformat": 4,
 "nbformat_minor": 5
}
