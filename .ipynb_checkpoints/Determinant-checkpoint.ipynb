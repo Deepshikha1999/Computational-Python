{
 "cells": [
  {
   "cell_type": "code",
   "execution_count": 1,
   "id": "d7976ee6-765c-49de-9394-a9111926a51d",
   "metadata": {},
   "outputs": [],
   "source": [
    "import numpy as np\n",
    "# Determinants calculation"
   ]
  },
  {
   "cell_type": "code",
   "execution_count": 117,
   "id": "23928f26-0abe-43f2-96c9-9d3346d33894",
   "metadata": {},
   "outputs": [
    {
     "name": "stdin",
     "output_type": "stream",
     "text": [
      "Enter the order of matrices:  3\n"
     ]
    }
   ],
   "source": [
    "n = int(input(\"Enter the order of matrices: \"))"
   ]
  },
  {
   "cell_type": "code",
   "execution_count": 119,
   "id": "2d69a56c-b038-4135-ab32-6c39b3845013",
   "metadata": {},
   "outputs": [],
   "source": [
    "A = np.arange(1,n*n + 1).reshape(n,n)"
   ]
  },
  {
   "cell_type": "code",
   "execution_count": 121,
   "id": "19ba9e66-8bce-4015-9aa9-b0608addc326",
   "metadata": {},
   "outputs": [
    {
     "data": {
      "text/plain": [
       "array([[1, 2, 3],\n",
       "       [4, 5, 6],\n",
       "       [7, 8, 9]])"
      ]
     },
     "execution_count": 121,
     "metadata": {},
     "output_type": "execute_result"
    }
   ],
   "source": [
    "A"
   ]
  },
  {
   "cell_type": "code",
   "execution_count": 123,
   "id": "83dd9313-54ab-4ca3-85cc-887ef0a8c4f7",
   "metadata": {},
   "outputs": [],
   "source": [
    "def calculate_Determinant(A):\n",
    "    s = A.shape\n",
    "    if s == (2,2):\n",
    "        return A[0][0]*A[1][1] - A[0][1]*A[1][0]\n",
    "    else:\n",
    "        d = 0\n",
    "        for i in range(s[0]):\n",
    "            for j in range(s[1]):\n",
    "                d += ((-1)**(i+j))*A[i][j]*calculate_Determinant(np.delete(np.delete(A,i,axis=0),j,axis=1))\n",
    "        return d"
   ]
  },
  {
   "cell_type": "code",
   "execution_count": 125,
   "id": "3b12d1e7-1f94-4a8a-b3ac-e1b1a6dc29ab",
   "metadata": {},
   "outputs": [
    {
     "data": {
      "text/plain": [
       "0"
      ]
     },
     "execution_count": 125,
     "metadata": {},
     "output_type": "execute_result"
    }
   ],
   "source": [
    "calculate_Determinant(A)"
   ]
  }
 ],
 "metadata": {
  "kernelspec": {
   "display_name": "Python [conda env:base] *",
   "language": "python",
   "name": "conda-base-py"
  },
  "language_info": {
   "codemirror_mode": {
    "name": "ipython",
    "version": 3
   },
   "file_extension": ".py",
   "mimetype": "text/x-python",
   "name": "python",
   "nbconvert_exporter": "python",
   "pygments_lexer": "ipython3",
   "version": "3.10.9"
  }
 },
 "nbformat": 4,
 "nbformat_minor": 5
}
