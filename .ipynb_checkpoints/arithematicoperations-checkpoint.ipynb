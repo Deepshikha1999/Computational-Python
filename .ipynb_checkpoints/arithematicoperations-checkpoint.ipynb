{
 "cells": [
  {
   "cell_type": "code",
   "execution_count": 1,
   "id": "fdbdd9ae-9ed8-40dd-9486-37b436bf5ded",
   "metadata": {},
   "outputs": [],
   "source": [
    "import numpy as np"
   ]
  },
  {
   "cell_type": "code",
   "execution_count": 3,
   "id": "77d8e306-c96e-4bf6-8220-3d0bb40ac012",
   "metadata": {},
   "outputs": [],
   "source": [
    "# Arithematic Operations"
   ]
  },
  {
   "cell_type": "code",
   "execution_count": 5,
   "id": "233810e1-2f33-483b-ac99-87457dd3e4bd",
   "metadata": {},
   "outputs": [],
   "source": [
    "# Standardised Arithematci Operations"
   ]
  },
  {
   "cell_type": "code",
   "execution_count": 7,
   "id": "0147f849-8862-4422-89ce-07145f0a9a92",
   "metadata": {},
   "outputs": [],
   "source": [
    "x = np.array([[1,2],[3,4]])"
   ]
  },
  {
   "cell_type": "code",
   "execution_count": 9,
   "id": "ff63effd-e85e-44dd-9964-ae600681a63d",
   "metadata": {},
   "outputs": [],
   "source": [
    "y = np.array([[5,6],[7,8]])"
   ]
  },
  {
   "cell_type": "code",
   "execution_count": 11,
   "id": "136efe10-2d64-40e2-9ce8-1b6a5e409da1",
   "metadata": {},
   "outputs": [
    {
     "data": {
      "text/plain": [
       "array([[ 6,  8],\n",
       "       [10, 12]])"
      ]
     },
     "execution_count": 11,
     "metadata": {},
     "output_type": "execute_result"
    }
   ],
   "source": [
    "# Addition\n",
    "x + y"
   ]
  },
  {
   "cell_type": "code",
   "execution_count": 13,
   "id": "c9fead0d-481e-43c6-ac1d-65137e7da7ff",
   "metadata": {},
   "outputs": [
    {
     "data": {
      "text/plain": [
       "array([[4, 4],\n",
       "       [4, 4]])"
      ]
     },
     "execution_count": 13,
     "metadata": {},
     "output_type": "execute_result"
    }
   ],
   "source": [
    "# Substraction\n",
    "y - x"
   ]
  },
  {
   "cell_type": "code",
   "execution_count": 15,
   "id": "3b0ddd92-17fa-4fab-889d-4f0422620087",
   "metadata": {},
   "outputs": [
    {
     "data": {
      "text/plain": [
       "array([[ 5, 12],\n",
       "       [21, 32]])"
      ]
     },
     "execution_count": 15,
     "metadata": {},
     "output_type": "execute_result"
    }
   ],
   "source": [
    "# Multiplication\n",
    "x * y"
   ]
  },
  {
   "cell_type": "code",
   "execution_count": 17,
   "id": "97f45c2d-c9e7-4a71-ae11-0c12aa8eaccd",
   "metadata": {},
   "outputs": [
    {
     "data": {
      "text/plain": [
       "array([[5.        , 3.        ],\n",
       "       [2.33333333, 2.        ]])"
      ]
     },
     "execution_count": 17,
     "metadata": {},
     "output_type": "execute_result"
    }
   ],
   "source": [
    "# Division\n",
    "y / x"
   ]
  },
  {
   "cell_type": "code",
   "execution_count": 19,
   "id": "5512fa84-1f45-4421-9b1a-ff793e0f8835",
   "metadata": {},
   "outputs": [],
   "source": [
    "# Operations between scalar and arrays"
   ]
  },
  {
   "cell_type": "code",
   "execution_count": 21,
   "id": "fe821257-96f9-482d-96f8-ce9c6e35c4cf",
   "metadata": {},
   "outputs": [
    {
     "data": {
      "text/plain": [
       "array([[2, 4],\n",
       "       [6, 8]])"
      ]
     },
     "execution_count": 21,
     "metadata": {},
     "output_type": "execute_result"
    }
   ],
   "source": [
    "x * 2"
   ]
  },
  {
   "cell_type": "code",
   "execution_count": 23,
   "id": "02ad4f50-41ff-43ae-b18c-2c32ed98a714",
   "metadata": {},
   "outputs": [
    {
     "data": {
      "text/plain": [
       "array([[ 2,  4],\n",
       "       [ 8, 16]])"
      ]
     },
     "execution_count": 23,
     "metadata": {},
     "output_type": "execute_result"
    }
   ],
   "source": [
    "2 ** x"
   ]
  },
  {
   "cell_type": "code",
   "execution_count": 25,
   "id": "c05222bf-72c1-494c-8363-6020017d0074",
   "metadata": {},
   "outputs": [
    {
     "data": {
      "text/plain": [
       "array([[2.5, 3. ],\n",
       "       [3.5, 4. ]])"
      ]
     },
     "execution_count": 25,
     "metadata": {},
     "output_type": "execute_result"
    }
   ],
   "source": [
    "y / 2"
   ]
  },
  {
   "cell_type": "code",
   "execution_count": 27,
   "id": "be5547fa-6998-4ffd-97dc-4e87b573c0a1",
   "metadata": {},
   "outputs": [
    {
     "data": {
      "text/plain": [
       "array([[0.4       , 0.33333333],\n",
       "       [0.28571429, 0.25      ]])"
      ]
     },
     "execution_count": 27,
     "metadata": {},
     "output_type": "execute_result"
    }
   ],
   "source": [
    "2 / y"
   ]
  },
  {
   "cell_type": "code",
   "execution_count": 29,
   "id": "9600c9f2-9f73-4114-82f5-3687fb341c1a",
   "metadata": {},
   "outputs": [
    {
     "data": {
      "text/plain": [
       "dtype('float64')"
      ]
     },
     "execution_count": 29,
     "metadata": {},
     "output_type": "execute_result"
    }
   ],
   "source": [
    "(y/2).dtype"
   ]
  },
  {
   "cell_type": "code",
   "execution_count": 33,
   "id": "18fe51ac-9491-4452-81c0-3fc05f120805",
   "metadata": {},
   "outputs": [
    {
     "data": {
      "text/plain": [
       "'\\n---------------------------------------------------------------------------\\nValueError                                Traceback (most recent call last)\\nCell In[31], line 4\\n      2 x = np.array([1,2,3,4]).reshape(2,2)\\n      3 z = np.array([1,2,3,4])\\n----> 4 print(x/z)\\n\\nValueError: operands could not be broadcast together with shapes (2,2) (4,) \\n'"
      ]
     },
     "execution_count": 33,
     "metadata": {},
     "output_type": "execute_result"
    }
   ],
   "source": [
    "# Error Scenario\n",
    "# x = np.array([1,2,3,4]).reshape(2,2)\n",
    "# z = np.array([1,2,3,4])\n",
    "# print(x/z)\n",
    "'''\n",
    "---------------------------------------------------------------------------\n",
    "ValueError                                Traceback (most recent call last)\n",
    "Cell In[31], line 4\n",
    "      2 x = np.array([1,2,3,4]).reshape(2,2)\n",
    "      3 z = np.array([1,2,3,4])\n",
    "----> 4 print(x/z)\n",
    "\n",
    "ValueError: operands could not be broadcast together with shapes (2,2) (4,) \n",
    "'''"
   ]
  },
  {
   "cell_type": "code",
   "execution_count": null,
   "id": "e7d9390e-915f-4854-8e7e-03e24d35d21b",
   "metadata": {},
   "outputs": [],
   "source": []
  }
 ],
 "metadata": {
  "kernelspec": {
   "display_name": "Python [conda env:base] *",
   "language": "python",
   "name": "conda-base-py"
  },
  "language_info": {
   "codemirror_mode": {
    "name": "ipython",
    "version": 3
   },
   "file_extension": ".py",
   "mimetype": "text/x-python",
   "name": "python",
   "nbconvert_exporter": "python",
   "pygments_lexer": "ipython3",
   "version": "3.10.9"
  }
 },
 "nbformat": 4,
 "nbformat_minor": 5
}
