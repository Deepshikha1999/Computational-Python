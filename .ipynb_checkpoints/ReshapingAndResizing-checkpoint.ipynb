{
 "cells": [
  {
   "cell_type": "code",
   "execution_count": 1,
   "id": "4c069d84-ce70-4bc5-b73b-e044d01fa344",
   "metadata": {},
   "outputs": [],
   "source": [
    "import numpy as np\n",
    "# reshaping and resizing"
   ]
  },
  {
   "cell_type": "code",
   "execution_count": 3,
   "id": "d090192b-9ba7-445f-ac75-1ad166f375b7",
   "metadata": {},
   "outputs": [
    {
     "name": "stdin",
     "output_type": "stream",
     "text": [
      "Enter something Hello my name is Deepshikha and I m working on understanding the core principals\n"
     ]
    }
   ],
   "source": [
    "x = input('Enter something')"
   ]
  },
  {
   "cell_type": "code",
   "execution_count": 5,
   "id": "61c3645e-a9f1-47f7-ab2e-de63db4845ac",
   "metadata": {},
   "outputs": [
    {
     "data": {
      "text/plain": [
       "'Hello my name is Deepshikha and I m working on understanding the core principals'"
      ]
     },
     "execution_count": 5,
     "metadata": {},
     "output_type": "execute_result"
    }
   ],
   "source": [
    "x"
   ]
  },
  {
   "cell_type": "code",
   "execution_count": 7,
   "id": "8689d5bd-6f70-45c0-8a64-5a66817e6f87",
   "metadata": {},
   "outputs": [],
   "source": [
    "data = np.array([[1,2],[3,4]])"
   ]
  },
  {
   "cell_type": "code",
   "execution_count": 9,
   "id": "c14c5a70-dddf-4207-a327-a4e867958e0c",
   "metadata": {},
   "outputs": [
    {
     "data": {
      "text/plain": [
       "array([[1, 2],\n",
       "       [3, 4]])"
      ]
     },
     "execution_count": 9,
     "metadata": {},
     "output_type": "execute_result"
    }
   ],
   "source": [
    "data"
   ]
  },
  {
   "cell_type": "code",
   "execution_count": 11,
   "id": "1c80665a-d03e-4f8f-aba0-2424e249166d",
   "metadata": {},
   "outputs": [
    {
     "data": {
      "text/plain": [
       "array([[1, 2, 3, 4]])"
      ]
     },
     "execution_count": 11,
     "metadata": {},
     "output_type": "execute_result"
    }
   ],
   "source": [
    "np.reshape(data,(1,4))"
   ]
  },
  {
   "cell_type": "code",
   "execution_count": 27,
   "id": "458e5047-3e70-4a8d-a82e-49e4fb682880",
   "metadata": {},
   "outputs": [
    {
     "data": {
      "text/plain": [
       "array([[1, 2, 3, 4]])"
      ]
     },
     "execution_count": 27,
     "metadata": {},
     "output_type": "execute_result"
    }
   ],
   "source": [
    "np.reshape(data,(1,4)) # cannot set 2,3,5,or more # 2D array"
   ]
  },
  {
   "cell_type": "code",
   "execution_count": 29,
   "id": "0e147602-9bff-48e4-bf33-307cfd56ca78",
   "metadata": {},
   "outputs": [
    {
     "data": {
      "text/plain": [
       "array([1, 2, 3, 4])"
      ]
     },
     "execution_count": 29,
     "metadata": {},
     "output_type": "execute_result"
    }
   ],
   "source": [
    "data.reshape(4) # 1D array"
   ]
  },
  {
   "cell_type": "code",
   "execution_count": 31,
   "id": "8e6afb66-39a6-401b-b7ed-0c38acb47cc6",
   "metadata": {},
   "outputs": [
    {
     "data": {
      "text/plain": [
       "array([[1, 2],\n",
       "       [3, 4]])"
      ]
     },
     "execution_count": 31,
     "metadata": {},
     "output_type": "execute_result"
    }
   ],
   "source": [
    "data"
   ]
  },
  {
   "cell_type": "code",
   "execution_count": 33,
   "id": "0dfd5dad-4a63-4f2d-aa9c-e1f21f800f07",
   "metadata": {},
   "outputs": [],
   "source": [
    "# reshaping of an array creates an view to be copied explicitly  we have to use np.copy"
   ]
  },
  {
   "cell_type": "code",
   "execution_count": 35,
   "id": "54d4031b-9e38-4d31-95e7-dfb0adab4339",
   "metadata": {},
   "outputs": [
    {
     "data": {
      "text/plain": [
       "array([1, 2, 3, 4])"
      ]
     },
     "execution_count": 35,
     "metadata": {},
     "output_type": "execute_result"
    }
   ],
   "source": [
    "data.flatten()"
   ]
  },
  {
   "cell_type": "code",
   "execution_count": 37,
   "id": "6f82e895-e0c4-458d-a642-876d40afed09",
   "metadata": {},
   "outputs": [
    {
     "data": {
      "text/plain": [
       "(4,)"
      ]
     },
     "execution_count": 37,
     "metadata": {},
     "output_type": "execute_result"
    }
   ],
   "source": [
    "data.flatten().shape"
   ]
  },
  {
   "cell_type": "code",
   "execution_count": 39,
   "id": "ab4974a8-567a-4e5c-9180-7735b76b26ab",
   "metadata": {},
   "outputs": [],
   "source": [
    "A = data.flatten()"
   ]
  },
  {
   "cell_type": "code",
   "execution_count": 41,
   "id": "09b63811-a498-4376-a5a6-3908a7f47376",
   "metadata": {},
   "outputs": [
    {
     "data": {
      "text/plain": [
       "array([1, 2, 3, 4])"
      ]
     },
     "execution_count": 41,
     "metadata": {},
     "output_type": "execute_result"
    }
   ],
   "source": [
    "A"
   ]
  },
  {
   "cell_type": "code",
   "execution_count": 51,
   "id": "d767bf13-ecad-46f2-b84b-72fdaf607a88",
   "metadata": {},
   "outputs": [],
   "source": [
    "A = np.append(A,5)"
   ]
  },
  {
   "cell_type": "code",
   "execution_count": 53,
   "id": "08a2cffa-4455-4f66-8264-65ffe98297f3",
   "metadata": {},
   "outputs": [
    {
     "data": {
      "text/plain": [
       "array([[1, 2],\n",
       "       [3, 4]])"
      ]
     },
     "execution_count": 53,
     "metadata": {},
     "output_type": "execute_result"
    }
   ],
   "source": [
    "data"
   ]
  },
  {
   "cell_type": "code",
   "execution_count": 55,
   "id": "1f911a0c-11cc-448b-a584-3439e67abeb5",
   "metadata": {},
   "outputs": [],
   "source": [
    "A = np.insert(A,2,7)"
   ]
  },
  {
   "cell_type": "code",
   "execution_count": 57,
   "id": "84f18793-7f42-455b-a236-1f413a1d9403",
   "metadata": {},
   "outputs": [
    {
     "data": {
      "text/plain": [
       "array([1, 2, 7, 3, 4, 5])"
      ]
     },
     "execution_count": 57,
     "metadata": {},
     "output_type": "execute_result"
    }
   ],
   "source": [
    "A"
   ]
  },
  {
   "cell_type": "code",
   "execution_count": 59,
   "id": "cfc6957b-8faf-4a92-85d0-5bc45f8578a0",
   "metadata": {},
   "outputs": [],
   "source": [
    "data = np.arange(0,5)"
   ]
  },
  {
   "cell_type": "code",
   "execution_count": 61,
   "id": "12c2e674-26fa-4a26-bfcb-b4f37bf8f754",
   "metadata": {},
   "outputs": [
    {
     "data": {
      "text/plain": [
       "array([0, 1, 2, 3, 4])"
      ]
     },
     "execution_count": 61,
     "metadata": {},
     "output_type": "execute_result"
    }
   ],
   "source": [
    "data"
   ]
  },
  {
   "cell_type": "code",
   "execution_count": 63,
   "id": "6b30dd64-1d99-4d78-80fb-a27b7d82b18e",
   "metadata": {},
   "outputs": [],
   "source": [
    "column = data[:,np.newaxis]"
   ]
  },
  {
   "cell_type": "code",
   "execution_count": 65,
   "id": "d589abf7-f168-4344-a2be-fa774475c7a9",
   "metadata": {},
   "outputs": [
    {
     "data": {
      "text/plain": [
       "array([[0],\n",
       "       [1],\n",
       "       [2],\n",
       "       [3],\n",
       "       [4]])"
      ]
     },
     "execution_count": 65,
     "metadata": {},
     "output_type": "execute_result"
    }
   ],
   "source": [
    "column"
   ]
  },
  {
   "cell_type": "code",
   "execution_count": 71,
   "id": "71baf121-69b4-424d-b855-4fa4ee1660ee",
   "metadata": {},
   "outputs": [],
   "source": [
    "row = data[np.newaxis,:] # similar to np.reshape(data,(1,5))"
   ]
  },
  {
   "cell_type": "code",
   "execution_count": 73,
   "id": "77f0bdd5-8b2e-4957-bed5-49ec63bd4e35",
   "metadata": {},
   "outputs": [
    {
     "data": {
      "text/plain": [
       "array([[0, 1, 2, 3, 4]])"
      ]
     },
     "execution_count": 73,
     "metadata": {},
     "output_type": "execute_result"
    }
   ],
   "source": [
    "row"
   ]
  },
  {
   "cell_type": "code",
   "execution_count": 75,
   "id": "12488ea1-e5e9-42a0-8479-67a938a4b2e8",
   "metadata": {},
   "outputs": [],
   "source": [
    "col1 = column[:,np.newaxis]"
   ]
  },
  {
   "cell_type": "code",
   "execution_count": 77,
   "id": "9ea2d022-96c3-4ad5-81cc-94962978eae7",
   "metadata": {},
   "outputs": [
    {
     "data": {
      "text/plain": [
       "array([[[0]],\n",
       "\n",
       "       [[1]],\n",
       "\n",
       "       [[2]],\n",
       "\n",
       "       [[3]],\n",
       "\n",
       "       [[4]]])"
      ]
     },
     "execution_count": 77,
     "metadata": {},
     "output_type": "execute_result"
    }
   ],
   "source": [
    "col1"
   ]
  },
  {
   "cell_type": "code",
   "execution_count": 79,
   "id": "77437f9e-3a93-4cd8-a0a0-4c7d8051edf8",
   "metadata": {},
   "outputs": [],
   "source": [
    "row1 = column[np.newaxis,:]"
   ]
  },
  {
   "cell_type": "code",
   "execution_count": 81,
   "id": "142ea35d-9cb2-460b-ae12-8abae129f8d5",
   "metadata": {},
   "outputs": [
    {
     "data": {
      "text/plain": [
       "array([[[0],\n",
       "        [1],\n",
       "        [2],\n",
       "        [3],\n",
       "        [4]]])"
      ]
     },
     "execution_count": 81,
     "metadata": {},
     "output_type": "execute_result"
    }
   ],
   "source": [
    "row1"
   ]
  },
  {
   "cell_type": "code",
   "execution_count": 83,
   "id": "d6cde890-e702-4136-8f88-e043a600a416",
   "metadata": {},
   "outputs": [],
   "source": [
    "row1 = row[:,np.newaxis]"
   ]
  },
  {
   "cell_type": "code",
   "execution_count": 85,
   "id": "68199340-6012-4648-82d1-f205f7a00620",
   "metadata": {},
   "outputs": [
    {
     "data": {
      "text/plain": [
       "array([[[0, 1, 2, 3, 4]]])"
      ]
     },
     "execution_count": 85,
     "metadata": {},
     "output_type": "execute_result"
    }
   ],
   "source": [
    "row1"
   ]
  },
  {
   "cell_type": "code",
   "execution_count": 92,
   "id": "1ee3de4f-7dbc-45d1-bf4b-0e4b76bb1fc5",
   "metadata": {},
   "outputs": [],
   "source": [
    "col2 = np.expand_dims(data, axis=0) # data[:,np.newaxis]"
   ]
  },
  {
   "cell_type": "code",
   "execution_count": 94,
   "id": "40356f4e-87a3-4bf8-a041-0118a4fe9146",
   "metadata": {},
   "outputs": [
    {
     "data": {
      "text/plain": [
       "array([[0, 1, 2, 3, 4]])"
      ]
     },
     "execution_count": 94,
     "metadata": {},
     "output_type": "execute_result"
    }
   ],
   "source": [
    "col2"
   ]
  },
  {
   "cell_type": "code",
   "execution_count": 98,
   "id": "7738ba22-2386-4b45-9161-1e53daf82859",
   "metadata": {},
   "outputs": [],
   "source": [
    "row2 = np.expand_dims(data,axis=1) # data[np.newaxis,:]"
   ]
  },
  {
   "cell_type": "code",
   "execution_count": 100,
   "id": "039ffab0-610a-47bb-9c88-bf3e4bd4c5a5",
   "metadata": {},
   "outputs": [
    {
     "data": {
      "text/plain": [
       "array([[0],\n",
       "       [1],\n",
       "       [2],\n",
       "       [3],\n",
       "       [4]])"
      ]
     },
     "execution_count": 100,
     "metadata": {},
     "output_type": "execute_result"
    }
   ],
   "source": [
    "row2"
   ]
  },
  {
   "cell_type": "code",
   "execution_count": 106,
   "id": "b4b09fba-2456-4698-b75d-0daaa32b8d36",
   "metadata": {},
   "outputs": [],
   "source": [
    "zaxistrial = np.expand_dims(data,axis=-1)"
   ]
  },
  {
   "cell_type": "code",
   "execution_count": 108,
   "id": "276fe9d4-ac65-4e4e-a1bf-652ec0589cec",
   "metadata": {},
   "outputs": [
    {
     "data": {
      "text/plain": [
       "array([[0],\n",
       "       [1],\n",
       "       [2],\n",
       "       [3],\n",
       "       [4]])"
      ]
     },
     "execution_count": 108,
     "metadata": {},
     "output_type": "execute_result"
    }
   ],
   "source": [
    "zaxistrial"
   ]
  },
  {
   "cell_type": "code",
   "execution_count": 114,
   "id": "fe4aebcd-2e7f-40a0-b7f0-95be90437607",
   "metadata": {},
   "outputs": [],
   "source": [
    "zaxistrial = np.expand_dims(row2,axis=0)"
   ]
  },
  {
   "cell_type": "code",
   "execution_count": 116,
   "id": "e1144ee8-1507-4ca5-977f-84a16eb59af7",
   "metadata": {},
   "outputs": [
    {
     "data": {
      "text/plain": [
       "array([[[0],\n",
       "        [1],\n",
       "        [2],\n",
       "        [3],\n",
       "        [4]]])"
      ]
     },
     "execution_count": 116,
     "metadata": {},
     "output_type": "execute_result"
    }
   ],
   "source": [
    "zaxistrial"
   ]
  },
  {
   "cell_type": "code",
   "execution_count": 118,
   "id": "acfe5a08-d676-45f2-bb60-93dc340cdff3",
   "metadata": {},
   "outputs": [],
   "source": [
    "#################################################"
   ]
  },
  {
   "cell_type": "code",
   "execution_count": null,
   "id": "3f0b018b-a2ba-461a-b0d6-2d368e5e2511",
   "metadata": {},
   "outputs": [],
   "source": []
  }
 ],
 "metadata": {
  "kernelspec": {
   "display_name": "Python [conda env:base] *",
   "language": "python",
   "name": "conda-base-py"
  },
  "language_info": {
   "codemirror_mode": {
    "name": "ipython",
    "version": 3
   },
   "file_extension": ".py",
   "mimetype": "text/x-python",
   "name": "python",
   "nbconvert_exporter": "python",
   "pygments_lexer": "ipython3",
   "version": "3.10.9"
  }
 },
 "nbformat": 4,
 "nbformat_minor": 5
}
