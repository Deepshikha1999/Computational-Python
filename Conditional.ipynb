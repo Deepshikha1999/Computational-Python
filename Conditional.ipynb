{
 "cells": [
  {
   "cell_type": "code",
   "execution_count": 1,
   "id": "6cc224d8-2e1c-482c-9a24-d5bf1ab24204",
   "metadata": {},
   "outputs": [],
   "source": [
    "import numpy as np\n",
    "# Boolean and conditional operator"
   ]
  },
  {
   "cell_type": "code",
   "execution_count": 5,
   "id": "a6333e39-f702-4630-8fc1-4adede8fbf2f",
   "metadata": {},
   "outputs": [],
   "source": [
    "a = np.array([1,2,3,4])"
   ]
  },
  {
   "cell_type": "code",
   "execution_count": 7,
   "id": "7c74b56c-377e-45ca-8f07-a181ed97756e",
   "metadata": {},
   "outputs": [],
   "source": [
    "b = np.array([4,3,2,1])"
   ]
  },
  {
   "cell_type": "code",
   "execution_count": 9,
   "id": "cf33f70a-2dc6-43b5-9070-4b7288fb60c7",
   "metadata": {},
   "outputs": [
    {
     "data": {
      "text/plain": [
       "array([ True,  True, False, False])"
      ]
     },
     "execution_count": 9,
     "metadata": {},
     "output_type": "execute_result"
    }
   ],
   "source": [
    "a<b"
   ]
  },
  {
   "cell_type": "code",
   "execution_count": 11,
   "id": "c788c0ca-0ed4-45e5-91a2-35b9432a18ff",
   "metadata": {},
   "outputs": [
    {
     "data": {
      "text/plain": [
       "False"
      ]
     },
     "execution_count": 11,
     "metadata": {},
     "output_type": "execute_result"
    }
   ],
   "source": [
    "np.all(a<b)"
   ]
  },
  {
   "cell_type": "code",
   "execution_count": 13,
   "id": "76fe84b9-5e78-4024-b15d-b38b82e3407b",
   "metadata": {},
   "outputs": [
    {
     "data": {
      "text/plain": [
       "True"
      ]
     },
     "execution_count": 13,
     "metadata": {},
     "output_type": "execute_result"
    }
   ],
   "source": [
    "np.any(a<b)"
   ]
  },
  {
   "cell_type": "code",
   "execution_count": 15,
   "id": "57415443-a548-4a9e-808f-bd551630c3e1",
   "metadata": {},
   "outputs": [
    {
     "name": "stdout",
     "output_type": "stream",
     "text": [
      "Some elements in 'a' are smaller than their corresponding elements in b\n"
     ]
    }
   ],
   "source": [
    "if np.all(a<b):\n",
    "    print(\"All the elements in 'a' are smalller than their corresponding element in 'b'\")\n",
    "elif np.any(a<b):\n",
    "    print(\"Some elements in 'a' are smaller than their corresponding elements in b\")\n",
    "else:\n",
    "    print(\"Nothing is going as expected\")"
   ]
  },
  {
   "cell_type": "code",
   "execution_count": 17,
   "id": "89076349-fad5-4c38-aaa5-abf14083c050",
   "metadata": {},
   "outputs": [],
   "source": [
    "x = np.array([-2,-1,0,1,2])"
   ]
  },
  {
   "cell_type": "code",
   "execution_count": 19,
   "id": "d892001a-b506-4c2e-9dd7-e4d4afee1d24",
   "metadata": {},
   "outputs": [
    {
     "data": {
      "text/plain": [
       "array([False, False, False,  True,  True])"
      ]
     },
     "execution_count": 19,
     "metadata": {},
     "output_type": "execute_result"
    }
   ],
   "source": [
    "x>0"
   ]
  },
  {
   "cell_type": "code",
   "execution_count": 21,
   "id": "292e5192-73a9-486a-bdfe-9d7fec920a68",
   "metadata": {},
   "outputs": [
    {
     "data": {
      "text/plain": [
       "array([0, 0, 0, 1, 1])"
      ]
     },
     "execution_count": 21,
     "metadata": {},
     "output_type": "execute_result"
    }
   ],
   "source": [
    "1*(x>0)"
   ]
  },
  {
   "cell_type": "code",
   "execution_count": 23,
   "id": "bf8887dc-1621-4b2f-acb4-c1ad187f39e2",
   "metadata": {},
   "outputs": [
    {
     "data": {
      "text/plain": [
       "array([0, 0, 0, 1, 2])"
      ]
     },
     "execution_count": 23,
     "metadata": {},
     "output_type": "execute_result"
    }
   ],
   "source": [
    "x*(x>0)"
   ]
  },
  {
   "cell_type": "code",
   "execution_count": 53,
   "id": "70e8b1ce-f23a-4da4-9a75-01751afe97bc",
   "metadata": {},
   "outputs": [],
   "source": [
    "def pulse(x,position,height,width):\n",
    "    # return height * (x>=position) * (x<=(position+width))\n",
    "    # return height * (x>=position and x<=(position+width)) error because vectorized data on scalar formula\n",
    "    return height * np.logical_and(x>=position,x<=(position+width))"
   ]
  },
  {
   "cell_type": "code",
   "execution_count": 55,
   "id": "c3306050-200b-4ae4-9e05-5e273f3507f7",
   "metadata": {},
   "outputs": [],
   "source": [
    "x = np.linspace(-5,5,11)"
   ]
  },
  {
   "cell_type": "code",
   "execution_count": 57,
   "id": "b1ebe4c9-b6d6-41a8-80d2-6a16faf0c79c",
   "metadata": {},
   "outputs": [
    {
     "data": {
      "text/plain": [
       "array([-5., -4., -3., -2., -1.,  0.,  1.,  2.,  3.,  4.,  5.])"
      ]
     },
     "execution_count": 57,
     "metadata": {},
     "output_type": "execute_result"
    }
   ],
   "source": [
    "x"
   ]
  },
  {
   "cell_type": "code",
   "execution_count": 59,
   "id": "9909b49c-4623-45a2-bde5-4a0a4a4ea12e",
   "metadata": {},
   "outputs": [
    {
     "data": {
      "text/plain": [
       "array([0, 0, 0, 1, 1, 1, 1, 1, 1, 0, 0])"
      ]
     },
     "execution_count": 59,
     "metadata": {},
     "output_type": "execute_result"
    }
   ],
   "source": [
    "pulse(x,position=-2,height=1,width=5)"
   ]
  },
  {
   "cell_type": "code",
   "execution_count": 61,
   "id": "512555c1-ba1a-446b-a0c8-94ff51c5ce08",
   "metadata": {},
   "outputs": [
    {
     "data": {
      "text/plain": [
       "array([0, 0, 0, 0, 0, 0, 1, 1, 1, 1, 1])"
      ]
     },
     "execution_count": 61,
     "metadata": {},
     "output_type": "execute_result"
    }
   ],
   "source": [
    "pulse(x,position=1,height=1,width=5)"
   ]
  },
  {
   "cell_type": "code",
   "execution_count": 67,
   "id": "067af325-a71f-49d9-bba5-6a484dbe0b87",
   "metadata": {},
   "outputs": [],
   "source": [
    "x = np.linspace(-5,5,11)"
   ]
  },
  {
   "cell_type": "code",
   "execution_count": 69,
   "id": "5d0b07a7-86a0-454e-be72-c0d2ff4516f5",
   "metadata": {},
   "outputs": [
    {
     "data": {
      "text/plain": [
       "array([-5., -4., -3., -2., -1.,  0.,  1.,  2.,  3.,  4.,  5.])"
      ]
     },
     "execution_count": 69,
     "metadata": {},
     "output_type": "execute_result"
    }
   ],
   "source": [
    "x"
   ]
  },
  {
   "cell_type": "code",
   "execution_count": 75,
   "id": "5d87eaa5-1d48-4d35-8642-aa8956fcffc4",
   "metadata": {},
   "outputs": [
    {
     "data": {
      "text/plain": [
       "array([-125.,  -64.,  -27.,   -8.,   -1.,    0.,    1.,    4.,    9.,\n",
       "         16.,   25.])"
      ]
     },
     "execution_count": 75,
     "metadata": {},
     "output_type": "execute_result"
    }
   ],
   "source": [
    "np.where(x>0,x**2,x**3) #condition, true statement, false statement"
   ]
  },
  {
   "cell_type": "code",
   "execution_count": 77,
   "id": "fe3d3a58-f2f4-4192-aec5-c9e1371438b4",
   "metadata": {},
   "outputs": [
    {
     "data": {
      "text/plain": [
       "array([ 25.,  16.,   9.,   4.,   0.,   0.,   0.,  16.,  27.,  64., 125.])"
      ]
     },
     "execution_count": 77,
     "metadata": {},
     "output_type": "execute_result"
    }
   ],
   "source": [
    "np.select([x<-1,x>2,x>=2],[x**2,x**3,x**4])"
   ]
  },
  {
   "cell_type": "code",
   "execution_count": 81,
   "id": "65a1ced6-052d-48bc-9a76-667b956fad00",
   "metadata": {},
   "outputs": [
    {
     "data": {
      "text/plain": [
       "array([ 25.,  16.,   9.,   4.,  -1.,   0.,   1.,  16.,  81., 256., 625.])"
      ]
     },
     "execution_count": 81,
     "metadata": {},
     "output_type": "execute_result"
    }
   ],
   "source": [
    "np.choose([0,0,0,0,1,1,1,2,2,2,2],[x**2,x**3,x**4])"
   ]
  },
  {
   "cell_type": "code",
   "execution_count": 83,
   "id": "da70ad3f-32cc-40c1-88aa-d86f83e0d5da",
   "metadata": {},
   "outputs": [
    {
     "data": {
      "text/plain": [
       "(array([ 0,  1,  2,  8,  9, 10]),)"
      ]
     },
     "execution_count": 83,
     "metadata": {},
     "output_type": "execute_result"
    }
   ],
   "source": [
    "np.nonzero(abs(x)>2)"
   ]
  },
  {
   "cell_type": "code",
   "execution_count": 93,
   "id": "c2b448b6-9c68-4609-8974-af8af67c1811",
   "metadata": {},
   "outputs": [
    {
     "data": {
      "text/plain": [
       "array([-5., -4., -3.,  3.,  4.,  5.])"
      ]
     },
     "execution_count": 93,
     "metadata": {},
     "output_type": "execute_result"
    }
   ],
   "source": [
    "x[np.nonzero(abs(x)>2)]"
   ]
  },
  {
   "cell_type": "code",
   "execution_count": 95,
   "id": "7735bab2-2827-4c14-b109-10bf4b5ffdbc",
   "metadata": {},
   "outputs": [
    {
     "data": {
      "text/plain": [
       "array([-5., -4., -3.,  3.,  4.,  5.])"
      ]
     },
     "execution_count": 95,
     "metadata": {},
     "output_type": "execute_result"
    }
   ],
   "source": [
    "x[abs(x)>2]"
   ]
  },
  {
   "cell_type": "code",
   "execution_count": null,
   "id": "5679ed91-94bb-45bd-9a52-d89d5c92b2b7",
   "metadata": {},
   "outputs": [],
   "source": []
  }
 ],
 "metadata": {
  "kernelspec": {
   "display_name": "Python [conda env:base] *",
   "language": "python",
   "name": "conda-base-py"
  },
  "language_info": {
   "codemirror_mode": {
    "name": "ipython",
    "version": 3
   },
   "file_extension": ".py",
   "mimetype": "text/x-python",
   "name": "python",
   "nbconvert_exporter": "python",
   "pygments_lexer": "ipython3",
   "version": "3.10.9"
  }
 },
 "nbformat": 4,
 "nbformat_minor": 5
}
