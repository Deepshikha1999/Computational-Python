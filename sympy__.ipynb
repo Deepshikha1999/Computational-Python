{
 "cells": [
  {
   "cell_type": "code",
   "execution_count": 4,
   "id": "6c25e2c0-6a36-4f43-a925-ace6fc5cb55a",
   "metadata": {},
   "outputs": [],
   "source": [
    "import sympy \n",
    "import numpy as np"
   ]
  },
  {
   "cell_type": "code",
   "execution_count": 5,
   "id": "53be2e3f-12fc-418c-9dd4-05dbb04c1950",
   "metadata": {},
   "outputs": [],
   "source": [
    "# A core feature of sympy is to represent mathematical symbols as python objects."
   ]
  },
  {
   "cell_type": "code",
   "execution_count": 8,
   "id": "24687b74-1a3d-41b5-ad0c-8cc863509e1c",
   "metadata": {},
   "outputs": [],
   "source": [
    "x = sympy.Symbol(\"x\")\n",
    "a,b,c = sympy.symbols(['a','b','c'],real=True)"
   ]
  },
  {
   "cell_type": "code",
   "execution_count": 10,
   "id": "bf2dbaa7-56ac-4138-847b-8a90b47c25de",
   "metadata": {},
   "outputs": [
    {
     "name": "stdout",
     "output_type": "stream",
     "text": [
      "x a b c\n"
     ]
    }
   ],
   "source": [
    "print(x,a,b,c)"
   ]
  },
  {
   "cell_type": "code",
   "execution_count": 12,
   "id": "4a18187e-db81-493a-8627-24f0829eebf3",
   "metadata": {},
   "outputs": [
    {
     "data": {
      "text/latex": [
       "$\\displaystyle \\sqrt{x^{2}}$"
      ],
      "text/plain": [
       "sqrt(x**2)"
      ]
     },
     "execution_count": 12,
     "metadata": {},
     "output_type": "execute_result"
    }
   ],
   "source": [
    "sympy.sqrt(x**2)"
   ]
  },
  {
   "cell_type": "code",
   "execution_count": 14,
   "id": "4be0b14f-f98a-4ad9-8699-7704f26087cd",
   "metadata": {},
   "outputs": [
    {
     "data": {
      "text/latex": [
       "$\\displaystyle y$"
      ],
      "text/plain": [
       "y"
      ]
     },
     "execution_count": 14,
     "metadata": {},
     "output_type": "execute_result"
    }
   ],
   "source": [
    "y = sympy.Symbol(\"y\",positive=True)\n",
    "sympy.sqrt(y**2)"
   ]
  },
  {
   "cell_type": "code",
   "execution_count": 16,
   "id": "80422948-728c-4c37-b7b8-79bf03aac4d3",
   "metadata": {},
   "outputs": [],
   "source": [
    "# If nothing is known about the symbol in the computation then no simplification can be done, if the symbol is specified some type that can be simplified it will do"
   ]
  },
  {
   "cell_type": "code",
   "execution_count": 18,
   "id": "dae28616-924e-43c3-9cf5-d56d63f1f644",
   "metadata": {},
   "outputs": [],
   "source": [
    "# real,imaginary,positive,negative,integer,odd,even,prime,finite,infinite"
   ]
  },
  {
   "cell_type": "code",
   "execution_count": 20,
   "id": "551b6052-6238-4f12-9701-07ea32a28d28",
   "metadata": {},
   "outputs": [
    {
     "name": "stdout",
     "output_type": "stream",
     "text": [
      "n + n + n\n",
      "cos(pi*n)\n",
      "(-1)**n\n",
      "-1\n"
     ]
    }
   ],
   "source": [
    "n1 = sympy.Symbol(\"n\")\n",
    "n2 = sympy.Symbol(\"n\",integer = True)\n",
    "n3 = sympy.Symbol(\"n\",odd=True)\n",
    "print(n1+n2+n3)\n",
    "print(sympy.cos(n1*sympy.pi))\n",
    "print(sympy.cos(n2*sympy.pi))\n",
    "print(sympy.cos(n3*sympy.pi))\n"
   ]
  },
  {
   "cell_type": "code",
   "execution_count": 22,
   "id": "4f9a1882-bf54-449d-a488-bf8a783504c9",
   "metadata": {},
   "outputs": [],
   "source": [
    "# The purpose of representing mathematical symbols as Python objects is to use them in expression trees that represent mathematical expressions."
   ]
  },
  {
   "cell_type": "code",
   "execution_count": 27,
   "id": "166c3105-7ff1-4c47-a970-7792b2589fc0",
   "metadata": {},
   "outputs": [
    {
     "data": {
      "text/plain": [
       "(True, False, None, True)"
      ]
     },
     "execution_count": 27,
     "metadata": {},
     "output_type": "execute_result"
    }
   ],
   "source": [
    "n = sympy.Symbol(\"n\",integer=True)\n",
    "n.is_integer,n.is_Integer,n.is_positive,n.is_Symbol"
   ]
  },
  {
   "cell_type": "code",
   "execution_count": 29,
   "id": "e19b2e53-1e6d-4405-9159-4de25a1589d0",
   "metadata": {},
   "outputs": [
    {
     "data": {
      "text/plain": [
       "(True, True, True, False)"
      ]
     },
     "execution_count": 29,
     "metadata": {},
     "output_type": "execute_result"
    }
   ],
   "source": [
    "i = sympy.Integer(19)\n",
    "i.is_integer,i.is_Integer,i.is_positive,i.is_Symbol"
   ]
  },
  {
   "cell_type": "code",
   "execution_count": 35,
   "id": "9237096e-0ad0-4e8b-b874-92a209c1b359",
   "metadata": {},
   "outputs": [
    {
     "data": {
      "text/latex": [
       "$\\displaystyle 8663234049605954426644038200675212212900743262211018069459689001$"
      ],
      "text/plain": [
       "8663234049605954426644038200675212212900743262211018069459689001"
      ]
     },
     "execution_count": 35,
     "metadata": {},
     "output_type": "execute_result"
    }
   ],
   "source": [
    "i**50 # precise"
   ]
  },
  {
   "cell_type": "code",
   "execution_count": 41,
   "id": "99cde050-4fa3-421c-8efe-17d015d4ff70",
   "metadata": {},
   "outputs": [
    {
     "data": {
      "text/latex": [
       "$\\displaystyle 402387260077093773543702433923003985719374864210714632543799910429938512398629020592044208486969404800479988610197196058631666872994808558901323829669944590997424504087073759918823627727188732519779505950995276120874975462497043601418278094646496291056393887437886487337119181045825783647849977012476632889835955735432513185323958463075557409114262417474349347553428646576611667797396668820291207379143853719588249808126867838374559731746136085379534524221586593201928090878297308431392844403281231558611036976801357304216168747609675871348312025478589320767169132448426236131412508780208000261683151027341827977704784635868170164365024153691398281264810213092761244896359928705114964975419909342221566832572080821333186116811553615836546984046708975602900950537616475847728421889679646244945160765353408198901385442487984959953319101723355556602139450399736280750137837615307127761926849034352625200015888535147331611702103968175921510907788019393178114194545257223865541461062892187960223838971476088506276862967146674697562911234082439208160153780889893964518263243671616762179168909779911903754031274622289988005195444414282012187361745992642956581746628302955570299024324153181617210465832036786906117260158783520751516284225540265170483304226143974286933061690897968482590125458327168226458066526769958652682272807075781391858178889652208164348344825993266043367660176999612831860788386150279465955131156552036093988180612138558600301435694527224206344631797460594682573103790084024432438465657245014402821885252470935190620929023136493273497565513958720559654228749774011413346962715422845862377387538230483865688976461927383814900140767310446640259899490222221765904339901886018566526485061799702356193897017860040811889729918311021171229845901641921068884387121855646124960798722908519296819372388642614839657382291123125024186649353143970137428531926649875337218940694281434118520158014123344828015051399694290153483077644569099073152433278288269864602789864321139083506217095002597389863554277196742822248757586765752344220207573630569498825087968928162753848863396909959826280956121450994871701244516461260379029309120889086942028510640182154399457156805941872748998094254742173582401063677404595741785160829230135358081840096996372524230560855903700624271243416909004153690105933983835777939410970027753472000000000000000000000000000000000000000000000000000000000000000000000000000000000000000000000000000000000000000000000000000000000000000000000000000000000000000000000000000000000000000000000000000000000000000000000000000000000000000000000000000000000$"
      ],
      "text/plain": [
       "402387260077093773543702433923003985719374864210714632543799910429938512398629020592044208486969404800479988610197196058631666872994808558901323829669944590997424504087073759918823627727188732519779505950995276120874975462497043601418278094646496291056393887437886487337119181045825783647849977012476632889835955735432513185323958463075557409114262417474349347553428646576611667797396668820291207379143853719588249808126867838374559731746136085379534524221586593201928090878297308431392844403281231558611036976801357304216168747609675871348312025478589320767169132448426236131412508780208000261683151027341827977704784635868170164365024153691398281264810213092761244896359928705114964975419909342221566832572080821333186116811553615836546984046708975602900950537616475847728421889679646244945160765353408198901385442487984959953319101723355556602139450399736280750137837615307127761926849034352625200015888535147331611702103968175921510907788019393178114194545257223865541461062892187960223838971476088506276862967146674697562911234082439208160153780889893964518263243671616762179168909779911903754031274622289988005195444414282012187361745992642956581746628302955570299024324153181617210465832036786906117260158783520751516284225540265170483304226143974286933061690897968482590125458327168226458066526769958652682272807075781391858178889652208164348344825993266043367660176999612831860788386150279465955131156552036093988180612138558600301435694527224206344631797460594682573103790084024432438465657245014402821885252470935190620929023136493273497565513958720559654228749774011413346962715422845862377387538230483865688976461927383814900140767310446640259899490222221765904339901886018566526485061799702356193897017860040811889729918311021171229845901641921068884387121855646124960798722908519296819372388642614839657382291123125024186649353143970137428531926649875337218940694281434118520158014123344828015051399694290153483077644569099073152433278288269864602789864321139083506217095002597389863554277196742822248757586765752344220207573630569498825087968928162753848863396909959826280956121450994871701244516461260379029309120889086942028510640182154399457156805941872748998094254742173582401063677404595741785160829230135358081840096996372524230560855903700624271243416909004153690105933983835777939410970027753472000000000000000000000000000000000000000000000000000000000000000000000000000000000000000000000000000000000000000000000000000000000000000000000000000000000000000000000000000000000000000000000000000000000000000000000000000000000000000000000000000000000"
      ]
     },
     "execution_count": 41,
     "metadata": {},
     "output_type": "execute_result"
    }
   ],
   "source": [
    "sympy.factorial(1000) # Integers in Sympy are arbitary precision, meaning they have no fixed lower or upper bound value. Damn Precise"
   ]
  },
  {
   "cell_type": "code",
   "execution_count": 43,
   "id": "c1ca7d74-17c5-4c7c-974a-05dbfa905448",
   "metadata": {},
   "outputs": [],
   "source": [
    "# Sympy Float object can represent the real number 0.3 without the limitations of floating point numbers"
   ]
  },
  {
   "cell_type": "code",
   "execution_count": 49,
   "id": "e9d7d623-bb15-442d-896c-0533b0769ec1",
   "metadata": {},
   "outputs": [
    {
     "data": {
      "text/plain": [
       "'0.2999999999999999888977698'"
      ]
     },
     "execution_count": 49,
     "metadata": {},
     "output_type": "execute_result"
    }
   ],
   "source": [
    "\"%0.25f\"%0.3"
   ]
  },
  {
   "cell_type": "code",
   "execution_count": 51,
   "id": "a84cabb2-5b89-4062-8e35-56755c20cfd5",
   "metadata": {},
   "outputs": [
    {
     "data": {
      "text/latex": [
       "$\\displaystyle 0.2999999999999999888977698$"
      ],
      "text/plain": [
       "0.2999999999999999888977698"
      ]
     },
     "execution_count": 51,
     "metadata": {},
     "output_type": "execute_result"
    }
   ],
   "source": [
    "sympy.Float(0.3,25)"
   ]
  },
  {
   "cell_type": "code",
   "execution_count": 53,
   "id": "1289e18b-2530-4285-8ae7-a79fbe32dcca",
   "metadata": {},
   "outputs": [
    {
     "data": {
      "text/latex": [
       "$\\displaystyle 0.3$"
      ],
      "text/plain": [
       "0.3000000000000000000000000"
      ]
     },
     "execution_count": 53,
     "metadata": {},
     "output_type": "execute_result"
    }
   ],
   "source": [
    "sympy.Float('0.3',25)"
   ]
  },
  {
   "cell_type": "markdown",
   "id": "c566d397-5b40-4ae7-8182-0a889526d3bf",
   "metadata": {},
   "source": [
    "#### NOTE: to correctly represent 0.3 as a Float object, it is necessary to initialize it from string '0.3' rather than the Python float 0.3, which already contains a floating point error."
   ]
  },
  {
   "cell_type": "code",
   "execution_count": 56,
   "id": "f0a740e9-5b59-4d2a-a0d9-0fd40b5f5ab8",
   "metadata": {},
   "outputs": [],
   "source": [
    "# Rational"
   ]
  },
  {
   "cell_type": "code",
   "execution_count": 58,
   "id": "7b65d29b-604b-437b-81e2-83c93f19cf97",
   "metadata": {},
   "outputs": [
    {
     "data": {
      "text/latex": [
       "$\\displaystyle \\frac{11}{13}$"
      ],
      "text/plain": [
       "11/13"
      ]
     },
     "execution_count": 58,
     "metadata": {},
     "output_type": "execute_result"
    }
   ],
   "source": [
    "sympy.Rational(11,13)"
   ]
  },
  {
   "cell_type": "code",
   "execution_count": 60,
   "id": "102e0c7d-11a9-47c7-ad71-32fbb83181e6",
   "metadata": {},
   "outputs": [],
   "source": [
    "r1 = sympy.Rational(2,3)\n",
    "r2 = sympy.Rational(4,5)"
   ]
  },
  {
   "cell_type": "code",
   "execution_count": 62,
   "id": "a2e4ff38-6cb8-4e0b-b4b5-f7fc76ec14d7",
   "metadata": {},
   "outputs": [
    {
     "data": {
      "text/latex": [
       "$\\displaystyle \\frac{8}{15}$"
      ],
      "text/plain": [
       "8/15"
      ]
     },
     "execution_count": 62,
     "metadata": {},
     "output_type": "execute_result"
    }
   ],
   "source": [
    "r1*r2"
   ]
  },
  {
   "cell_type": "code",
   "execution_count": 64,
   "id": "fb12c8ba-343c-4c28-a9d3-6904c25f812b",
   "metadata": {},
   "outputs": [
    {
     "data": {
      "text/latex": [
       "$\\displaystyle \\frac{5}{6}$"
      ],
      "text/plain": [
       "5/6"
      ]
     },
     "execution_count": 64,
     "metadata": {},
     "output_type": "execute_result"
    }
   ],
   "source": [
    "r1/r2"
   ]
  },
  {
   "cell_type": "markdown",
   "id": "21c71391-b428-4a77-85ab-c7e04bec0762",
   "metadata": {},
   "source": [
    "#### Few specials : sympy.pi, sympy.E (e), sympy.EulerGamma, sympy.I (imaginary unit), sympy.oo (Infinity)"
   ]
  },
  {
   "cell_type": "code",
   "execution_count": 69,
   "id": "887bf8f4-2e42-46a4-8651-a44b2943262b",
   "metadata": {},
   "outputs": [],
   "source": [
    "# Functions"
   ]
  },
  {
   "cell_type": "code",
   "execution_count": null,
   "id": "eface656-12c4-4650-8f2d-fc93073bf166",
   "metadata": {},
   "outputs": [],
   "source": [
    "x,y,z = sympy.symbols(\"x,y,z\")\n",
    "f = sympy.Function(\"f\")"
   ]
  },
  {
   "cell_type": "code",
   "execution_count": 73,
   "id": "6c2f3c9b-f188-41c1-b8fa-124aa8334c56",
   "metadata": {},
   "outputs": [
    {
     "data": {
      "text/plain": [
       "sympy.core.function.UndefinedFunction"
      ]
     },
     "execution_count": 73,
     "metadata": {},
     "output_type": "execute_result"
    }
   ],
   "source": [
    "type(f)"
   ]
  },
  {
   "cell_type": "code",
   "execution_count": 75,
   "id": "655825e7-a534-4a2b-90f7-3635e5ac3310",
   "metadata": {},
   "outputs": [
    {
     "data": {
      "text/latex": [
       "$\\displaystyle f{\\left(x \\right)}$"
      ],
      "text/plain": [
       "f(x)"
      ]
     },
     "execution_count": 75,
     "metadata": {},
     "output_type": "execute_result"
    }
   ],
   "source": [
    "f(x)"
   ]
  },
  {
   "cell_type": "code",
   "execution_count": 77,
   "id": "929cedb2-896a-4e25-a329-ac6e4afe6ee7",
   "metadata": {},
   "outputs": [],
   "source": [
    "g = sympy.Function(\"g\")(x,y,z)"
   ]
  },
  {
   "cell_type": "code",
   "execution_count": 79,
   "id": "452ecbb0-d3cf-4e08-a24f-06d2f0f2e5ff",
   "metadata": {},
   "outputs": [
    {
     "data": {
      "text/latex": [
       "$\\displaystyle g{\\left(x,y,z \\right)}$"
      ],
      "text/plain": [
       "g(x, y, z)"
      ]
     },
     "execution_count": 79,
     "metadata": {},
     "output_type": "execute_result"
    }
   ],
   "source": [
    "g"
   ]
  },
  {
   "cell_type": "code",
   "execution_count": 81,
   "id": "b2d57ec3-6f51-469d-89c3-3c451e4b4f6e",
   "metadata": {},
   "outputs": [
    {
     "data": {
      "text/plain": [
       "{x, y, z}"
      ]
     },
     "execution_count": 81,
     "metadata": {},
     "output_type": "execute_result"
    }
   ],
   "source": [
    "g.free_symbols"
   ]
  },
  {
   "cell_type": "code",
   "execution_count": 83,
   "id": "93e79045-cf00-4169-92b9-017535c55a31",
   "metadata": {},
   "outputs": [],
   "source": [
    "# lambda function"
   ]
  },
  {
   "cell_type": "code",
   "execution_count": 85,
   "id": "3315f510-4223-4f78-a312-beebe7e5fd6c",
   "metadata": {},
   "outputs": [],
   "source": [
    "h = sympy.Lambda(x,x**2)"
   ]
  },
  {
   "cell_type": "code",
   "execution_count": 87,
   "id": "de9a17f1-3027-4697-9056-c065845fc8de",
   "metadata": {},
   "outputs": [
    {
     "data": {
      "text/latex": [
       "$\\displaystyle \\left( x \\mapsto x^{2} \\right)$"
      ],
      "text/plain": [
       "Lambda(x, x**2)"
      ]
     },
     "execution_count": 87,
     "metadata": {},
     "output_type": "execute_result"
    }
   ],
   "source": [
    "h"
   ]
  },
  {
   "cell_type": "code",
   "execution_count": 89,
   "id": "7c0f5a92-370f-43e3-b503-4e60d0062288",
   "metadata": {},
   "outputs": [
    {
     "data": {
      "text/latex": [
       "$\\displaystyle 25$"
      ],
      "text/plain": [
       "25"
      ]
     },
     "execution_count": 89,
     "metadata": {},
     "output_type": "execute_result"
    }
   ],
   "source": [
    "h(5)"
   ]
  },
  {
   "cell_type": "code",
   "execution_count": 91,
   "id": "86a4fe46-1753-41d0-929d-e58b36ccd0ee",
   "metadata": {},
   "outputs": [
    {
     "data": {
      "text/latex": [
       "$\\displaystyle \\left(x + 1\\right)^{2}$"
      ],
      "text/plain": [
       "(x + 1)**2"
      ]
     },
     "execution_count": 91,
     "metadata": {},
     "output_type": "execute_result"
    }
   ],
   "source": [
    "h(1+x)"
   ]
  },
  {
   "cell_type": "code",
   "execution_count": 93,
   "id": "88408860-64cd-4966-a6b7-534726abe120",
   "metadata": {},
   "outputs": [],
   "source": [
    "# Expressions: In sympy, Mathematical expressions are represented as trees where leaves are symbols and nodes are class instances that represent mathematical operations."
   ]
  },
  {
   "cell_type": "code",
   "execution_count": 95,
   "id": "ac1502c2-f56d-4252-bc09-1b45306e9fa3",
   "metadata": {},
   "outputs": [],
   "source": [
    "expr = 1 + 2*x**2 + 3*x**3"
   ]
  },
  {
   "cell_type": "code",
   "execution_count": 97,
   "id": "af2618cb-01ed-4a10-9408-390f0e0e369d",
   "metadata": {},
   "outputs": [
    {
     "data": {
      "text/latex": [
       "$\\displaystyle 3 x^{3} + 2 x^{2} + 1$"
      ],
      "text/plain": [
       "3*x**3 + 2*x**2 + 1"
      ]
     },
     "execution_count": 97,
     "metadata": {},
     "output_type": "execute_result"
    }
   ],
   "source": [
    "expr"
   ]
  },
  {
   "cell_type": "markdown",
   "id": "582a0fb9-9c8e-46c6-8191-2875097ab169",
   "metadata": {},
   "source": [
    "Add -> 1,Mul,Mul -> [],[2,Pow],[3,Pow] -> [],[[],[x,2]],[[],[x,3]]"
   ]
  },
  {
   "cell_type": "code",
   "execution_count": 102,
   "id": "f0c1c838-fd58-4329-9a21-f88c8c2b9952",
   "metadata": {},
   "outputs": [
    {
     "data": {
      "text/plain": [
       "(1, 2*x**2, 3*x**3)"
      ]
     },
     "execution_count": 102,
     "metadata": {},
     "output_type": "execute_result"
    }
   ],
   "source": [
    "expr.args"
   ]
  },
  {
   "cell_type": "code",
   "execution_count": 106,
   "id": "bf34d5b4-e4d2-4da6-86f8-a4ca9b238340",
   "metadata": {},
   "outputs": [
    {
     "data": {
      "text/plain": [
       "(2, x**2)"
      ]
     },
     "execution_count": 106,
     "metadata": {},
     "output_type": "execute_result"
    }
   ],
   "source": [
    "expr.args[1].args"
   ]
  },
  {
   "cell_type": "code",
   "execution_count": 108,
   "id": "204e34a9-8de6-4000-82d0-1d23f837210d",
   "metadata": {},
   "outputs": [],
   "source": [
    "# Simplification of expressions"
   ]
  },
  {
   "cell_type": "code",
   "execution_count": 110,
   "id": "78cd6f45-7303-45f7-a644-14ba65ea9748",
   "metadata": {},
   "outputs": [],
   "source": [
    "expr = 2 * (x**2-x)-x*(x+1)"
   ]
  },
  {
   "cell_type": "code",
   "execution_count": 112,
   "id": "9a992967-98bd-4e7e-8be4-416f65b1e2ab",
   "metadata": {},
   "outputs": [
    {
     "data": {
      "text/latex": [
       "$\\displaystyle 2 x^{2} - x \\left(x + 1\\right) - 2 x$"
      ],
      "text/plain": [
       "2*x**2 - x*(x + 1) - 2*x"
      ]
     },
     "execution_count": 112,
     "metadata": {},
     "output_type": "execute_result"
    }
   ],
   "source": [
    "expr"
   ]
  },
  {
   "cell_type": "code",
   "execution_count": 114,
   "id": "539e46da-3b68-489c-a767-ba1317918aca",
   "metadata": {},
   "outputs": [
    {
     "data": {
      "text/latex": [
       "$\\displaystyle x \\left(x - 3\\right)$"
      ],
      "text/plain": [
       "x*(x - 3)"
      ]
     },
     "execution_count": 114,
     "metadata": {},
     "output_type": "execute_result"
    }
   ],
   "source": [
    "sympy.simplify(expr)"
   ]
  },
  {
   "cell_type": "code",
   "execution_count": 116,
   "id": "a29ff878-3d79-4db5-8922-9f05b6a2081f",
   "metadata": {},
   "outputs": [
    {
     "data": {
      "text/latex": [
       "$\\displaystyle x \\left(x - 3\\right)$"
      ],
      "text/plain": [
       "x*(x - 3)"
      ]
     },
     "execution_count": 116,
     "metadata": {},
     "output_type": "execute_result"
    }
   ],
   "source": [
    "expr.simplify()"
   ]
  },
  {
   "cell_type": "code",
   "execution_count": 118,
   "id": "c9c02273-5cd9-4bf5-aa85-8bfe0b274931",
   "metadata": {},
   "outputs": [],
   "source": [
    "expr = 2 * sympy.cos(x)*sympy.sin(x)"
   ]
  },
  {
   "cell_type": "code",
   "execution_count": 120,
   "id": "7b6878ae-2b4f-4c3d-a4f3-1cc0530905db",
   "metadata": {},
   "outputs": [
    {
     "data": {
      "text/latex": [
       "$\\displaystyle 2 \\sin{\\left(x \\right)} \\cos{\\left(x \\right)}$"
      ],
      "text/plain": [
       "2*sin(x)*cos(x)"
      ]
     },
     "execution_count": 120,
     "metadata": {},
     "output_type": "execute_result"
    }
   ],
   "source": [
    "expr"
   ]
  },
  {
   "cell_type": "code",
   "execution_count": 122,
   "id": "be9e6750-2268-44a5-bbd1-2226cac543b9",
   "metadata": {},
   "outputs": [
    {
     "data": {
      "text/latex": [
       "$\\displaystyle \\sin{\\left(2 x \\right)}$"
      ],
      "text/plain": [
       "sin(2*x)"
      ]
     },
     "execution_count": 122,
     "metadata": {},
     "output_type": "execute_result"
    }
   ],
   "source": [
    "expr.simplify()"
   ]
  },
  {
   "cell_type": "code",
   "execution_count": 124,
   "id": "f0eaf2d2-8c7a-44f5-b8cc-6dda2203b5c1",
   "metadata": {},
   "outputs": [],
   "source": [
    "expr = sympy.exp(x)*sympy.exp(y)"
   ]
  },
  {
   "cell_type": "code",
   "execution_count": 126,
   "id": "76c52080-6d56-4cc4-be8e-d530194e334e",
   "metadata": {},
   "outputs": [
    {
     "data": {
      "text/latex": [
       "$\\displaystyle e^{x} e^{y}$"
      ],
      "text/plain": [
       "exp(x)*exp(y)"
      ]
     },
     "execution_count": 126,
     "metadata": {},
     "output_type": "execute_result"
    }
   ],
   "source": [
    "expr"
   ]
  },
  {
   "cell_type": "code",
   "execution_count": 128,
   "id": "7509c19e-58d9-4127-95f1-85c49e91127b",
   "metadata": {},
   "outputs": [
    {
     "data": {
      "text/latex": [
       "$\\displaystyle e^{x + y}$"
      ],
      "text/plain": [
       "exp(x + y)"
      ]
     },
     "execution_count": 128,
     "metadata": {},
     "output_type": "execute_result"
    }
   ],
   "source": [
    "expr.simplify()"
   ]
  },
  {
   "cell_type": "code",
   "execution_count": 130,
   "id": "0471e853-d41f-44f4-932d-8a0563f2b26e",
   "metadata": {},
   "outputs": [],
   "source": [
    "# Some of inbuilt functions : sympy.simplify | sympy.trigsimp | sympy.powsimp | sympy.compsimp | sympy.ratsimp"
   ]
  },
  {
   "cell_type": "code",
   "execution_count": 132,
   "id": "0f705739-786c-4488-b032-80820983975a",
   "metadata": {},
   "outputs": [],
   "source": [
    "# Expand"
   ]
  },
  {
   "cell_type": "code",
   "execution_count": 134,
   "id": "bc5b3911-f5d7-40f8-a0b8-f8f00099b39d",
   "metadata": {},
   "outputs": [],
   "source": [
    "expr = (1+x)*(x+2)"
   ]
  },
  {
   "cell_type": "code",
   "execution_count": 136,
   "id": "a3213712-ff51-4795-b51a-1a9c18bb485c",
   "metadata": {},
   "outputs": [
    {
     "data": {
      "text/latex": [
       "$\\displaystyle \\left(x + 1\\right) \\left(x + 2\\right)$"
      ],
      "text/plain": [
       "(x + 1)*(x + 2)"
      ]
     },
     "execution_count": 136,
     "metadata": {},
     "output_type": "execute_result"
    }
   ],
   "source": [
    "expr"
   ]
  },
  {
   "cell_type": "code",
   "execution_count": 138,
   "id": "c0d20734-4efe-434f-944f-39daefc9262a",
   "metadata": {},
   "outputs": [
    {
     "data": {
      "text/latex": [
       "$\\displaystyle x^{2} + 3 x + 2$"
      ],
      "text/plain": [
       "x**2 + 3*x + 2"
      ]
     },
     "execution_count": 138,
     "metadata": {},
     "output_type": "execute_result"
    }
   ],
   "source": [
    "expr.expand()"
   ]
  },
  {
   "cell_type": "code",
   "execution_count": 140,
   "id": "782fdf8e-b207-4be1-83d0-8da5e80c5cae",
   "metadata": {},
   "outputs": [
    {
     "data": {
      "text/latex": [
       "$\\displaystyle \\sin{\\left(x + y \\right)}$"
      ],
      "text/plain": [
       "sin(x + y)"
      ]
     },
     "execution_count": 140,
     "metadata": {},
     "output_type": "execute_result"
    }
   ],
   "source": [
    "sympy.sin(x+y).expand()"
   ]
  },
  {
   "cell_type": "code",
   "execution_count": 142,
   "id": "e20f6be9-2006-4c32-a544-a345f67492b9",
   "metadata": {},
   "outputs": [
    {
     "data": {
      "text/latex": [
       "$\\displaystyle \\sin{\\left(x \\right)} \\cos{\\left(y \\right)} + \\sin{\\left(y \\right)} \\cos{\\left(x \\right)}$"
      ],
      "text/plain": [
       "sin(x)*cos(y) + sin(y)*cos(x)"
      ]
     },
     "execution_count": 142,
     "metadata": {},
     "output_type": "execute_result"
    }
   ],
   "source": [
    "sympy.sin(x+y).expand(trig=True)"
   ]
  },
  {
   "cell_type": "code",
   "execution_count": 146,
   "id": "74c0fc30-8640-498e-8ed7-95567c3dd5ad",
   "metadata": {},
   "outputs": [
    {
     "data": {
      "text/latex": [
       "$\\displaystyle \\log{\\left(a \\right)} + \\log{\\left(b \\right)}$"
      ],
      "text/plain": [
       "log(a) + log(b)"
      ]
     },
     "execution_count": 146,
     "metadata": {},
     "output_type": "execute_result"
    }
   ],
   "source": [
    "a,b = sympy.symbols(\"a,b\",positive = True)\n",
    "sympy.log(a*b).expand(log = True)"
   ]
  },
  {
   "cell_type": "code",
   "execution_count": 150,
   "id": "761efdb7-0e55-4626-a131-75a7f2c869b0",
   "metadata": {},
   "outputs": [
    {
     "data": {
      "text/latex": [
       "$\\displaystyle i e^{b} \\sin{\\left(a \\right)} + e^{b} \\cos{\\left(a \\right)}$"
      ],
      "text/plain": [
       "I*exp(b)*sin(a) + exp(b)*cos(a)"
      ]
     },
     "execution_count": 150,
     "metadata": {},
     "output_type": "execute_result"
    }
   ],
   "source": [
    "sympy.exp(sympy.I*a+b).expand(complex = True)"
   ]
  },
  {
   "cell_type": "code",
   "execution_count": 152,
   "id": "f9e88595-e74d-4c8b-9190-eac030f0548e",
   "metadata": {},
   "outputs": [
    {
     "data": {
      "text/latex": [
       "$\\displaystyle a^{x} b^{x}$"
      ],
      "text/plain": [
       "a**x*b**x"
      ]
     },
     "execution_count": 152,
     "metadata": {},
     "output_type": "execute_result"
    }
   ],
   "source": [
    "sympy.expand((a*b)**x,power_base=True)"
   ]
  },
  {
   "cell_type": "code",
   "execution_count": 154,
   "id": "92d6e82b-4067-438c-95e5-a94bff52abd2",
   "metadata": {},
   "outputs": [
    {
     "data": {
      "text/latex": [
       "$\\displaystyle e^{a x} e^{- b x}$"
      ],
      "text/plain": [
       "exp(a*x)*exp(-b*x)"
      ]
     },
     "execution_count": 154,
     "metadata": {},
     "output_type": "execute_result"
    }
   ],
   "source": [
    "sympy.exp((a-b)*x).expand(power_exp=True)"
   ]
  },
  {
   "cell_type": "code",
   "execution_count": 156,
   "id": "c20c113c-2125-4627-a433-6ea789d845b4",
   "metadata": {},
   "outputs": [],
   "source": [
    "# Factor Collect & Combine"
   ]
  },
  {
   "cell_type": "code",
   "execution_count": 158,
   "id": "5cb17e93-316a-4f3c-b2d9-c70486b558cf",
   "metadata": {},
   "outputs": [
    {
     "data": {
      "text/latex": [
       "$\\displaystyle \\left(x - 1\\right) \\left(x + 1\\right)$"
      ],
      "text/plain": [
       "(x - 1)*(x + 1)"
      ]
     },
     "execution_count": 158,
     "metadata": {},
     "output_type": "execute_result"
    }
   ],
   "source": [
    "sympy.factor(x**2-1)"
   ]
  },
  {
   "cell_type": "code",
   "execution_count": 160,
   "id": "42eeb086-1a31-4d4a-a679-e38c827ab1b4",
   "metadata": {},
   "outputs": [
    {
     "data": {
      "text/latex": [
       "$\\displaystyle x \\left(\\sin{\\left(z \\right)} + \\cos{\\left(y \\right)}\\right)$"
      ],
      "text/plain": [
       "x*(sin(z) + cos(y))"
      ]
     },
     "execution_count": 160,
     "metadata": {},
     "output_type": "execute_result"
    }
   ],
   "source": [
    "sympy.factor(x*sympy.cos(y) + sympy.sin(z)*x)"
   ]
  },
  {
   "cell_type": "code",
   "execution_count": 162,
   "id": "3eae5d38-f88b-4f06-8ea1-896a1a24a6dc",
   "metadata": {},
   "outputs": [
    {
     "data": {
      "text/latex": [
       "$\\displaystyle \\log{\\left(\\frac{a}{b} \\right)}$"
      ],
      "text/plain": [
       "log(a/b)"
      ]
     },
     "execution_count": 162,
     "metadata": {},
     "output_type": "execute_result"
    }
   ],
   "source": [
    "sympy.logcombine(sympy.log(a)-sympy.log(b))"
   ]
  },
  {
   "cell_type": "code",
   "execution_count": 164,
   "id": "09d0c942-64de-44e3-85e7-5d20291eecc2",
   "metadata": {},
   "outputs": [
    {
     "data": {
      "text/latex": [
       "$\\displaystyle x \\left(y z + 1\\right) + y$"
      ],
      "text/plain": [
       "x*(y*z + 1) + y"
      ]
     },
     "execution_count": 164,
     "metadata": {},
     "output_type": "execute_result"
    }
   ],
   "source": [
    "expr = x+y+x*y*z\n",
    "expr.collect(x)"
   ]
  },
  {
   "cell_type": "code",
   "execution_count": 166,
   "id": "e90c8b5b-2d38-4c1d-ade7-e8697895d776",
   "metadata": {},
   "outputs": [
    {
     "data": {
      "text/latex": [
       "$\\displaystyle x + y \\left(x z + 1\\right)$"
      ],
      "text/plain": [
       "x + y*(x*z + 1)"
      ]
     },
     "execution_count": 166,
     "metadata": {},
     "output_type": "execute_result"
    }
   ],
   "source": [
    "expr.collect(y)"
   ]
  },
  {
   "cell_type": "code",
   "execution_count": 170,
   "id": "695f267f-1e71-4896-96c9-056f38b7ed4e",
   "metadata": {},
   "outputs": [],
   "source": [
    "# Apart, Together & Cancel"
   ]
  },
  {
   "cell_type": "code",
   "execution_count": 172,
   "id": "2ee3977e-68af-42dc-8190-4448a13cd236",
   "metadata": {},
   "outputs": [
    {
     "data": {
      "text/latex": [
       "$\\displaystyle - \\frac{1}{x + 2} + \\frac{1}{x + 1}$"
      ],
      "text/plain": [
       "-1/(x + 2) + 1/(x + 1)"
      ]
     },
     "execution_count": 172,
     "metadata": {},
     "output_type": "execute_result"
    }
   ],
   "source": [
    "sympy.apart(1/(x**2+3*x+2),x)"
   ]
  },
  {
   "cell_type": "code",
   "execution_count": 174,
   "id": "b65947fe-193f-4194-8877-3fc0279b3ee6",
   "metadata": {},
   "outputs": [
    {
     "data": {
      "text/latex": [
       "$\\displaystyle \\frac{y + 1}{y \\left(x + 1\\right)}$"
      ],
      "text/plain": [
       "(y + 1)/(y*(x + 1))"
      ]
     },
     "execution_count": 174,
     "metadata": {},
     "output_type": "execute_result"
    }
   ],
   "source": [
    "sympy.together(1/(y*x+y) + 1/(1+x))"
   ]
  },
  {
   "cell_type": "code",
   "execution_count": 176,
   "id": "a8ebd181-7859-4c08-8546-4be47d2f66d4",
   "metadata": {},
   "outputs": [
    {
     "data": {
      "text/latex": [
       "$\\displaystyle \\frac{1}{x + 1}$"
      ],
      "text/plain": [
       "1/(x + 1)"
      ]
     },
     "execution_count": 176,
     "metadata": {},
     "output_type": "execute_result"
    }
   ],
   "source": [
    "sympy.cancel(y/(y*x+y))"
   ]
  },
  {
   "cell_type": "code",
   "execution_count": 178,
   "id": "c7009930-2219-4388-9517-fe5aac77feee",
   "metadata": {},
   "outputs": [],
   "source": [
    "# Substitution"
   ]
  },
  {
   "cell_type": "code",
   "execution_count": 182,
   "id": "771d43e2-5de0-4642-8a11-a89725880ba5",
   "metadata": {},
   "outputs": [
    {
     "data": {
      "text/latex": [
       "$\\displaystyle 2 y$"
      ],
      "text/plain": [
       "2*y"
      ]
     },
     "execution_count": 182,
     "metadata": {},
     "output_type": "execute_result"
    }
   ],
   "source": [
    "(x+y).subs(x,y)"
   ]
  },
  {
   "cell_type": "code",
   "execution_count": 186,
   "id": "b9f64fe4-4fb5-4218-a96a-927d6b2c8e05",
   "metadata": {},
   "outputs": [
    {
     "data": {
      "text/latex": [
       "$\\displaystyle \\sin{\\left(y e^{y} \\right)}$"
      ],
      "text/plain": [
       "sin(y*exp(y))"
      ]
     },
     "execution_count": 186,
     "metadata": {},
     "output_type": "execute_result"
    }
   ],
   "source": [
    "sympy.sin(x*sympy.exp(x)).subs(x,y)"
   ]
  },
  {
   "cell_type": "code",
   "execution_count": 188,
   "id": "26c5d565-eeaa-4ea0-9958-e9987ba291da",
   "metadata": {},
   "outputs": [
    {
     "data": {
      "text/latex": [
       "$\\displaystyle \\cos{\\left(y e^{y} \\right)}$"
      ],
      "text/plain": [
       "cos(y*exp(y))"
      ]
     },
     "execution_count": 188,
     "metadata": {},
     "output_type": "execute_result"
    }
   ],
   "source": [
    "sympy.sin(x*z).subs({z:sympy.exp(y),x:y, sympy.sin:sympy.cos})"
   ]
  },
  {
   "cell_type": "code",
   "execution_count": 192,
   "id": "5b184cb6-0055-4ace-8df8-ebf8aff7a475",
   "metadata": {},
   "outputs": [
    {
     "data": {
      "text/latex": [
       "$\\displaystyle 13.3$"
      ],
      "text/plain": [
       "13.3000000000000"
      ]
     },
     "execution_count": 192,
     "metadata": {},
     "output_type": "execute_result"
    }
   ],
   "source": [
    "expr = x*y+z**2 *x\n",
    "values = {x:1.25,y:0.4,z:3.2}\n",
    "expr.subs(values)"
   ]
  },
  {
   "cell_type": "code",
   "execution_count": 194,
   "id": "fcff163a-1788-4067-af8c-74a90e95bd00",
   "metadata": {},
   "outputs": [],
   "source": [
    "# Numerical Evaluation"
   ]
  },
  {
   "cell_type": "code",
   "execution_count": 198,
   "id": "efffc729-3522-4648-ba75-255d63572b83",
   "metadata": {},
   "outputs": [
    {
     "data": {
      "text/latex": [
       "$\\displaystyle 4.14159265358979$"
      ],
      "text/plain": [
       "4.14159265358979"
      ]
     },
     "execution_count": 198,
     "metadata": {},
     "output_type": "execute_result"
    }
   ],
   "source": [
    "sympy.N(1+sympy.pi)"
   ]
  },
  {
   "cell_type": "code",
   "execution_count": 200,
   "id": "391b4041-41d1-4828-bba3-f63c2faecf62",
   "metadata": {},
   "outputs": [
    {
     "data": {
      "text/latex": [
       "$\\displaystyle 3.1415926535897932384626433832795028841971693993751$"
      ],
      "text/plain": [
       "3.1415926535897932384626433832795028841971693993751"
      ]
     },
     "execution_count": 200,
     "metadata": {},
     "output_type": "execute_result"
    }
   ],
   "source": [
    "sympy.N(sympy.pi,50)"
   ]
  },
  {
   "cell_type": "code",
   "execution_count": 202,
   "id": "8a6f8b24-990f-45f2-91d3-4b4e01d2e844",
   "metadata": {},
   "outputs": [
    {
     "data": {
      "text/latex": [
       "$\\displaystyle x + 0.3183098862$"
      ],
      "text/plain": [
       "x + 0.3183098862"
      ]
     },
     "execution_count": 202,
     "metadata": {},
     "output_type": "execute_result"
    }
   ],
   "source": [
    "(x+1/sympy.pi).evalf(10)"
   ]
  },
  {
   "cell_type": "code",
   "execution_count": 206,
   "id": "c3da2208-5979-4ae0-b814-c1e8486b748f",
   "metadata": {},
   "outputs": [],
   "source": [
    "expr = sympy.sin(sympy.pi*x*sympy.exp(x))"
   ]
  },
  {
   "cell_type": "code",
   "execution_count": 208,
   "id": "5c8d4088-78d3-4ed4-ad88-c67cada0f29d",
   "metadata": {},
   "outputs": [
    {
     "data": {
      "text/plain": [
       "[0, 0.774, 0.642, 0.722, 0.944, 0.205, 0.974, 0.977, -0.870, -0.695]"
      ]
     },
     "execution_count": 208,
     "metadata": {},
     "output_type": "execute_result"
    }
   ],
   "source": [
    "[expr.subs(x,xx).evalf(3) for xx in range(0,10)]"
   ]
  },
  {
   "cell_type": "code",
   "execution_count": 210,
   "id": "64620392-17b5-4930-b6d2-fc7789c2ab32",
   "metadata": {},
   "outputs": [],
   "source": [
    "expr_func = sympy.lambdify(x,expr)"
   ]
  },
  {
   "cell_type": "code",
   "execution_count": 214,
   "id": "ea98f381-a0ac-4668-bb98-9a988a2f5805",
   "metadata": {},
   "outputs": [
    {
     "data": {
      "text/plain": [
       "0.773942685266709"
      ]
     },
     "execution_count": 214,
     "metadata": {},
     "output_type": "execute_result"
    }
   ],
   "source": [
    "expr_func(1.0)"
   ]
  },
  {
   "cell_type": "code",
   "execution_count": 216,
   "id": "60e74431-7409-4272-9869-e2ac83d863aa",
   "metadata": {},
   "outputs": [
    {
     "data": {
      "text/plain": [
       "array([ 0.        ,  0.77394269,  0.64198244,  0.72163867,  0.94361635,\n",
       "        0.20523391,  0.97398794,  0.97734066, -0.87034418, -0.69512687])"
      ]
     },
     "execution_count": 216,
     "metadata": {},
     "output_type": "execute_result"
    }
   ],
   "source": [
    "expr_func = sympy.lambdify(x,expr,'numpy')\n",
    "xvalues = np.arange(0,10)\n",
    "expr_func(xvalues)"
   ]
  },
  {
   "cell_type": "code",
   "execution_count": null,
   "id": "7dfb0074-1514-4957-ae07-bb4ef1545429",
   "metadata": {},
   "outputs": [],
   "source": []
  }
 ],
 "metadata": {
  "kernelspec": {
   "display_name": "Python [conda env:base] *",
   "language": "python",
   "name": "conda-base-py"
  },
  "language_info": {
   "codemirror_mode": {
    "name": "ipython",
    "version": 3
   },
   "file_extension": ".py",
   "mimetype": "text/x-python",
   "name": "python",
   "nbconvert_exporter": "python",
   "pygments_lexer": "ipython3",
   "version": "3.10.9"
  }
 },
 "nbformat": 4,
 "nbformat_minor": 5
}
