{
 "cells": [
  {
   "cell_type": "code",
   "execution_count": 1,
   "id": "f6d80f1c-aa87-4302-9cca-c259d23facfe",
   "metadata": {},
   "outputs": [],
   "source": [
    "import numpy as np\n",
    "# multidimensional array"
   ]
  },
  {
   "cell_type": "code",
   "execution_count": 28,
   "id": "016bb26f-2ace-42f7-b9c8-357c9ab731ef",
   "metadata": {},
   "outputs": [
    {
     "name": "stdout",
     "output_type": "stream",
     "text": [
      "[[ 0  1  2  3  4  5]\n",
      " [10 11 12 13 14 15]\n",
      " [20 21 22 23 24 25]\n",
      " [30 31 32 33 34 35]\n",
      " [40 41 42 43 44 45]\n",
      " [50 51 52 53 54 55]]\n"
     ]
    }
   ],
   "source": [
    "f = lambda m,n:n+10*m\n",
    "A = np.fromfunction(f,(6,6),dtype=int)\n",
    "print(A)"
   ]
  },
  {
   "cell_type": "code",
   "execution_count": 30,
   "id": "34696764-20e2-429e-9720-4b9bf6926ddf",
   "metadata": {},
   "outputs": [
    {
     "data": {
      "text/plain": [
       "array([ 1, 11, 21, 31, 41, 51])"
      ]
     },
     "execution_count": 30,
     "metadata": {},
     "output_type": "execute_result"
    }
   ],
   "source": [
    "A[:,1] # Second column"
   ]
  },
  {
   "cell_type": "code",
   "execution_count": 32,
   "id": "855c1a33-c7a5-4348-9543-e2452a395d4e",
   "metadata": {},
   "outputs": [
    {
     "data": {
      "text/plain": [
       "array([10, 11, 12, 13, 14, 15])"
      ]
     },
     "execution_count": 32,
     "metadata": {},
     "output_type": "execute_result"
    }
   ],
   "source": [
    "A[1,:] # Second Row"
   ]
  },
  {
   "cell_type": "code",
   "execution_count": 46,
   "id": "68417c99-0338-4c25-80fa-b148b7a36a4e",
   "metadata": {},
   "outputs": [
    {
     "data": {
      "text/plain": [
       "array([[ 0,  1,  2],\n",
       "       [10, 11, 12],\n",
       "       [20, 21, 22]])"
      ]
     },
     "execution_count": 46,
     "metadata": {},
     "output_type": "execute_result"
    }
   ],
   "source": [
    "A[:3,:3] # slicing the 2 D array into 3 by 3 part (upper left half diagonal block matrix)"
   ]
  },
  {
   "cell_type": "code",
   "execution_count": 48,
   "id": "6b6a85f5-2ddf-46e9-be3f-53259481174c",
   "metadata": {},
   "outputs": [
    {
     "data": {
      "text/plain": [
       "array([[30, 31, 32],\n",
       "       [40, 41, 42],\n",
       "       [50, 51, 52]])"
      ]
     },
     "execution_count": 48,
     "metadata": {},
     "output_type": "execute_result"
    }
   ],
   "source": [
    "A[3:,:3] # slicing the 2 D array into 3 by 3 part (lower left half diagonal block matrix)"
   ]
  },
  {
   "cell_type": "code",
   "execution_count": 50,
   "id": "051dcf6e-786a-4efd-8ec2-d1a99b484a67",
   "metadata": {},
   "outputs": [
    {
     "data": {
      "text/plain": [
       "array([[33, 34, 35],\n",
       "       [43, 44, 45],\n",
       "       [53, 54, 55]])"
      ]
     },
     "execution_count": 50,
     "metadata": {},
     "output_type": "execute_result"
    }
   ],
   "source": [
    "A[3:,3:] # lower right diagonal"
   ]
  },
  {
   "cell_type": "code",
   "execution_count": 52,
   "id": "1fa9b39b-2631-46a1-85c5-608d873660ac",
   "metadata": {},
   "outputs": [
    {
     "data": {
      "text/plain": [
       "array([[ 3,  4,  5],\n",
       "       [13, 14, 15],\n",
       "       [23, 24, 25]])"
      ]
     },
     "execution_count": 52,
     "metadata": {},
     "output_type": "execute_result"
    }
   ],
   "source": [
    "A[:3,3:] # upper right diagonal"
   ]
  },
  {
   "cell_type": "code",
   "execution_count": 54,
   "id": "9cec5372-edbf-4081-884a-c1b252abc36f",
   "metadata": {},
   "outputs": [
    {
     "data": {
      "text/plain": [
       "array([[ 0,  2,  4],\n",
       "       [20, 22, 24],\n",
       "       [40, 42, 44]])"
      ]
     },
     "execution_count": 54,
     "metadata": {},
     "output_type": "execute_result"
    }
   ],
   "source": [
    "A[::2,::2] # every seond element starting from 0,0"
   ]
  },
  {
   "cell_type": "code",
   "execution_count": 58,
   "id": "3467b6a5-4fe3-43a0-b614-80734097470e",
   "metadata": {},
   "outputs": [
    {
     "data": {
      "text/plain": [
       "array([[11, 14],\n",
       "       [31, 34],\n",
       "       [51, 54]])"
      ]
     },
     "execution_count": 58,
     "metadata": {},
     "output_type": "execute_result"
    }
   ],
   "source": [
    "A[1::2,1::3] # every second and third element starting from 1,1"
   ]
  },
  {
   "cell_type": "code",
   "execution_count": 60,
   "id": "9f82a01e-2307-4909-9c1a-4a0cc2b19e2d",
   "metadata": {},
   "outputs": [],
   "source": [
    "# Views"
   ]
  },
  {
   "cell_type": "code",
   "execution_count": 89,
   "id": "62ea5d63-04c3-4181-9d35-f5713c9b58f7",
   "metadata": {},
   "outputs": [],
   "source": [
    "B = A[1:5,1:5] # shallow copy when A changes B changes as well and vice versa , as the values are not copied but referenced. Both A and B share the same set of values."
   ]
  },
  {
   "cell_type": "code",
   "execution_count": 91,
   "id": "851f2140-f305-4da1-834a-b3a4f5c50b4c",
   "metadata": {},
   "outputs": [
    {
     "data": {
      "text/plain": [
       "array([[0, 0, 0, 0],\n",
       "       [0, 0, 0, 0],\n",
       "       [0, 0, 0, 0],\n",
       "       [0, 0, 0, 0]])"
      ]
     },
     "execution_count": 91,
     "metadata": {},
     "output_type": "execute_result"
    }
   ],
   "source": [
    "B"
   ]
  },
  {
   "cell_type": "code",
   "execution_count": 93,
   "id": "959621cc-fb34-4fae-9315-9f5af20abcf6",
   "metadata": {},
   "outputs": [],
   "source": [
    "B[:,:] = 0"
   ]
  },
  {
   "cell_type": "code",
   "execution_count": 95,
   "id": "14097bff-d9d8-4a1b-9bdf-9694935ed696",
   "metadata": {},
   "outputs": [
    {
     "data": {
      "text/plain": [
       "array([[ 0,  1,  2,  3,  4,  5],\n",
       "       [10,  0,  0,  0,  0, 15],\n",
       "       [20,  0,  0,  0,  0, 25],\n",
       "       [30,  0,  0,  0,  0, 35],\n",
       "       [40,  0,  0,  0,  0, 45],\n",
       "       [50, 51, 52, 53, 54, 55]])"
      ]
     },
     "execution_count": 95,
     "metadata": {},
     "output_type": "execute_result"
    }
   ],
   "source": [
    "A"
   ]
  },
  {
   "cell_type": "code",
   "execution_count": 97,
   "id": "424872f2-cae7-4dc6-8d32-9ce0294f6c2d",
   "metadata": {},
   "outputs": [],
   "source": [
    "C = B[1:3,1:3].copy() # Deep copying when B changes C will not be affected as we have duplicate values. Both C and B will npt share same reference."
   ]
  },
  {
   "cell_type": "code",
   "execution_count": 99,
   "id": "44c8748a-a64d-48b0-8bf4-610943700f0e",
   "metadata": {},
   "outputs": [
    {
     "data": {
      "text/plain": [
       "array([[0, 0],\n",
       "       [0, 0]])"
      ]
     },
     "execution_count": 99,
     "metadata": {},
     "output_type": "execute_result"
    }
   ],
   "source": [
    "C"
   ]
  },
  {
   "cell_type": "code",
   "execution_count": 101,
   "id": "73c12ae7-5eff-4cd9-a90c-c6a1b15cc659",
   "metadata": {},
   "outputs": [],
   "source": [
    "C[:,:] = 1"
   ]
  },
  {
   "cell_type": "code",
   "execution_count": 103,
   "id": "acc42d07-7646-488d-825b-10a9578fe47e",
   "metadata": {},
   "outputs": [
    {
     "data": {
      "text/plain": [
       "array([[1, 1],\n",
       "       [1, 1]])"
      ]
     },
     "execution_count": 103,
     "metadata": {},
     "output_type": "execute_result"
    }
   ],
   "source": [
    "C"
   ]
  },
  {
   "cell_type": "code",
   "execution_count": 87,
   "id": "a417aadd-1a7b-4bf9-b492-111a3a7f7844",
   "metadata": {},
   "outputs": [
    {
     "data": {
      "text/plain": [
       "array([[0, 0, 0, 0],\n",
       "       [0, 0, 0, 0],\n",
       "       [0, 0, 0, 0],\n",
       "       [0, 0, 0, 0]])"
      ]
     },
     "execution_count": 87,
     "metadata": {},
     "output_type": "execute_result"
    }
   ],
   "source": [
    "B"
   ]
  }
 ],
 "metadata": {
  "kernelspec": {
   "display_name": "Python [conda env:base] *",
   "language": "python",
   "name": "conda-base-py"
  },
  "language_info": {
   "codemirror_mode": {
    "name": "ipython",
    "version": 3
   },
   "file_extension": ".py",
   "mimetype": "text/x-python",
   "name": "python",
   "nbconvert_exporter": "python",
   "pygments_lexer": "ipython3",
   "version": "3.10.9"
  }
 },
 "nbformat": 4,
 "nbformat_minor": 5
}
