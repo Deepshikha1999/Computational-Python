{
 "cells": [
  {
   "cell_type": "code",
   "execution_count": 1,
   "id": "807d5c73-0fed-4649-a943-c3094f2ec621",
   "metadata": {},
   "outputs": [],
   "source": [
    "import numpy as np\n",
    "# Set Operations"
   ]
  },
  {
   "cell_type": "code",
   "execution_count": 4,
   "id": "75de6b4e-4003-4b9f-b88d-41d3b5be4064",
   "metadata": {},
   "outputs": [],
   "source": [
    "# Test for existance of an arraty of elements in another array"
   ]
  },
  {
   "cell_type": "code",
   "execution_count": 6,
   "id": "fac529c8-2f75-4cdd-b1e4-b9121f140ac0",
   "metadata": {},
   "outputs": [],
   "source": [
    "a = np.unique([1,2,3,3]) # unique create a new array with unique elements\n",
    "b = np.unique([2,3,4,4,5,6,5])"
   ]
  },
  {
   "cell_type": "code",
   "execution_count": 8,
   "id": "f8aa72d1-7578-475a-b024-65b86430f0cd",
   "metadata": {},
   "outputs": [
    {
     "data": {
      "text/plain": [
       "array([False,  True,  True])"
      ]
     },
     "execution_count": 8,
     "metadata": {},
     "output_type": "execute_result"
    }
   ],
   "source": [
    "np.in1d(a,b)"
   ]
  },
  {
   "cell_type": "code",
   "execution_count": 10,
   "id": "f7cfa5fc-92e6-4c53-a39a-0be212a50697",
   "metadata": {},
   "outputs": [
    {
     "data": {
      "text/plain": [
       "False"
      ]
     },
     "execution_count": 10,
     "metadata": {},
     "output_type": "execute_result"
    }
   ],
   "source": [
    "np.all(np.in1d(a,b))"
   ]
  },
  {
   "cell_type": "code",
   "execution_count": 12,
   "id": "93434b40-bf22-40ee-8ed9-7c0caadba025",
   "metadata": {},
   "outputs": [
    {
     "data": {
      "text/plain": [
       "array([1, 2, 3, 4, 5, 6])"
      ]
     },
     "execution_count": 12,
     "metadata": {},
     "output_type": "execute_result"
    }
   ],
   "source": [
    "np.union1d(a,b)"
   ]
  },
  {
   "cell_type": "code",
   "execution_count": 14,
   "id": "4c124b01-d7f6-4127-9a98-f6f66cafd458",
   "metadata": {},
   "outputs": [
    {
     "data": {
      "text/plain": [
       "array([2, 3])"
      ]
     },
     "execution_count": 14,
     "metadata": {},
     "output_type": "execute_result"
    }
   ],
   "source": [
    "np.intersect1d(a,b)"
   ]
  },
  {
   "cell_type": "code",
   "execution_count": 16,
   "id": "31ee66d5-acdb-4007-b015-57687af9c3a5",
   "metadata": {},
   "outputs": [
    {
     "data": {
      "text/plain": [
       "array([1])"
      ]
     },
     "execution_count": 16,
     "metadata": {},
     "output_type": "execute_result"
    }
   ],
   "source": [
    "np.setdiff1d(a,b)"
   ]
  },
  {
   "cell_type": "code",
   "execution_count": 18,
   "id": "fbc9650d-190c-4cb7-ae5a-fea362621c40",
   "metadata": {},
   "outputs": [
    {
     "data": {
      "text/plain": [
       "array([4, 5, 6])"
      ]
     },
     "execution_count": 18,
     "metadata": {},
     "output_type": "execute_result"
    }
   ],
   "source": [
    "np.setdiff1d(b,a)"
   ]
  },
  {
   "cell_type": "code",
   "execution_count": null,
   "id": "7f7645aa-3ba2-412d-bddf-a661e4f32495",
   "metadata": {},
   "outputs": [],
   "source": []
  }
 ],
 "metadata": {
  "kernelspec": {
   "display_name": "Python [conda env:base] *",
   "language": "python",
   "name": "conda-base-py"
  },
  "language_info": {
   "codemirror_mode": {
    "name": "ipython",
    "version": 3
   },
   "file_extension": ".py",
   "mimetype": "text/x-python",
   "name": "python",
   "nbconvert_exporter": "python",
   "pygments_lexer": "ipython3",
   "version": "3.10.9"
  }
 },
 "nbformat": 4,
 "nbformat_minor": 5
}
