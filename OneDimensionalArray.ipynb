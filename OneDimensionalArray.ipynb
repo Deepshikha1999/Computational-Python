{
 "cells": [
  {
   "cell_type": "code",
   "execution_count": 1,
   "id": "58f4904f-0d98-42c0-821c-e4f58808bf8d",
   "metadata": {},
   "outputs": [],
   "source": [
    "import numpy as np"
   ]
  },
  {
   "cell_type": "code",
   "execution_count": 3,
   "id": "e20b03bf-9c76-4151-ad05-a7e6765d53a3",
   "metadata": {},
   "outputs": [
    {
     "name": "stdout",
     "output_type": "stream",
     "text": [
      "[1 2 3 4 5 6 7 8 9]\n"
     ]
    }
   ],
   "source": [
    "arr = np.array([1,2,3,4,5,6,7,8,9],dtype = np.int64)\n",
    "print(arr)"
   ]
  },
  {
   "cell_type": "code",
   "execution_count": 5,
   "id": "bca27e39-b5f8-43b3-b665-a3c52de0afad",
   "metadata": {},
   "outputs": [
    {
     "name": "stdout",
     "output_type": "stream",
     "text": [
      "5\n"
     ]
    }
   ],
   "source": [
    "print(arr[4])"
   ]
  },
  {
   "cell_type": "code",
   "execution_count": 7,
   "id": "0d413499-4e71-4b24-8e20-42d27bbbd9ae",
   "metadata": {},
   "outputs": [
    {
     "name": "stdout",
     "output_type": "stream",
     "text": [
      "6\n"
     ]
    }
   ],
   "source": [
    "print(arr[-4])"
   ]
  },
  {
   "cell_type": "code",
   "execution_count": 9,
   "id": "f32d5706-c4f1-48c2-96e2-5b39b9de3738",
   "metadata": {},
   "outputs": [
    {
     "name": "stdout",
     "output_type": "stream",
     "text": [
      "[4 5 6 7 8]\n"
     ]
    }
   ],
   "source": [
    "print(arr[3:8])"
   ]
  },
  {
   "cell_type": "code",
   "execution_count": 11,
   "id": "2b33d3be-23d9-4ecb-b1fe-3fea8abd326c",
   "metadata": {},
   "outputs": [
    {
     "name": "stdout",
     "output_type": "stream",
     "text": [
      "[1 2 3 4 5 6 7 8 9]\n"
     ]
    }
   ],
   "source": [
    "print(arr[:])"
   ]
  },
  {
   "cell_type": "code",
   "execution_count": 13,
   "id": "a1b055a7-c74c-4152-a565-486d6dbb3010",
   "metadata": {},
   "outputs": [
    {
     "name": "stdout",
     "output_type": "stream",
     "text": [
      "[1 2 3 4 5 6 7 8]\n"
     ]
    }
   ],
   "source": [
    "print(arr[0:-1])"
   ]
  },
  {
   "cell_type": "code",
   "execution_count": 15,
   "id": "2d081520-6d69-422a-a0c3-946cb2b94c30",
   "metadata": {},
   "outputs": [
    {
     "name": "stdout",
     "output_type": "stream",
     "text": [
      "[]\n"
     ]
    }
   ],
   "source": [
    "print(arr[0:0])"
   ]
  },
  {
   "cell_type": "code",
   "execution_count": 17,
   "id": "af2bae94-9acf-4f49-87da-ec5e4c3cb675",
   "metadata": {},
   "outputs": [
    {
     "name": "stdout",
     "output_type": "stream",
     "text": [
      "[1 2 3 4 5 6]\n"
     ]
    }
   ],
   "source": [
    "print(arr[:6])"
   ]
  },
  {
   "cell_type": "code",
   "execution_count": 19,
   "id": "38821f7d-d6ae-482d-b8b6-b4bd465a8600",
   "metadata": {},
   "outputs": [
    {
     "name": "stdout",
     "output_type": "stream",
     "text": [
      "[4 5 6 7 8]\n"
     ]
    }
   ],
   "source": [
    "print(arr[3:-1])"
   ]
  },
  {
   "cell_type": "code",
   "execution_count": 21,
   "id": "c0bf49ee-c897-4bd8-bc63-b5f273ead851",
   "metadata": {},
   "outputs": [
    {
     "name": "stdout",
     "output_type": "stream",
     "text": [
      "[3 6]\n"
     ]
    }
   ],
   "source": [
    "print(arr[2:8:3])"
   ]
  },
  {
   "cell_type": "code",
   "execution_count": 27,
   "id": "12972eb9-10ca-4f21-8fdd-de07b9a0eaad",
   "metadata": {},
   "outputs": [
    {
     "name": "stdout",
     "output_type": "stream",
     "text": [
      "[9 8 7 6 5 4 3 2 1]\n"
     ]
    }
   ],
   "source": [
    "print(arr[::-1]) # reverse the list"
   ]
  },
  {
   "cell_type": "code",
   "execution_count": 32,
   "id": "d85f3b7c-c873-41db-90d5-2fefca9d5d7e",
   "metadata": {},
   "outputs": [
    {
     "name": "stdout",
     "output_type": "stream",
     "text": [
      "[9 7 5 3 1]\n"
     ]
    }
   ],
   "source": [
    "print(arr[::-2])"
   ]
  },
  {
   "cell_type": "code",
   "execution_count": null,
   "id": "320179ba-c808-4dd6-b59f-b15c0e28427f",
   "metadata": {},
   "outputs": [],
   "source": []
  }
 ],
 "metadata": {
  "kernelspec": {
   "display_name": "Python [conda env:base] *",
   "language": "python",
   "name": "conda-base-py"
  },
  "language_info": {
   "codemirror_mode": {
    "name": "ipython",
    "version": 3
   },
   "file_extension": ".py",
   "mimetype": "text/x-python",
   "name": "python",
   "nbconvert_exporter": "python",
   "pygments_lexer": "ipython3",
   "version": "3.10.9"
  }
 },
 "nbformat": 4,
 "nbformat_minor": 5
}
