{
 "cells": [
  {
   "cell_type": "code",
   "execution_count": 1,
   "id": "fdbdd9ae-9ed8-40dd-9486-37b436bf5ded",
   "metadata": {},
   "outputs": [],
   "source": [
    "import numpy as np"
   ]
  },
  {
   "cell_type": "code",
   "execution_count": 3,
   "id": "77d8e306-c96e-4bf6-8220-3d0bb40ac012",
   "metadata": {},
   "outputs": [],
   "source": [
    "# Arithematic Operations"
   ]
  },
  {
   "cell_type": "code",
   "execution_count": 5,
   "id": "233810e1-2f33-483b-ac99-87457dd3e4bd",
   "metadata": {},
   "outputs": [],
   "source": [
    "# Standardised Arithematci Operations"
   ]
  },
  {
   "cell_type": "code",
   "execution_count": 7,
   "id": "0147f849-8862-4422-89ce-07145f0a9a92",
   "metadata": {},
   "outputs": [],
   "source": [
    "x = np.array([[1,2],[3,4]])"
   ]
  },
  {
   "cell_type": "code",
   "execution_count": 9,
   "id": "ff63effd-e85e-44dd-9964-ae600681a63d",
   "metadata": {},
   "outputs": [],
   "source": [
    "y = np.array([[5,6],[7,8]])"
   ]
  },
  {
   "cell_type": "code",
   "execution_count": 11,
   "id": "136efe10-2d64-40e2-9ce8-1b6a5e409da1",
   "metadata": {},
   "outputs": [
    {
     "data": {
      "text/plain": [
       "array([[ 6,  8],\n",
       "       [10, 12]])"
      ]
     },
     "execution_count": 11,
     "metadata": {},
     "output_type": "execute_result"
    }
   ],
   "source": [
    "# Addition\n",
    "x + y"
   ]
  },
  {
   "cell_type": "code",
   "execution_count": 13,
   "id": "c9fead0d-481e-43c6-ac1d-65137e7da7ff",
   "metadata": {},
   "outputs": [
    {
     "data": {
      "text/plain": [
       "array([[4, 4],\n",
       "       [4, 4]])"
      ]
     },
     "execution_count": 13,
     "metadata": {},
     "output_type": "execute_result"
    }
   ],
   "source": [
    "# Substraction\n",
    "y - x"
   ]
  },
  {
   "cell_type": "code",
   "execution_count": 15,
   "id": "3b0ddd92-17fa-4fab-889d-4f0422620087",
   "metadata": {},
   "outputs": [
    {
     "data": {
      "text/plain": [
       "array([[ 5, 12],\n",
       "       [21, 32]])"
      ]
     },
     "execution_count": 15,
     "metadata": {},
     "output_type": "execute_result"
    }
   ],
   "source": [
    "# Multiplication\n",
    "x * y"
   ]
  },
  {
   "cell_type": "code",
   "execution_count": 17,
   "id": "97f45c2d-c9e7-4a71-ae11-0c12aa8eaccd",
   "metadata": {},
   "outputs": [
    {
     "data": {
      "text/plain": [
       "array([[5.        , 3.        ],\n",
       "       [2.33333333, 2.        ]])"
      ]
     },
     "execution_count": 17,
     "metadata": {},
     "output_type": "execute_result"
    }
   ],
   "source": [
    "# Division\n",
    "y / x"
   ]
  },
  {
   "cell_type": "code",
   "execution_count": 19,
   "id": "5512fa84-1f45-4421-9b1a-ff793e0f8835",
   "metadata": {},
   "outputs": [],
   "source": [
    "# Operations between scalar and arrays"
   ]
  },
  {
   "cell_type": "code",
   "execution_count": 21,
   "id": "fe821257-96f9-482d-96f8-ce9c6e35c4cf",
   "metadata": {},
   "outputs": [
    {
     "data": {
      "text/plain": [
       "array([[2, 4],\n",
       "       [6, 8]])"
      ]
     },
     "execution_count": 21,
     "metadata": {},
     "output_type": "execute_result"
    }
   ],
   "source": [
    "x * 2"
   ]
  },
  {
   "cell_type": "code",
   "execution_count": 23,
   "id": "02ad4f50-41ff-43ae-b18c-2c32ed98a714",
   "metadata": {},
   "outputs": [
    {
     "data": {
      "text/plain": [
       "array([[ 2,  4],\n",
       "       [ 8, 16]])"
      ]
     },
     "execution_count": 23,
     "metadata": {},
     "output_type": "execute_result"
    }
   ],
   "source": [
    "2 ** x"
   ]
  },
  {
   "cell_type": "code",
   "execution_count": 25,
   "id": "c05222bf-72c1-494c-8363-6020017d0074",
   "metadata": {},
   "outputs": [
    {
     "data": {
      "text/plain": [
       "array([[2.5, 3. ],\n",
       "       [3.5, 4. ]])"
      ]
     },
     "execution_count": 25,
     "metadata": {},
     "output_type": "execute_result"
    }
   ],
   "source": [
    "y / 2"
   ]
  },
  {
   "cell_type": "code",
   "execution_count": 27,
   "id": "be5547fa-6998-4ffd-97dc-4e87b573c0a1",
   "metadata": {},
   "outputs": [
    {
     "data": {
      "text/plain": [
       "array([[0.4       , 0.33333333],\n",
       "       [0.28571429, 0.25      ]])"
      ]
     },
     "execution_count": 27,
     "metadata": {},
     "output_type": "execute_result"
    }
   ],
   "source": [
    "2 / y"
   ]
  },
  {
   "cell_type": "code",
   "execution_count": 29,
   "id": "9600c9f2-9f73-4114-82f5-3687fb341c1a",
   "metadata": {},
   "outputs": [
    {
     "data": {
      "text/plain": [
       "dtype('float64')"
      ]
     },
     "execution_count": 29,
     "metadata": {},
     "output_type": "execute_result"
    }
   ],
   "source": [
    "(y/2).dtype"
   ]
  },
  {
   "cell_type": "code",
   "execution_count": 33,
   "id": "18fe51ac-9491-4452-81c0-3fc05f120805",
   "metadata": {},
   "outputs": [
    {
     "data": {
      "text/plain": [
       "'\\n---------------------------------------------------------------------------\\nValueError                                Traceback (most recent call last)\\nCell In[31], line 4\\n      2 x = np.array([1,2,3,4]).reshape(2,2)\\n      3 z = np.array([1,2,3,4])\\n----> 4 print(x/z)\\n\\nValueError: operands could not be broadcast together with shapes (2,2) (4,) \\n'"
      ]
     },
     "execution_count": 33,
     "metadata": {},
     "output_type": "execute_result"
    }
   ],
   "source": [
    "# Error Scenario\n",
    "# x = np.array([1,2,3,4]).reshape(2,2)\n",
    "# z = np.array([1,2,3,4])\n",
    "# print(x/z)\n",
    "'''\n",
    "---------------------------------------------------------------------------\n",
    "ValueError                                Traceback (most recent call last)\n",
    "Cell In[31], line 4\n",
    "      2 x = np.array([1,2,3,4]).reshape(2,2)\n",
    "      3 z = np.array([1,2,3,4])\n",
    "----> 4 print(x/z)\n",
    "\n",
    "ValueError: operands could not be broadcast together with shapes (2,2) (4,) \n",
    "'''"
   ]
  },
  {
   "cell_type": "code",
   "execution_count": 35,
   "id": "e7d9390e-915f-4854-8e7e-03e24d35d21b",
   "metadata": {},
   "outputs": [],
   "source": [
    "# Reshaping the array to broadcast together with other arrays"
   ]
  },
  {
   "cell_type": "code",
   "execution_count": 53,
   "id": "cdecc293-64f4-4441-956a-4816dc783373",
   "metadata": {},
   "outputs": [],
   "source": [
    "# operating 2X2 with 1X2\n",
    "z = np.array([[2,4]])"
   ]
  },
  {
   "cell_type": "code",
   "execution_count": 55,
   "id": "ca17f79c-5b82-440b-97f2-c598dcf4a155",
   "metadata": {},
   "outputs": [
    {
     "data": {
      "text/plain": [
       "(1, 2)"
      ]
     },
     "execution_count": 55,
     "metadata": {},
     "output_type": "execute_result"
    }
   ],
   "source": [
    "z.shape"
   ]
  },
  {
   "cell_type": "code",
   "execution_count": 57,
   "id": "6380015c-d03e-4ce8-81ab-2b9ed53a5575",
   "metadata": {},
   "outputs": [
    {
     "data": {
      "text/plain": [
       "array([[0.5, 0.5],\n",
       "       [1.5, 1. ]])"
      ]
     },
     "execution_count": 57,
     "metadata": {},
     "output_type": "execute_result"
    }
   ],
   "source": [
    "x/z # Dividing the x by z means diving x by zz that is constructed by repeating the row vector z to obtain array zz that has same dimension as x"
   ]
  },
  {
   "cell_type": "code",
   "execution_count": 59,
   "id": "f43da9b1-a9f7-4a9a-a999-4c5d824e6246",
   "metadata": {},
   "outputs": [],
   "source": [
    "zz = np.concatenate([z,z],axis=0)"
   ]
  },
  {
   "cell_type": "code",
   "execution_count": 61,
   "id": "3025ad1e-de37-4518-b332-24b24af85925",
   "metadata": {},
   "outputs": [
    {
     "data": {
      "text/plain": [
       "array([[2, 4],\n",
       "       [2, 4]])"
      ]
     },
     "execution_count": 61,
     "metadata": {},
     "output_type": "execute_result"
    }
   ],
   "source": [
    "zz"
   ]
  },
  {
   "cell_type": "code",
   "execution_count": 63,
   "id": "5b9fd663-204e-4942-bc67-02f003c19d47",
   "metadata": {},
   "outputs": [
    {
     "data": {
      "text/plain": [
       "array([[0.5, 0.5],\n",
       "       [1.5, 1. ]])"
      ]
     },
     "execution_count": 63,
     "metadata": {},
     "output_type": "execute_result"
    }
   ],
   "source": [
    "x/zz"
   ]
  },
  {
   "cell_type": "code",
   "execution_count": 65,
   "id": "90c3c4e5-6b75-44c8-8f2c-dda577d8b442",
   "metadata": {},
   "outputs": [],
   "source": [
    "# Operating 2X2 with 2X1"
   ]
  },
  {
   "cell_type": "code",
   "execution_count": 67,
   "id": "33940be2-38d4-4305-8159-562f5c9c5a33",
   "metadata": {},
   "outputs": [],
   "source": [
    "z = np.array([[2],[4]])"
   ]
  },
  {
   "cell_type": "code",
   "execution_count": 69,
   "id": "278cc85c-b6f5-47e3-bc72-9690d9145e41",
   "metadata": {},
   "outputs": [
    {
     "data": {
      "text/plain": [
       "array([[2],\n",
       "       [4]])"
      ]
     },
     "execution_count": 69,
     "metadata": {},
     "output_type": "execute_result"
    }
   ],
   "source": [
    "z"
   ]
  },
  {
   "cell_type": "code",
   "execution_count": 71,
   "id": "fa9e74ea-6ce4-4f74-98a1-dd4da6eff213",
   "metadata": {},
   "outputs": [
    {
     "data": {
      "text/plain": [
       "(2, 1)"
      ]
     },
     "execution_count": 71,
     "metadata": {},
     "output_type": "execute_result"
    }
   ],
   "source": [
    "z.shape"
   ]
  },
  {
   "cell_type": "code",
   "execution_count": 73,
   "id": "4e18daf5-156a-40a4-9d27-406d3db561f3",
   "metadata": {},
   "outputs": [
    {
     "data": {
      "text/plain": [
       "array([[0.5 , 1.  ],\n",
       "       [0.75, 1.  ]])"
      ]
     },
     "execution_count": 73,
     "metadata": {},
     "output_type": "execute_result"
    }
   ],
   "source": [
    "x/z"
   ]
  },
  {
   "cell_type": "code",
   "execution_count": 75,
   "id": "b5a36f25-9a96-40c5-9210-50d43fde8176",
   "metadata": {},
   "outputs": [],
   "source": [
    "zz = np.concatenate([z,z],axis=1)"
   ]
  },
  {
   "cell_type": "code",
   "execution_count": 77,
   "id": "09aa9c1b-efff-44bc-a4f4-771b750525b3",
   "metadata": {},
   "outputs": [
    {
     "data": {
      "text/plain": [
       "array([[2, 2],\n",
       "       [4, 4]])"
      ]
     },
     "execution_count": 77,
     "metadata": {},
     "output_type": "execute_result"
    }
   ],
   "source": [
    "zz"
   ]
  },
  {
   "cell_type": "code",
   "execution_count": 79,
   "id": "dbb0d55a-44fa-483f-852f-956b7eeb7864",
   "metadata": {},
   "outputs": [
    {
     "data": {
      "text/plain": [
       "array([[0.5 , 1.  ],\n",
       "       [0.75, 1.  ]])"
      ]
     },
     "execution_count": 79,
     "metadata": {},
     "output_type": "execute_result"
    }
   ],
   "source": [
    "x/zz"
   ]
  },
  {
   "cell_type": "code",
   "execution_count": 81,
   "id": "722316d5-f2a5-4454-9222-4d4f0e0f3e14",
   "metadata": {},
   "outputs": [],
   "source": [
    "# Using in-built functions for operations"
   ]
  },
  {
   "cell_type": "code",
   "execution_count": 83,
   "id": "08ec5032-3e9d-4ae2-8baa-21589b15afa7",
   "metadata": {},
   "outputs": [],
   "source": [
    "a = np.array([[1,2],[3,4]])"
   ]
  },
  {
   "cell_type": "code",
   "execution_count": 85,
   "id": "7f12c573-110d-44ac-ae00-2d1146e6d5be",
   "metadata": {},
   "outputs": [],
   "source": [
    "b = np.array([[5,6],[7,8]])"
   ]
  },
  {
   "cell_type": "code",
   "execution_count": 87,
   "id": "bceeb2ce-f9c7-483d-a916-58e7fa634dd4",
   "metadata": {},
   "outputs": [
    {
     "data": {
      "text/plain": [
       "array([[ 6,  8],\n",
       "       [10, 12]])"
      ]
     },
     "execution_count": 87,
     "metadata": {},
     "output_type": "execute_result"
    }
   ],
   "source": [
    "np.add(a,b)"
   ]
  },
  {
   "cell_type": "code",
   "execution_count": 89,
   "id": "12682e49-6a81-40a3-8cec-b297279c91c8",
   "metadata": {},
   "outputs": [
    {
     "data": {
      "text/plain": [
       "array([[ 5, 12],\n",
       "       [21, 32]])"
      ]
     },
     "execution_count": 89,
     "metadata": {},
     "output_type": "execute_result"
    }
   ],
   "source": [
    "np.multiply(a,b)"
   ]
  },
  {
   "cell_type": "code",
   "execution_count": 93,
   "id": "085555d8-3e97-4c17-a4bc-5dfdcc72449e",
   "metadata": {},
   "outputs": [
    {
     "data": {
      "text/plain": [
       "array([[-4, -4],\n",
       "       [-4, -4]])"
      ]
     },
     "execution_count": 93,
     "metadata": {},
     "output_type": "execute_result"
    }
   ],
   "source": [
    "np.subtract(a,b)"
   ]
  },
  {
   "cell_type": "code",
   "execution_count": 95,
   "id": "b57038e9-fb9c-47ee-85a0-456ee7c0253f",
   "metadata": {},
   "outputs": [
    {
     "data": {
      "text/plain": [
       "array([[0.2       , 0.33333333],\n",
       "       [0.42857143, 0.5       ]])"
      ]
     },
     "execution_count": 95,
     "metadata": {},
     "output_type": "execute_result"
    }
   ],
   "source": [
    "np.divide(a,b)"
   ]
  },
  {
   "cell_type": "code",
   "execution_count": 97,
   "id": "eeff62c8-9400-4377-a994-c0f1933ec3b9",
   "metadata": {},
   "outputs": [
    {
     "data": {
      "text/plain": [
       "array([[    1,    64],\n",
       "       [ 2187, 65536]])"
      ]
     },
     "execution_count": 97,
     "metadata": {},
     "output_type": "execute_result"
    }
   ],
   "source": [
    "np.power(a,b)"
   ]
  },
  {
   "cell_type": "code",
   "execution_count": 99,
   "id": "ef540a4b-c9e5-4846-aa02-8de011fc85a4",
   "metadata": {},
   "outputs": [],
   "source": [
    "# All the above functions are examples of vectorized operations meaning operations of 2 same size and shape arrays"
   ]
  },
  {
   "cell_type": "code",
   "execution_count": 101,
   "id": "2008a188-2a01-48fe-b1ad-4c605c55e804",
   "metadata": {},
   "outputs": [],
   "source": [
    "# np.vectorize functionality "
   ]
  },
  {
   "cell_type": "code",
   "execution_count": 107,
   "id": "d21b45c3-2dc2-4029-8bd0-dbca84cfe9cc",
   "metadata": {},
   "outputs": [],
   "source": [
    "def heavside(x):\n",
    "    return 1 if x>0 else 0"
   ]
  },
  {
   "cell_type": "code",
   "execution_count": 109,
   "id": "6bd9dd83-f61b-4c7f-897e-7e0a3bb1e989",
   "metadata": {},
   "outputs": [
    {
     "data": {
      "text/plain": [
       "0"
      ]
     },
     "execution_count": 109,
     "metadata": {},
     "output_type": "execute_result"
    }
   ],
   "source": [
    "heavside(-1)"
   ]
  },
  {
   "cell_type": "code",
   "execution_count": 111,
   "id": "54789891-36e3-4f35-b928-bfec56918a53",
   "metadata": {},
   "outputs": [
    {
     "data": {
      "text/plain": [
       "1"
      ]
     },
     "execution_count": 111,
     "metadata": {},
     "output_type": "execute_result"
    }
   ],
   "source": [
    "heavside(1.5)"
   ]
  },
  {
   "cell_type": "code",
   "execution_count": 115,
   "id": "28cbd289-76b0-4624-8404-4762a57ff03c",
   "metadata": {},
   "outputs": [],
   "source": [
    "x = np.linspace(-5,5,11)"
   ]
  },
  {
   "cell_type": "code",
   "execution_count": 117,
   "id": "1cc15c95-1d0a-4992-ba86-adb80929da15",
   "metadata": {},
   "outputs": [
    {
     "data": {
      "text/plain": [
       "array([-5., -4., -3., -2., -1.,  0.,  1.,  2.,  3.,  4.,  5.])"
      ]
     },
     "execution_count": 117,
     "metadata": {},
     "output_type": "execute_result"
    }
   ],
   "source": [
    "x"
   ]
  },
  {
   "cell_type": "code",
   "execution_count": 121,
   "id": "e40f0d86-96a3-45fa-84a5-de7c259824e8",
   "metadata": {},
   "outputs": [
    {
     "data": {
      "text/plain": [
       "'\\n---------------------------------------------------------------------------\\nValueError                                Traceback (most recent call last)\\nCell In[119], line 1\\n----> 1 heavside(x)\\n\\nCell In[107], line 2, in heavside(x)\\n      1 def heavside(x):\\n----> 2     return 1 if x>0 else 0\\n\\nValueError: The truth value of an array with more than one element is ambiguous. Use a.any() or a.all()\\n'"
      ]
     },
     "execution_count": 121,
     "metadata": {},
     "output_type": "execute_result"
    }
   ],
   "source": [
    "# heavside(x)\n",
    "'''\n",
    "---------------------------------------------------------------------------\n",
    "ValueError                                Traceback (most recent call last)\n",
    "Cell In[119], line 1\n",
    "----> 1 heavside(x)\n",
    "\n",
    "Cell In[107], line 2, in heavside(x)\n",
    "      1 def heavside(x):\n",
    "----> 2     return 1 if x>0 else 0\n",
    "\n",
    "ValueError: The truth value of an array with more than one element is ambiguous. Use a.any() or a.all()\n",
    "'''"
   ]
  },
  {
   "cell_type": "code",
   "execution_count": 123,
   "id": "1dca93f3-7ca4-47cc-8410-cfd4e0dd862f",
   "metadata": {},
   "outputs": [],
   "source": [
    "heavside = np.vectorize(heavside)"
   ]
  },
  {
   "cell_type": "code",
   "execution_count": 125,
   "id": "bfd80317-5885-4ca1-accb-3cf9015def0d",
   "metadata": {},
   "outputs": [
    {
     "data": {
      "text/plain": [
       "array([0, 0, 0, 0, 0, 0, 1, 1, 1, 1, 1])"
      ]
     },
     "execution_count": 125,
     "metadata": {},
     "output_type": "execute_result"
    }
   ],
   "source": [
    "heavside(x)"
   ]
  },
  {
   "cell_type": "code",
   "execution_count": 129,
   "id": "91a39329-5d94-4fe3-88ac-f5c18e97afd1",
   "metadata": {},
   "outputs": [],
   "source": [
    "# Aggregate functions"
   ]
  },
  {
   "cell_type": "code",
   "execution_count": 133,
   "id": "63eddbca-fdd7-4792-b828-4e1e0a6b1e0b",
   "metadata": {},
   "outputs": [],
   "source": [
    "data = np.random.normal(size=(15,15))"
   ]
  },
  {
   "cell_type": "code",
   "execution_count": 135,
   "id": "17c37608-f54f-4773-9d28-1b1392671057",
   "metadata": {},
   "outputs": [
    {
     "data": {
      "text/plain": [
       "array([[ 0.3080056 , -0.16322057,  1.50553065,  0.94879182,  1.24342967,\n",
       "        -0.92414972, -0.27278604, -0.51778252,  0.96532089,  0.44145724,\n",
       "         0.88265903, -0.26748321,  0.87049097,  1.85527735,  0.379018  ],\n",
       "       [-0.85148408,  0.40199003, -1.09602854,  1.37089463, -0.83665831,\n",
       "         0.45488754, -0.41944498, -0.87572678, -0.45972793, -1.21006472,\n",
       "         1.02466701,  0.03293164, -0.10202966,  1.49168647,  0.2176014 ],\n",
       "       [ 0.36114733,  0.81176996,  1.33035955,  0.88469694,  1.27078863,\n",
       "        -0.3873838 , -1.4768714 , -0.30452382, -0.63212231, -0.66546929,\n",
       "         0.28469312,  0.47599137,  1.07118284,  2.25588966,  0.30065757],\n",
       "       [-0.07812408,  1.41034352,  0.27176323,  1.63551412, -0.95370939,\n",
       "        -1.0538337 ,  0.86214241,  0.35407003, -0.2574466 , -0.84830878,\n",
       "        -1.29287446,  0.34013209, -0.63780669,  0.06282088, -0.35188675],\n",
       "       [-1.47247475,  1.57548086, -0.66634825, -0.38273497, -0.74483988,\n",
       "        -0.09832813,  0.03370632, -2.14088117,  0.44141872, -1.18919318,\n",
       "        -1.21714488, -0.4641407 , -1.92200528, -1.18682464, -0.14879599],\n",
       "       [ 0.77319276, -0.27710677, -0.07660254, -0.48224434,  0.42774099,\n",
       "         1.34399418, -0.00800521,  0.37353694,  0.78623118, -0.05906963,\n",
       "        -0.16829684,  1.68729208,  0.64760948,  0.26595671, -0.61019813],\n",
       "       [ 0.16951679,  0.73986475, -1.26291942, -1.32478549,  1.84994844,\n",
       "         0.18430044,  1.23561853,  0.0567404 ,  1.05749995, -0.68526648,\n",
       "        -0.13538681,  0.03091629, -0.19378572,  0.18102061, -0.21471677],\n",
       "       [-0.57435145, -1.4193016 , -1.68728226, -3.03534656,  1.25943126,\n",
       "        -1.02135575,  0.56099826,  0.64635087,  1.43978937, -0.9966606 ,\n",
       "        -0.03482385, -1.41459112,  0.96889486,  0.19361143,  0.68018916],\n",
       "       [-1.11923851, -1.17210588, -0.00727663, -0.72512322,  1.17682174,\n",
       "        -2.43846176, -0.97866844,  0.54394479, -1.67786698,  0.58985324,\n",
       "         0.08026431,  0.80346084, -0.86186741,  1.90985546, -0.65892033],\n",
       "       [ 1.3210566 , -0.64042796, -0.28985926, -0.34516312, -0.86838388,\n",
       "         1.13348212, -0.5707521 ,  3.29905225, -0.40958536,  0.11739299,\n",
       "         0.69460059, -0.00616499,  1.23020107, -0.05189237,  1.05430365],\n",
       "       [ 1.05668353,  0.78010613,  2.03858904, -0.76784539, -0.04521803,\n",
       "         1.75760924, -1.28647871, -1.0046295 , -0.95114278, -0.81757848,\n",
       "         1.96686752,  0.22602661,  2.23530403,  1.86720377, -0.78468924],\n",
       "       [ 0.64420583,  0.77109421, -1.37284692, -0.36874546,  0.36299956,\n",
       "         1.38649801,  0.57278596, -0.72622699, -0.86763744,  0.2928985 ,\n",
       "        -0.91477385,  1.56210424, -0.47732285,  0.11728753,  0.29242644],\n",
       "       [-1.36163128, -2.02967949, -0.74645303,  1.8443691 , -0.78774319,\n",
       "         0.69262703, -1.31313722, -0.76872671,  0.64568191, -0.51904965,\n",
       "         0.79385038,  0.80227937, -0.38595468, -1.42013519, -0.84949322],\n",
       "       [ 0.06576759,  0.56912576, -1.30085743, -0.27325496,  1.720329  ,\n",
       "        -0.96380809, -1.63831839, -0.42820422, -0.96412843,  0.9250256 ,\n",
       "        -0.09649223, -0.32813871, -0.92132252, -0.0150493 , -1.80362325],\n",
       "       [ 0.29295927,  0.99736408,  0.00989905,  1.93640755, -0.67241089,\n",
       "         1.32754078,  0.20237621, -0.33329912, -0.81330436, -0.07108526,\n",
       "        -0.63366792, -0.50987651, -0.67006071, -0.96124487, -0.32029396]])"
      ]
     },
     "execution_count": 135,
     "metadata": {},
     "output_type": "execute_result"
    }
   ],
   "source": [
    "data"
   ]
  },
  {
   "cell_type": "code",
   "execution_count": 137,
   "id": "709969cf-8582-4d24-ace5-adf07be00085",
   "metadata": {},
   "outputs": [
    {
     "data": {
      "text/plain": [
       "0.005955295000047961"
      ]
     },
     "execution_count": 137,
     "metadata": {},
     "output_type": "execute_result"
    }
   ],
   "source": [
    "np.mean(data)"
   ]
  },
  {
   "cell_type": "code",
   "execution_count": 139,
   "id": "602a4695-8983-495d-b639-a6c52b4bcdd8",
   "metadata": {},
   "outputs": [
    {
     "data": {
      "text/plain": [
       "0.005955295000047961"
      ]
     },
     "execution_count": 139,
     "metadata": {},
     "output_type": "execute_result"
    }
   ],
   "source": [
    "data.mean()"
   ]
  },
  {
   "cell_type": "code",
   "execution_count": 141,
   "id": "9235d876-cd70-4861-83be-36a3570e02c5",
   "metadata": {},
   "outputs": [
    {
     "data": {
      "text/plain": [
       "1.0097902627061535"
      ]
     },
     "execution_count": 141,
     "metadata": {},
     "output_type": "execute_result"
    }
   ],
   "source": [
    "data.std()"
   ]
  },
  {
   "cell_type": "code",
   "execution_count": 143,
   "id": "41ef47b8-3898-455a-a1bf-f74abaf40441",
   "metadata": {},
   "outputs": [
    {
     "data": {
      "text/plain": [
       "1.3399413750107911"
      ]
     },
     "execution_count": 143,
     "metadata": {},
     "output_type": "execute_result"
    }
   ],
   "source": [
    "data.sum()"
   ]
  },
  {
   "cell_type": "code",
   "execution_count": 145,
   "id": "704a195d-08d3-43f7-9326-47992e6892ea",
   "metadata": {},
   "outputs": [
    {
     "data": {
      "text/plain": [
       "array([ 0.3080056 ,  0.14478502,  1.65031568,  2.5991075 ,  3.84253717,\n",
       "        2.91838745,  2.64560141,  2.1278189 ,  3.09313978,  3.53459703,\n",
       "        4.41725606,  4.14977285,  5.02026382,  6.87554117,  7.25455917,\n",
       "        6.40307509,  6.80506512,  5.70903658,  7.07993121,  6.24327291,\n",
       "        6.69816045,  6.27871547,  5.40298869,  4.94326076,  3.73319604,\n",
       "        4.75786305,  4.79079469,  4.68876504,  6.18045151,  6.39805291,\n",
       "        6.75920024,  7.5709702 ,  8.90132975,  9.78602669, 11.05681532,\n",
       "       10.66943153,  9.19256013,  8.88803631,  8.255914  ,  7.59044471,\n",
       "        7.87513783,  8.3511292 ,  9.42231204, 11.6782017 , 11.97885927,\n",
       "       11.90073519, 13.31107872, 13.58284194, 15.21835606, 14.26464667,\n",
       "       13.21081297, 14.07295538, 14.42702541, 14.16957881, 13.32127003,\n",
       "       12.02839557, 12.36852766, 11.73072097, 11.79354185, 11.4416551 ,\n",
       "        9.96918035, 11.54466121, 10.87831296, 10.49557799,  9.75073811,\n",
       "        9.65240998,  9.6861163 ,  7.54523513,  7.98665385,  6.79746067,\n",
       "        5.58031578,  5.11617508,  3.19416981,  2.00734517,  1.85854918,\n",
       "        2.63174195,  2.35463518,  2.27803264,  1.7957883 ,  2.22352928,\n",
       "        3.56752347,  3.55951826,  3.9330552 ,  4.71928638,  4.66021674,\n",
       "        4.49191991,  6.17921199,  6.82682146,  7.09277817,  6.48258004,\n",
       "        6.65209683,  7.39196158,  6.12904216,  4.80425667,  6.65420511,\n",
       "        6.83850554,  8.07412407,  8.13086447,  9.18836442,  8.50309794,\n",
       "        8.36771114,  8.39862743,  8.20484171,  8.38586231,  8.17114554,\n",
       "        7.59679408,  6.17749249,  4.49021023,  1.45486366,  2.71429493,\n",
       "        1.69293918,  2.25393744,  2.90028831,  4.34007768,  3.34341708,\n",
       "        3.30859323,  1.89400211,  2.86289697,  3.0565084 ,  3.73669756,\n",
       "        2.61745905,  1.44535317,  1.43807654,  0.71295332,  1.88977506,\n",
       "       -0.5486867 , -1.52735514, -0.98341035, -2.66127734, -2.07142409,\n",
       "       -1.99115979, -1.18769894, -2.04956636, -0.1397109 , -0.79863123,\n",
       "        0.52242537, -0.11800259, -0.40786185, -0.75302497, -1.62140885,\n",
       "       -0.48792673, -1.05867883,  2.24037341,  1.83078805,  1.94818104,\n",
       "        2.64278163,  2.63661664,  3.86681771,  3.81492534,  4.86922899,\n",
       "        5.92591252,  6.70601866,  8.74460769,  7.9767623 ,  7.93154427,\n",
       "        9.68915351,  8.4026748 ,  7.3980453 ,  6.44690252,  5.62932404,\n",
       "        7.59619157,  7.82221818, 10.05752221, 11.92472598, 11.14003674,\n",
       "       11.78424256, 12.55533677, 11.18248985, 10.81374438, 11.17674394,\n",
       "       12.56324195, 13.13602791, 12.40980091, 11.54216348, 11.83506198,\n",
       "       10.92028813, 12.48239237, 12.00506952, 12.12235705, 12.41478349,\n",
       "       11.05315221,  9.02347272,  8.27701969, 10.12138878,  9.3336456 ,\n",
       "       10.02627263,  8.71313541,  7.9444087 ,  8.59009061,  8.07104095,\n",
       "        8.86489134,  9.6671707 ,  9.28121602,  7.86108083,  7.01158761,\n",
       "        7.0773552 ,  7.64648096,  6.34562353,  6.07236857,  7.79269757,\n",
       "        6.82888948,  5.19057109,  4.76236687,  3.79823844,  4.72326404,\n",
       "        4.62677181,  4.2986331 ,  3.37731059,  3.36226128,  1.55863803,\n",
       "        1.8515973 ,  2.84896138,  2.85886043,  4.79526798,  4.12285709,\n",
       "        5.45039787,  5.65277408,  5.31947496,  4.5061706 ,  4.43508535,\n",
       "        3.80141743,  3.29154092,  2.62148021,  1.66023533,  1.33994138])"
      ]
     },
     "execution_count": 145,
     "metadata": {},
     "output_type": "execute_result"
    }
   ],
   "source": [
    "data.cumsum()"
   ]
  },
  {
   "cell_type": "code",
   "execution_count": 147,
   "id": "cf621409-bd8b-402a-a2df-6a9542d6a793",
   "metadata": {},
   "outputs": [
    {
     "data": {
      "text/plain": [
       "-3.0353465634214154"
      ]
     },
     "execution_count": 147,
     "metadata": {},
     "output_type": "execute_result"
    }
   ],
   "source": [
    "data.min()"
   ]
  },
  {
   "cell_type": "code",
   "execution_count": 149,
   "id": "e197361a-1be9-4177-948c-fb442436c132",
   "metadata": {},
   "outputs": [
    {
     "data": {
      "text/plain": [
       "3.299052246283727"
      ]
     },
     "execution_count": 149,
     "metadata": {},
     "output_type": "execute_result"
    }
   ],
   "source": [
    "data.max()"
   ]
  },
  {
   "cell_type": "code",
   "execution_count": 151,
   "id": "c085a843-eaf3-4a51-896b-d492e4d26722",
   "metadata": {},
   "outputs": [
    {
     "data": {
      "text/plain": [
       "True"
      ]
     },
     "execution_count": 151,
     "metadata": {},
     "output_type": "execute_result"
    }
   ],
   "source": [
    "data.all()"
   ]
  },
  {
   "cell_type": "code",
   "execution_count": 153,
   "id": "f467e441-0abb-4733-8d63-f7a409232826",
   "metadata": {},
   "outputs": [
    {
     "data": {
      "text/plain": [
       "True"
      ]
     },
     "execution_count": 153,
     "metadata": {},
     "output_type": "execute_result"
    }
   ],
   "source": [
    "data.any()"
   ]
  },
  {
   "cell_type": "code",
   "execution_count": 169,
   "id": "cfad404c-df42-4aaa-b48a-fc5cc4b61d8d",
   "metadata": {},
   "outputs": [],
   "source": [
    "data = np.random.normal(size=(5,10,15))"
   ]
  },
  {
   "cell_type": "code",
   "execution_count": 171,
   "id": "f7a33ae1-4a74-4510-b471-f2df8ec6ed19",
   "metadata": {},
   "outputs": [
    {
     "data": {
      "text/plain": [
       "array([[[-9.52242463e-01, -1.00259437e-01, -3.65462841e-01,\n",
       "          1.69085225e+00, -5.01428799e-01, -6.50354520e-01,\n",
       "         -7.58060058e-01,  2.20963436e+00, -3.90614820e-01,\n",
       "         -1.79792730e-01, -5.23747304e-01,  4.51473791e-01,\n",
       "         -1.63466047e+00, -4.79498070e-01, -1.36625196e+00],\n",
       "        [ 8.39731756e-01, -1.11490449e-01,  1.24297964e+00,\n",
       "         -8.63080626e-01, -9.15212755e-01,  6.45395777e-01,\n",
       "          9.44488176e-01, -4.98604266e-01,  3.43400228e-01,\n",
       "         -1.53329870e-01,  9.35812982e-01,  8.13129409e-01,\n",
       "         -5.79041094e-01,  1.32287654e+00, -1.48044651e+00],\n",
       "        [-4.51579989e-01,  7.38376289e-01, -1.23767083e+00,\n",
       "         -3.83116434e-01,  2.22038994e+00,  8.43135136e-01,\n",
       "          1.61624146e+00, -3.46390044e-01,  1.15508210e+00,\n",
       "         -3.27180515e-01,  2.85291447e-01, -4.00811125e-01,\n",
       "          1.27349741e-01, -4.43711156e-01, -6.50832919e-01],\n",
       "        [-2.68213297e-01, -8.66743750e-01, -8.84828071e-01,\n",
       "         -3.25648815e+00,  2.31946842e-01,  7.98484173e-02,\n",
       "          6.16784804e-01, -2.66172429e-01, -1.02134932e+00,\n",
       "         -7.15480963e-01,  9.63868528e-01,  1.56157774e+00,\n",
       "         -1.00201436e+00,  2.87861334e-01, -1.43250642e+00],\n",
       "        [ 5.66954316e-01, -1.85925269e+00, -4.28742366e-01,\n",
       "          1.82085393e+00,  1.64582239e-02,  3.24603057e-02,\n",
       "          1.26678254e+00,  5.65879118e-01, -6.54815370e-01,\n",
       "         -7.78558924e-01,  6.05922664e-01,  1.19375618e+00,\n",
       "         -1.60362981e+00, -9.54083879e-01, -1.38611673e-01],\n",
       "        [ 2.34738723e+00,  8.27695224e-01,  1.70603227e-01,\n",
       "          1.69267357e+00,  1.79907805e+00, -4.77532291e-01,\n",
       "         -1.48977950e+00, -1.88089485e+00, -1.93579794e+00,\n",
       "         -2.00454642e-01, -2.47264226e-01, -1.43216319e+00,\n",
       "          1.30701647e-01,  7.02272776e-02,  9.99515758e-01],\n",
       "        [ 1.01894504e-02, -8.57455438e-02, -1.34679887e+00,\n",
       "         -2.48703760e-01,  9.49659606e-01, -2.22566396e-01,\n",
       "         -7.29890049e-01, -7.80102246e-01, -3.63023883e-01,\n",
       "         -1.59735063e+00,  7.66556165e-01,  2.74862343e-01,\n",
       "         -1.56210506e+00,  1.58845838e+00,  9.10357386e-02],\n",
       "        [ 3.20844655e-01, -1.63221357e-01,  1.02184899e+00,\n",
       "         -3.10851047e-02,  1.67922736e+00,  1.65031795e-01,\n",
       "          1.14640678e-03,  3.42380860e-01, -5.71559513e-01,\n",
       "          4.28359170e-01, -9.50947114e-01, -7.18145334e-01,\n",
       "          1.98514704e-01,  2.33261609e-01, -1.23365976e+00],\n",
       "        [ 4.93524174e-03,  4.71944023e-03,  7.25524216e-01,\n",
       "         -7.84398964e-01, -1.22372683e+00, -1.20083392e+00,\n",
       "          1.23147854e+00, -8.59946750e-01, -6.79401590e-01,\n",
       "          1.57011260e+00, -8.21691487e-01,  6.28771893e-01,\n",
       "          2.97105569e-01,  1.20487320e+00, -5.76406384e-01],\n",
       "        [-1.84802306e-02, -1.06507535e+00,  1.73577592e-01,\n",
       "         -5.77177238e-01, -1.66189052e+00,  1.26780846e+00,\n",
       "          1.29830851e+00,  1.31965751e+00,  7.87127721e-02,\n",
       "         -1.70247890e+00, -1.55375602e-01, -5.83089400e-01,\n",
       "         -4.97544660e-01,  1.24108429e-01,  2.62016479e-01]],\n",
       "\n",
       "       [[-4.70262940e-02,  1.08950260e+00, -1.14692149e+00,\n",
       "          1.17126233e+00, -3.10878141e-01,  4.24905639e-01,\n",
       "          2.49059720e+00, -6.45690813e-01, -4.70423113e-01,\n",
       "         -3.98506467e-01,  2.42443290e-01, -1.18025476e+00,\n",
       "         -2.39525971e+00, -9.38225391e-01, -1.14755087e+00],\n",
       "        [-1.09827340e+00,  1.18163887e+00, -8.08133561e-01,\n",
       "          2.99898611e-01, -1.13490125e+00, -2.31604400e-02,\n",
       "          5.26282721e-01, -5.69955619e-01, -2.78233953e-01,\n",
       "          1.08158194e+00,  1.26165220e+00, -1.01076683e+00,\n",
       "          3.15237281e+00,  4.96998399e-01, -1.06333266e+00],\n",
       "        [ 1.00837997e+00,  1.51174322e+00,  1.16002864e+00,\n",
       "         -5.84568590e-01, -9.31493657e-02,  1.72332544e+00,\n",
       "          1.76716305e-01,  6.97295131e-01, -3.94026137e-02,\n",
       "          6.33742696e-01, -3.61995626e-01,  7.80265739e-01,\n",
       "         -1.95009116e+00,  3.29719837e-01,  4.18652011e-01],\n",
       "        [ 1.14819245e+00, -8.40338189e-01, -1.61685991e-01,\n",
       "          1.57466022e+00,  9.37807735e-01, -8.09668018e-01,\n",
       "          7.03595276e-01, -5.22543977e-01, -1.90135008e-01,\n",
       "         -1.31812015e-01, -1.78828402e-01, -8.66384857e-01,\n",
       "          5.44839299e-01, -2.08887736e-01, -1.29113797e+00],\n",
       "        [ 1.53246045e+00, -5.16518656e-01, -3.83092100e-02,\n",
       "          1.39087144e+00, -2.77351369e-01,  6.50699146e-01,\n",
       "          7.25946977e-01,  1.39234217e-01, -1.03395204e+00,\n",
       "          2.32040609e+00,  6.64753961e-01, -1.07875654e+00,\n",
       "         -1.62428904e+00,  1.44847155e+00,  3.50905716e-01],\n",
       "        [-2.26865074e-01,  1.33590524e+00, -6.20241570e-01,\n",
       "          1.37086784e-03,  1.24348579e+00, -9.59843693e-01,\n",
       "          6.77670772e-01,  2.34202429e+00,  1.80102261e+00,\n",
       "         -1.13757300e+00,  4.48206928e-01, -1.28369680e-01,\n",
       "         -1.77461098e+00, -3.21434983e-01,  1.41870018e+00],\n",
       "        [ 3.24026725e-01,  1.17344951e+00, -1.38784161e+00,\n",
       "          6.02572995e-01,  8.92322028e-01, -4.71288320e-02,\n",
       "         -1.57418665e+00, -6.56331919e-02, -4.45064332e-01,\n",
       "          6.03388462e-01, -1.26342752e+00,  4.62419526e-01,\n",
       "         -1.51922589e-02,  8.82482815e-02, -1.55292547e-01],\n",
       "        [ 1.41064527e+00,  2.21418005e-01, -1.24583520e+00,\n",
       "         -2.80041678e-01,  1.97156721e-01,  5.36607306e-01,\n",
       "         -7.78832755e-01,  1.22213465e+00, -5.12047732e-01,\n",
       "          1.94407868e+00, -2.93158197e-01,  6.31516089e-02,\n",
       "         -4.34495480e-01, -9.04348459e-01,  4.69323683e-01],\n",
       "        [-2.88430714e-01, -7.71541359e-01,  1.94508927e+00,\n",
       "          5.30169524e-01,  7.37599398e-01, -8.47234589e-01,\n",
       "          6.72714262e-01,  6.49876255e-02, -5.86337241e-01,\n",
       "          2.61896493e-01,  4.30585978e-01, -3.91982673e-01,\n",
       "          1.22706334e-01, -1.02464607e+00, -5.50843980e-01],\n",
       "        [-7.60891023e-01,  4.55635706e-01,  1.40881468e+00,\n",
       "          1.95233862e+00,  9.28623825e-01, -1.42502896e+00,\n",
       "         -5.12045871e-01,  4.44645339e-01,  9.13431930e-01,\n",
       "         -1.82114975e+00,  1.12649457e+00, -2.90583861e-01,\n",
       "         -1.31298026e+00, -4.96021375e-01, -6.63605389e-01]],\n",
       "\n",
       "       [[-1.09290053e+00,  2.29126289e-01,  2.16336480e+00,\n",
       "         -9.04643844e-01,  4.72215719e-01, -1.04515680e+00,\n",
       "         -7.05410658e-01,  1.38455168e-01, -4.32213348e-01,\n",
       "          8.85142062e-01, -5.95861100e-01, -6.55010197e-01,\n",
       "          1.40413880e+00, -2.44250637e-01,  5.25455795e-01],\n",
       "        [ 1.14819448e+00, -1.25783896e+00, -3.90952415e-01,\n",
       "          4.64700621e-01,  1.12448592e+00, -1.34708501e+00,\n",
       "          2.12261836e+00, -7.84047630e-01,  2.10380635e-01,\n",
       "          9.45797159e-01, -5.52517192e-01, -3.96190084e-01,\n",
       "         -2.20403130e-01,  4.80866806e-02, -3.09740897e-02],\n",
       "        [-4.24666733e-01, -2.12177748e+00,  5.78931582e-01,\n",
       "          2.04501030e-01,  4.38045933e-01, -7.87251199e-01,\n",
       "          7.25976641e-01,  3.51788375e-01,  2.01073761e+00,\n",
       "         -1.06718303e+00, -1.05186172e-01, -1.05610658e+00,\n",
       "         -6.91519055e-01,  5.40412992e-01,  2.36799059e-01],\n",
       "        [-1.19289343e+00,  1.22001961e+00,  5.31695331e-01,\n",
       "          3.08214183e-01, -1.59898647e+00,  3.40476705e+00,\n",
       "          3.92274849e-01,  6.42370966e-01,  4.19379725e-01,\n",
       "          2.53634092e+00, -8.32493337e-01,  5.29930101e-01,\n",
       "         -6.37573280e-01, -1.82063912e-01, -4.23448195e-01],\n",
       "        [-7.79623002e-01,  8.81952288e-01,  7.38390414e-01,\n",
       "         -1.24630382e+00, -3.29174527e-01,  7.13293809e-01,\n",
       "         -1.47869648e-01,  2.71668878e-01, -4.50942830e-01,\n",
       "          4.99430566e-01, -2.97227930e-01, -4.53065862e-01,\n",
       "         -1.01642613e+00, -5.00387287e-01,  1.66622483e+00],\n",
       "        [ 6.57522924e-01, -1.18923292e+00, -1.07830245e+00,\n",
       "         -1.08848303e+00,  1.08375398e+00, -1.26584256e+00,\n",
       "         -1.01735592e+00, -9.07496328e-01,  1.23007196e+00,\n",
       "         -1.50038825e+00, -1.14882622e+00, -1.76895562e+00,\n",
       "         -1.96920138e+00,  6.20226844e-01, -4.49286594e-01],\n",
       "        [ 3.04984655e-01,  1.73912308e+00,  1.53396992e-01,\n",
       "         -8.97137801e-01,  5.28868156e-01,  1.32097853e+00,\n",
       "          1.22784335e+00, -1.05466985e+00,  1.44601317e+00,\n",
       "          1.67370384e+00,  2.72197484e-01,  1.46022319e-01,\n",
       "          1.42563900e+00,  4.98574298e-01, -3.00921995e+00],\n",
       "        [ 3.69972342e-02,  6.51602235e-01, -1.49660248e+00,\n",
       "         -4.17203639e-01,  7.85227951e-01, -8.92433385e-01,\n",
       "         -1.97930854e+00,  4.02654915e-01,  1.54805534e-01,\n",
       "         -1.41116470e+00, -2.61147616e-01,  3.69940661e-01,\n",
       "         -1.69809026e+00, -6.01039075e-01,  5.91669748e-01],\n",
       "        [-9.78793890e-02, -1.25212567e+00,  4.84817489e-01,\n",
       "          1.18460136e+00, -2.87833131e-01, -3.31171178e-01,\n",
       "          3.22699454e-01,  1.49040733e+00, -2.89633299e-01,\n",
       "          2.22732255e-01,  9.85335737e-01, -1.50028133e-01,\n",
       "         -8.15632570e-01, -1.04807705e+00, -6.12762438e-01],\n",
       "        [-2.53917225e-01,  1.36585545e+00, -5.39866091e-01,\n",
       "          2.86717662e-02,  6.49619481e-01,  2.09928889e-01,\n",
       "         -7.84532564e-01, -3.13045359e-01,  4.67507124e-01,\n",
       "          1.89962323e-01,  3.47999167e-01, -4.98089832e-01,\n",
       "         -1.41106878e-01,  8.14595394e-01, -1.27348044e-01]],\n",
       "\n",
       "       [[-1.05503779e-01,  9.85784261e-01,  1.60991827e+00,\n",
       "         -2.11990438e+00,  5.99892360e-01, -5.81472233e-01,\n",
       "         -2.68704804e-01, -5.59929219e-01,  1.26264488e+00,\n",
       "         -5.96171327e-01, -3.53938946e-01, -8.56674932e-01,\n",
       "         -2.55013871e-01,  2.87635842e-01, -8.28021112e-01],\n",
       "        [ 2.11586355e-01,  7.62802732e-01,  3.95762801e-02,\n",
       "          7.62249545e-01, -1.46932983e+00,  1.40977153e+00,\n",
       "          2.56157470e+00,  3.77755814e-01, -6.47259782e-01,\n",
       "         -8.26071507e-02,  2.91626784e-01, -2.36701547e+00,\n",
       "          7.04080091e-01,  2.95534847e+00,  9.85781450e-01],\n",
       "        [ 1.58496230e+00, -3.34564274e-01, -2.78831093e-01,\n",
       "          1.93874655e+00, -5.20690074e-01, -3.66457036e-02,\n",
       "          4.50753810e-01, -6.68136812e-01, -3.02991834e-01,\n",
       "          4.57177484e-01, -5.37314211e-01,  3.74033738e-01,\n",
       "          2.13835716e-01,  1.00568536e+00, -5.26211105e-01],\n",
       "        [ 1.24255466e+00, -3.03815761e-01,  6.80118909e-01,\n",
       "          9.45400395e-01, -1.51701031e+00, -4.14818260e-01,\n",
       "         -3.78843622e-01,  5.92461169e-02, -1.63025019e+00,\n",
       "         -5.23659095e-01,  6.26337105e-01,  3.61448688e-01,\n",
       "         -7.52760852e-01, -5.90708609e-01, -4.12759146e-01],\n",
       "        [-4.51560277e-01, -4.09588906e-01,  9.17900958e-01,\n",
       "         -5.28279203e-01, -4.88190013e-01,  3.52439919e-01,\n",
       "          4.74751023e-01, -9.03589102e-01,  2.80986191e-01,\n",
       "          2.88036237e-01,  6.42879345e-01,  8.47145443e-02,\n",
       "         -4.50770538e-01, -1.24031501e-01, -1.78118440e-01],\n",
       "        [ 1.13885317e+00, -2.37852513e-01, -9.06019762e-01,\n",
       "         -6.92202404e-01,  3.55028402e-01,  1.25280908e+00,\n",
       "          1.06369828e+00, -1.26771770e+00,  1.30574991e-01,\n",
       "         -6.75334115e-01, -6.77670807e-01, -4.64487361e-01,\n",
       "          1.63666260e+00,  6.45063729e-01,  1.08573017e+00],\n",
       "        [ 7.70757260e-01,  3.09757727e-01, -3.74561360e-01,\n",
       "         -1.43626124e+00, -6.16117925e-01,  5.83718214e-01,\n",
       "         -2.29588765e+00,  5.23967059e-01, -2.56331092e-01,\n",
       "          3.80964761e-02, -4.03080402e-01, -2.35517270e+00,\n",
       "          1.20710342e+00, -3.64693215e-01, -1.72648052e+00],\n",
       "        [-1.66470403e-02, -3.93767066e-02,  4.47062182e-01,\n",
       "          6.72247338e-01, -6.99033342e-01,  1.41009274e+00,\n",
       "          2.26004049e+00, -1.61011910e+00, -8.93391144e-01,\n",
       "         -2.86835632e+00, -1.61501017e-01,  8.61919691e-01,\n",
       "          4.37068130e-01,  2.36295996e+00,  4.77891771e-01],\n",
       "        [ 2.00555721e+00, -1.56504320e+00, -3.66333611e-01,\n",
       "          6.15043003e-02,  6.38856605e-01, -4.42215510e-01,\n",
       "         -1.19270114e+00,  1.79251090e+00, -1.68090763e-01,\n",
       "         -3.12545853e-01, -1.25353181e+00,  1.09662305e+00,\n",
       "          9.06422174e-01,  2.35746571e+00,  1.77534196e-01],\n",
       "        [ 4.55008481e-01,  1.51404374e+00, -6.61495774e-01,\n",
       "          3.59886636e-01, -1.76887166e+00,  1.68473923e+00,\n",
       "          3.34213399e-02,  2.18311740e-01,  1.19443789e+00,\n",
       "         -1.08393800e+00,  6.63173004e-02, -8.07683175e-01,\n",
       "         -7.32579441e-02, -4.74210805e-02,  9.45864406e-01]],\n",
       "\n",
       "       [[-8.15043972e-01,  2.20050155e+00, -8.92417977e-01,\n",
       "         -4.24582893e-01, -4.97589850e-01,  6.76857290e-01,\n",
       "          4.39022903e-02, -9.81910265e-01,  2.03709169e+00,\n",
       "         -5.43511370e-01,  1.96634928e+00, -5.84887198e-01,\n",
       "          1.25581032e+00,  9.01404171e-01,  1.24512027e+00],\n",
       "        [-1.06569960e+00, -5.21320301e-01, -3.37072476e-01,\n",
       "          1.11285805e+00,  3.56269246e-01, -8.65387440e-02,\n",
       "         -6.84803916e-01, -1.09927542e+00,  1.52199265e+00,\n",
       "          1.59404781e+00, -5.56130536e-02,  1.01356764e+00,\n",
       "          3.22124679e-01,  6.74397626e-01,  2.57716395e+00],\n",
       "        [ 7.82654139e-01,  7.15863955e-01,  1.13351056e+00,\n",
       "         -1.05901842e+00, -4.09646522e-01,  3.60428255e-01,\n",
       "          4.78018857e-01,  7.38817305e-01,  7.40001912e-01,\n",
       "          1.73581727e+00,  3.55904401e-01,  2.78919759e-01,\n",
       "          1.42458802e+00, -1.06096978e+00,  1.00858557e+00],\n",
       "        [-8.20437180e-01,  2.45734001e+00,  1.31378850e+00,\n",
       "         -1.12143205e+00,  1.30871612e+00, -1.10201538e+00,\n",
       "         -5.63652315e-01,  9.19068357e-01, -9.76424518e-02,\n",
       "         -1.24525170e+00, -4.33588499e-01, -1.54944458e+00,\n",
       "         -1.61061647e+00,  4.00702004e-01,  1.20818300e-01],\n",
       "        [-4.57562003e-01, -5.57233864e-01,  1.17284067e+00,\n",
       "          1.10970379e-01, -1.08362037e+00, -5.21848386e-01,\n",
       "         -1.24188780e+00,  6.51878613e-01,  5.17314319e-01,\n",
       "          4.79631456e-01,  1.80006583e+00,  1.08149004e+00,\n",
       "         -1.41712057e+00, -6.36600055e-02,  1.35604721e+00],\n",
       "        [ 1.13562994e+00, -5.86606693e-01, -1.89535797e-01,\n",
       "         -7.33252481e-01,  7.34851930e-01, -9.95631071e-01,\n",
       "         -8.93990009e-01, -1.06787720e+00,  2.56246309e-01,\n",
       "          4.85483390e-01,  1.42752039e+00, -5.51738796e-01,\n",
       "         -6.65137455e-01,  5.03008217e-01, -1.18103721e-01],\n",
       "        [ 1.11011846e+00, -1.53034100e+00, -9.26261066e-01,\n",
       "          6.38024011e-01,  2.43232960e+00,  9.06305461e-02,\n",
       "          1.68836526e+00, -5.52709995e-01, -8.76544429e-01,\n",
       "         -1.91932344e-01, -2.27739619e+00,  2.63018264e-01,\n",
       "          2.66606868e-01, -9.58795984e-01, -3.94119804e-01],\n",
       "        [ 6.00268026e-01,  1.30743446e+00,  1.45473306e+00,\n",
       "          4.44050550e-01, -2.79105527e+00, -3.30189461e-01,\n",
       "         -1.27466898e+00, -7.68183187e-02, -1.86895683e+00,\n",
       "          5.96148190e-01, -1.24753497e+00, -2.61372443e+00,\n",
       "          4.08223719e-01, -7.66230789e-01, -3.26231861e-01],\n",
       "        [-2.45234341e-02, -3.79474276e-02, -5.06397435e-01,\n",
       "         -1.06787762e+00, -2.30291610e+00, -9.01764746e-01,\n",
       "          2.35072102e+00,  1.93126864e+00, -2.17195189e+00,\n",
       "         -1.23917059e+00, -3.63628790e-01,  6.93454927e-02,\n",
       "         -1.23582845e+00,  1.41967334e+00, -1.49379488e-01],\n",
       "        [ 1.24252406e-01,  1.20450266e+00,  2.33717981e-01,\n",
       "         -9.85516337e-01, -2.57280232e-01,  2.15577157e+00,\n",
       "          2.70319113e+00,  4.63987696e-01,  4.87887336e-01,\n",
       "          1.29559381e+00, -7.65453017e-01, -1.46611352e+00,\n",
       "          2.59764204e-01,  3.66915575e-01,  2.69706557e-03]]])"
      ]
     },
     "execution_count": 171,
     "metadata": {},
     "output_type": "execute_result"
    }
   ],
   "source": [
    "data"
   ]
  },
  {
   "cell_type": "code",
   "execution_count": 183,
   "id": "1f4ebc67-e010-462d-8c5b-e91307d64c55",
   "metadata": {},
   "outputs": [
    {
     "data": {
      "text/plain": [
       "array([[-3.01271704,  4.40465526,  1.36848076, -0.58701654, -0.23778871,\n",
       "        -1.17522063,  0.80232397,  0.16055923,  2.00648528, -0.83283983,\n",
       "         0.73524522, -2.82535329, -1.62498492, -0.47293409, -1.57124789],\n",
       "       [ 0.03553959,  0.05379189, -0.25360253,  1.7766262 , -2.03868867,\n",
       "         0.59838312,  5.47016004, -2.57412712,  1.15027978,  3.38548989,\n",
       "         1.88096172, -1.94727534,  3.37913336,  5.49770771,  0.98819214],\n",
       "       [ 2.49974969,  0.50964171,  1.35596886,  0.11654414,  1.63494991,\n",
       "         2.10299193,  3.44770707,  0.77337395,  3.56342717,  1.4323739 ,\n",
       "        -0.36330016, -0.02369847, -0.87583675,  0.37113724,  0.48699262],\n",
       "       [ 0.10920321,  1.66646192,  1.47908868, -1.54964539, -0.63752609,\n",
       "         1.15811381,  0.77015899,  0.83196903, -2.51999725, -0.07986285,\n",
       "         0.1452954 ,  0.03712709, -3.45812567, -0.29309692, -3.43903343],\n",
       "       [ 0.41066948, -2.46064183,  2.36208047,  1.54811272, -2.16187805,\n",
       "         1.22704479,  1.07772309,  0.72507172, -1.34140973,  2.80894542,\n",
       "         3.41639387,  0.82813836, -6.11223609, -0.19369113,  3.05644764],\n",
       "       [ 5.05252819,  0.14990833, -2.62349635, -0.81989348,  5.21619815,\n",
       "        -2.44604054, -1.65975637, -2.78196178,  1.48211794, -3.02826662,\n",
       "        -0.19803393, -4.34571465, -2.64158557,  1.51709108,  2.93655579],\n",
       "       [ 2.52007655,  1.60624377, -3.88206591, -1.34150579,  4.18706146,\n",
       "         1.72563207, -1.68375574, -1.92914822, -0.49495057,  0.5259058 ,\n",
       "        -2.90515046, -1.20885025,  1.32205197,  0.85179176, -5.19407709],\n",
       "       [ 2.35210815,  1.97785663,  0.18120654,  0.38796747, -0.82847658,\n",
       "         0.889109  , -1.77162338,  0.280233  , -3.69114969, -1.31093498,\n",
       "        -2.91428891, -2.0368578 , -1.08877919,  0.32460325, -0.02100642],\n",
       "       [ 1.59965892, -3.62193822,  2.28269993, -0.0760014 , -2.43802006,\n",
       "        -3.72321994,  3.38491213,  4.41922775, -3.89541478,  0.5030249 ,\n",
       "        -1.02293037,  1.25272963, -0.72522694,  2.90928913, -1.71185809],\n",
       "       [-0.45402759,  3.47496221,  0.61474839,  0.77820345, -2.1097991 ,\n",
       "         3.89321919,  2.73834255,  2.13355693,  3.14197705, -3.12201052,\n",
       "         0.61998242, -3.64555979, -1.76512554,  0.76217694,  0.41962452]])"
      ]
     },
     "execution_count": 183,
     "metadata": {},
     "output_type": "execute_result"
    }
   ],
   "source": [
    "data.sum(axis=0)"
   ]
  },
  {
   "cell_type": "code",
   "execution_count": 185,
   "id": "34779b9d-b245-4bbd-bba0-75537dc55b69",
   "metadata": {},
   "outputs": [
    {
     "data": {
      "text/plain": [
       "(10,)"
      ]
     },
     "execution_count": 185,
     "metadata": {},
     "output_type": "execute_result"
    }
   ],
   "source": [
    "data.sum(axis=(0,2)).shape"
   ]
  },
  {
   "cell_type": "code",
   "execution_count": 187,
   "id": "ccbd6e4a-6340-4931-b7e6-ec8ecb061362",
   "metadata": {},
   "outputs": [
    {
     "data": {
      "text/plain": [
       "20.23922296277951"
      ]
     },
     "execution_count": 187,
     "metadata": {},
     "output_type": "execute_result"
    }
   ],
   "source": [
    "data.sum()"
   ]
  },
  {
   "cell_type": "code",
   "execution_count": 189,
   "id": "9a252757-83f3-44f5-bfd8-d213ba711008",
   "metadata": {},
   "outputs": [
    {
     "data": {
      "text/plain": [
       "array([-2.86235321, 17.40257179, 17.03202282, -5.77986948,  5.19077075,\n",
       "       -4.19034981, -5.90074065, -7.27003291, -0.86306743,  7.48027109])"
      ]
     },
     "execution_count": 189,
     "metadata": {},
     "output_type": "execute_result"
    }
   ],
   "source": [
    "data.sum(axis=(0,2))"
   ]
  },
  {
   "cell_type": "code",
   "execution_count": 191,
   "id": "d34f4695-297a-474e-a2d1-d3d551b1dcb0",
   "metadata": {},
   "outputs": [],
   "source": [
    "data = np.arange(1,10).reshape(3,3)"
   ]
  },
  {
   "cell_type": "code",
   "execution_count": 193,
   "id": "b63755ff-ad8e-4efc-b81d-ecfb7224e096",
   "metadata": {},
   "outputs": [
    {
     "data": {
      "text/plain": [
       "array([[1, 2, 3],\n",
       "       [4, 5, 6],\n",
       "       [7, 8, 9]])"
      ]
     },
     "execution_count": 193,
     "metadata": {},
     "output_type": "execute_result"
    }
   ],
   "source": [
    "data"
   ]
  },
  {
   "cell_type": "code",
   "execution_count": 199,
   "id": "4725680f-364e-4968-b24c-636a2f7f6ec1",
   "metadata": {},
   "outputs": [],
   "source": [
    "data = np.arange(1,15).reshape(7,2)"
   ]
  },
  {
   "cell_type": "code",
   "execution_count": 201,
   "id": "2f32e5b7-e156-449c-b960-18412eeb1c3b",
   "metadata": {},
   "outputs": [
    {
     "data": {
      "text/plain": [
       "array([[ 1,  2],\n",
       "       [ 3,  4],\n",
       "       [ 5,  6],\n",
       "       [ 7,  8],\n",
       "       [ 9, 10],\n",
       "       [11, 12],\n",
       "       [13, 14]])"
      ]
     },
     "execution_count": 201,
     "metadata": {},
     "output_type": "execute_result"
    }
   ],
   "source": [
    "data"
   ]
  },
  {
   "cell_type": "code",
   "execution_count": 205,
   "id": "6bc8961e-1670-44e8-ab41-a6b32dd52c06",
   "metadata": {},
   "outputs": [
    {
     "data": {
      "text/plain": [
       "array([49, 56])"
      ]
     },
     "execution_count": 205,
     "metadata": {},
     "output_type": "execute_result"
    }
   ],
   "source": [
    "data.sum(axis=0)"
   ]
  },
  {
   "cell_type": "code",
   "execution_count": 207,
   "id": "a8f5b4d6-5f9e-4718-a1c0-eb5f38680f6f",
   "metadata": {},
   "outputs": [
    {
     "data": {
      "text/plain": [
       "array([ 3,  7, 11, 15, 19, 23, 27])"
      ]
     },
     "execution_count": 207,
     "metadata": {},
     "output_type": "execute_result"
    }
   ],
   "source": [
    "data.sum(axis=1)"
   ]
  },
  {
   "cell_type": "code",
   "execution_count": null,
   "id": "ccce0de5-b031-41fa-a9b5-4ca266d9317b",
   "metadata": {},
   "outputs": [],
   "source": []
  }
 ],
 "metadata": {
  "kernelspec": {
   "display_name": "Python [conda env:base] *",
   "language": "python",
   "name": "conda-base-py"
  },
  "language_info": {
   "codemirror_mode": {
    "name": "ipython",
    "version": 3
   },
   "file_extension": ".py",
   "mimetype": "text/x-python",
   "name": "python",
   "nbconvert_exporter": "python",
   "pygments_lexer": "ipython3",
   "version": "3.10.9"
  }
 },
 "nbformat": 4,
 "nbformat_minor": 5
}
