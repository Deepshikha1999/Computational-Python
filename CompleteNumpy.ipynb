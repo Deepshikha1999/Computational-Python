{
 "cells": [
  {
   "cell_type": "code",
   "execution_count": 7,
   "id": "486f4cac-806e-4716-8028-de4cec354f44",
   "metadata": {},
   "outputs": [],
   "source": [
    "import numpy as np"
   ]
  },
  {
   "cell_type": "code",
   "execution_count": 9,
   "id": "82379c4e-e2ce-4509-8583-049f89d255db",
   "metadata": {},
   "outputs": [
    {
     "name": "stdout",
     "output_type": "stream",
     "text": [
      "empty_array \n",
      " [[0. 0. 0. 0.]\n",
      " [0. 0. 0. 0.]\n",
      " [0. 0. 0. 0.]]\n",
      "full_array \n",
      " [[5 5 5 5]\n",
      " [5 5 5 5]\n",
      " [5 5 5 5]]\n"
     ]
    }
   ],
   "source": [
    "# How to create an empty and a full NumPy array?\n",
    "empty_array = np.empty((3,4))\n",
    "print(\"empty_array \\n\",empty_array)\n",
    "\n",
    "full_array = np.full((3,4),5)\n",
    "print(\"full_array \\n\",full_array)"
   ]
  },
  {
   "cell_type": "code",
   "execution_count": 11,
   "id": "2a41cc7e-f8ca-4783-8ab2-a9d939c31b15",
   "metadata": {},
   "outputs": [
    {
     "name": "stdout",
     "output_type": "stream",
     "text": [
      "zeroArray\n"
     ]
    }
   ],
   "source": [
    "# Create a Numpy array filled with all zeros\n",
    "zero_array = np.zeros((3,5))\n",
    "print(\"zeroArray\")"
   ]
  },
  {
   "cell_type": "code",
   "execution_count": 13,
   "id": "0f438f5f-ad89-403f-93e3-3b24dfddba6d",
   "metadata": {},
   "outputs": [
    {
     "data": {
      "text/plain": [
       "array([[0., 0., 0., 0., 0.],\n",
       "       [0., 0., 0., 0., 0.],\n",
       "       [0., 0., 0., 0., 0.]])"
      ]
     },
     "execution_count": 13,
     "metadata": {},
     "output_type": "execute_result"
    }
   ],
   "source": [
    "zero_array"
   ]
  },
  {
   "cell_type": "code",
   "execution_count": 15,
   "id": "8108e141-5780-4b31-ae56-741cf7ab5896",
   "metadata": {},
   "outputs": [],
   "source": [
    "# Create a Numpy array filled with all ones\n",
    "ones_array = np.ones((4,4))"
   ]
  },
  {
   "cell_type": "code",
   "execution_count": 17,
   "id": "af9717b4-2fdb-410c-9d03-38d2b4a379d8",
   "metadata": {},
   "outputs": [
    {
     "data": {
      "text/plain": [
       "array([[1., 1., 1., 1.],\n",
       "       [1., 1., 1., 1.],\n",
       "       [1., 1., 1., 1.],\n",
       "       [1., 1., 1., 1.]])"
      ]
     },
     "execution_count": 17,
     "metadata": {},
     "output_type": "execute_result"
    }
   ],
   "source": [
    "ones_array"
   ]
  },
  {
   "cell_type": "code",
   "execution_count": 19,
   "id": "a460ec7d-a312-4e0a-9a40-225723e31fd9",
   "metadata": {},
   "outputs": [],
   "source": [
    "# Check whether a Numpy array contains a specified row\n",
    "data1 = np.array([[1,2,3],[4,5,6],[7,8,9]])\n",
    "row1 = np.array([4,5,6])"
   ]
  },
  {
   "cell_type": "code",
   "execution_count": 21,
   "id": "aaf776f4-1b57-4c08-a63c-125de1a30c2e",
   "metadata": {},
   "outputs": [
    {
     "data": {
      "text/plain": [
       "True"
      ]
     },
     "execution_count": 21,
     "metadata": {},
     "output_type": "execute_result"
    }
   ],
   "source": [
    "row1 in data1"
   ]
  },
  {
   "cell_type": "code",
   "execution_count": 23,
   "id": "36c5becc-68dd-484e-847b-81a8c679f7ac",
   "metadata": {},
   "outputs": [],
   "source": [
    "# How to Remove rows in Numpy array that contains non-numeric values?\n",
    "arr = np.array([\n",
    "    [1.0, 2.0, 3.0],\n",
    "    [4.0, np.nan, 6.0],\n",
    "    [7.0, 8.0, 9.0],\n",
    "    [np.inf, 11.0, 12.0]\n",
    "])"
   ]
  },
  {
   "cell_type": "code",
   "execution_count": 25,
   "id": "89202b9b-49a3-4a65-99f4-c64b9565f7c9",
   "metadata": {},
   "outputs": [],
   "source": [
    "new_arr = arr[np.all(np.isfinite(arr),axis=1)]"
   ]
  },
  {
   "cell_type": "code",
   "execution_count": 27,
   "id": "9b5f158a-a7cb-4a93-8ab5-9414ac9d1f11",
   "metadata": {},
   "outputs": [
    {
     "data": {
      "text/plain": [
       "array([[1., 2., 3.],\n",
       "       [7., 8., 9.]])"
      ]
     },
     "execution_count": 27,
     "metadata": {},
     "output_type": "execute_result"
    }
   ],
   "source": [
    "new_arr"
   ]
  },
  {
   "cell_type": "code",
   "execution_count": 29,
   "id": "0ab6bd7b-2245-4bb9-b947-058ca6ba2120",
   "metadata": {},
   "outputs": [],
   "source": [
    "# Remove single-dimensional entries from the shape of an array\n",
    "arr = np.array([[[1,2,3]]])"
   ]
  },
  {
   "cell_type": "code",
   "execution_count": 31,
   "id": "356fa27a-050f-407c-bdc3-aeba17ba2a29",
   "metadata": {},
   "outputs": [
    {
     "data": {
      "text/plain": [
       "array([1, 2, 3])"
      ]
     },
     "execution_count": 31,
     "metadata": {},
     "output_type": "execute_result"
    }
   ],
   "source": [
    "arr.squeeze()"
   ]
  },
  {
   "cell_type": "code",
   "execution_count": 33,
   "id": "810aa386-a68b-4a1c-be1c-ce53f6ab93ee",
   "metadata": {},
   "outputs": [],
   "source": [
    "# Find the number of occurrences of a sequence in a NumPy array\n",
    "arr = np.array([1, 2, 3, 4, 2, 3, 4, 5])\n",
    "sequence = np.array([2, 3, 4])"
   ]
  },
  {
   "cell_type": "code",
   "execution_count": 35,
   "id": "d9a96b1f-6985-4e1b-9b31-e270203da90a",
   "metadata": {},
   "outputs": [],
   "source": [
    "sliding_windows = np.lib.stride_tricks.sliding_window_view(arr, window_shape=len(sequence))\n",
    "matches = np.all(sliding_windows == sequence, axis=1)\n",
    "count = np.sum(matches)"
   ]
  },
  {
   "cell_type": "code",
   "execution_count": 37,
   "id": "0211d3eb-9fb6-4d72-b449-33ed4d7d0efa",
   "metadata": {},
   "outputs": [
    {
     "data": {
      "text/plain": [
       "2"
      ]
     },
     "execution_count": 37,
     "metadata": {},
     "output_type": "execute_result"
    }
   ],
   "source": [
    "count"
   ]
  },
  {
   "cell_type": "code",
   "execution_count": 39,
   "id": "825bb26f-8e85-4089-b9da-94d8d94a934e",
   "metadata": {},
   "outputs": [
    {
     "name": "stdout",
     "output_type": "stream",
     "text": [
      "(34,)\n"
     ]
    }
   ],
   "source": [
    "# Find the most frequent value in a NumPy array\n",
    "arr = np.array([1,1,1,1,2,2,2,2,2,3,4,5,6,6,6,4,4,4,4,8,8,8,8,6,7,6,6,5,5,5,5,5,5,9])\n",
    "print(arr.shape)"
   ]
  },
  {
   "cell_type": "code",
   "execution_count": 41,
   "id": "c2c0b979-ba19-45f3-86fa-d9aa8ddadb7d",
   "metadata": {},
   "outputs": [
    {
     "data": {
      "text/plain": [
       "5"
      ]
     },
     "execution_count": 41,
     "metadata": {},
     "output_type": "execute_result"
    }
   ],
   "source": [
    "k = arr[0]\n",
    "count1 = 1\n",
    "max_count = 0\n",
    "max_index = -1\n",
    "\n",
    "for x in range(1,arr.shape[0]):\n",
    "    if arr[x]==k:\n",
    "        count1 += 1\n",
    "    else:\n",
    "        if max_count<count1:\n",
    "            max_count = count1\n",
    "            max_index = x-1\n",
    "        count1 = 1\n",
    "        k = arr[x]\n",
    "if max_count < count1:\n",
    "    max_count = count1\n",
    "    max_index = arr.shape[0] - 1\n",
    "arr[max_index]"
   ]
  },
  {
   "cell_type": "code",
   "execution_count": 43,
   "id": "2a2d6900-6beb-47ea-b6a1-260f851add4f",
   "metadata": {},
   "outputs": [
    {
     "data": {
      "text/plain": [
       "array([[1, 2, 3],\n",
       "       [4, 5, 6],\n",
       "       [7, 8, 9]])"
      ]
     },
     "execution_count": 43,
     "metadata": {},
     "output_type": "execute_result"
    }
   ],
   "source": [
    "# Combining a one and a two-dimensional NumPy Array\n",
    "oneD_arr = np.array([1,2,3])\n",
    "twoD_arr = np.array([[4,5,6],[7,8,9]])\n",
    "combine_arr = np.vstack((oneD_arr,twoD_arr))\n",
    "combine_arr"
   ]
  },
  {
   "cell_type": "code",
   "execution_count": 45,
   "id": "15e1447d-0ce3-47ef-83e7-b5aca9d4ce4e",
   "metadata": {},
   "outputs": [
    {
     "data": {
      "text/plain": [
       "True"
      ]
     },
     "execution_count": 45,
     "metadata": {},
     "output_type": "execute_result"
    }
   ],
   "source": [
    "# How to check whether specified values are present in NumPy array?\n",
    "x = 4\n",
    "x in combine_arr"
   ]
  },
  {
   "cell_type": "code",
   "execution_count": 47,
   "id": "e196832f-fdc1-4312-95df-bee2af5ab16c",
   "metadata": {},
   "outputs": [
    {
     "data": {
      "text/plain": [
       "array([[[ 1,  2,  3],\n",
       "        [ 5,  6,  7],\n",
       "        [ 9, 10, 11]],\n",
       "\n",
       "       [[13, 14, 15],\n",
       "        [17, 18, 19],\n",
       "        [21, 22, 23]],\n",
       "\n",
       "       [[25, 26, 27],\n",
       "        [29, 30, 31],\n",
       "        [33, 34, 35]]])"
      ]
     },
     "execution_count": 47,
     "metadata": {},
     "output_type": "execute_result"
    }
   ],
   "source": [
    "# How to get all 2D diagonals of a 3D NumPy array?\n",
    "arr = np.array([[[1,2,3],[5,6,7],[9,10,11]],[[13,14,15],[17,18,19],[21,22,23]],[[25,26,27],[29,30,31],[33,34,35]]])\n",
    "arr"
   ]
  },
  {
   "cell_type": "code",
   "execution_count": 49,
   "id": "af58f2ce-c148-4c8f-9d1d-810caf6a0b89",
   "metadata": {},
   "outputs": [
    {
     "data": {
      "text/plain": [
       "(3, 3, 3)"
      ]
     },
     "execution_count": 49,
     "metadata": {},
     "output_type": "execute_result"
    }
   ],
   "source": [
    "arr.shape"
   ]
  },
  {
   "cell_type": "code",
   "execution_count": 51,
   "id": "0fecd2cb-90c8-40a2-86f8-b5a0c8504c76",
   "metadata": {},
   "outputs": [
    {
     "data": {
      "text/plain": [
       "array([[ 1,  2,  3],\n",
       "       [ 5,  6,  7],\n",
       "       [ 9, 10, 11]])"
      ]
     },
     "execution_count": 51,
     "metadata": {},
     "output_type": "execute_result"
    }
   ],
   "source": [
    "arr[0]"
   ]
  },
  {
   "cell_type": "code",
   "execution_count": 53,
   "id": "ebaf2d33-5364-4623-8800-6e8cd16fe9a7",
   "metadata": {},
   "outputs": [
    {
     "data": {
      "text/plain": [
       "[array([ 1,  6, 11]), array([13, 18, 23]), array([25, 30, 35])]"
      ]
     },
     "execution_count": 53,
     "metadata": {},
     "output_type": "execute_result"
    }
   ],
   "source": [
    "diagonal_arr= [layer.diagonal() for layer in arr]\n",
    "diagonal_arr"
   ]
  },
  {
   "cell_type": "code",
   "execution_count": 55,
   "id": "d8b3988d-6fad-4096-aa28-52dd189b53aa",
   "metadata": {},
   "outputs": [
    {
     "data": {
      "text/plain": [
       "[array([3, 6, 9]), array([15, 18, 21]), array([27, 30, 33])]"
      ]
     },
     "execution_count": 55,
     "metadata": {},
     "output_type": "execute_result"
    }
   ],
   "source": [
    "diagonal_anti_arr = [np.fliplr(layer).diagonal() for layer in arr]\n",
    "diagonal_anti_arr"
   ]
  },
  {
   "cell_type": "code",
   "execution_count": 57,
   "id": "35f0dade-574d-40a2-8fc8-2a44712f06dd",
   "metadata": {},
   "outputs": [
    {
     "data": {
      "text/plain": [
       "array([ 1,  2,  3,  5,  6,  7,  9, 10, 11, 13, 14, 15, 17, 18, 19, 21, 22,\n",
       "       23, 25, 26, 27, 29, 30, 31, 33, 34, 35])"
      ]
     },
     "execution_count": 57,
     "metadata": {},
     "output_type": "execute_result"
    }
   ],
   "source": [
    "# Flatten a Matrix in Python using NumPy\n",
    "np.hstack(np.array([np.hstack(layer) for layer in arr]))"
   ]
  },
  {
   "cell_type": "code",
   "execution_count": 59,
   "id": "4a9143ce-679c-402f-82bf-9cda81bb0d35",
   "metadata": {},
   "outputs": [
    {
     "data": {
      "text/plain": [
       "array([ 1,  2,  3,  5,  6,  7,  9, 10, 11, 13, 14, 15, 17, 18, 19, 21, 22,\n",
       "       23, 25, 26, 27, 29, 30, 31, 33, 34, 35])"
      ]
     },
     "execution_count": 59,
     "metadata": {},
     "output_type": "execute_result"
    }
   ],
   "source": [
    "arr.ravel()"
   ]
  },
  {
   "cell_type": "code",
   "execution_count": 61,
   "id": "d902ba7f-3b6d-4f41-8273-83be66f5a59d",
   "metadata": {},
   "outputs": [
    {
     "data": {
      "text/plain": [
       "array([ 1,  2,  3,  5,  6,  7,  9, 10, 11, 13, 14, 15, 17, 18, 19, 21, 22,\n",
       "       23, 25, 26, 27, 29, 30, 31, 33, 34, 35])"
      ]
     },
     "execution_count": 61,
     "metadata": {},
     "output_type": "execute_result"
    }
   ],
   "source": [
    "arr.flatten()"
   ]
  },
  {
   "cell_type": "code",
   "execution_count": 63,
   "id": "099e9ffc-5783-48fc-a111-ded8ff7407cc",
   "metadata": {},
   "outputs": [],
   "source": [
    "# Move axes of an array to new positions\n",
    "arr = np.arange(24).reshape(2, 3, 4)"
   ]
  },
  {
   "cell_type": "code",
   "execution_count": 65,
   "id": "3967ae2d-2f64-4d00-9414-67ef6fa8a307",
   "metadata": {},
   "outputs": [
    {
     "data": {
      "text/plain": [
       "(2, 3, 4)"
      ]
     },
     "execution_count": 65,
     "metadata": {},
     "output_type": "execute_result"
    }
   ],
   "source": [
    "arr.shape"
   ]
  },
  {
   "cell_type": "code",
   "execution_count": 67,
   "id": "09e7314f-e522-42a6-995d-e7a2d2430ef9",
   "metadata": {},
   "outputs": [
    {
     "data": {
      "text/plain": [
       "array([[[ 0, 12],\n",
       "        [ 1, 13],\n",
       "        [ 2, 14],\n",
       "        [ 3, 15]],\n",
       "\n",
       "       [[ 4, 16],\n",
       "        [ 5, 17],\n",
       "        [ 6, 18],\n",
       "        [ 7, 19]],\n",
       "\n",
       "       [[ 8, 20],\n",
       "        [ 9, 21],\n",
       "        [10, 22],\n",
       "        [11, 23]]])"
      ]
     },
     "execution_count": 67,
     "metadata": {},
     "output_type": "execute_result"
    }
   ],
   "source": [
    "np.transpose(arr, axes=(1, 2, 0))"
   ]
  },
  {
   "cell_type": "code",
   "execution_count": 69,
   "id": "21685ddb-a7e9-4993-96f4-faf6d133f2c1",
   "metadata": {},
   "outputs": [
    {
     "data": {
      "text/plain": [
       "array([[[ 0,  4,  8],\n",
       "        [ 1,  5,  9],\n",
       "        [ 2,  6, 10],\n",
       "        [ 3,  7, 11]],\n",
       "\n",
       "       [[12, 16, 20],\n",
       "        [13, 17, 21],\n",
       "        [14, 18, 22],\n",
       "        [15, 19, 23]]])"
      ]
     },
     "execution_count": 69,
     "metadata": {},
     "output_type": "execute_result"
    }
   ],
   "source": [
    "np.moveaxis(arr,2,1)"
   ]
  },
  {
   "cell_type": "code",
   "execution_count": 71,
   "id": "2c58b2d1-5701-4b6d-876b-e22a818278c9",
   "metadata": {},
   "outputs": [
    {
     "name": "stdout",
     "output_type": "stream",
     "text": [
      "8\n"
     ]
    }
   ],
   "source": [
    "# NumPy – Fibonacci Series using Binet Formula\n",
    "import math\n",
    "phi = (1+math.sqrt(5))/2\n",
    "psi = (1-math.sqrt(5))/2\n",
    "def binetFibonacci(n):\n",
    "    return round((phi**n - psi**n)/math.sqrt(5))\n",
    "\n",
    "print(binetFibonacci(6))"
   ]
  },
  {
   "cell_type": "code",
   "execution_count": 73,
   "id": "9fc7a9b6-dcfd-4bf7-b563-a6c91ebb46c5",
   "metadata": {},
   "outputs": [
    {
     "data": {
      "text/plain": [
       "array([    0,     1,     1,     2,     3,     5,     8,    13,    21,\n",
       "          34,    55,    89,   144,   233,   377,   610,   987,  1597,\n",
       "        2584,  4181,  6765, 10946, 17711, 28657])"
      ]
     },
     "execution_count": 73,
     "metadata": {},
     "output_type": "execute_result"
    }
   ],
   "source": [
    "binetFibonacci = np.vectorize(binetFibonacci)\n",
    "binetFibonacci(np.arange(24))"
   ]
  },
  {
   "cell_type": "code",
   "execution_count": 75,
   "id": "d8e17e65-5028-4667-b01a-2cde6d1ce364",
   "metadata": {},
   "outputs": [
    {
     "data": {
      "text/plain": [
       "array([[3., 7., 2.],\n",
       "       [4., 2., 2.],\n",
       "       [2., 1., 1.]])"
      ]
     },
     "execution_count": 75,
     "metadata": {},
     "output_type": "execute_result"
    }
   ],
   "source": [
    "# Counts the number of non-zero values in the array\n",
    "x = np.round(np.random.rand(3,3)*np.random.rand(3,3)*10)\n",
    "x"
   ]
  },
  {
   "cell_type": "code",
   "execution_count": 77,
   "id": "c07dedac-e239-4726-9a7f-25a6f40bcf28",
   "metadata": {},
   "outputs": [
    {
     "data": {
      "text/plain": [
       "array([[ True,  True,  True],\n",
       "       [ True,  True,  True],\n",
       "       [ True,  True,  True]])"
      ]
     },
     "execution_count": 77,
     "metadata": {},
     "output_type": "execute_result"
    }
   ],
   "source": [
    "x!=0"
   ]
  },
  {
   "cell_type": "code",
   "execution_count": 79,
   "id": "5e4cab2b-3969-44b6-9078-bb1594274560",
   "metadata": {},
   "outputs": [
    {
     "data": {
      "text/plain": [
       "9"
      ]
     },
     "execution_count": 79,
     "metadata": {},
     "output_type": "execute_result"
    }
   ],
   "source": [
    "x[x!=0].size"
   ]
  },
  {
   "cell_type": "code",
   "execution_count": 81,
   "id": "30f6d48d-7752-4a0e-a2e2-caa533fdb449",
   "metadata": {},
   "outputs": [
    {
     "name": "stdout",
     "output_type": "stream",
     "text": [
      "9\n"
     ]
    }
   ],
   "source": [
    "count_non_zero = np.count_nonzero(x)\n",
    "print(count_non_zero)"
   ]
  },
  {
   "cell_type": "code",
   "execution_count": 83,
   "id": "1e1933fa-9dea-4b7d-9a0a-810417c3ccfe",
   "metadata": {},
   "outputs": [
    {
     "data": {
      "text/plain": [
       "array([3, 3, 3])"
      ]
     },
     "execution_count": 83,
     "metadata": {},
     "output_type": "execute_result"
    }
   ],
   "source": [
    "# Count the number of elements along a given axis\n",
    "count_col = np.count_nonzero(x,axis=0)\n",
    "count_col"
   ]
  },
  {
   "cell_type": "code",
   "execution_count": 85,
   "id": "e9bd3c5d-540c-4d73-ad3d-2a2f4123a1ba",
   "metadata": {},
   "outputs": [
    {
     "data": {
      "text/plain": [
       "array([3, 3, 3])"
      ]
     },
     "execution_count": 85,
     "metadata": {},
     "output_type": "execute_result"
    }
   ],
   "source": [
    "count_row = np.count_nonzero(x,axis=1)\n",
    "count_row"
   ]
  },
  {
   "cell_type": "code",
   "execution_count": 87,
   "id": "b7d4c656-cbea-4d40-9af5-4efb1b57fd0f",
   "metadata": {},
   "outputs": [
    {
     "data": {
      "text/plain": [
       "array([7., 7., 1., 7., 1., 1., 5., 1., 2., 3.])"
      ]
     },
     "execution_count": 87,
     "metadata": {},
     "output_type": "execute_result"
    }
   ],
   "source": [
    "y = np.round(np.random.rand(10)*np.random.rand(10)*10)\n",
    "y"
   ]
  },
  {
   "cell_type": "code",
   "execution_count": 89,
   "id": "eb1282a5-7e22-4413-8f11-e3339b092b4b",
   "metadata": {},
   "outputs": [
    {
     "data": {
      "text/plain": [
       "array([7., 7., 1., 7., 1., 1., 5., 1., 2., 3.])"
      ]
     },
     "execution_count": 89,
     "metadata": {},
     "output_type": "execute_result"
    }
   ],
   "source": [
    "# Trim the leading and/or trailing zeros from a 1-D array\n",
    "np.trim_zeros(y)"
   ]
  },
  {
   "cell_type": "code",
   "execution_count": 91,
   "id": "311f40df-c71a-4b21-9c2b-1872eb10fcd8",
   "metadata": {},
   "outputs": [
    {
     "data": {
      "text/plain": [
       "array([7, 7, 1, 7, 1, 1, 5, 1, 2, 3], dtype=int32)"
      ]
     },
     "execution_count": 91,
     "metadata": {},
     "output_type": "execute_result"
    }
   ],
   "source": [
    "# Change data type of given numpy array\n",
    "z = np.array(y,dtype=np.int32)\n",
    "z"
   ]
  },
  {
   "cell_type": "code",
   "execution_count": 93,
   "id": "28e05694-4055-41ba-b323-0de3fcc3de0b",
   "metadata": {},
   "outputs": [
    {
     "data": {
      "text/plain": [
       "array([3, 2, 1, 5, 1, 1, 7, 1, 7, 7], dtype=int32)"
      ]
     },
     "execution_count": 93,
     "metadata": {},
     "output_type": "execute_result"
    }
   ],
   "source": [
    "# Reverse a numpy array\n",
    "rev = z[::-1]\n",
    "rev"
   ]
  },
  {
   "cell_type": "code",
   "execution_count": 95,
   "id": "872764a0-1aa5-4e98-a685-0607a39c4124",
   "metadata": {},
   "outputs": [],
   "source": [
    "# How to make a NumPy array read-only?\n",
    "rev.setflags(write=False)"
   ]
  },
  {
   "cell_type": "code",
   "execution_count": 97,
   "id": "7253e886-b0cb-4b14-8873-9c489c77f6b2",
   "metadata": {},
   "outputs": [
    {
     "ename": "ValueError",
     "evalue": "assignment destination is read-only",
     "output_type": "error",
     "traceback": [
      "\u001b[0;31m---------------------------------------------------------------------------\u001b[0m",
      "\u001b[0;31mValueError\u001b[0m                                Traceback (most recent call last)",
      "Cell \u001b[0;32mIn[97], line 1\u001b[0m\n\u001b[0;32m----> 1\u001b[0m rev[\u001b[38;5;241m9\u001b[39m]\u001b[38;5;241m=\u001b[39m\u001b[38;5;241m7\u001b[39m\n",
      "\u001b[0;31mValueError\u001b[0m: assignment destination is read-only"
     ]
    }
   ],
   "source": [
    "rev[9]=7"
   ]
  },
  {
   "cell_type": "code",
   "execution_count": 99,
   "id": "b4df85de-40ed-4d08-aeef-20695edc0c75",
   "metadata": {},
   "outputs": [],
   "source": [
    "# Matrix numpy"
   ]
  },
  {
   "cell_type": "code",
   "execution_count": 101,
   "id": "54850593-0efa-4135-8f73-a87b076aaf96",
   "metadata": {},
   "outputs": [
    {
     "data": {
      "text/plain": [
       "matrix([[2, 0, 4, 4],\n",
       "        [5, 0, 9, 3],\n",
       "        [2, 2, 1, 6],\n",
       "        [5, 3, 2, 3]], dtype=int32)"
      ]
     },
     "execution_count": 101,
     "metadata": {},
     "output_type": "execute_result"
    }
   ],
   "source": [
    "# Get the maximum value from given matrix\n",
    "a = np.matrix(np.array(np.round(np.random.rand(4,4)*np.random.rand(4,4)*10),dtype=np.int32))\n",
    "a"
   ]
  },
  {
   "cell_type": "code",
   "execution_count": 103,
   "id": "bcadcd8f-994b-4c3f-9b12-2022edd31bd9",
   "metadata": {},
   "outputs": [
    {
     "data": {
      "text/plain": [
       "9"
      ]
     },
     "execution_count": 103,
     "metadata": {},
     "output_type": "execute_result"
    }
   ],
   "source": [
    "np.max(a)"
   ]
  },
  {
   "cell_type": "code",
   "execution_count": 105,
   "id": "85470c05-b429-4c2a-b10b-6d770afa768e",
   "metadata": {},
   "outputs": [
    {
     "data": {
      "text/plain": [
       "0"
      ]
     },
     "execution_count": 105,
     "metadata": {},
     "output_type": "execute_result"
    }
   ],
   "source": [
    "np.min(a)"
   ]
  },
  {
   "cell_type": "code",
   "execution_count": 107,
   "id": "8ba8b7f0-a866-4253-90fd-0be3ad458b24",
   "metadata": {},
   "outputs": [
    {
     "data": {
      "text/plain": [
       "(4, 4)"
      ]
     },
     "execution_count": 107,
     "metadata": {},
     "output_type": "execute_result"
    }
   ],
   "source": [
    "# Find the number of rows and columns of a given matrix using NumPy\n",
    "a.shape"
   ]
  },
  {
   "cell_type": "code",
   "execution_count": 109,
   "id": "64f0dc3c-fad3-40d5-86c8-136a41caf9ed",
   "metadata": {},
   "outputs": [
    {
     "data": {
      "text/plain": [
       "51"
      ]
     },
     "execution_count": 109,
     "metadata": {},
     "output_type": "execute_result"
    }
   ],
   "source": [
    "# Find the sum of values in a matrix\n",
    "np.sum(a)"
   ]
  },
  {
   "cell_type": "code",
   "execution_count": 111,
   "id": "5c52cc28-23d0-4d12-ad57-4b1dd4630bf3",
   "metadata": {},
   "outputs": [
    {
     "data": {
      "text/plain": [
       "6"
      ]
     },
     "execution_count": 111,
     "metadata": {},
     "output_type": "execute_result"
    }
   ],
   "source": [
    "# Calculate the sum of the diagonal elements of a NumPy array\n",
    "np.sum(np.diagonal(a))"
   ]
  },
  {
   "cell_type": "code",
   "execution_count": 113,
   "id": "f07e23ed-7c58-4ad5-a33b-8a535756f5d1",
   "metadata": {},
   "outputs": [
    {
     "data": {
      "text/plain": [
       "20"
      ]
     },
     "execution_count": 113,
     "metadata": {},
     "output_type": "execute_result"
    }
   ],
   "source": [
    "np.sum(np.fliplr(a).diagonal())"
   ]
  },
  {
   "cell_type": "code",
   "execution_count": 115,
   "id": "df2f412c-89a3-461e-aecf-09c8b2d0d2ce",
   "metadata": {},
   "outputs": [
    {
     "data": {
      "text/plain": [
       "matrix([[1, 0, 1, 1],\n",
       "        [2, 1, 0, 1],\n",
       "        [3, 3, 2, 2],\n",
       "        [1, 2, 3, 0]], dtype=int32)"
      ]
     },
     "execution_count": 115,
     "metadata": {},
     "output_type": "execute_result"
    }
   ],
   "source": [
    "# Adding and Subtracting Matrices in Python\n",
    "b = np.matrix(np.array(np.round(np.random.rand(4,4)*np.random.rand(4,4)*10),dtype=np.int32))\n",
    "b"
   ]
  },
  {
   "cell_type": "code",
   "execution_count": 117,
   "id": "f94e5292-7e55-40ae-9377-7e32d055bc6b",
   "metadata": {},
   "outputs": [
    {
     "data": {
      "text/plain": [
       "matrix([[3, 0, 5, 5],\n",
       "        [7, 1, 9, 4],\n",
       "        [5, 5, 3, 8],\n",
       "        [6, 5, 5, 3]], dtype=int32)"
      ]
     },
     "execution_count": 117,
     "metadata": {},
     "output_type": "execute_result"
    }
   ],
   "source": [
    "a+b"
   ]
  },
  {
   "cell_type": "code",
   "execution_count": 119,
   "id": "f323907d-656a-4115-942b-4f2287b8d006",
   "metadata": {},
   "outputs": [
    {
     "data": {
      "text/plain": [
       "matrix([[3, 0, 5, 5],\n",
       "        [7, 1, 9, 4],\n",
       "        [5, 5, 3, 8],\n",
       "        [6, 5, 5, 3]], dtype=int32)"
      ]
     },
     "execution_count": 119,
     "metadata": {},
     "output_type": "execute_result"
    }
   ],
   "source": [
    "np.add(a,b)"
   ]
  },
  {
   "cell_type": "code",
   "execution_count": 121,
   "id": "5eedc966-1ca3-4736-8161-6798565d9652",
   "metadata": {},
   "outputs": [
    {
     "data": {
      "text/plain": [
       "matrix([[ 1,  0,  3,  3],\n",
       "        [ 3, -1,  9,  2],\n",
       "        [-1, -1, -1,  4],\n",
       "        [ 4,  1, -1,  3]], dtype=int32)"
      ]
     },
     "execution_count": 121,
     "metadata": {},
     "output_type": "execute_result"
    }
   ],
   "source": [
    "a-b"
   ]
  },
  {
   "cell_type": "code",
   "execution_count": 123,
   "id": "43514498-b215-4ec4-b44f-145d123e6de8",
   "metadata": {},
   "outputs": [
    {
     "data": {
      "text/plain": [
       "matrix([[ 1,  0,  3,  3],\n",
       "        [ 3, -1,  9,  2],\n",
       "        [-1, -1, -1,  4],\n",
       "        [ 4,  1, -1,  3]], dtype=int32)"
      ]
     },
     "execution_count": 123,
     "metadata": {},
     "output_type": "execute_result"
    }
   ],
   "source": [
    "np.subtract(a,b)"
   ]
  },
  {
   "cell_type": "code",
   "execution_count": 125,
   "id": "b0b518ac-91d6-4460-85ff-c051c84e8785",
   "metadata": {},
   "outputs": [
    {
     "data": {
      "text/plain": [
       "[10, 17, 11, 13]"
      ]
     },
     "execution_count": 125,
     "metadata": {},
     "output_type": "execute_result"
    }
   ],
   "source": [
    "# Ways to add row/columns in numpy array\n",
    "[np.sum(np.array(layer)) for layer in a] # Row"
   ]
  },
  {
   "cell_type": "code",
   "execution_count": 127,
   "id": "f3bf390a-3dfa-4f4c-9501-a7ece0b1fd09",
   "metadata": {},
   "outputs": [
    {
     "data": {
      "text/plain": [
       "[14, 5, 16, 16]"
      ]
     },
     "execution_count": 127,
     "metadata": {},
     "output_type": "execute_result"
    }
   ],
   "source": [
    "[np.sum(np.array(layer)) for layer in np.transpose(a)] #Column"
   ]
  },
  {
   "cell_type": "code",
   "execution_count": 129,
   "id": "031191b5-d5b8-4bf7-8427-f10918bf06dc",
   "metadata": {},
   "outputs": [
    {
     "data": {
      "text/plain": [
       "matrix([[14,  5, 16, 16]])"
      ]
     },
     "execution_count": 129,
     "metadata": {},
     "output_type": "execute_result"
    }
   ],
   "source": [
    "np.sum(a, axis=0)# Column"
   ]
  },
  {
   "cell_type": "code",
   "execution_count": 131,
   "id": "ec6c4b65-db31-44d8-be75-0010c21e6806",
   "metadata": {},
   "outputs": [
    {
     "data": {
      "text/plain": [
       "matrix([[10],\n",
       "        [17],\n",
       "        [11],\n",
       "        [13]])"
      ]
     },
     "execution_count": 131,
     "metadata": {},
     "output_type": "execute_result"
    }
   ],
   "source": [
    "np.sum(a, axis=1)# Row"
   ]
  },
  {
   "cell_type": "code",
   "execution_count": 133,
   "id": "f2659c62-6025-4a58-a6df-2e107482b7b7",
   "metadata": {},
   "outputs": [
    {
     "data": {
      "text/plain": [
       "matrix([[18, 20, 22, 10],\n",
       "        [35, 33, 32, 23],\n",
       "        [15, 17, 22,  6],\n",
       "        [20, 15, 18, 12]], dtype=int32)"
      ]
     },
     "execution_count": 133,
     "metadata": {},
     "output_type": "execute_result"
    }
   ],
   "source": [
    "# Matrix Multiplication in NumPy\n",
    "a*b"
   ]
  },
  {
   "cell_type": "code",
   "execution_count": 135,
   "id": "1a69cd87-a6e0-4d3a-b8fe-340ec06efca2",
   "metadata": {},
   "outputs": [
    {
     "data": {
      "text/plain": [
       "matrix([[2, 0, 4, 4],\n",
       "        [5, 0, 9, 3],\n",
       "        [2, 2, 1, 6],\n",
       "        [5, 3, 2, 3]], dtype=int32)"
      ]
     },
     "execution_count": 135,
     "metadata": {},
     "output_type": "execute_result"
    }
   ],
   "source": [
    "a"
   ]
  },
  {
   "cell_type": "code",
   "execution_count": 137,
   "id": "b21adee9-18eb-46ad-b3f0-e28a6a8b5d2b",
   "metadata": {},
   "outputs": [
    {
     "data": {
      "text/plain": [
       "matrix([[1, 0, 1, 1],\n",
       "        [2, 1, 0, 1],\n",
       "        [3, 3, 2, 2],\n",
       "        [1, 2, 3, 0]], dtype=int32)"
      ]
     },
     "execution_count": 137,
     "metadata": {},
     "output_type": "execute_result"
    }
   ],
   "source": [
    "b"
   ]
  },
  {
   "cell_type": "code",
   "execution_count": 139,
   "id": "f22af4b1-b570-4d57-ba6a-cc9bbac479f5",
   "metadata": {},
   "outputs": [
    {
     "data": {
      "text/plain": [
       "matrix([[ 9,  5,  7, 13],\n",
       "        [14,  3, 19, 14],\n",
       "        [35, 10, 45, 39],\n",
       "        [18,  6, 25, 28]], dtype=int32)"
      ]
     },
     "execution_count": 139,
     "metadata": {},
     "output_type": "execute_result"
    }
   ],
   "source": [
    "b*a"
   ]
  },
  {
   "cell_type": "code",
   "execution_count": 141,
   "id": "7fdce1e9-2c1b-4b7d-b0a1-e88c8d0b55c8",
   "metadata": {},
   "outputs": [
    {
     "data": {
      "text/plain": [
       "matrix([[18, 20, 22, 10],\n",
       "        [35, 33, 32, 23],\n",
       "        [15, 17, 22,  6],\n",
       "        [20, 15, 18, 12]], dtype=int32)"
      ]
     },
     "execution_count": 141,
     "metadata": {},
     "output_type": "execute_result"
    }
   ],
   "source": [
    "a.dot(b)"
   ]
  },
  {
   "cell_type": "code",
   "execution_count": 143,
   "id": "06407660-1f0f-431c-9448-16572c14584c",
   "metadata": {},
   "outputs": [
    {
     "data": {
      "text/plain": [
       "matrix([[ 9,  5,  7, 13],\n",
       "        [14,  3, 19, 14],\n",
       "        [35, 10, 45, 39],\n",
       "        [18,  6, 25, 28]], dtype=int32)"
      ]
     },
     "execution_count": 143,
     "metadata": {},
     "output_type": "execute_result"
    }
   ],
   "source": [
    "b.dot(a)"
   ]
  },
  {
   "cell_type": "code",
   "execution_count": 145,
   "id": "525dcda3-7b49-4c37-bcb3-156380e1a546",
   "metadata": {},
   "outputs": [
    {
     "data": {
      "text/plain": [
       "array([12.14479437+0.j        , -3.19095679+3.15568267j,\n",
       "       -3.19095679-3.15568267j,  0.23711922+0.j        ])"
      ]
     },
     "execution_count": 145,
     "metadata": {},
     "output_type": "execute_result"
    }
   ],
   "source": [
    "# Get the eigen values of a matrix\n",
    "eigenvalues, eigenvectors = np.linalg.eig(a)\n",
    "eigenvalues"
   ]
  },
  {
   "cell_type": "code",
   "execution_count": 147,
   "id": "66ff49fb-47b4-4013-aba9-6322b93b0996",
   "metadata": {},
   "outputs": [
    {
     "data": {
      "text/plain": [
       "matrix([[-0.38130325+0.j        ,  0.23125457+0.28487421j,\n",
       "          0.23125457-0.28487421j,  0.53085793+0.j        ],\n",
       "        [-0.62081759+0.j        ,  0.70673582+0.j        ,\n",
       "          0.70673582-0.j        , -0.75967759+0.j        ],\n",
       "        [-0.45533391+0.j        , -0.30614709+0.22793595j,\n",
       "         -0.30614709-0.22793595j, -0.35542406+0.j        ],\n",
       "        [-0.51172685+0.j        , -0.21870418-0.41518686j,\n",
       "         -0.21870418+0.41518686j,  0.12146425+0.j        ]])"
      ]
     },
     "execution_count": 147,
     "metadata": {},
     "output_type": "execute_result"
    }
   ],
   "source": [
    "eigenvectors"
   ]
  },
  {
   "cell_type": "code",
   "execution_count": 149,
   "id": "5761bb6f-7949-41ba-846b-c548365b8638",
   "metadata": {},
   "outputs": [
    {
     "data": {
      "text/plain": [
       "57.999999999999986"
      ]
     },
     "execution_count": 149,
     "metadata": {},
     "output_type": "execute_result"
    }
   ],
   "source": [
    "# How to Calculate the determinant of a matrix using NumPy?\n",
    "np.linalg.det(a)"
   ]
  },
  {
   "cell_type": "code",
   "execution_count": 151,
   "id": "c05f434c-bd43-4acc-9ca6-5259830a4e61",
   "metadata": {},
   "outputs": [
    {
     "data": {
      "text/plain": [
       "matrix([[ 1.9137931 , -0.89655172, -1.24137931,  0.82758621],\n",
       "        [-2.89655172,  1.27586207,  1.68965517, -0.79310345],\n",
       "        [-1.24137931,  0.68965517,  0.72413793, -0.48275862],\n",
       "        [ 0.53448276, -0.24137931, -0.10344828,  0.06896552]])"
      ]
     },
     "execution_count": 151,
     "metadata": {},
     "output_type": "execute_result"
    }
   ],
   "source": [
    "# How to inverse a matrix using NumPy\n",
    "np.linalg.inv(a)"
   ]
  },
  {
   "cell_type": "code",
   "execution_count": 153,
   "id": "ad624fd0-4d56-4bf4-af6c-1326ae02e538",
   "metadata": {},
   "outputs": [
    {
     "data": {
      "text/plain": [
       "(matrix([[0, 0, 1, 2, 2, 2, 2, 3, 3, 3, 4, 4, 5, 5, 6, 9]], dtype=int32),\n",
       " array([0, 0, 0, 0, 0, 0, 0, 0, 0, 0, 0, 0, 0, 0, 0, 0, 1, 1, 1, 1, 1, 1,\n",
       "        1, 1, 1, 1, 1, 1, 1, 1, 1, 1]))"
      ]
     },
     "execution_count": 153,
     "metadata": {},
     "output_type": "execute_result"
    }
   ],
   "source": [
    "# How to count the frequency of unique values in NumPy array?\n",
    "np.unique(a, return_counts=True)"
   ]
  },
  {
   "cell_type": "code",
   "execution_count": 155,
   "id": "a0ff0518-8cac-4f82-9957-6b43c7a93049",
   "metadata": {},
   "outputs": [],
   "source": [
    "# Multiply matrices of complex numbers using NumPy in Python\n",
    "x = np.matrix(np.round([[8.5572191+01.5829756j, 09.1874805+04.3182391j, 01.2876313+05.1222221j],\n",
    " [002.486378+02.7310213j, 08.0921419+06.9521217j, 02.8446565+08.9596348j]]))\n",
    "y = np.matrix(np.round([[002.89901 +04.6500811j, 06.5250314+09.7842826j, 08.5902412+004.081894j, 02.4791095+09.9347612j],\n",
    " [02.6727422+01.4351523j, 04.662008 +09.616372j , 08.9607831+09.3086584j, 004.122283+01.349505j ],\n",
    " [09.0827722+09.4164394j, 01.3147812+02.5536031j, 07.8311733+008.866497j, 03.6823746+01.2125719j]]))\n"
   ]
  },
  {
   "cell_type": "code",
   "execution_count": 157,
   "id": "6780c179-d8a8-4e9a-bb75-06feba31d836",
   "metadata": {},
   "outputs": [
    {
     "data": {
      "text/plain": [
       "matrix([[9.+2.j, 9.+4.j, 1.+5.j],\n",
       "        [2.+3.j, 8.+7.j, 3.+9.j]])"
      ]
     },
     "execution_count": 157,
     "metadata": {},
     "output_type": "execute_result"
    }
   ],
   "source": [
    "x"
   ]
  },
  {
   "cell_type": "code",
   "execution_count": 159,
   "id": "4b1ca731-2d3d-4db7-ac78-83edd10a10ec",
   "metadata": {},
   "outputs": [
    {
     "data": {
      "text/plain": [
       "matrix([[3. +5.j, 7.+10.j, 9. +4.j, 2.+10.j],\n",
       "        [3. +1.j, 5.+10.j, 9. +9.j, 4. +1.j],\n",
       "        [9. +9.j, 1. +3.j, 8. +9.j, 4. +1.j]])"
      ]
     },
     "execution_count": 159,
     "metadata": {},
     "output_type": "execute_result"
    }
   ],
   "source": [
    "y"
   ]
  },
  {
   "cell_type": "code",
   "execution_count": 161,
   "id": "2d67731f-6c5d-4d58-ba58-16b1d3b5ff30",
   "metadata": {},
   "outputs": [
    {
     "data": {
      "text/plain": [
       "matrix([[  4.+126.j,  34.+222.j,  81.+220.j,  29.+140.j],\n",
       "        [-46.+156.j, -70.+174.j, -42.+269.j,   2.+101.j]])"
      ]
     },
     "execution_count": 161,
     "metadata": {},
     "output_type": "execute_result"
    }
   ],
   "source": [
    "x*y"
   ]
  },
  {
   "cell_type": "code",
   "execution_count": 163,
   "id": "27426e81-a0e0-44fa-a2c8-845a99ca9807",
   "metadata": {},
   "outputs": [
    {
     "data": {
      "text/plain": [
       "matrix([[  4.+126.j,  34.+222.j,  81.+220.j,  29.+140.j],\n",
       "        [-46.+156.j, -70.+174.j, -42.+269.j,   2.+101.j]])"
      ]
     },
     "execution_count": 163,
     "metadata": {},
     "output_type": "execute_result"
    }
   ],
   "source": [
    "x.dot(y)"
   ]
  },
  {
   "cell_type": "code",
   "execution_count": 165,
   "id": "c263c9e6-f358-4395-88ae-272ced4cb7f1",
   "metadata": {},
   "outputs": [],
   "source": [
    "# Compute the outer product of two given vectors using NumPy in Python\n",
    "p = np.round(np.random.rand(1,3)*10)\n",
    "q = np.round(np.random.rand(1,3)*10)"
   ]
  },
  {
   "cell_type": "code",
   "execution_count": 167,
   "id": "a50ac55f-4834-4513-a035-2437ed8c7ea7",
   "metadata": {},
   "outputs": [
    {
     "data": {
      "text/plain": [
       "array([[5., 3., 6.]])"
      ]
     },
     "execution_count": 167,
     "metadata": {},
     "output_type": "execute_result"
    }
   ],
   "source": [
    "p"
   ]
  },
  {
   "cell_type": "code",
   "execution_count": 169,
   "id": "9c150f6a-f691-46fb-a4d4-0cfe9f8297a1",
   "metadata": {},
   "outputs": [
    {
     "data": {
      "text/plain": [
       "array([[8., 3., 4.]])"
      ]
     },
     "execution_count": 169,
     "metadata": {},
     "output_type": "execute_result"
    }
   ],
   "source": [
    "q"
   ]
  },
  {
   "cell_type": "code",
   "execution_count": 171,
   "id": "a3664615-156b-4674-9576-2367d582a272",
   "metadata": {},
   "outputs": [
    {
     "data": {
      "text/plain": [
       "array([[40., 15., 20.],\n",
       "       [24.,  9., 12.],\n",
       "       [48., 18., 24.]])"
      ]
     },
     "execution_count": 171,
     "metadata": {},
     "output_type": "execute_result"
    }
   ],
   "source": [
    "np.outer(p,q)"
   ]
  },
  {
   "cell_type": "code",
   "execution_count": 173,
   "id": "cdef8c2b-490a-48e9-a1d5-036261fb468f",
   "metadata": {},
   "outputs": [],
   "source": [
    "# Outer[i][j] = p[i]*q[j]"
   ]
  },
  {
   "cell_type": "code",
   "execution_count": 175,
   "id": "763c1ceb-25f6-41e1-9bee-f39c10a25af8",
   "metadata": {},
   "outputs": [
    {
     "data": {
      "text/plain": [
       "array([[73.]])"
      ]
     },
     "execution_count": 175,
     "metadata": {},
     "output_type": "execute_result"
    }
   ],
   "source": [
    "# Calculate inner, outer, and cross products of matrices and vectors using NumPy\n",
    "# inner = p1*q1+p2*q2+p3*q3\n",
    "np.inner(p,q)"
   ]
  },
  {
   "cell_type": "code",
   "execution_count": 177,
   "id": "e118a15a-305d-4563-b50e-465cdcfb6b5f",
   "metadata": {},
   "outputs": [
    {
     "data": {
      "text/plain": [
       "array([[-6., 28., -9.]])"
      ]
     },
     "execution_count": 177,
     "metadata": {},
     "output_type": "execute_result"
    }
   ],
   "source": [
    "# pxq = [(p2q3-p3q2),(-p1q3+p3q1),(p1q2-q1p2)]\n",
    "np.cross(p,q)"
   ]
  },
  {
   "cell_type": "code",
   "execution_count": 179,
   "id": "37bba398-34c9-4d45-9d24-88e26ca432bd",
   "metadata": {},
   "outputs": [],
   "source": [
    "# Compute the Kronecker product of two mulitdimension NumPy arrays\n",
    "m = np.round(np.random.rand(2,2)*10)\n",
    "n = np.round(np.random.rand(2,2)*10)"
   ]
  },
  {
   "cell_type": "code",
   "execution_count": 181,
   "id": "b21ffa93-7db4-4faf-817a-26b2b9064617",
   "metadata": {},
   "outputs": [
    {
     "data": {
      "text/plain": [
       "array([[ 2., 10.],\n",
       "       [ 3.,  4.]])"
      ]
     },
     "execution_count": 181,
     "metadata": {},
     "output_type": "execute_result"
    }
   ],
   "source": [
    "m"
   ]
  },
  {
   "cell_type": "code",
   "execution_count": 183,
   "id": "22ffdd8d-f987-466e-8dc4-b1782110469e",
   "metadata": {},
   "outputs": [
    {
     "data": {
      "text/plain": [
       "array([[4., 8.],\n",
       "       [8., 9.]])"
      ]
     },
     "execution_count": 183,
     "metadata": {},
     "output_type": "execute_result"
    }
   ],
   "source": [
    "n"
   ]
  },
  {
   "cell_type": "code",
   "execution_count": 185,
   "id": "1ee15e91-06b1-40f1-bfb2-9e0089be29b2",
   "metadata": {},
   "outputs": [
    {
     "data": {
      "text/plain": [
       "array([[ 8., 16., 40., 80.],\n",
       "       [16., 18., 80., 90.],\n",
       "       [12., 24., 16., 32.],\n",
       "       [24., 27., 32., 36.]])"
      ]
     },
     "execution_count": 185,
     "metadata": {},
     "output_type": "execute_result"
    }
   ],
   "source": [
    "np.kron(m,n)"
   ]
  },
  {
   "cell_type": "code",
   "execution_count": 187,
   "id": "0a775211-4f14-40f2-bd5d-c21002eabe34",
   "metadata": {},
   "outputs": [
    {
     "data": {
      "text/plain": [
       "array([[ 3.66666667,  5.16666667,  1.5       , -0.83333333,  0.83333333,\n",
       "        -0.66666667, -1.        , -0.33333333],\n",
       "       [ 5.16666667, 14.25      , -3.25      , -1.08333333,  1.41666667,\n",
       "        -1.33333333, -1.16666667,  2.16666667],\n",
       "       [ 1.5       , -3.25      ,  4.91666667,  0.08333333,  0.25      ,\n",
       "         0.33333333, -0.5       , -2.5       ],\n",
       "       [-0.83333333, -1.08333333,  0.08333333,  1.58333333,  0.08333333,\n",
       "         1.        ,  0.5       , -0.83333333],\n",
       "       [ 0.83333333,  1.41666667,  0.25      ,  0.08333333,  0.25      ,\n",
       "         0.        , -0.16666667, -0.16666667],\n",
       "       [-0.66666667, -1.33333333,  0.33333333,  1.        ,  0.        ,\n",
       "         0.66666667,  0.33333333, -0.66666667],\n",
       "       [-1.        , -1.16666667, -0.5       ,  0.5       , -0.16666667,\n",
       "         0.33333333,  0.33333333,  0.        ],\n",
       "       [-0.33333333,  2.16666667, -2.5       , -0.83333333, -0.16666667,\n",
       "        -0.66666667,  0.        ,  1.66666667]])"
      ]
     },
     "execution_count": 187,
     "metadata": {},
     "output_type": "execute_result"
    }
   ],
   "source": [
    "# Convert covariance matrix to correlation matrix using Python\n",
    "np.cov(a,b)"
   ]
  },
  {
   "cell_type": "code",
   "execution_count": 189,
   "id": "eb05ae54-dae1-4959-ab82-16c4a1432d0d",
   "metadata": {},
   "outputs": [
    {
     "data": {
      "text/plain": [
       "[array([5., 3., 6.])]"
      ]
     },
     "execution_count": 189,
     "metadata": {},
     "output_type": "execute_result"
    }
   ],
   "source": [
    "# Convert the matrix into a list\n",
    "list(p)"
   ]
  },
  {
   "cell_type": "code",
   "execution_count": 191,
   "id": "907cee93-a7f7-4f03-bdf6-cb034c4632a7",
   "metadata": {},
   "outputs": [],
   "source": [
    "# Questions on NumPy Indexing\n",
    "# --------------------------"
   ]
  },
  {
   "cell_type": "code",
   "execution_count": 193,
   "id": "7ff51631-44b5-4e0a-9543-32eecaeac782",
   "metadata": {},
   "outputs": [
    {
     "data": {
      "text/plain": [
       "array([[1, 2, 9, 7, 9, 8, 8, 9, 5, 8]], dtype=int32)"
      ]
     },
     "execution_count": 193,
     "metadata": {},
     "output_type": "execute_result"
    }
   ],
   "source": [
    "# Replace NumPy array elements that doesn’t satisfy the given condition\n",
    "A = np.array(np.round(np.random.rand(1,10)*10),dtype = np.int32)\n",
    "A"
   ]
  },
  {
   "cell_type": "code",
   "execution_count": 195,
   "id": "501f876f-4eed-425d-ab76-7f99cf05d4f9",
   "metadata": {},
   "outputs": [],
   "source": [
    "# Method 1: Using Boolean Indexing\n",
    "A[A%2!=0]=0"
   ]
  },
  {
   "cell_type": "code",
   "execution_count": 197,
   "id": "73e14233-6813-4c77-b8d0-e48158f2f77b",
   "metadata": {},
   "outputs": [
    {
     "data": {
      "text/plain": [
       "array([[0, 2, 0, 0, 0, 8, 8, 0, 0, 8]], dtype=int32)"
      ]
     },
     "execution_count": 197,
     "metadata": {},
     "output_type": "execute_result"
    }
   ],
   "source": [
    "A"
   ]
  },
  {
   "cell_type": "code",
   "execution_count": 199,
   "id": "663107c9-689c-449e-b1e3-22feb9585b78",
   "metadata": {},
   "outputs": [
    {
     "data": {
      "text/plain": [
       "array([[-1,  2, -1, -1, -1,  8,  8, -1, -1,  8]], dtype=int32)"
      ]
     },
     "execution_count": 199,
     "metadata": {},
     "output_type": "execute_result"
    }
   ],
   "source": [
    "#Method 2: Using Where\n",
    "np.where(A!=0,A,-1)"
   ]
  },
  {
   "cell_type": "code",
   "execution_count": 201,
   "id": "e6e14bb4-ea96-4723-902f-09797744a5d5",
   "metadata": {},
   "outputs": [
    {
     "data": {
      "text/plain": [
       "array([[ 7,  8,  0, 10,  8,  9,  8,  9,  3,  7]], dtype=int32)"
      ]
     },
     "execution_count": 201,
     "metadata": {},
     "output_type": "execute_result"
    }
   ],
   "source": [
    "# Return the indices of elements where the given condition is satisfied\n",
    "A = np.array(np.round(np.random.rand(1,10)*10),dtype = np.int32)\n",
    "A"
   ]
  },
  {
   "cell_type": "code",
   "execution_count": 203,
   "id": "85b13cc7-b0cb-44b0-8b61-41502557a42b",
   "metadata": {},
   "outputs": [
    {
     "data": {
      "text/plain": [
       "(array([0, 0, 0, 0, 0, 0, 0, 0]), array([0, 1, 3, 4, 5, 6, 7, 9]))"
      ]
     },
     "execution_count": 203,
     "metadata": {},
     "output_type": "execute_result"
    }
   ],
   "source": [
    "# Method1: Using Where\n",
    "np.where(A>5)"
   ]
  },
  {
   "cell_type": "code",
   "execution_count": 205,
   "id": "66da4ef3-4904-4ab7-8bc0-956141a4136d",
   "metadata": {},
   "outputs": [
    {
     "data": {
      "text/plain": [
       "(array([0, 0, 0, 0, 0, 0, 0, 0]), array([0, 1, 3, 4, 5, 6, 7, 9]))"
      ]
     },
     "execution_count": 205,
     "metadata": {},
     "output_type": "execute_result"
    }
   ],
   "source": [
    "# Method2: Using non zero\n",
    "np.nonzero(A>5)"
   ]
  },
  {
   "cell_type": "code",
   "execution_count": 207,
   "id": "489c14d4-40a4-4271-b4c2-2cb1653cf274",
   "metadata": {},
   "outputs": [
    {
     "data": {
      "text/plain": [
       "array([[10.,  6.,  6.,  1.,  1.],\n",
       "       [ 4.,  3.,  5.,  1.,  3.],\n",
       "       [ 3.,  1.,  0.,  7.,  2.],\n",
       "       [ 1.,  1.,  2.,  0.,  1.]])"
      ]
     },
     "execution_count": 207,
     "metadata": {},
     "output_type": "execute_result"
    }
   ],
   "source": [
    "# Replace NaN values with average of columns\n",
    "B = np.array(np.round(np.random.rand(4,5)*10))\n",
    "B"
   ]
  },
  {
   "cell_type": "code",
   "execution_count": 209,
   "id": "a4bc0043-df78-4c93-bf1c-4382b16b8d94",
   "metadata": {},
   "outputs": [
    {
     "data": {
      "text/plain": [
       "array([4.5 , 2.75, 3.25, 2.25, 1.75])"
      ]
     },
     "execution_count": 209,
     "metadata": {},
     "output_type": "execute_result"
    }
   ],
   "source": [
    "np.average(B,axis=0)"
   ]
  },
  {
   "cell_type": "code",
   "execution_count": 211,
   "id": "44c0785c-92f5-4405-9116-99e9fbd38578",
   "metadata": {},
   "outputs": [],
   "source": [
    "B[3][4] = np.NaN\n",
    "B[1][3] = np.NaN\n",
    "B[2][1] = np.NaN"
   ]
  },
  {
   "cell_type": "code",
   "execution_count": 213,
   "id": "dcd7a4b8-2a80-42a9-80fa-a4c78e87e83f",
   "metadata": {},
   "outputs": [
    {
     "data": {
      "text/plain": [
       "array([4.5       , 3.33333333, 3.25      , 2.66666667, 2.        ])"
      ]
     },
     "execution_count": 213,
     "metadata": {},
     "output_type": "execute_result"
    }
   ],
   "source": [
    "col_mean = np.nanmean(B,axis=0)\n",
    "col_mean"
   ]
  },
  {
   "cell_type": "code",
   "execution_count": 215,
   "id": "77c7b91b-8e27-46fd-8420-13b1f9acb635",
   "metadata": {},
   "outputs": [
    {
     "data": {
      "text/plain": [
       "array([[10.        ,  6.        ,  6.        ,  1.        ,  1.        ],\n",
       "       [ 4.        ,  3.        ,  5.        ,  2.66666667,  3.        ],\n",
       "       [ 3.        ,  3.33333333,  0.        ,  7.        ,  2.        ],\n",
       "       [ 1.        ,  1.        ,  2.        ,  0.        ,  2.        ]])"
      ]
     },
     "execution_count": 215,
     "metadata": {},
     "output_type": "execute_result"
    }
   ],
   "source": [
    "B[(np.isnan(B))]=np.take(col_mean,np.where(np.isnan(B))[1])\n",
    "B"
   ]
  },
  {
   "cell_type": "code",
   "execution_count": 217,
   "id": "cf6fc150-920e-4631-a7ea-23f4689ac193",
   "metadata": {},
   "outputs": [],
   "source": [
    "# Replace negative value with zero in numpy array\n",
    "B[3][4] = B[3][4]* -1\n",
    "B[1][3] = B[1][3]* -1\n",
    "B[2][1] = B[2][1]* -1\n",
    "B[B<0] = 0"
   ]
  },
  {
   "cell_type": "code",
   "execution_count": 219,
   "id": "d915fb8f-a3e6-4418-8f00-b4e0254ac4e4",
   "metadata": {},
   "outputs": [
    {
     "data": {
      "text/plain": [
       "array([[10.,  6.,  6.,  1.,  1.],\n",
       "       [ 4.,  3.,  5.,  0.,  3.],\n",
       "       [ 3.,  0.,  0.,  7.,  2.],\n",
       "       [ 1.,  1.,  2.,  0.,  0.]])"
      ]
     },
     "execution_count": 219,
     "metadata": {},
     "output_type": "execute_result"
    }
   ],
   "source": [
    "B"
   ]
  },
  {
   "cell_type": "code",
   "execution_count": 221,
   "id": "56a9e9a2-8fff-4528-a281-6bc250a4c67f",
   "metadata": {},
   "outputs": [
    {
     "data": {
      "text/plain": [
       "1.0"
      ]
     },
     "execution_count": 221,
     "metadata": {},
     "output_type": "execute_result"
    }
   ],
   "source": [
    "# How to get values of an NumPy array at certain index positions?\n",
    "B[3][1]"
   ]
  },
  {
   "cell_type": "code",
   "execution_count": 223,
   "id": "615bcac4-801d-4ed3-983e-f8ef2fcb2324",
   "metadata": {},
   "outputs": [
    {
     "data": {
      "text/plain": [
       "(array([1, 2, 2, 3, 3]), array([3, 1, 2, 3, 4]))"
      ]
     },
     "execution_count": 223,
     "metadata": {},
     "output_type": "execute_result"
    }
   ],
   "source": [
    "# Find indices of elements equal to zero in a NumPy array\n",
    "np.where(B==0)"
   ]
  },
  {
   "cell_type": "code",
   "execution_count": 225,
   "id": "96440dc4-293a-4353-bdcc-41f07fbbf1fb",
   "metadata": {},
   "outputs": [
    {
     "data": {
      "text/plain": [
       "array([[4., 3., 5., 0., 3.],\n",
       "       [1., 1., 2., 0., 0.]])"
      ]
     },
     "execution_count": 225,
     "metadata": {},
     "output_type": "execute_result"
    }
   ],
   "source": [
    "# How to access different rows of a multidimensional NumPy array?\n",
    "# advance\n",
    "B[[1,3]]"
   ]
  },
  {
   "cell_type": "code",
   "execution_count": 227,
   "id": "50beb016-670e-44d5-b192-65bd7eeb4e61",
   "metadata": {},
   "outputs": [
    {
     "data": {
      "text/plain": [
       "array([0, 2])"
      ]
     },
     "execution_count": 227,
     "metadata": {},
     "output_type": "execute_result"
    }
   ],
   "source": [
    "# Get row numbers of NumPy array having element larger than X\n",
    "X = 6\n",
    "np.where(B>X)[0]"
   ]
  },
  {
   "cell_type": "code",
   "execution_count": 229,
   "id": "5ed7b570-2df7-40eb-be83-bb5cce6d3f22",
   "metadata": {},
   "outputs": [
    {
     "data": {
      "text/plain": [
       "True"
      ]
     },
     "execution_count": 229,
     "metadata": {},
     "output_type": "execute_result"
    }
   ],
   "source": [
    "# Check elements present in the NumPy array\n",
    "10 in B"
   ]
  },
  {
   "cell_type": "code",
   "execution_count": 231,
   "id": "303332d0-15bb-4571-994f-b1d1680fb046",
   "metadata": {},
   "outputs": [
    {
     "data": {
      "text/plain": [
       "array([[[ 2., 10.],\n",
       "        [ 4.,  8.]],\n",
       "\n",
       "       [[ 3.,  4.],\n",
       "        [ 8.,  9.]]])"
      ]
     },
     "execution_count": 231,
     "metadata": {},
     "output_type": "execute_result"
    }
   ],
   "source": [
    "# Combined array index by index\n",
    "np.stack((m,n),axis = 1)"
   ]
  },
  {
   "cell_type": "code",
   "execution_count": 233,
   "id": "3ad6115f-5ecc-4242-a708-d3222dd9f819",
   "metadata": {},
   "outputs": [
    {
     "data": {
      "text/plain": [
       "array([[ 4.,  8.],\n",
       "       [ 8.,  9.],\n",
       "       [ 2., 10.],\n",
       "       [ 3.,  4.]])"
      ]
     },
     "execution_count": 233,
     "metadata": {},
     "output_type": "execute_result"
    }
   ],
   "source": [
    "np.concatenate((n,m),axis=0)"
   ]
  },
  {
   "cell_type": "code",
   "execution_count": 235,
   "id": "3a68a8b3-7c10-413d-9983-57e694fbf4ec",
   "metadata": {},
   "outputs": [
    {
     "data": {
      "text/plain": [
       "array([[ 6., 18.],\n",
       "       [11., 13.]])"
      ]
     },
     "execution_count": 235,
     "metadata": {},
     "output_type": "execute_result"
    }
   ],
   "source": [
    "m+n"
   ]
  },
  {
   "cell_type": "code",
   "execution_count": 237,
   "id": "cd77c926-a6b4-4914-abf2-2331233f4832",
   "metadata": {},
   "outputs": [],
   "source": [
    "# Questions on NumPy Sorting and Searching\n",
    "# --------------------------"
   ]
  },
  {
   "cell_type": "code",
   "execution_count": 311,
   "id": "0a12f17b-5dc8-45b3-9dfb-bd44bbd7836d",
   "metadata": {},
   "outputs": [
    {
     "data": {
      "text/plain": [
       "array([6, 9, 8, 0, 2, 6, 1, 4, 6, 8], dtype=int32)"
      ]
     },
     "execution_count": 311,
     "metadata": {},
     "output_type": "execute_result"
    }
   ],
   "source": [
    "# How to get the indices of the sorted array using NumPy in Python?\n",
    "C = np.array(np.round(np.random.rand(10)*10),dtype=np.int32)\n",
    "C"
   ]
  },
  {
   "cell_type": "code",
   "execution_count": 313,
   "id": "a264335d-08f0-4c12-b8cc-d5c915165cab",
   "metadata": {},
   "outputs": [
    {
     "data": {
      "text/plain": [
       "array([3, 6, 4, 7, 0, 5, 8, 2, 9, 1])"
      ]
     },
     "execution_count": 313,
     "metadata": {},
     "output_type": "execute_result"
    }
   ],
   "source": [
    "np.argsort(C)"
   ]
  },
  {
   "cell_type": "code",
   "execution_count": 315,
   "id": "7cf46310-a212-44ec-98bc-c8cb1520568c",
   "metadata": {},
   "outputs": [],
   "source": [
    "# Finding the k smallest values of a NumPy array\n",
    "# Method1: Partition\n",
    "k = 4\n",
    "smallest_k = np.partition(C, k)[:k]"
   ]
  },
  {
   "cell_type": "code",
   "execution_count": 317,
   "id": "430e560c-aeec-4043-9139-2276f307a5b5",
   "metadata": {},
   "outputs": [
    {
     "data": {
      "text/plain": [
       "array([0, 1, 2, 4], dtype=int32)"
      ]
     },
     "execution_count": 317,
     "metadata": {},
     "output_type": "execute_result"
    }
   ],
   "source": [
    "smallest_k"
   ]
  },
  {
   "cell_type": "code",
   "execution_count": 325,
   "id": "ba29d0ce-8410-4d67-8d67-4bc4cb11b705",
   "metadata": {},
   "outputs": [
    {
     "data": {
      "text/plain": [
       "array([0, 1, 2, 4], dtype=int32)"
      ]
     },
     "execution_count": 325,
     "metadata": {},
     "output_type": "execute_result"
    }
   ],
   "source": [
    "# Method2: argsort()\n",
    "C[np.argsort(C)[:k]]"
   ]
  },
  {
   "cell_type": "code",
   "execution_count": 335,
   "id": "eef32e4a-8fc3-41dd-8167-58376d052cd7",
   "metadata": {},
   "outputs": [],
   "source": [
    "# How to get the n-largest values of an array using NumPy?\n",
    "largest_k = C[np.argsort(C)[-k:]]"
   ]
  },
  {
   "cell_type": "code",
   "execution_count": 337,
   "id": "1dd3428d-7707-4f85-b062-46a6f281d9a6",
   "metadata": {},
   "outputs": [
    {
     "data": {
      "text/plain": [
       "array([6, 8, 8, 9], dtype=int32)"
      ]
     },
     "execution_count": 337,
     "metadata": {},
     "output_type": "execute_result"
    }
   ],
   "source": [
    "largest_k"
   ]
  },
  {
   "cell_type": "code",
   "execution_count": 339,
   "id": "fc30b999-1281-46a9-b080-2b80e4fbfdd8",
   "metadata": {},
   "outputs": [
    {
     "data": {
      "text/plain": [
       "'\\nThe numpy.partition() function is used to partially sort an array along a specified axis. Specifically, it rearranges the elements of the array such that:\\n\\nThe element at the \\n𝑘\\nk-th position (0-based index) is in the correct position in the sorted order of the array.\\nAll elements before the \\n𝑘\\nk-th position are smaller or equal to it.\\nAll elements after the \\n𝑘\\nk-th position are greater or equal to it.\\nThe sorting is only partial, so the elements before and after the \\n𝑘\\nk-th position are not necessarily sorted themselves.\\n'"
      ]
     },
     "execution_count": 339,
     "metadata": {},
     "output_type": "execute_result"
    }
   ],
   "source": [
    "'''\n",
    "The numpy.partition() function is used to partially sort an array along a specified axis. Specifically, it rearranges the elements of the array such that:\n",
    "\n",
    "The element at the \n",
    "𝑘\n",
    "k-th position (0-based index) is in the correct position in the sorted order of the array.\n",
    "All elements before the \n",
    "𝑘\n",
    "k-th position are smaller or equal to it.\n",
    "All elements after the \n",
    "𝑘\n",
    "k-th position are greater or equal to it.\n",
    "The sorting is only partial, so the elements before and after the \n",
    "𝑘\n",
    "k-th position are not necessarily sorted themselves.\n",
    "'''\n"
   ]
  },
  {
   "cell_type": "code",
   "execution_count": 341,
   "id": "9c5a4aaa-a499-4f5d-87a2-bc69343f6555",
   "metadata": {},
   "outputs": [
    {
     "data": {
      "text/plain": [
       "'\\n\\nThe numpy.argsort() function returns the indices that would sort an array. Instead of returning the sorted array itself, it provides the indices of the original array elements in sorted order.\\n'"
      ]
     },
     "execution_count": 341,
     "metadata": {},
     "output_type": "execute_result"
    }
   ],
   "source": [
    "'''\n",
    "\n",
    "The numpy.argsort() function returns the indices that would sort an array. Instead of returning the sorted array itself, it provides the indices of the original array elements in sorted order.\n",
    "'''"
   ]
  },
  {
   "cell_type": "code",
   "execution_count": 343,
   "id": "1aaec19c-4d9e-4510-ba8c-c8b05a04dcb6",
   "metadata": {},
   "outputs": [
    {
     "data": {
      "text/plain": [
       "array([6, 6, 6, 9, 8, 8], dtype=int32)"
      ]
     },
     "execution_count": 343,
     "metadata": {},
     "output_type": "execute_result"
    }
   ],
   "source": [
    "np.partition(C, k)[k:]"
   ]
  },
  {
   "cell_type": "code",
   "execution_count": 345,
   "id": "28c71000-69e9-4198-ada3-c1416db69f55",
   "metadata": {},
   "outputs": [],
   "source": [
    "# Sort the values in a matrix\n",
    "C.sort()"
   ]
  },
  {
   "cell_type": "code",
   "execution_count": 347,
   "id": "d4cca303-b543-4030-adf4-010896f10ac1",
   "metadata": {},
   "outputs": [
    {
     "data": {
      "text/plain": [
       "array([0, 1, 2, 4, 6, 6, 6, 8, 8, 9], dtype=int32)"
      ]
     },
     "execution_count": 347,
     "metadata": {},
     "output_type": "execute_result"
    }
   ],
   "source": [
    "C"
   ]
  },
  {
   "cell_type": "code",
   "execution_count": 349,
   "id": "ed31ce93-03d0-4408-b334-a3628ae66e35",
   "metadata": {},
   "outputs": [],
   "source": [
    "# Filter out integers from float numpy array\n",
    "arr = np.array([1.2, 2.0, 3.5, 4.0, 5.8, 6.0])  # Float array with some integers\n",
    "filtered = arr[np.modf(arr)[0] != 0]  # Keep only non-integer values"
   ]
  },
  {
   "cell_type": "code",
   "execution_count": 351,
   "id": "3cc3422b-66b2-4992-b8d6-c682c26bc649",
   "metadata": {},
   "outputs": [
    {
     "data": {
      "text/plain": [
       "array([1.2, 3.5, 5.8])"
      ]
     },
     "execution_count": 351,
     "metadata": {},
     "output_type": "execute_result"
    }
   ],
   "source": [
    "filtered"
   ]
  },
  {
   "cell_type": "code",
   "execution_count": 355,
   "id": "0a1666f7-170f-4040-96a6-51c371d281b5",
   "metadata": {},
   "outputs": [
    {
     "name": "stdout",
     "output_type": "stream",
     "text": [
      "[1 3 2 0]\n"
     ]
    }
   ],
   "source": [
    "# Find the indices into a sorted array\n",
    "arr = np.array([40, 10, 30, 20])\n",
    "indices = np.argsort(arr)\n",
    "\n",
    "print(indices)"
   ]
  },
  {
   "cell_type": "code",
   "execution_count": 447,
   "id": "849cbe51-0f1a-4bf7-8ee6-dd2f6d9f1f2d",
   "metadata": {},
   "outputs": [],
   "source": [
    "# How to get element-wise true division of an array using Numpy?\n",
    "a = (np.random.rand(4,5)*10*np.random.randint(-1,2))\n",
    "b = (np.random.rand(4,5)*10*np.random.randint(-1,2))"
   ]
  },
  {
   "cell_type": "code",
   "execution_count": 449,
   "id": "34e9d47c-6e31-43fb-a2bf-5300c69790d1",
   "metadata": {},
   "outputs": [
    {
     "data": {
      "text/plain": [
       "array([[-0.98571794, -9.99405431, -5.78471849, -4.28037207, -6.38748412],\n",
       "       [-5.39698894, -7.82849251, -2.71218238, -2.85507212, -4.76015689],\n",
       "       [-8.98994659, -6.39530621, -8.21509311, -6.80884685, -2.3628295 ],\n",
       "       [-8.07765814, -2.7368419 , -5.67437493, -1.42001845, -3.25575213]])"
      ]
     },
     "execution_count": 449,
     "metadata": {},
     "output_type": "execute_result"
    }
   ],
   "source": [
    "a"
   ]
  },
  {
   "cell_type": "code",
   "execution_count": 451,
   "id": "ad72e818-73c1-4a49-b5a9-01bb7a1c21ae",
   "metadata": {},
   "outputs": [
    {
     "data": {
      "text/plain": [
       "array([[6.50450658, 4.88934137, 0.88822011, 5.05090535, 9.85858433],\n",
       "       [0.2085724 , 5.49400231, 3.68088556, 6.29673803, 8.55835413],\n",
       "       [1.34779555, 3.13562108, 7.95641022, 8.76775471, 6.22476398],\n",
       "       [2.38481456, 2.60864059, 0.91338537, 3.82860847, 1.63238718]])"
      ]
     },
     "execution_count": 451,
     "metadata": {},
     "output_type": "execute_result"
    }
   ],
   "source": [
    "b"
   ]
  },
  {
   "cell_type": "code",
   "execution_count": 453,
   "id": "6d524c07-ef6d-4428-9d4e-382ac4a33bb4",
   "metadata": {},
   "outputs": [
    {
     "data": {
      "text/plain": [
       "array([[ -0.15154384,  -2.0440492 ,  -6.51270831,  -0.8474465 ,\n",
       "         -0.64791089],\n",
       "       [-25.87585396,  -1.42491613,  -0.73682877,  -0.45342082,\n",
       "         -0.55620004],\n",
       "       [ -6.67011152,  -2.03956602,  -1.03251251,  -0.77657816,\n",
       "         -0.3795854 ],\n",
       "       [ -3.38712211,  -1.04914487,  -6.21246534,  -0.37089675,\n",
       "         -1.99447298]])"
      ]
     },
     "execution_count": 453,
     "metadata": {},
     "output_type": "execute_result"
    }
   ],
   "source": [
    "a/b"
   ]
  },
  {
   "cell_type": "code",
   "execution_count": 455,
   "id": "c78bbc4e-f0a4-448b-981a-e30db4821cbb",
   "metadata": {},
   "outputs": [
    {
     "data": {
      "text/plain": [
       "array([[0.98571794, 9.99405431, 5.78471849, 4.28037207, 6.38748412],\n",
       "       [5.39698894, 7.82849251, 2.71218238, 2.85507212, 4.76015689],\n",
       "       [8.98994659, 6.39530621, 8.21509311, 6.80884685, 2.3628295 ],\n",
       "       [8.07765814, 2.7368419 , 5.67437493, 1.42001845, 3.25575213]])"
      ]
     },
     "execution_count": 455,
     "metadata": {},
     "output_type": "execute_result"
    }
   ],
   "source": [
    "# How to calculate the element-wise absolute value of NumPy array?\n",
    "a = np.abs(a)\n",
    "a"
   ]
  },
  {
   "cell_type": "code",
   "execution_count": 457,
   "id": "1ba20878-6756-4ec1-a85e-64a7423128b9",
   "metadata": {},
   "outputs": [
    {
     "data": {
      "text/plain": [
       "array([[0.98571794, 9.99405431, 5.78471849, 4.28037207, 6.38748412],\n",
       "       [5.39698894, 7.82849251, 2.71218238, 2.85507212, 4.76015689],\n",
       "       [8.98994659, 6.39530621, 8.21509311, 6.80884685, 2.3628295 ],\n",
       "       [8.07765814, 2.7368419 , 5.67437493, 1.42001845, 3.25575213]])"
      ]
     },
     "execution_count": 457,
     "metadata": {},
     "output_type": "execute_result"
    }
   ],
   "source": [
    "# How to calculate the element-wise absolute value of NumPy array?\n",
    "a = np.abs(a)\n",
    "a"
   ]
  },
  {
   "cell_type": "code",
   "execution_count": 461,
   "id": "adc67bd7-bf32-4b86-9988-97a3a33255c9",
   "metadata": {},
   "outputs": [
    {
     "data": {
      "text/plain": [
       "array([[0.98571794, 9.99405431, 5.78471849, 4.28037207, 6.38748412],\n",
       "       [5.39698894, 7.82849251, 2.71218238, 2.85507212, 4.76015689],\n",
       "       [8.98994659, 6.39530621, 8.21509311, 6.80884685, 2.3628295 ],\n",
       "       [8.07765814, 2.7368419 , 5.67437493, 1.42001845, 3.25575213]])"
      ]
     },
     "execution_count": 461,
     "metadata": {},
     "output_type": "execute_result"
    }
   ],
   "source": [
    "# Compute the negative of the NumPy array\n",
    "a = -a\n",
    "a"
   ]
  },
  {
   "cell_type": "code",
   "execution_count": 512,
   "id": "3cf9594d-9af1-4b19-b1db-ffe2ff968ed9",
   "metadata": {},
   "outputs": [],
   "source": [
    "# Multiply 2d numpy array corresponding to 1d array\n",
    "p = np.round(np.random.rand(5)*10)\n",
    "q = np.round(np.random.rand(5,4)*10)"
   ]
  },
  {
   "cell_type": "code",
   "execution_count": 514,
   "id": "b73a1aab-87cb-45b7-a912-632c04e96748",
   "metadata": {},
   "outputs": [
    {
     "data": {
      "text/plain": [
       "array([5., 0., 6., 3., 9.])"
      ]
     },
     "execution_count": 514,
     "metadata": {},
     "output_type": "execute_result"
    }
   ],
   "source": [
    "p"
   ]
  },
  {
   "cell_type": "code",
   "execution_count": 516,
   "id": "f56f70e2-58f3-4196-acb9-daf98512420d",
   "metadata": {},
   "outputs": [
    {
     "data": {
      "text/plain": [
       "array([[2., 6., 5., 3.],\n",
       "       [9., 4., 1., 6.],\n",
       "       [5., 7., 5., 7.],\n",
       "       [5., 5., 6., 9.],\n",
       "       [2., 7., 3., 5.]])"
      ]
     },
     "execution_count": 516,
     "metadata": {},
     "output_type": "execute_result"
    }
   ],
   "source": [
    "q"
   ]
  },
  {
   "cell_type": "code",
   "execution_count": 520,
   "id": "3bfa664b-71ab-44ba-afed-d41b9520c17b",
   "metadata": {},
   "outputs": [
    {
     "name": "stdout",
     "output_type": "stream",
     "text": [
      "[[5.]\n",
      " [0.]\n",
      " [6.]\n",
      " [3.]\n",
      " [9.]]\n",
      "[[10. 30. 25. 15.]\n",
      " [ 0.  0.  0.  0.]\n",
      " [30. 42. 30. 42.]\n",
      " [15. 15. 18. 27.]\n",
      " [18. 63. 27. 45.]]\n"
     ]
    }
   ],
   "source": [
    "p = p.reshape(p.shape[0],1)\n",
    "print(p)\n",
    "print(p*q)"
   ]
  },
  {
   "cell_type": "code",
   "execution_count": 542,
   "id": "d7e1ed83-55d7-47f4-905a-9eb2d9e604e4",
   "metadata": {},
   "outputs": [
    {
     "name": "stdout",
     "output_type": "stream",
     "text": [
      "[[0. 5. 3. 1. 3.]]\n",
      "[[1. 7. 4. 9. 4.]\n",
      " [1. 6. 3. 5. 7.]\n",
      " [2. 7. 9. 7. 3.]]\n",
      "[[68. 65. 78.]]\n"
     ]
    }
   ],
   "source": [
    "# Computes the inner product of two arrays\n",
    "x = np.round(np.random.rand(1,5)*10)\n",
    "y = np.round(np.random.rand(3,5)*10)\n",
    "print(x)\n",
    "print(y)\n",
    "print(np.inner(x,y))"
   ]
  },
  {
   "cell_type": "code",
   "execution_count": 526,
   "id": "08fb869c-857a-4537-8507-bb241a27b423",
   "metadata": {},
   "outputs": [
    {
     "data": {
      "text/plain": [
       "array([[0.3 , 0.9 , 0.75, 0.45],\n",
       "       [1.35, 0.6 , 0.15, 0.9 ],\n",
       "       [0.75, 1.05, 0.75, 1.05],\n",
       "       [0.75, 0.75, 0.9 , 1.35],\n",
       "       [0.3 , 1.05, 0.45, 0.75]])"
      ]
     },
     "execution_count": 526,
     "metadata": {},
     "output_type": "execute_result"
    }
   ],
   "source": [
    "# Compute the nth percentile of the NumPy array\n",
    "n = 15\n",
    "q * (15/100)"
   ]
  },
  {
   "cell_type": "code",
   "execution_count": 548,
   "id": "5129736b-8f28-465d-a746-0c1933686991",
   "metadata": {},
   "outputs": [
    {
     "name": "stdout",
     "output_type": "stream",
     "text": [
      "[9. 2. 5. 6. 9. 4. 4. 5. 9. 1.]\n",
      "[-7.  3.  1.  3. -5.  0.  1.  4. -8.]\n",
      "[ 10.  -2.   2.  -8.   5.   1.   3. -12.]\n"
     ]
    }
   ],
   "source": [
    "# Calculate the n-th order discrete difference along the given axis\n",
    "# The n-th order discrete difference is a measure of the difference between successive elements of an array, applied recursively. It computes the difference of an array's elements along a specified axis, and the operation can be applied multiple times (for n-th order difference).\n",
    "\n",
    "# For example:\n",
    "\n",
    "# First-order difference: Computes the difference between consecutive elements.\n",
    "# Second-order difference: Computes the difference of the first-order differences, and so on.\n",
    "# In NumPy, the function used for calculating the n-th order discrete difference is np.diff(). By specifying the n parameter, you can control how many times the difference is applied.\n",
    "\n",
    "k = np.round(np.random.rand(10)*10)\n",
    "x1 = np.diff(k,n=1)\n",
    "print(k)\n",
    "print(x1)\n",
    "x2 = np.diff(k,n=2)\n",
    "print(x2)"
   ]
  },
  {
   "cell_type": "code",
   "execution_count": 552,
   "id": "701e5c33-ff92-4c9d-b5c7-ac261c52a7ec",
   "metadata": {},
   "outputs": [
    {
     "name": "stdout",
     "output_type": "stream",
     "text": [
      "[[ 6.  5.  7.  2.  3.]\n",
      " [ 1.  7.  4. 10.  5.]\n",
      " [ 2.  9.  1.  2.  6.]\n",
      " [ 3.  2.  6.  0.  9.]\n",
      " [ 6.  8.  6.  2.  5.]]\n"
     ]
    },
    {
     "data": {
      "text/plain": [
       "array([18., 31., 24., 16., 28.])"
      ]
     },
     "execution_count": 552,
     "metadata": {},
     "output_type": "execute_result"
    }
   ],
   "source": [
    "# Calculate the sum of all columns in a 2D NumPy array\n",
    "g = np.round(np.random.rand(5,5)*10)\n",
    "print(g)\n",
    "np.sum(g,axis=0)"
   ]
  },
  {
   "cell_type": "code",
   "execution_count": 562,
   "id": "3998d668-b389-4bb2-bc0b-84c0807590a2",
   "metadata": {},
   "outputs": [
    {
     "name": "stdout",
     "output_type": "stream",
     "text": [
      "[[10.  9.  1.  4.]\n",
      " [ 0.  5.  9.  1.]\n",
      " [ 5.  0.  8.  7.]\n",
      " [10.  0.  6.  3.]]\n",
      "[[9. 8. 3. 5.]\n",
      " [8. 8. 1. 4.]\n",
      " [7. 9. 4. 1.]\n",
      " [3. 9. 6. 4.]]\n"
     ]
    },
    {
     "data": {
      "text/plain": [
       "array([[9.5, 8.5, 2. , 4.5],\n",
       "       [4. , 6.5, 5. , 2.5],\n",
       "       [6. , 4.5, 6. , 4. ],\n",
       "       [6.5, 4.5, 6. , 3.5]])"
      ]
     },
     "execution_count": 562,
     "metadata": {},
     "output_type": "execute_result"
    }
   ],
   "source": [
    "# Calculate average values of two given NumPy arrays\n",
    "p1 = np.round(np.random.rand(4,4)*10)\n",
    "p2 = np.round(np.random.rand(4,4)*10)\n",
    "print(p1)\n",
    "print(p2)\n",
    "(p1+p2)/2"
   ]
  },
  {
   "cell_type": "code",
   "execution_count": 568,
   "id": "efdd57f6-eb49-4806-a9ee-134c9f0dbdd6",
   "metadata": {},
   "outputs": [
    {
     "data": {
      "text/plain": [
       "array([[-10.,  -9.,  -1.,  -4.],\n",
       "       [ -0.,  -5.,  -9.,  -1.],\n",
       "       [ -5.,  -0.,  -8.,  -7.],\n",
       "       [-10.,  -0.,  -6.,  -3.]])"
      ]
     },
     "execution_count": 568,
     "metadata": {},
     "output_type": "execute_result"
    }
   ],
   "source": [
    "# How to compute numerical negative value for all elements in a given NumPy array?\n",
    "p1 = p1 * -1\n",
    "p1"
   ]
  },
  {
   "cell_type": "code",
   "execution_count": 580,
   "id": "9e14c159-c4d0-4043-b52f-9f264ee8cb24",
   "metadata": {},
   "outputs": [
    {
     "name": "stdout",
     "output_type": "stream",
     "text": [
      "[[7.75141681 6.1281323  4.93104476 8.6641531  2.20740009]\n",
      " [3.91354649 2.03358636 5.57685071 9.51651284 8.37365971]\n",
      " [6.14574642 7.15004051 9.66790004 3.70943404 0.47279517]\n",
      " [7.56898919 9.74214137 8.63548024 3.13336195 3.18792348]]\n",
      "[[7. 6. 4. 8. 2.]\n",
      " [3. 2. 5. 9. 8.]\n",
      " [6. 7. 9. 3. 0.]\n",
      " [7. 9. 8. 3. 3.]]\n",
      "[[ 8.  7.  5.  9.  3.]\n",
      " [ 4.  3.  6. 10.  9.]\n",
      " [ 7.  8. 10.  4.  1.]\n",
      " [ 8. 10.  9.  4.  4.]]\n",
      "[[7. 6. 4. 8. 2.]\n",
      " [3. 2. 5. 9. 8.]\n",
      " [6. 7. 9. 3. 0.]\n",
      " [7. 9. 8. 3. 3.]]\n"
     ]
    }
   ],
   "source": [
    "# How to get the floor, ceiling and truncated values of the elements of a numpy array?\n",
    "d1 = np.random.rand(4,5)*10\n",
    "print(d1)\n",
    "print(np.floor(d1))\n",
    "print(np.ceil(d1))\n",
    "print(np.trunc(d1))"
   ]
  },
  {
   "cell_type": "code",
   "execution_count": 582,
   "id": "e456d8fe-452a-4c0d-8a0d-da03e9cd3dc6",
   "metadata": {},
   "outputs": [
    {
     "name": "stdout",
     "output_type": "stream",
     "text": [
      "[[ 8.  6.  5.  9.  2.]\n",
      " [ 4.  2.  6. 10.  8.]\n",
      " [ 6.  7. 10.  4.  0.]\n",
      " [ 8. 10.  9.  3.  3.]]\n"
     ]
    }
   ],
   "source": [
    "# How to round elements of the NumPy array to the nearest integer? or Find the round off the values of the given matrix\n",
    "print(np.round(d1))"
   ]
  },
  {
   "cell_type": "code",
   "execution_count": 586,
   "id": "b2cb8fdd-9c52-4da8-8c0c-a8435d10c3a1",
   "metadata": {},
   "outputs": [
    {
     "name": "stdout",
     "output_type": "stream",
     "text": [
      "[[ 4096.  1296.   625.  6561.    16.]\n",
      " [  256.    16.  1296. 10000.  4096.]\n",
      " [ 1296.  2401. 10000.   256.     0.]\n",
      " [ 4096. 10000.  6561.    81.    81.]]\n"
     ]
    }
   ],
   "source": [
    "# Determine the positive square-root of an array\n",
    "d1 = np.round(d1) ** 2\n",
    "print(d1)"
   ]
  },
  {
   "cell_type": "code",
   "execution_count": 596,
   "id": "4d40e723-c912-4081-bebf-91a00d4e34d5",
   "metadata": {},
   "outputs": [
    {
     "name": "stdout",
     "output_type": "stream",
     "text": [
      "[ 1.  6. 10.  2.  5.  6.  1. 10.  1.  8.]\n"
     ]
    },
    {
     "data": {
      "text/plain": [
       "50.0"
      ]
     },
     "execution_count": 596,
     "metadata": {},
     "output_type": "execute_result"
    }
   ],
   "source": [
    "# Evaluate Einstein’s summation convention of two multidimensional NumPy arrays\n",
    "d2 = np.round(np.random.rand(10)*10)\n",
    "print(d2)\n",
    "np.einsum('i->', d2)"
   ]
  },
  {
   "cell_type": "raw",
   "id": "14d92b2d-1fac-4db4-969b-0861ef3809a3",
   "metadata": {},
   "source": [
    "Questions on NumPy Statistics\n",
    "--------------------------\n",
    "Calculate the mean across dimension in a 2D NumPy array\n",
    "Calculate the average, variance and standard deviation in Python using NumPy\n",
    "Describe a NumPy Array in Python"
   ]
  },
  {
   "cell_type": "code",
   "execution_count": 603,
   "id": "ba287378-9793-4d6b-bc97-16ff91ec2d96",
   "metadata": {},
   "outputs": [
    {
     "name": "stdout",
     "output_type": "stream",
     "text": [
      "[[1. 9. 5. 7. 4.]\n",
      " [3. 7. 7. 7. 6.]\n",
      " [6. 4. 7. 4. 6.]\n",
      " [5. 9. 7. 3. 3.]]\n",
      "[1. 9. 5. 7. 4. 3. 7. 7. 7. 6. 6. 4. 7. 4. 6. 5. 9. 7. 3. 3.]\n"
     ]
    },
    {
     "data": {
      "text/plain": [
       "6.0"
      ]
     },
     "execution_count": 603,
     "metadata": {},
     "output_type": "execute_result"
    }
   ],
   "source": [
    "# Compute the median of the flattened NumPy array\n",
    "d1 = np.round(np.random.rand(4,5)*10)\n",
    "print(d1)\n",
    "d2 = d1.flatten()\n",
    "print(d2)\n",
    "np.median(d2)"
   ]
  },
  {
   "cell_type": "code",
   "execution_count": 605,
   "id": "a7e353bd-2f90-454b-909d-fb962cb065dd",
   "metadata": {},
   "outputs": [
    {
     "data": {
      "text/plain": [
       "5.5"
      ]
     },
     "execution_count": 605,
     "metadata": {},
     "output_type": "execute_result"
    }
   ],
   "source": [
    "# Find Mean of a List of Numpy Array\n",
    "np.mean(d2)"
   ]
  },
  {
   "cell_type": "code",
   "execution_count": 607,
   "id": "400b49bc-a9ad-421d-b9ab-64cf48c05a7c",
   "metadata": {},
   "outputs": [
    {
     "name": "stdout",
     "output_type": "stream",
     "text": [
      "[ 1.  9.  5.  7. nan  3.  7. nan  7.  6.  6.  4.  7.  4.  6.  5.  9.  7.\n",
      "  3.  3.]\n"
     ]
    },
    {
     "data": {
      "text/plain": [
       "1.0"
      ]
     },
     "execution_count": 607,
     "metadata": {},
     "output_type": "execute_result"
    }
   ],
   "source": [
    "# Calculate the mean of array ignoring the NaN value\n",
    "d2[4] = np.NaN\n",
    "d2[7] = np.NaN\n",
    "print(d2)\n",
    "np.mean(d2!=np.NaN)"
   ]
  },
  {
   "cell_type": "code",
   "execution_count": 613,
   "id": "56f95af0-9afa-400e-9851-111bce7805aa",
   "metadata": {},
   "outputs": [
    {
     "name": "stdout",
     "output_type": "stream",
     "text": [
      "[[ 8.  6.  3.  1.  4. 10.]]\n"
     ]
    }
   ],
   "source": [
    "# Get the mean value from given matrix\n",
    "matrix_arr = np.matrix(np.round(np.random.rand(6)*10))\n",
    "print(matrix_arr)"
   ]
  },
  {
   "cell_type": "code",
   "execution_count": 615,
   "id": "f351874c-4ef0-4044-854c-4319eeab982e",
   "metadata": {},
   "outputs": [
    {
     "data": {
      "text/plain": [
       "5.333333333333333"
      ]
     },
     "execution_count": 615,
     "metadata": {},
     "output_type": "execute_result"
    }
   ],
   "source": [
    "np.matrix.mean(matrix_arr)"
   ]
  },
  {
   "cell_type": "code",
   "execution_count": 617,
   "id": "b7bcd441-b66b-4e1b-b89a-d46c8f0fac6b",
   "metadata": {},
   "outputs": [
    {
     "data": {
      "text/plain": [
       "9.222222222222221"
      ]
     },
     "execution_count": 617,
     "metadata": {},
     "output_type": "execute_result"
    }
   ],
   "source": [
    "# Compute the variance of the NumPy array\n",
    "np.matrix.var(matrix_arr)"
   ]
  },
  {
   "cell_type": "code",
   "execution_count": 621,
   "id": "68dda66f-f5d3-455f-af49-3398d06b2da7",
   "metadata": {},
   "outputs": [
    {
     "data": {
      "text/plain": [
       "3.0368111930480994"
      ]
     },
     "execution_count": 621,
     "metadata": {},
     "output_type": "execute_result"
    }
   ],
   "source": [
    "# Compute the standard deviation of the NumPy array\n",
    "np.matrix.std(matrix_arr)"
   ]
  },
  {
   "cell_type": "code",
   "execution_count": 627,
   "id": "1b14f6bf-f947-4ea6-adc9-769dbd28dfc3",
   "metadata": {},
   "outputs": [
    {
     "name": "stdout",
     "output_type": "stream",
     "text": [
      "[[b'Deep' b'Hello' b'World' b'Python' b'AI']\n",
      " [b'Deep' b'Hello' b'World' b'Python' b'AI']\n",
      " [b'Deep' b'Hello' b'World' b'Python' b'AI']\n",
      " [b'Deep' b'Hello' b'World' b'Python' b'AI']]\n",
      "[[b'DeepDeep' b'HelloHello' b'WorldWorld' b'PythonPython' b'AIAI']\n",
      " [b'DeepDeep' b'HelloHello' b'WorldWorld' b'PythonPython' b'AIAI']\n",
      " [b'DeepDeep' b'HelloHello' b'WorldWorld' b'PythonPython' b'AIAI']\n",
      " [b'DeepDeep' b'HelloHello' b'WorldWorld' b'PythonPython' b'AIAI']]\n"
     ]
    }
   ],
   "source": [
    "# Repeat all the elements of a NumPy array of strings\n",
    "str_arr = np.array([[\"Deep\", \"Hello\", \"World\", \"Python\", \"AI\"],\n",
    "                    [\"Deep\", \"Hello\", \"World\", \"Python\", \"AI\"],\n",
    "                    [\"Deep\", \"Hello\", \"World\", \"Python\", \"AI\"],\n",
    "                    [\"Deep\", \"Hello\", \"World\", \"Python\", \"AI\"]], dtype=np.string_)\n",
    "print(str_arr)\n",
    "new_strarr = np.char.multiply(str_arr,2)\n",
    "print(new_strarr)"
   ]
  },
  {
   "cell_type": "code",
   "execution_count": 657,
   "id": "d327fe60-e7ac-4502-8823-67ac9c052f09",
   "metadata": {},
   "outputs": [
    {
     "data": {
      "text/plain": [
       "array([[b'Here is the thing', b\"We don't talk about it\"],\n",
       "       [b\"It's all giiberish\", b'I mean it']], dtype='|S22')"
      ]
     },
     "execution_count": 657,
     "metadata": {},
     "output_type": "execute_result"
    }
   ],
   "source": [
    "# How to split the element of a given NumPy array with spaces?\n",
    "v = np.array([[\"Here is the thing\",\"We don't talk about it\"],[\"It's all giiberish\",\"I mean it\"]],dtype = np.string_)\n",
    "v"
   ]
  },
  {
   "cell_type": "code",
   "execution_count": 659,
   "id": "7d96de99-9193-44ef-b7ac-ff15b4d7bb3d",
   "metadata": {},
   "outputs": [
    {
     "data": {
      "text/plain": [
       "array([[list([b'Here', b'is', b'the', b'thing']),\n",
       "        list([b'We', b\"don't\", b'talk', b'about', b'it'])],\n",
       "       [list([b\"It's\", b'all', b'giiberish']),\n",
       "        list([b'I', b'mean', b'it'])]], dtype=object)"
      ]
     },
     "execution_count": 659,
     "metadata": {},
     "output_type": "execute_result"
    }
   ],
   "source": [
    "np.char.split(v)"
   ]
  },
  {
   "cell_type": "code",
   "execution_count": 671,
   "id": "34aa06f8-7a98-49fd-b556-c26bede5bd82",
   "metadata": {},
   "outputs": [
    {
     "name": "stdout",
     "output_type": "stream",
     "text": [
      "[['D e e p' 'H e l l o' 'W o r l d' 'P y t h o n' 'A I']\n",
      " ['D e e p' 'H e l l o' 'W o r l d' 'P y t h o n' 'A I']\n",
      " ['D e e p' 'H e l l o' 'W o r l d' 'P y t h o n' 'A I']\n",
      " ['D e e p' 'H e l l o' 'W o r l d' 'P y t h o n' 'A I']]\n"
     ]
    }
   ],
   "source": [
    "# How to insert a space between characters of all the elements of a given NumPy array?\n",
    "# Create a NumPy array of strings\n",
    "v1 = np.array([[\"Deep\", \"Hello\", \"World\", \"Python\", \"AI\"],\n",
    "                    [\"Deep\", \"Hello\", \"World\", \"Python\", \"AI\"],\n",
    "                    [\"Deep\", \"Hello\", \"World\", \"Python\", \"AI\"],\n",
    "                    [\"Deep\", \"Hello\", \"World\", \"Python\", \"AI\"]], dtype=np.str_)\n",
    "\n",
    "# # Insert a space between each character of every element\n",
    "spaced_v1 = np.char.join(\" \", v1)\n",
    "\n",
    "# Print result\n",
    "print(spaced_v1)"
   ]
  },
  {
   "cell_type": "code",
   "execution_count": 673,
   "id": "28f655ad-f0b4-48a0-89ba-512501fb8ae6",
   "metadata": {},
   "outputs": [],
   "source": [
    "# Find the length of each string element in the Numpy array\n",
    "n1 = np.char.str_len(v1)"
   ]
  },
  {
   "cell_type": "code",
   "execution_count": 675,
   "id": "1a680c5c-33f7-49a2-93f6-d2ad7a9c595d",
   "metadata": {},
   "outputs": [
    {
     "data": {
      "text/plain": [
       "array([[4, 5, 5, 6, 2],\n",
       "       [4, 5, 5, 6, 2],\n",
       "       [4, 5, 5, 6, 2],\n",
       "       [4, 5, 5, 6, 2]])"
      ]
     },
     "execution_count": 675,
     "metadata": {},
     "output_type": "execute_result"
    }
   ],
   "source": [
    "n1"
   ]
  },
  {
   "cell_type": "code",
   "execution_count": 677,
   "id": "ca9d0f46-03f0-45c6-b477-676ee8ec52bb",
   "metadata": {},
   "outputs": [
    {
     "data": {
      "text/plain": [
       "array([[17, 22],\n",
       "       [18,  9]])"
      ]
     },
     "execution_count": 677,
     "metadata": {},
     "output_type": "execute_result"
    }
   ],
   "source": [
    "np.char.str_len(v)"
   ]
  },
  {
   "cell_type": "code",
   "execution_count": 679,
   "id": "a50ba6ab-8616-4b0c-8627-a0b8c25612bc",
   "metadata": {},
   "outputs": [
    {
     "data": {
      "text/plain": [
       "array([['dEEP', 'hELLO', 'wORLD', 'pYTHON', 'ai'],\n",
       "       ['dEEP', 'hELLO', 'wORLD', 'pYTHON', 'ai'],\n",
       "       ['dEEP', 'hELLO', 'wORLD', 'pYTHON', 'ai'],\n",
       "       ['dEEP', 'hELLO', 'wORLD', 'pYTHON', 'ai']], dtype='<U6')"
      ]
     },
     "execution_count": 679,
     "metadata": {},
     "output_type": "execute_result"
    }
   ],
   "source": [
    "# Swap the case of an array of stringSwap the case of an array of string\n",
    "np.char.swapcase(v1)"
   ]
  },
  {
   "cell_type": "code",
   "execution_count": 681,
   "id": "f928b945-c287-4eac-a48e-0c6fd02cdda6",
   "metadata": {},
   "outputs": [
    {
     "data": {
      "text/plain": [
       "array([['DEEP', 'HELLO', 'WORLD', 'PYTHON', 'AI'],\n",
       "       ['DEEP', 'HELLO', 'WORLD', 'PYTHON', 'AI'],\n",
       "       ['DEEP', 'HELLO', 'WORLD', 'PYTHON', 'AI'],\n",
       "       ['DEEP', 'HELLO', 'WORLD', 'PYTHON', 'AI']], dtype='<U6')"
      ]
     },
     "execution_count": 681,
     "metadata": {},
     "output_type": "execute_result"
    }
   ],
   "source": [
    "# Change the case to uppercase of elements of an array\n",
    "np.char.upper(v1)"
   ]
  },
  {
   "cell_type": "code",
   "execution_count": 683,
   "id": "ee331b61-ff5f-469b-b949-c6ba6e689d16",
   "metadata": {},
   "outputs": [
    {
     "data": {
      "text/plain": [
       "array([['deep', 'hello', 'world', 'python', 'ai'],\n",
       "       ['deep', 'hello', 'world', 'python', 'ai'],\n",
       "       ['deep', 'hello', 'world', 'python', 'ai'],\n",
       "       ['deep', 'hello', 'world', 'python', 'ai']], dtype='<U6')"
      ]
     },
     "execution_count": 683,
     "metadata": {},
     "output_type": "execute_result"
    }
   ],
   "source": [
    "# Change the case to lowercase of elements of an array\n",
    "np.char.lower(v1)"
   ]
  },
  {
   "cell_type": "code",
   "execution_count": 687,
   "id": "ce0dc275-7adb-485d-9c89-2a6e4edc3a33",
   "metadata": {},
   "outputs": [
    {
     "data": {
      "text/plain": [
       "array([['D||e||e||p', 'H||e||l||l||o', 'W||o||r||l||d',\n",
       "        'P||y||t||h||o||n', 'A||I'],\n",
       "       ['D||e||e||p', 'H||e||l||l||o', 'W||o||r||l||d',\n",
       "        'P||y||t||h||o||n', 'A||I'],\n",
       "       ['D||e||e||p', 'H||e||l||l||o', 'W||o||r||l||d',\n",
       "        'P||y||t||h||o||n', 'A||I'],\n",
       "       ['D||e||e||p', 'H||e||l||l||o', 'W||o||r||l||d',\n",
       "        'P||y||t||h||o||n', 'A||I']], dtype='<U16')"
      ]
     },
     "execution_count": 687,
     "metadata": {},
     "output_type": "execute_result"
    }
   ],
   "source": [
    "# Join String by a separator\n",
    "np.char.join(\"||\",v1)"
   ]
  },
  {
   "cell_type": "code",
   "execution_count": 701,
   "id": "3fc5dcaf-8fe8-45af-b904-acc699659dd1",
   "metadata": {},
   "outputs": [
    {
     "data": {
      "text/plain": [
       "False"
      ]
     },
     "execution_count": 701,
     "metadata": {},
     "output_type": "execute_result"
    }
   ],
   "source": [
    "# Check if two same shaped string arrays one by one\n",
    "v.shape==v1.shape"
   ]
  },
  {
   "cell_type": "code",
   "execution_count": 705,
   "id": "9c4eb729-338a-4685-a64d-aadc578301f4",
   "metadata": {},
   "outputs": [
    {
     "data": {
      "text/plain": [
       "array([[4, 5],\n",
       "       [3, 3]])"
      ]
     },
     "execution_count": 705,
     "metadata": {},
     "output_type": "execute_result"
    }
   ],
   "source": [
    "# Count the number of substrings in an array\n",
    "v = np.array([[\"Here is the thing\",\"We don't talk about it\"],[\"It's all giiberish\",\"I mean it\"]],dtype = np.str_)\n",
    "np.char.count(v,\" \") + 1"
   ]
  },
  {
   "cell_type": "code",
   "execution_count": 717,
   "id": "5cd14456-987f-4aaa-8ae7-33270ecacb28",
   "metadata": {},
   "outputs": [
    {
     "data": {
      "text/plain": [
       "array([[ 8, -1],\n",
       "       [-1, -1]])"
      ]
     },
     "execution_count": 717,
     "metadata": {},
     "output_type": "execute_result"
    }
   ],
   "source": [
    "# Find the lowest index of the substring in an array\n",
    "sbstr = \"the\"\n",
    "np.char.find(v,sbstr)"
   ]
  },
  {
   "cell_type": "code",
   "execution_count": 725,
   "id": "d99470ee-136d-46d2-9519-a9139f90913a",
   "metadata": {},
   "outputs": [
    {
     "data": {
      "text/plain": [
       "array([[False,  True],\n",
       "       [False,  True]])"
      ]
     },
     "execution_count": 725,
     "metadata": {},
     "output_type": "execute_result"
    }
   ],
   "source": [
    "# Get the boolean array when values end with a particular character\n",
    "np.char.endswith(v,\"t\")"
   ]
  },
  {
   "cell_type": "raw",
   "id": "9720f406-ad7a-44e0-958e-da6a2b6189c7",
   "metadata": {},
   "source": [
    "Questions on Polynomial\n",
    "--------------------------\n",
    "How to add one polynomial to another using NumPy in Python?\n",
    "How to subtract one polynomial to another using NumPy in Python?\n",
    "How to multiply a polynomial to another using NumPy in Python?\n",
    "How to divide a polynomial to another using NumPy in Python?\n",
    "Find the roots of the polynomials using NumPy\n",
    "Evaluate a 2-D polynomial series on the Cartesian product\n",
    "Evaluate a 3-D polynomial series on the Cartesian product"
   ]
  }
 ],
 "metadata": {
  "kernelspec": {
   "display_name": "Python [conda env:base] *",
   "language": "python",
   "name": "conda-base-py"
  },
  "language_info": {
   "codemirror_mode": {
    "name": "ipython",
    "version": 3
   },
   "file_extension": ".py",
   "mimetype": "text/x-python",
   "name": "python",
   "nbconvert_exporter": "python",
   "pygments_lexer": "ipython3",
   "version": "3.10.9"
  }
 },
 "nbformat": 4,
 "nbformat_minor": 5
}
