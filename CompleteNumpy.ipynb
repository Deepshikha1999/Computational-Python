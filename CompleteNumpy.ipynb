{
 "cells": [
  {
   "cell_type": "code",
   "execution_count": 1,
   "id": "486f4cac-806e-4716-8028-de4cec354f44",
   "metadata": {},
   "outputs": [],
   "source": [
    "import numpy as np"
   ]
  },
  {
   "cell_type": "code",
   "execution_count": 11,
   "id": "82379c4e-e2ce-4509-8583-049f89d255db",
   "metadata": {},
   "outputs": [
    {
     "name": "stdout",
     "output_type": "stream",
     "text": [
      "empty_array \n",
      " [[0. 0. 0. 0.]\n",
      " [0. 0. 0. 0.]\n",
      " [0. 0. 0. 0.]]\n",
      "full_array \n",
      " [[5 5 5 5]\n",
      " [5 5 5 5]\n",
      " [5 5 5 5]]\n"
     ]
    }
   ],
   "source": [
    "# How to create an empty and a full NumPy array?\n",
    "empty_array = np.empty((3,4))\n",
    "print(\"empty_array \\n\",empty_array)\n",
    "\n",
    "full_array = np.full((3,4),5)\n",
    "print(\"full_array \\n\",full_array)"
   ]
  },
  {
   "cell_type": "code",
   "execution_count": 15,
   "id": "2a41cc7e-f8ca-4783-8ab2-a9d939c31b15",
   "metadata": {},
   "outputs": [
    {
     "name": "stdout",
     "output_type": "stream",
     "text": [
      "zeroArray\n"
     ]
    }
   ],
   "source": [
    "# Create a Numpy array filled with all zeros\n",
    "zero_array = np.zeros((3,5))\n",
    "print(\"zeroArray\")"
   ]
  },
  {
   "cell_type": "code",
   "execution_count": 17,
   "id": "0f438f5f-ad89-403f-93e3-3b24dfddba6d",
   "metadata": {},
   "outputs": [
    {
     "data": {
      "text/plain": [
       "array([[0., 0., 0., 0., 0.],\n",
       "       [0., 0., 0., 0., 0.],\n",
       "       [0., 0., 0., 0., 0.]])"
      ]
     },
     "execution_count": 17,
     "metadata": {},
     "output_type": "execute_result"
    }
   ],
   "source": [
    "zero_array"
   ]
  },
  {
   "cell_type": "code",
   "execution_count": 19,
   "id": "8108e141-5780-4b31-ae56-741cf7ab5896",
   "metadata": {},
   "outputs": [],
   "source": [
    "# Create a Numpy array filled with all ones\n",
    "ones_array = np.ones((4,4))"
   ]
  },
  {
   "cell_type": "code",
   "execution_count": 21,
   "id": "af9717b4-2fdb-410c-9d03-38d2b4a379d8",
   "metadata": {},
   "outputs": [
    {
     "data": {
      "text/plain": [
       "array([[1., 1., 1., 1.],\n",
       "       [1., 1., 1., 1.],\n",
       "       [1., 1., 1., 1.],\n",
       "       [1., 1., 1., 1.]])"
      ]
     },
     "execution_count": 21,
     "metadata": {},
     "output_type": "execute_result"
    }
   ],
   "source": [
    "ones_array"
   ]
  },
  {
   "cell_type": "code",
   "execution_count": 23,
   "id": "a460ec7d-a312-4e0a-9a40-225723e31fd9",
   "metadata": {},
   "outputs": [],
   "source": [
    "# Check whether a Numpy array contains a specified row\n",
    "data1 = np.array([[1,2,3],[4,5,6],[7,8,9]])\n",
    "row1 = np.array([4,5,6])"
   ]
  },
  {
   "cell_type": "code",
   "execution_count": 25,
   "id": "aaf776f4-1b57-4c08-a63c-125de1a30c2e",
   "metadata": {},
   "outputs": [
    {
     "data": {
      "text/plain": [
       "True"
      ]
     },
     "execution_count": 25,
     "metadata": {},
     "output_type": "execute_result"
    }
   ],
   "source": [
    "row1 in data1"
   ]
  },
  {
   "cell_type": "code",
   "execution_count": 29,
   "id": "36c5becc-68dd-484e-847b-81a8c679f7ac",
   "metadata": {},
   "outputs": [],
   "source": [
    "# How to Remove rows in Numpy array that contains non-numeric values?\n",
    "arr = np.array([\n",
    "    [1.0, 2.0, 3.0],\n",
    "    [4.0, np.nan, 6.0],\n",
    "    [7.0, 8.0, 9.0],\n",
    "    [np.inf, 11.0, 12.0]\n",
    "])"
   ]
  },
  {
   "cell_type": "code",
   "execution_count": 31,
   "id": "89202b9b-49a3-4a65-99f4-c64b9565f7c9",
   "metadata": {},
   "outputs": [],
   "source": [
    "new_arr = arr[np.all(np.isfinite(arr),axis=1)]"
   ]
  },
  {
   "cell_type": "code",
   "execution_count": 33,
   "id": "9b5f158a-a7cb-4a93-8ab5-9414ac9d1f11",
   "metadata": {},
   "outputs": [
    {
     "data": {
      "text/plain": [
       "array([[1., 2., 3.],\n",
       "       [7., 8., 9.]])"
      ]
     },
     "execution_count": 33,
     "metadata": {},
     "output_type": "execute_result"
    }
   ],
   "source": [
    "new_arr"
   ]
  },
  {
   "cell_type": "code",
   "execution_count": 37,
   "id": "0ab6bd7b-2245-4bb9-b947-058ca6ba2120",
   "metadata": {},
   "outputs": [],
   "source": [
    "# Remove single-dimensional entries from the shape of an array\n",
    "arr = np.array([[[1,2,3]]])"
   ]
  },
  {
   "cell_type": "code",
   "execution_count": 39,
   "id": "356fa27a-050f-407c-bdc3-aeba17ba2a29",
   "metadata": {},
   "outputs": [
    {
     "data": {
      "text/plain": [
       "array([1, 2, 3])"
      ]
     },
     "execution_count": 39,
     "metadata": {},
     "output_type": "execute_result"
    }
   ],
   "source": [
    "arr.squeeze()"
   ]
  },
  {
   "cell_type": "code",
   "execution_count": 43,
   "id": "810aa386-a68b-4a1c-be1c-ce53f6ab93ee",
   "metadata": {},
   "outputs": [],
   "source": [
    "# Find the number of occurrences of a sequence in a NumPy array\n",
    "arr = np.array([1, 2, 3, 4, 2, 3, 4, 5])\n",
    "sequence = np.array([2, 3, 4])"
   ]
  },
  {
   "cell_type": "code",
   "execution_count": 47,
   "id": "d9a96b1f-6985-4e1b-9b31-e270203da90a",
   "metadata": {},
   "outputs": [],
   "source": [
    "sliding_windows = np.lib.stride_tricks.sliding_window_view(arr, window_shape=len(sequence))\n",
    "matches = np.all(sliding_windows == sequence, axis=1)\n",
    "count = np.sum(matches)"
   ]
  },
  {
   "cell_type": "code",
   "execution_count": 49,
   "id": "0211d3eb-9fb6-4d72-b449-33ed4d7d0efa",
   "metadata": {},
   "outputs": [
    {
     "data": {
      "text/plain": [
       "2"
      ]
     },
     "execution_count": 49,
     "metadata": {},
     "output_type": "execute_result"
    }
   ],
   "source": [
    "count"
   ]
  },
  {
   "cell_type": "code",
   "execution_count": 73,
   "id": "825bb26f-8e85-4089-b9da-94d8d94a934e",
   "metadata": {},
   "outputs": [
    {
     "name": "stdout",
     "output_type": "stream",
     "text": [
      "(34,)\n"
     ]
    }
   ],
   "source": [
    "# Find the most frequent value in a NumPy array\n",
    "arr = np.array([1,1,1,1,2,2,2,2,2,3,4,5,6,6,6,4,4,4,4,8,8,8,8,6,7,6,6,5,5,5,5,5,5,9])\n",
    "print(arr.shape)"
   ]
  },
  {
   "cell_type": "code",
   "execution_count": 87,
   "id": "c2c0b979-ba19-45f3-86fa-d9aa8ddadb7d",
   "metadata": {},
   "outputs": [
    {
     "data": {
      "text/plain": [
       "5"
      ]
     },
     "execution_count": 87,
     "metadata": {},
     "output_type": "execute_result"
    }
   ],
   "source": [
    "k = arr[0]\n",
    "count1 = 1\n",
    "max_count = 0\n",
    "max_index = -1\n",
    "\n",
    "for x in range(1,arr.shape[0]):\n",
    "    if arr[x]==k:\n",
    "        count1 += 1\n",
    "    else:\n",
    "        if max_count<count1:\n",
    "            max_count = count1\n",
    "            max_index = x-1\n",
    "        count1 = 1\n",
    "        k = arr[x]\n",
    "if max_count < count1:\n",
    "    max_count = count1\n",
    "    max_index = arr.shape[0] - 1\n",
    "arr[max_index]"
   ]
  },
  {
   "cell_type": "code",
   "execution_count": 111,
   "id": "2a2d6900-6beb-47ea-b6a1-260f851add4f",
   "metadata": {},
   "outputs": [
    {
     "data": {
      "text/plain": [
       "array([[1, 2, 3],\n",
       "       [4, 5, 6],\n",
       "       [7, 8, 9]])"
      ]
     },
     "execution_count": 111,
     "metadata": {},
     "output_type": "execute_result"
    }
   ],
   "source": [
    "# Combining a one and a two-dimensional NumPy Array\n",
    "oneD_arr = np.array([1,2,3])\n",
    "twoD_arr = np.array([[4,5,6],[7,8,9]])\n",
    "combine_arr = np.vstack((oneD_arr,twoD_arr))\n",
    "combine_arr"
   ]
  },
  {
   "cell_type": "code",
   "execution_count": 113,
   "id": "15e1447d-0ce3-47ef-83e7-b5aca9d4ce4e",
   "metadata": {},
   "outputs": [
    {
     "data": {
      "text/plain": [
       "True"
      ]
     },
     "execution_count": 113,
     "metadata": {},
     "output_type": "execute_result"
    }
   ],
   "source": [
    "# How to check whether specified values are present in NumPy array?\n",
    "x = 4\n",
    "x in combine_arr"
   ]
  },
  {
   "cell_type": "code",
   "execution_count": 159,
   "id": "e196832f-fdc1-4312-95df-bee2af5ab16c",
   "metadata": {},
   "outputs": [
    {
     "data": {
      "text/plain": [
       "array([[[ 1,  2,  3],\n",
       "        [ 5,  6,  7],\n",
       "        [ 9, 10, 11]],\n",
       "\n",
       "       [[13, 14, 15],\n",
       "        [17, 18, 19],\n",
       "        [21, 22, 23]],\n",
       "\n",
       "       [[25, 26, 27],\n",
       "        [29, 30, 31],\n",
       "        [33, 34, 35]]])"
      ]
     },
     "execution_count": 159,
     "metadata": {},
     "output_type": "execute_result"
    }
   ],
   "source": [
    "# How to get all 2D diagonals of a 3D NumPy array?\n",
    "arr = np.array([[[1,2,3],[5,6,7],[9,10,11]],[[13,14,15],[17,18,19],[21,22,23]],[[25,26,27],[29,30,31],[33,34,35]]])\n",
    "arr"
   ]
  },
  {
   "cell_type": "code",
   "execution_count": 161,
   "id": "af58f2ce-c148-4c8f-9d1d-810caf6a0b89",
   "metadata": {},
   "outputs": [
    {
     "data": {
      "text/plain": [
       "(3, 3, 3)"
      ]
     },
     "execution_count": 161,
     "metadata": {},
     "output_type": "execute_result"
    }
   ],
   "source": [
    "arr.shape"
   ]
  },
  {
   "cell_type": "code",
   "execution_count": 163,
   "id": "0fecd2cb-90c8-40a2-86f8-b5a0c8504c76",
   "metadata": {},
   "outputs": [
    {
     "data": {
      "text/plain": [
       "array([[ 1,  2,  3],\n",
       "       [ 5,  6,  7],\n",
       "       [ 9, 10, 11]])"
      ]
     },
     "execution_count": 163,
     "metadata": {},
     "output_type": "execute_result"
    }
   ],
   "source": [
    "arr[0]"
   ]
  },
  {
   "cell_type": "code",
   "execution_count": 177,
   "id": "ebaf2d33-5364-4623-8800-6e8cd16fe9a7",
   "metadata": {},
   "outputs": [
    {
     "data": {
      "text/plain": [
       "[array([ 1,  6, 11]), array([13, 18, 23]), array([25, 30, 35])]"
      ]
     },
     "execution_count": 177,
     "metadata": {},
     "output_type": "execute_result"
    }
   ],
   "source": [
    "diagonal_arr= [layer.diagonal() for layer in arr]\n",
    "diagonal_arr"
   ]
  },
  {
   "cell_type": "code",
   "execution_count": 179,
   "id": "d8b3988d-6fad-4096-aa28-52dd189b53aa",
   "metadata": {},
   "outputs": [
    {
     "data": {
      "text/plain": [
       "[array([3, 6, 9]), array([15, 18, 21]), array([27, 30, 33])]"
      ]
     },
     "execution_count": 179,
     "metadata": {},
     "output_type": "execute_result"
    }
   ],
   "source": [
    "diagonal_anti_arr = [np.fliplr(layer).diagonal() for layer in arr]\n",
    "diagonal_anti_arr"
   ]
  },
  {
   "cell_type": "code",
   "execution_count": 187,
   "id": "35f0dade-574d-40a2-8fc8-2a44712f06dd",
   "metadata": {},
   "outputs": [
    {
     "data": {
      "text/plain": [
       "array([ 1,  2,  3,  5,  6,  7,  9, 10, 11, 13, 14, 15, 17, 18, 19, 21, 22,\n",
       "       23, 25, 26, 27, 29, 30, 31, 33, 34, 35])"
      ]
     },
     "execution_count": 187,
     "metadata": {},
     "output_type": "execute_result"
    }
   ],
   "source": [
    "# Flatten a Matrix in Python using NumPy\n",
    "np.hstack(np.array([np.hstack(layer) for layer in arr]))"
   ]
  },
  {
   "cell_type": "code",
   "execution_count": 189,
   "id": "4a9143ce-679c-402f-82bf-9cda81bb0d35",
   "metadata": {},
   "outputs": [
    {
     "data": {
      "text/plain": [
       "array([ 1,  2,  3,  5,  6,  7,  9, 10, 11, 13, 14, 15, 17, 18, 19, 21, 22,\n",
       "       23, 25, 26, 27, 29, 30, 31, 33, 34, 35])"
      ]
     },
     "execution_count": 189,
     "metadata": {},
     "output_type": "execute_result"
    }
   ],
   "source": [
    "arr.ravel()"
   ]
  },
  {
   "cell_type": "code",
   "execution_count": 191,
   "id": "d902ba7f-3b6d-4f41-8273-83be66f5a59d",
   "metadata": {},
   "outputs": [
    {
     "data": {
      "text/plain": [
       "array([ 1,  2,  3,  5,  6,  7,  9, 10, 11, 13, 14, 15, 17, 18, 19, 21, 22,\n",
       "       23, 25, 26, 27, 29, 30, 31, 33, 34, 35])"
      ]
     },
     "execution_count": 191,
     "metadata": {},
     "output_type": "execute_result"
    }
   ],
   "source": [
    "arr.flatten()"
   ]
  },
  {
   "cell_type": "code",
   "execution_count": 233,
   "id": "099e9ffc-5783-48fc-a111-ded8ff7407cc",
   "metadata": {},
   "outputs": [],
   "source": [
    "# Move axes of an array to new positions\n",
    "arr = np.arange(24).reshape(2, 3, 4)"
   ]
  },
  {
   "cell_type": "code",
   "execution_count": 241,
   "id": "3967ae2d-2f64-4d00-9414-67ef6fa8a307",
   "metadata": {},
   "outputs": [
    {
     "data": {
      "text/plain": [
       "(2, 3, 4)"
      ]
     },
     "execution_count": 241,
     "metadata": {},
     "output_type": "execute_result"
    }
   ],
   "source": [
    "arr.shape"
   ]
  },
  {
   "cell_type": "code",
   "execution_count": 243,
   "id": "09e7314f-e522-42a6-995d-e7a2d2430ef9",
   "metadata": {},
   "outputs": [
    {
     "data": {
      "text/plain": [
       "array([[[ 0, 12],\n",
       "        [ 1, 13],\n",
       "        [ 2, 14],\n",
       "        [ 3, 15]],\n",
       "\n",
       "       [[ 4, 16],\n",
       "        [ 5, 17],\n",
       "        [ 6, 18],\n",
       "        [ 7, 19]],\n",
       "\n",
       "       [[ 8, 20],\n",
       "        [ 9, 21],\n",
       "        [10, 22],\n",
       "        [11, 23]]])"
      ]
     },
     "execution_count": 243,
     "metadata": {},
     "output_type": "execute_result"
    }
   ],
   "source": [
    "np.transpose(arr, axes=(1, 2, 0))"
   ]
  },
  {
   "cell_type": "code",
   "execution_count": 245,
   "id": "21685ddb-a7e9-4993-96f4-faf6d133f2c1",
   "metadata": {},
   "outputs": [
    {
     "data": {
      "text/plain": [
       "array([[[ 0,  4,  8],\n",
       "        [ 1,  5,  9],\n",
       "        [ 2,  6, 10],\n",
       "        [ 3,  7, 11]],\n",
       "\n",
       "       [[12, 16, 20],\n",
       "        [13, 17, 21],\n",
       "        [14, 18, 22],\n",
       "        [15, 19, 23]]])"
      ]
     },
     "execution_count": 245,
     "metadata": {},
     "output_type": "execute_result"
    }
   ],
   "source": [
    "np.moveaxis(arr,2,1)"
   ]
  },
  {
   "cell_type": "code",
   "execution_count": 249,
   "id": "2c58b2d1-5701-4b6d-876b-e22a818278c9",
   "metadata": {},
   "outputs": [
    {
     "name": "stdout",
     "output_type": "stream",
     "text": [
      "8\n"
     ]
    }
   ],
   "source": [
    "# NumPy – Fibonacci Series using Binet Formula\n",
    "import math\n",
    "phi = (1+math.sqrt(5))/2\n",
    "psi = (1-math.sqrt(5))/2\n",
    "def binetFibonacci(n):\n",
    "    return round((phi**n - psi**n)/math.sqrt(5))\n",
    "\n",
    "print(binetFibonacci(6))"
   ]
  },
  {
   "cell_type": "code",
   "execution_count": 251,
   "id": "9fc7a9b6-dcfd-4bf7-b563-a6c91ebb46c5",
   "metadata": {},
   "outputs": [
    {
     "data": {
      "text/plain": [
       "array([    0,     1,     1,     2,     3,     5,     8,    13,    21,\n",
       "          34,    55,    89,   144,   233,   377,   610,   987,  1597,\n",
       "        2584,  4181,  6765, 10946, 17711, 28657])"
      ]
     },
     "execution_count": 251,
     "metadata": {},
     "output_type": "execute_result"
    }
   ],
   "source": [
    "binetFibonacci = np.vectorize(binetFibonacci)\n",
    "binetFibonacci(np.arange(24))"
   ]
  },
  {
   "cell_type": "code",
   "execution_count": 297,
   "id": "d8e17e65-5028-4667-b01a-2cde6d1ce364",
   "metadata": {},
   "outputs": [
    {
     "data": {
      "text/plain": [
       "array([[4., 7., 3.],\n",
       "       [3., 0., 3.],\n",
       "       [1., 1., 1.]])"
      ]
     },
     "execution_count": 297,
     "metadata": {},
     "output_type": "execute_result"
    }
   ],
   "source": [
    "# Counts the number of non-zero values in the array\n",
    "x = np.round(np.random.rand(3,3)*np.random.rand(3,3)*10)\n",
    "x"
   ]
  },
  {
   "cell_type": "code",
   "execution_count": 299,
   "id": "c07dedac-e239-4726-9a7f-25a6f40bcf28",
   "metadata": {},
   "outputs": [
    {
     "data": {
      "text/plain": [
       "array([[ True,  True,  True],\n",
       "       [ True, False,  True],\n",
       "       [ True,  True,  True]])"
      ]
     },
     "execution_count": 299,
     "metadata": {},
     "output_type": "execute_result"
    }
   ],
   "source": [
    "x!=0"
   ]
  },
  {
   "cell_type": "code",
   "execution_count": 303,
   "id": "5e4cab2b-3969-44b6-9078-bb1594274560",
   "metadata": {},
   "outputs": [
    {
     "data": {
      "text/plain": [
       "8"
      ]
     },
     "execution_count": 303,
     "metadata": {},
     "output_type": "execute_result"
    }
   ],
   "source": [
    "x[x!=0].size"
   ]
  },
  {
   "cell_type": "code",
   "execution_count": 305,
   "id": "30f6d48d-7752-4a0e-a2e2-caa533fdb449",
   "metadata": {},
   "outputs": [
    {
     "name": "stdout",
     "output_type": "stream",
     "text": [
      "8\n"
     ]
    }
   ],
   "source": [
    "count_non_zero = np.count_nonzero(x)\n",
    "print(count_non_zero)"
   ]
  },
  {
   "cell_type": "code",
   "execution_count": 307,
   "id": "1e1933fa-9dea-4b7d-9a0a-810417c3ccfe",
   "metadata": {},
   "outputs": [
    {
     "data": {
      "text/plain": [
       "array([3, 2, 3])"
      ]
     },
     "execution_count": 307,
     "metadata": {},
     "output_type": "execute_result"
    }
   ],
   "source": [
    "# Count the number of elements along a given axis\n",
    "count_col = np.count_nonzero(x,axis=0)\n",
    "count_col"
   ]
  },
  {
   "cell_type": "code",
   "execution_count": 309,
   "id": "e9bd3c5d-540c-4d73-ad3d-2a2f4123a1ba",
   "metadata": {},
   "outputs": [
    {
     "data": {
      "text/plain": [
       "array([3, 2, 3])"
      ]
     },
     "execution_count": 309,
     "metadata": {},
     "output_type": "execute_result"
    }
   ],
   "source": [
    "count_row = np.count_nonzero(x,axis=1)\n",
    "count_row"
   ]
  },
  {
   "cell_type": "code",
   "execution_count": 317,
   "id": "b7d4c656-cbea-4d40-9af5-4efb1b57fd0f",
   "metadata": {},
   "outputs": [
    {
     "data": {
      "text/plain": [
       "array([5., 0., 5., 1., 1., 1., 2., 2., 3., 0.])"
      ]
     },
     "execution_count": 317,
     "metadata": {},
     "output_type": "execute_result"
    }
   ],
   "source": [
    "y = np.round(np.random.rand(10)*np.random.rand(10)*10)\n",
    "y"
   ]
  },
  {
   "cell_type": "code",
   "execution_count": 319,
   "id": "eb1282a5-7e22-4413-8f11-e3339b092b4b",
   "metadata": {},
   "outputs": [
    {
     "data": {
      "text/plain": [
       "array([5., 0., 5., 1., 1., 1., 2., 2., 3.])"
      ]
     },
     "execution_count": 319,
     "metadata": {},
     "output_type": "execute_result"
    }
   ],
   "source": [
    "# Trim the leading and/or trailing zeros from a 1-D array\n",
    "np.trim_zeros(y)"
   ]
  },
  {
   "cell_type": "code",
   "execution_count": 321,
   "id": "311f40df-c71a-4b21-9c2b-1872eb10fcd8",
   "metadata": {},
   "outputs": [
    {
     "data": {
      "text/plain": [
       "array([5, 0, 5, 1, 1, 1, 2, 2, 3, 0], dtype=int32)"
      ]
     },
     "execution_count": 321,
     "metadata": {},
     "output_type": "execute_result"
    }
   ],
   "source": [
    "# Change data type of given numpy array\n",
    "z = np.array(y,dtype=np.int32)\n",
    "z"
   ]
  },
  {
   "cell_type": "code",
   "execution_count": 325,
   "id": "28e05694-4055-41ba-b323-0de3fcc3de0b",
   "metadata": {},
   "outputs": [
    {
     "data": {
      "text/plain": [
       "array([0, 3, 2, 2, 1, 1, 1, 5, 0, 5], dtype=int32)"
      ]
     },
     "execution_count": 325,
     "metadata": {},
     "output_type": "execute_result"
    }
   ],
   "source": [
    "# Reverse a numpy array\n",
    "rev = z[::-1]\n",
    "rev"
   ]
  },
  {
   "cell_type": "code",
   "execution_count": 327,
   "id": "872764a0-1aa5-4e98-a685-0607a39c4124",
   "metadata": {},
   "outputs": [],
   "source": [
    "# How to make a NumPy array read-only?\n",
    "rev.setflags(write=False)"
   ]
  },
  {
   "cell_type": "code",
   "execution_count": 331,
   "id": "7253e886-b0cb-4b14-8873-9c489c77f6b2",
   "metadata": {},
   "outputs": [
    {
     "ename": "ValueError",
     "evalue": "assignment destination is read-only",
     "output_type": "error",
     "traceback": [
      "\u001b[0;31m---------------------------------------------------------------------------\u001b[0m",
      "\u001b[0;31mValueError\u001b[0m                                Traceback (most recent call last)",
      "Cell \u001b[0;32mIn[331], line 1\u001b[0m\n\u001b[0;32m----> 1\u001b[0m rev[\u001b[38;5;241m9\u001b[39m]\u001b[38;5;241m=\u001b[39m\u001b[38;5;241m7\u001b[39m\n",
      "\u001b[0;31mValueError\u001b[0m: assignment destination is read-only"
     ]
    }
   ],
   "source": [
    "rev[9]=7"
   ]
  },
  {
   "cell_type": "code",
   "execution_count": 333,
   "id": "b4df85de-40ed-4d08-aeef-20695edc0c75",
   "metadata": {},
   "outputs": [],
   "source": [
    "# Matrix numpy"
   ]
  },
  {
   "cell_type": "code",
   "execution_count": 335,
   "id": "54850593-0efa-4135-8f73-a87b076aaf96",
   "metadata": {},
   "outputs": [
    {
     "data": {
      "text/plain": [
       "matrix([[0, 4, 0, 1],\n",
       "        [1, 2, 2, 2],\n",
       "        [1, 7, 9, 4],\n",
       "        [2, 2, 3, 1]], dtype=int32)"
      ]
     },
     "execution_count": 335,
     "metadata": {},
     "output_type": "execute_result"
    }
   ],
   "source": [
    "# Get the maximum value from given matrix\n",
    "a = np.matrix(np.array(np.round(np.random.rand(4,4)*np.random.rand(4,4)*10),dtype=np.int32))\n",
    "a"
   ]
  },
  {
   "cell_type": "code",
   "execution_count": 337,
   "id": "bcadcd8f-994b-4c3f-9b12-2022edd31bd9",
   "metadata": {},
   "outputs": [
    {
     "data": {
      "text/plain": [
       "9"
      ]
     },
     "execution_count": 337,
     "metadata": {},
     "output_type": "execute_result"
    }
   ],
   "source": [
    "np.max(a)"
   ]
  },
  {
   "cell_type": "code",
   "execution_count": 339,
   "id": "85470c05-b429-4c2a-b10b-6d770afa768e",
   "metadata": {},
   "outputs": [
    {
     "data": {
      "text/plain": [
       "0"
      ]
     },
     "execution_count": 339,
     "metadata": {},
     "output_type": "execute_result"
    }
   ],
   "source": [
    "np.min(a)"
   ]
  },
  {
   "cell_type": "code",
   "execution_count": 341,
   "id": "8ba8b7f0-a866-4253-90fd-0be3ad458b24",
   "metadata": {},
   "outputs": [
    {
     "data": {
      "text/plain": [
       "(4, 4)"
      ]
     },
     "execution_count": 341,
     "metadata": {},
     "output_type": "execute_result"
    }
   ],
   "source": [
    "# Find the number of rows and columns of a given matrix using NumPy\n",
    "a.shape"
   ]
  },
  {
   "cell_type": "code",
   "execution_count": 343,
   "id": "64f0dc3c-fad3-40d5-86c8-136a41caf9ed",
   "metadata": {},
   "outputs": [
    {
     "data": {
      "text/plain": [
       "41"
      ]
     },
     "execution_count": 343,
     "metadata": {},
     "output_type": "execute_result"
    }
   ],
   "source": [
    "# Find the sum of values in a matrix\n",
    "np.sum(a)"
   ]
  },
  {
   "cell_type": "code",
   "execution_count": 347,
   "id": "5c52cc28-23d0-4d12-ad57-4b1dd4630bf3",
   "metadata": {},
   "outputs": [
    {
     "data": {
      "text/plain": [
       "12"
      ]
     },
     "execution_count": 347,
     "metadata": {},
     "output_type": "execute_result"
    }
   ],
   "source": [
    "# Calculate the sum of the diagonal elements of a NumPy array\n",
    "np.sum(np.diagonal(a))"
   ]
  },
  {
   "cell_type": "code",
   "execution_count": 349,
   "id": "f07e23ed-7c58-4ad5-a33b-8a535756f5d1",
   "metadata": {},
   "outputs": [
    {
     "data": {
      "text/plain": [
       "12"
      ]
     },
     "execution_count": 349,
     "metadata": {},
     "output_type": "execute_result"
    }
   ],
   "source": [
    "np.sum(np.fliplr(a).diagonal())"
   ]
  },
  {
   "cell_type": "code",
   "execution_count": 351,
   "id": "df2f412c-89a3-461e-aecf-09c8b2d0d2ce",
   "metadata": {},
   "outputs": [
    {
     "data": {
      "text/plain": [
       "matrix([[0, 0, 4, 8],\n",
       "        [2, 2, 1, 2],\n",
       "        [3, 4, 0, 3],\n",
       "        [4, 2, 7, 2]], dtype=int32)"
      ]
     },
     "execution_count": 351,
     "metadata": {},
     "output_type": "execute_result"
    }
   ],
   "source": [
    "# Adding and Subtracting Matrices in Python\n",
    "b = np.matrix(np.array(np.round(np.random.rand(4,4)*np.random.rand(4,4)*10),dtype=np.int32))\n",
    "b"
   ]
  },
  {
   "cell_type": "code",
   "execution_count": 353,
   "id": "f94e5292-7e55-40ae-9377-7e32d055bc6b",
   "metadata": {},
   "outputs": [
    {
     "data": {
      "text/plain": [
       "matrix([[ 0,  4,  4,  9],\n",
       "        [ 3,  4,  3,  4],\n",
       "        [ 4, 11,  9,  7],\n",
       "        [ 6,  4, 10,  3]], dtype=int32)"
      ]
     },
     "execution_count": 353,
     "metadata": {},
     "output_type": "execute_result"
    }
   ],
   "source": [
    "a+b"
   ]
  },
  {
   "cell_type": "code",
   "execution_count": 365,
   "id": "f323907d-656a-4115-942b-4f2287b8d006",
   "metadata": {},
   "outputs": [
    {
     "data": {
      "text/plain": [
       "matrix([[ 0,  4,  4,  9],\n",
       "        [ 3,  4,  3,  4],\n",
       "        [ 4, 11,  9,  7],\n",
       "        [ 6,  4, 10,  3]], dtype=int32)"
      ]
     },
     "execution_count": 365,
     "metadata": {},
     "output_type": "execute_result"
    }
   ],
   "source": [
    "np.add(a,b)"
   ]
  },
  {
   "cell_type": "code",
   "execution_count": 367,
   "id": "5eedc966-1ca3-4736-8161-6798565d9652",
   "metadata": {},
   "outputs": [
    {
     "data": {
      "text/plain": [
       "matrix([[ 0,  4, -4, -7],\n",
       "        [-1,  0,  1,  0],\n",
       "        [-2,  3,  9,  1],\n",
       "        [-2,  0, -4, -1]], dtype=int32)"
      ]
     },
     "execution_count": 367,
     "metadata": {},
     "output_type": "execute_result"
    }
   ],
   "source": [
    "a-b"
   ]
  },
  {
   "cell_type": "code",
   "execution_count": 369,
   "id": "43514498-b215-4ec4-b44f-145d123e6de8",
   "metadata": {},
   "outputs": [
    {
     "data": {
      "text/plain": [
       "matrix([[ 0,  4, -4, -7],\n",
       "        [-1,  0,  1,  0],\n",
       "        [-2,  3,  9,  1],\n",
       "        [-2,  0, -4, -1]], dtype=int32)"
      ]
     },
     "execution_count": 369,
     "metadata": {},
     "output_type": "execute_result"
    }
   ],
   "source": [
    "np.subtract(a,b)"
   ]
  },
  {
   "cell_type": "code",
   "execution_count": 393,
   "id": "b0b518ac-91d6-4460-85ff-c051c84e8785",
   "metadata": {},
   "outputs": [
    {
     "data": {
      "text/plain": [
       "[5, 7, 21, 8]"
      ]
     },
     "execution_count": 393,
     "metadata": {},
     "output_type": "execute_result"
    }
   ],
   "source": [
    "# Ways to add row/columns in numpy array\n",
    "[np.sum(np.array(layer)) for layer in a] # Row"
   ]
  },
  {
   "cell_type": "code",
   "execution_count": 395,
   "id": "f3bf390a-3dfa-4f4c-9501-a7ece0b1fd09",
   "metadata": {},
   "outputs": [
    {
     "data": {
      "text/plain": [
       "[4, 15, 14, 8]"
      ]
     },
     "execution_count": 395,
     "metadata": {},
     "output_type": "execute_result"
    }
   ],
   "source": [
    "[np.sum(np.array(layer)) for layer in np.transpose(a)] #Column"
   ]
  },
  {
   "cell_type": "code",
   "execution_count": 401,
   "id": "031191b5-d5b8-4bf7-8427-f10918bf06dc",
   "metadata": {},
   "outputs": [
    {
     "data": {
      "text/plain": [
       "matrix([[ 4, 15, 14,  8]])"
      ]
     },
     "execution_count": 401,
     "metadata": {},
     "output_type": "execute_result"
    }
   ],
   "source": [
    "np.sum(a, axis=0)# Column"
   ]
  },
  {
   "cell_type": "code",
   "execution_count": 403,
   "id": "ec6c4b65-db31-44d8-be75-0010c21e6806",
   "metadata": {},
   "outputs": [
    {
     "data": {
      "text/plain": [
       "matrix([[ 5],\n",
       "        [ 7],\n",
       "        [21],\n",
       "        [ 8]])"
      ]
     },
     "execution_count": 403,
     "metadata": {},
     "output_type": "execute_result"
    }
   ],
   "source": [
    "np.sum(a, axis=1)# Row"
   ]
  },
  {
   "cell_type": "code",
   "execution_count": 405,
   "id": "f2659c62-6025-4a58-a6df-2e107482b7b7",
   "metadata": {},
   "outputs": [
    {
     "data": {
      "text/plain": [
       "matrix([[12, 10, 11, 10],\n",
       "        [18, 16, 20, 22],\n",
       "        [57, 58, 39, 57],\n",
       "        [17, 18, 17, 31]], dtype=int32)"
      ]
     },
     "execution_count": 405,
     "metadata": {},
     "output_type": "execute_result"
    }
   ],
   "source": [
    "# Matrix Multiplication in NumPy\n",
    "a*b"
   ]
  },
  {
   "cell_type": "code",
   "execution_count": 407,
   "id": "1a69cd87-a6e0-4d3a-b8fe-340ec06efca2",
   "metadata": {},
   "outputs": [
    {
     "data": {
      "text/plain": [
       "matrix([[0, 4, 0, 1],\n",
       "        [1, 2, 2, 2],\n",
       "        [1, 7, 9, 4],\n",
       "        [2, 2, 3, 1]], dtype=int32)"
      ]
     },
     "execution_count": 407,
     "metadata": {},
     "output_type": "execute_result"
    }
   ],
   "source": [
    "a"
   ]
  },
  {
   "cell_type": "code",
   "execution_count": 409,
   "id": "b21adee9-18eb-46ad-b3f0-e28a6a8b5d2b",
   "metadata": {},
   "outputs": [
    {
     "data": {
      "text/plain": [
       "matrix([[0, 0, 4, 8],\n",
       "        [2, 2, 1, 2],\n",
       "        [3, 4, 0, 3],\n",
       "        [4, 2, 7, 2]], dtype=int32)"
      ]
     },
     "execution_count": 409,
     "metadata": {},
     "output_type": "execute_result"
    }
   ],
   "source": [
    "b"
   ]
  },
  {
   "cell_type": "code",
   "execution_count": 411,
   "id": "f22af4b1-b570-4d57-ba6a-cc9bbac479f5",
   "metadata": {},
   "outputs": [
    {
     "data": {
      "text/plain": [
       "matrix([[20, 44, 60, 24],\n",
       "        [ 7, 23, 19, 12],\n",
       "        [10, 26, 17, 14],\n",
       "        [13, 73, 73, 38]], dtype=int32)"
      ]
     },
     "execution_count": 411,
     "metadata": {},
     "output_type": "execute_result"
    }
   ],
   "source": [
    "b*a"
   ]
  },
  {
   "cell_type": "code",
   "execution_count": 415,
   "id": "7fdce1e9-2c1b-4b7d-b0a1-e88c8d0b55c8",
   "metadata": {},
   "outputs": [
    {
     "data": {
      "text/plain": [
       "matrix([[12, 10, 11, 10],\n",
       "        [18, 16, 20, 22],\n",
       "        [57, 58, 39, 57],\n",
       "        [17, 18, 17, 31]], dtype=int32)"
      ]
     },
     "execution_count": 415,
     "metadata": {},
     "output_type": "execute_result"
    }
   ],
   "source": [
    "a.dot(b)"
   ]
  },
  {
   "cell_type": "code",
   "execution_count": 417,
   "id": "06407660-1f0f-431c-9448-16572c14584c",
   "metadata": {},
   "outputs": [
    {
     "data": {
      "text/plain": [
       "matrix([[20, 44, 60, 24],\n",
       "        [ 7, 23, 19, 12],\n",
       "        [10, 26, 17, 14],\n",
       "        [13, 73, 73, 38]], dtype=int32)"
      ]
     },
     "execution_count": 417,
     "metadata": {},
     "output_type": "execute_result"
    }
   ],
   "source": [
    "b.dot(a)"
   ]
  },
  {
   "cell_type": "code",
   "execution_count": 425,
   "id": "525dcda3-7b49-4c37-bcb3-156380e1a546",
   "metadata": {},
   "outputs": [
    {
     "data": {
      "text/plain": [
       "array([12.32807806+0.j        ,  2.17671046+0.j        ,\n",
       "       -1.25239426+0.96347284j, -1.25239426-0.96347284j])"
      ]
     },
     "execution_count": 425,
     "metadata": {},
     "output_type": "execute_result"
    }
   ],
   "source": [
    "# Get the eigen values of a matrix\n",
    "eigenvalues, eigenvectors = np.linalg.eig(a)\n",
    "eigenvalues"
   ]
  },
  {
   "cell_type": "code",
   "execution_count": 427,
   "id": "66ff49fb-47b4-4013-aba9-6322b93b0996",
   "metadata": {},
   "outputs": [
    {
     "data": {
      "text/plain": [
       "matrix([[ 0.10450097+0.j        , -0.70366465+0.j        ,\n",
       "         -0.4411034 +0.42293989j, -0.4411034 -0.42293989j],\n",
       "        [ 0.24606239+0.j        , -0.3186568 +0.j        ,\n",
       "         -0.14320402-0.23866966j, -0.14320402+0.23866966j],\n",
       "        [ 0.91437877+0.j        ,  0.58072433+0.j        ,\n",
       "         -0.14935482+0.10766738j, -0.14935482-0.10766738j],\n",
       "        [ 0.30404655+0.j        , -0.257047  +0.j        ,\n",
       "          0.71776035+0.j        ,  0.71776035-0.j        ]])"
      ]
     },
     "execution_count": 427,
     "metadata": {},
     "output_type": "execute_result"
    }
   ],
   "source": [
    "eigenvectors"
   ]
  },
  {
   "cell_type": "code",
   "execution_count": 429,
   "id": "5761bb6f-7949-41ba-846b-c548365b8638",
   "metadata": {},
   "outputs": [
    {
     "data": {
      "text/plain": [
       "66.99999999999997"
      ]
     },
     "execution_count": 429,
     "metadata": {},
     "output_type": "execute_result"
    }
   ],
   "source": [
    "# How to Calculate the determinant of a matrix using NumPy?\n",
    "np.linalg.det(a)"
   ]
  },
  {
   "cell_type": "code",
   "execution_count": 433,
   "id": "c05f434c-bd43-4acc-9ca6-5259830a4e61",
   "metadata": {},
   "outputs": [
    {
     "data": {
      "text/plain": [
       "matrix([[ 0.02985075,  0.13432836, -0.20895522,  0.53731343],\n",
       "        [ 0.28358209, -0.2238806 ,  0.01492537,  0.10447761],\n",
       "        [-0.1641791 , -0.23880597,  0.14925373,  0.04477612],\n",
       "        [-0.13432836,  0.89552239, -0.05970149, -0.41791045]])"
      ]
     },
     "execution_count": 433,
     "metadata": {},
     "output_type": "execute_result"
    }
   ],
   "source": [
    "# How to inverse a matrix using NumPy\n",
    "np.linalg.inv(a)"
   ]
  },
  {
   "cell_type": "code",
   "execution_count": 435,
   "id": "ad624fd0-4d56-4bf4-af6c-1326ae02e538",
   "metadata": {},
   "outputs": [
    {
     "data": {
      "text/plain": [
       "(matrix([[0, 0, 1, 1, 1, 1, 2, 2, 2, 2, 2, 3, 4, 4, 7, 9]], dtype=int32),\n",
       " array([0, 0, 0, 0, 0, 0, 0, 0, 0, 0, 0, 0, 0, 0, 0, 0, 1, 1, 1, 1, 1, 1,\n",
       "        1, 1, 1, 1, 1, 1, 1, 1, 1, 1]))"
      ]
     },
     "execution_count": 435,
     "metadata": {},
     "output_type": "execute_result"
    }
   ],
   "source": [
    "# How to count the frequency of unique values in NumPy array?\n",
    "np.unique(a, return_counts=True)"
   ]
  },
  {
   "cell_type": "code",
   "execution_count": 447,
   "id": "a0ff0518-8cac-4f82-9957-6b43c7a93049",
   "metadata": {},
   "outputs": [],
   "source": [
    "# Multiply matrices of complex numbers using NumPy in Python\n",
    "x = np.matrix(np.round([[8.5572191+01.5829756j, 09.1874805+04.3182391j, 01.2876313+05.1222221j],\n",
    " [002.486378+02.7310213j, 08.0921419+06.9521217j, 02.8446565+08.9596348j]]))\n",
    "y = np.matrix(np.round([[002.89901 +04.6500811j, 06.5250314+09.7842826j, 08.5902412+004.081894j, 02.4791095+09.9347612j],\n",
    " [02.6727422+01.4351523j, 04.662008 +09.616372j , 08.9607831+09.3086584j, 004.122283+01.349505j ],\n",
    " [09.0827722+09.4164394j, 01.3147812+02.5536031j, 07.8311733+008.866497j, 03.6823746+01.2125719j]]))\n"
   ]
  },
  {
   "cell_type": "code",
   "execution_count": 449,
   "id": "6780c179-d8a8-4e9a-bb75-06feba31d836",
   "metadata": {},
   "outputs": [
    {
     "data": {
      "text/plain": [
       "matrix([[9.+2.j, 9.+4.j, 1.+5.j],\n",
       "        [2.+3.j, 8.+7.j, 3.+9.j]])"
      ]
     },
     "execution_count": 449,
     "metadata": {},
     "output_type": "execute_result"
    }
   ],
   "source": [
    "x"
   ]
  },
  {
   "cell_type": "code",
   "execution_count": 451,
   "id": "4b1ca731-2d3d-4db7-ac78-83edd10a10ec",
   "metadata": {},
   "outputs": [
    {
     "data": {
      "text/plain": [
       "matrix([[3. +5.j, 7.+10.j, 9. +4.j, 2.+10.j],\n",
       "        [3. +1.j, 5.+10.j, 9. +9.j, 4. +1.j],\n",
       "        [9. +9.j, 1. +3.j, 8. +9.j, 4. +1.j]])"
      ]
     },
     "execution_count": 451,
     "metadata": {},
     "output_type": "execute_result"
    }
   ],
   "source": [
    "y"
   ]
  },
  {
   "cell_type": "code",
   "execution_count": 453,
   "id": "2d67731f-6c5d-4d58-ba58-16b1d3b5ff30",
   "metadata": {},
   "outputs": [
    {
     "data": {
      "text/plain": [
       "matrix([[  4.+126.j,  34.+222.j,  81.+220.j,  29.+140.j],\n",
       "        [-46.+156.j, -70.+174.j, -42.+269.j,   2.+101.j]])"
      ]
     },
     "execution_count": 453,
     "metadata": {},
     "output_type": "execute_result"
    }
   ],
   "source": [
    "x*y"
   ]
  },
  {
   "cell_type": "code",
   "execution_count": 455,
   "id": "27426e81-a0e0-44fa-a2c8-845a99ca9807",
   "metadata": {},
   "outputs": [
    {
     "data": {
      "text/plain": [
       "matrix([[  4.+126.j,  34.+222.j,  81.+220.j,  29.+140.j],\n",
       "        [-46.+156.j, -70.+174.j, -42.+269.j,   2.+101.j]])"
      ]
     },
     "execution_count": 455,
     "metadata": {},
     "output_type": "execute_result"
    }
   ],
   "source": [
    "x.dot(y)"
   ]
  },
  {
   "cell_type": "code",
   "execution_count": 461,
   "id": "c263c9e6-f358-4395-88ae-272ced4cb7f1",
   "metadata": {},
   "outputs": [],
   "source": [
    "# Compute the outer product of two given vectors using NumPy in Python\n",
    "p = np.round(np.random.rand(1,3)*10)\n",
    "q = np.round(np.random.rand(1,3)*10)"
   ]
  },
  {
   "cell_type": "code",
   "execution_count": 463,
   "id": "a50ac55f-4834-4513-a035-2437ed8c7ea7",
   "metadata": {},
   "outputs": [
    {
     "data": {
      "text/plain": [
       "array([[4., 1., 3.]])"
      ]
     },
     "execution_count": 463,
     "metadata": {},
     "output_type": "execute_result"
    }
   ],
   "source": [
    "p"
   ]
  },
  {
   "cell_type": "code",
   "execution_count": 465,
   "id": "9c150f6a-f691-46fb-a4d4-0cfe9f8297a1",
   "metadata": {},
   "outputs": [
    {
     "data": {
      "text/plain": [
       "array([[5., 8., 3.]])"
      ]
     },
     "execution_count": 465,
     "metadata": {},
     "output_type": "execute_result"
    }
   ],
   "source": [
    "q"
   ]
  },
  {
   "cell_type": "code",
   "execution_count": 467,
   "id": "a3664615-156b-4674-9576-2367d582a272",
   "metadata": {},
   "outputs": [
    {
     "data": {
      "text/plain": [
       "array([[20., 32., 12.],\n",
       "       [ 5.,  8.,  3.],\n",
       "       [15., 24.,  9.]])"
      ]
     },
     "execution_count": 467,
     "metadata": {},
     "output_type": "execute_result"
    }
   ],
   "source": [
    "np.outer(p,q)"
   ]
  },
  {
   "cell_type": "code",
   "execution_count": 469,
   "id": "cdef8c2b-490a-48e9-a1d5-036261fb468f",
   "metadata": {},
   "outputs": [],
   "source": [
    "# Outer[i][j] = p[i]*q[j]"
   ]
  },
  {
   "cell_type": "code",
   "execution_count": 475,
   "id": "763c1ceb-25f6-41e1-9bee-f39c10a25af8",
   "metadata": {},
   "outputs": [
    {
     "data": {
      "text/plain": [
       "array([[37.]])"
      ]
     },
     "execution_count": 475,
     "metadata": {},
     "output_type": "execute_result"
    }
   ],
   "source": [
    "# Calculate inner, outer, and cross products of matrices and vectors using NumPy\n",
    "# inner = p1*q1+p2*q2+p3*q3\n",
    "np.inner(p,q)"
   ]
  },
  {
   "cell_type": "code",
   "execution_count": 477,
   "id": "e118a15a-305d-4563-b50e-465cdcfb6b5f",
   "metadata": {},
   "outputs": [
    {
     "data": {
      "text/plain": [
       "array([[-21.,   3.,  27.]])"
      ]
     },
     "execution_count": 477,
     "metadata": {},
     "output_type": "execute_result"
    }
   ],
   "source": [
    "# pxq = [(p2q3-p3q2),(-p1q3+p3q1),(p1q2-q1p2)]\n",
    "np.cross(p,q)"
   ]
  },
  {
   "cell_type": "code",
   "execution_count": 479,
   "id": "37bba398-34c9-4d45-9d24-88e26ca432bd",
   "metadata": {},
   "outputs": [],
   "source": [
    "# Compute the Kronecker product of two mulitdimension NumPy arrays\n",
    "m = np.round(np.random.rand(2,2)*10)\n",
    "n = np.round(np.random.rand(2,2)*10)"
   ]
  },
  {
   "cell_type": "code",
   "execution_count": 481,
   "id": "b21ffa93-7db4-4faf-817a-26b2b9064617",
   "metadata": {},
   "outputs": [
    {
     "data": {
      "text/plain": [
       "array([[1., 8.],\n",
       "       [0., 4.]])"
      ]
     },
     "execution_count": 481,
     "metadata": {},
     "output_type": "execute_result"
    }
   ],
   "source": [
    "m"
   ]
  },
  {
   "cell_type": "code",
   "execution_count": 483,
   "id": "22ffdd8d-f987-466e-8dc4-b1782110469e",
   "metadata": {},
   "outputs": [
    {
     "data": {
      "text/plain": [
       "array([[8., 2.],\n",
       "       [4., 6.]])"
      ]
     },
     "execution_count": 483,
     "metadata": {},
     "output_type": "execute_result"
    }
   ],
   "source": [
    "n"
   ]
  },
  {
   "cell_type": "code",
   "execution_count": 485,
   "id": "1ee15e91-06b1-40f1-bfb2-9e0089be29b2",
   "metadata": {},
   "outputs": [
    {
     "data": {
      "text/plain": [
       "array([[ 8.,  2., 64., 16.],\n",
       "       [ 4.,  6., 32., 48.],\n",
       "       [ 0.,  0., 32.,  8.],\n",
       "       [ 0.,  0., 16., 24.]])"
      ]
     },
     "execution_count": 485,
     "metadata": {},
     "output_type": "execute_result"
    }
   ],
   "source": [
    "np.kron(m,n)"
   ]
  },
  {
   "cell_type": "code",
   "execution_count": 489,
   "id": "0a775211-4f14-40f2-bd5d-c21002eabe34",
   "metadata": {},
   "outputs": [
    {
     "data": {
      "text/plain": [
       "array([[ 3.58333333,  0.41666667,  1.91666667, -0.33333333, -2.33333333,\n",
       "         0.41666667,  2.16666667, -2.91666667],\n",
       "       [ 0.41666667,  0.25      ,  1.41666667,  0.        ,  1.        ,\n",
       "        -0.08333333, -0.16666667, -0.08333333],\n",
       "       [ 1.91666667,  1.41666667, 12.25      ,  1.66666667,  1.66666667,\n",
       "        -1.25      , -3.16666667,  3.41666667],\n",
       "       [-0.33333333,  0.        ,  1.66666667,  0.66666667, -1.33333333,\n",
       "        -0.33333333, -1.        ,  1.66666667],\n",
       "       [-2.33333333,  1.        ,  1.66666667, -1.33333333, 14.66666667,\n",
       "        -0.33333333, -2.        , -0.33333333],\n",
       "       [ 0.41666667, -0.08333333, -1.25      , -0.33333333, -0.33333333,\n",
       "         0.25      ,  0.83333333, -1.08333333],\n",
       "       [ 2.16666667, -0.16666667, -3.16666667, -1.        , -2.        ,\n",
       "         0.83333333,  3.        , -3.83333333],\n",
       "       [-2.91666667, -0.08333333,  3.41666667,  1.66666667, -0.33333333,\n",
       "        -1.08333333, -3.83333333,  5.58333333]])"
      ]
     },
     "execution_count": 489,
     "metadata": {},
     "output_type": "execute_result"
    }
   ],
   "source": [
    "# Convert covariance matrix to correlation matrix using Python\n",
    "np.cov(a,b)"
   ]
  },
  {
   "cell_type": "code",
   "execution_count": 493,
   "id": "eb05ae54-dae1-4959-ab82-16c4a1432d0d",
   "metadata": {},
   "outputs": [
    {
     "data": {
      "text/plain": [
       "[array([4., 1., 3.])]"
      ]
     },
     "execution_count": 493,
     "metadata": {},
     "output_type": "execute_result"
    }
   ],
   "source": [
    "# Convert the matrix into a list\n",
    "list(p)"
   ]
  },
  {
   "cell_type": "code",
   "execution_count": 495,
   "id": "907cee93-a7f7-4f03-bdf6-cb034c4632a7",
   "metadata": {},
   "outputs": [],
   "source": [
    "# Questions on NumPy Indexing\n",
    "# --------------------------"
   ]
  },
  {
   "cell_type": "code",
   "execution_count": 501,
   "id": "7ff51631-44b5-4e0a-9543-32eecaeac782",
   "metadata": {},
   "outputs": [
    {
     "data": {
      "text/plain": [
       "array([[3, 7, 2, 7, 9, 3, 4, 4, 4, 6]], dtype=int32)"
      ]
     },
     "execution_count": 501,
     "metadata": {},
     "output_type": "execute_result"
    }
   ],
   "source": [
    "# Replace NumPy array elements that doesn’t satisfy the given condition\n",
    "A = np.array(np.round(np.random.rand(1,10)*10),dtype = np.int32)\n",
    "A"
   ]
  },
  {
   "cell_type": "code",
   "execution_count": 503,
   "id": "501f876f-4eed-425d-ab76-7f99cf05d4f9",
   "metadata": {},
   "outputs": [],
   "source": [
    "# Method 1: Using Boolean Indexing\n",
    "A[A%2!=0]=0"
   ]
  },
  {
   "cell_type": "code",
   "execution_count": 505,
   "id": "73e14233-6813-4c77-b8d0-e48158f2f77b",
   "metadata": {},
   "outputs": [
    {
     "data": {
      "text/plain": [
       "array([[0, 0, 2, 0, 0, 0, 4, 4, 4, 6]], dtype=int32)"
      ]
     },
     "execution_count": 505,
     "metadata": {},
     "output_type": "execute_result"
    }
   ],
   "source": [
    "A"
   ]
  },
  {
   "cell_type": "code",
   "execution_count": 509,
   "id": "663107c9-689c-449e-b1e3-22feb9585b78",
   "metadata": {},
   "outputs": [
    {
     "data": {
      "text/plain": [
       "array([[-1, -1,  2, -1, -1, -1,  4,  4,  4,  6]], dtype=int32)"
      ]
     },
     "execution_count": 509,
     "metadata": {},
     "output_type": "execute_result"
    }
   ],
   "source": [
    "#Method 2: Using Where\n",
    "np.where(A!=0,A,-1)"
   ]
  },
  {
   "cell_type": "code",
   "execution_count": 511,
   "id": "e6e14bb4-ea96-4723-902f-09797744a5d5",
   "metadata": {},
   "outputs": [
    {
     "data": {
      "text/plain": [
       "array([[ 8,  9,  1, 10,  6,  2,  9,  5,  2,  8]], dtype=int32)"
      ]
     },
     "execution_count": 511,
     "metadata": {},
     "output_type": "execute_result"
    }
   ],
   "source": [
    "# Return the indices of elements where the given condition is satisfied\n",
    "A = np.array(np.round(np.random.rand(1,10)*10),dtype = np.int32)\n",
    "A"
   ]
  },
  {
   "cell_type": "code",
   "execution_count": 517,
   "id": "85b13cc7-b0cb-44b0-8b61-41502557a42b",
   "metadata": {},
   "outputs": [
    {
     "data": {
      "text/plain": [
       "(array([0, 0, 0, 0, 0, 0]), array([0, 1, 3, 4, 6, 9]))"
      ]
     },
     "execution_count": 517,
     "metadata": {},
     "output_type": "execute_result"
    }
   ],
   "source": [
    "# Method1: Using Where\n",
    "np.where(A>5)"
   ]
  },
  {
   "cell_type": "code",
   "execution_count": 519,
   "id": "66da4ef3-4904-4ab7-8bc0-956141a4136d",
   "metadata": {},
   "outputs": [
    {
     "data": {
      "text/plain": [
       "(array([0, 0, 0, 0, 0, 0]), array([0, 1, 3, 4, 6, 9]))"
      ]
     },
     "execution_count": 519,
     "metadata": {},
     "output_type": "execute_result"
    }
   ],
   "source": [
    "# Method2: Using non zero\n",
    "np.nonzero(A>5)"
   ]
  },
  {
   "cell_type": "code",
   "execution_count": 527,
   "id": "489c14d4-40a4-4271-b4c2-2cb1653cf274",
   "metadata": {},
   "outputs": [
    {
     "data": {
      "text/plain": [
       "array([[ 0.,  6.,  9.,  3.,  3.],\n",
       "       [ 3.,  9., 10.,  9.,  2.],\n",
       "       [ 9.,  5.,  2.,  6.,  7.],\n",
       "       [ 3.,  4.,  3.,  6.,  5.]])"
      ]
     },
     "execution_count": 527,
     "metadata": {},
     "output_type": "execute_result"
    }
   ],
   "source": [
    "# Replace NaN values with average of columns\n",
    "B = np.array(np.round(np.random.rand(4,5)*10))\n",
    "B"
   ]
  },
  {
   "cell_type": "code",
   "execution_count": 529,
   "id": "a4bc0043-df78-4c93-bf1c-4382b16b8d94",
   "metadata": {},
   "outputs": [
    {
     "data": {
      "text/plain": [
       "array([3.75, 6.  , 6.  , 6.  , 4.25])"
      ]
     },
     "execution_count": 529,
     "metadata": {},
     "output_type": "execute_result"
    }
   ],
   "source": [
    "np.average(B,axis=0)"
   ]
  },
  {
   "cell_type": "code",
   "execution_count": 531,
   "id": "44c0785c-92f5-4405-9116-99e9fbd38578",
   "metadata": {},
   "outputs": [],
   "source": [
    "B[3][4] = np.NaN\n",
    "B[1][3] = np.NaN\n",
    "B[2][1] = np.NaN"
   ]
  },
  {
   "cell_type": "code",
   "execution_count": 541,
   "id": "dcd7a4b8-2a80-42a9-80fa-a4c78e87e83f",
   "metadata": {},
   "outputs": [
    {
     "data": {
      "text/plain": [
       "array([3.75      , 6.33333333, 6.        , 5.        , 4.        ])"
      ]
     },
     "execution_count": 541,
     "metadata": {},
     "output_type": "execute_result"
    }
   ],
   "source": [
    "col_mean = np.nanmean(B,axis=0)\n",
    "col_mean"
   ]
  },
  {
   "cell_type": "code",
   "execution_count": 545,
   "id": "77c7b91b-8e27-46fd-8420-13b1f9acb635",
   "metadata": {},
   "outputs": [
    {
     "data": {
      "text/plain": [
       "array([[ 0.        ,  6.        ,  9.        ,  3.        ,  3.        ],\n",
       "       [ 3.        ,  9.        , 10.        ,  5.        ,  2.        ],\n",
       "       [ 9.        ,  6.33333333,  2.        ,  6.        ,  7.        ],\n",
       "       [ 3.        ,  4.        ,  3.        ,  6.        ,  4.        ]])"
      ]
     },
     "execution_count": 545,
     "metadata": {},
     "output_type": "execute_result"
    }
   ],
   "source": [
    "B[(np.isnan(B))]=np.take(col_mean,np.where(np.isnan(B))[1])\n",
    "B"
   ]
  },
  {
   "cell_type": "code",
   "execution_count": 551,
   "id": "cf6fc150-920e-4631-a7ea-23f4689ac193",
   "metadata": {},
   "outputs": [],
   "source": [
    "# Replace negative value with zero in numpy array\n",
    "B[3][4] = B[3][4]* -1\n",
    "B[1][3] = B[1][3]* -1\n",
    "B[2][1] = B[2][1]* -1\n",
    "B[B<0] = 0"
   ]
  },
  {
   "cell_type": "code",
   "execution_count": 553,
   "id": "d915fb8f-a3e6-4418-8f00-b4e0254ac4e4",
   "metadata": {},
   "outputs": [
    {
     "data": {
      "text/plain": [
       "array([[ 0.,  6.,  9.,  3.,  3.],\n",
       "       [ 3.,  9., 10.,  0.,  2.],\n",
       "       [ 9.,  0.,  2.,  6.,  7.],\n",
       "       [ 3.,  4.,  3.,  6.,  0.]])"
      ]
     },
     "execution_count": 553,
     "metadata": {},
     "output_type": "execute_result"
    }
   ],
   "source": [
    "B"
   ]
  },
  {
   "cell_type": "code",
   "execution_count": 555,
   "id": "56a9e9a2-8fff-4528-a281-6bc250a4c67f",
   "metadata": {},
   "outputs": [
    {
     "data": {
      "text/plain": [
       "4.0"
      ]
     },
     "execution_count": 555,
     "metadata": {},
     "output_type": "execute_result"
    }
   ],
   "source": [
    "# How to get values of an NumPy array at certain index positions?\n",
    "B[3][1]"
   ]
  },
  {
   "cell_type": "code",
   "execution_count": 561,
   "id": "615bcac4-801d-4ed3-983e-f8ef2fcb2324",
   "metadata": {},
   "outputs": [
    {
     "data": {
      "text/plain": [
       "(array([0, 1, 2, 3]), array([0, 3, 1, 4]))"
      ]
     },
     "execution_count": 561,
     "metadata": {},
     "output_type": "execute_result"
    }
   ],
   "source": [
    "# Find indices of elements equal to zero in a NumPy array\n",
    "np.where(B==0)"
   ]
  },
  {
   "cell_type": "code",
   "execution_count": 565,
   "id": "96440dc4-293a-4353-bdcc-41f07fbbf1fb",
   "metadata": {},
   "outputs": [
    {
     "data": {
      "text/plain": [
       "array([[ 3.,  9., 10.,  0.,  2.],\n",
       "       [ 3.,  4.,  3.,  6.,  0.]])"
      ]
     },
     "execution_count": 565,
     "metadata": {},
     "output_type": "execute_result"
    }
   ],
   "source": [
    "# How to access different rows of a multidimensional NumPy array?\n",
    "# advance\n",
    "B[[1,3]]"
   ]
  },
  {
   "cell_type": "code",
   "execution_count": 567,
   "id": "50beb016-670e-44d5-b192-65bd7eeb4e61",
   "metadata": {},
   "outputs": [
    {
     "data": {
      "text/plain": [
       "array([0, 1, 1, 2, 2])"
      ]
     },
     "execution_count": 567,
     "metadata": {},
     "output_type": "execute_result"
    }
   ],
   "source": [
    "# Get row numbers of NumPy array having element larger than X\n",
    "X = 6\n",
    "np.where(B>X)[0]"
   ]
  },
  {
   "cell_type": "code",
   "execution_count": 575,
   "id": "5ed7b570-2df7-40eb-be83-bb5cce6d3f22",
   "metadata": {},
   "outputs": [
    {
     "data": {
      "text/plain": [
       "True"
      ]
     },
     "execution_count": 575,
     "metadata": {},
     "output_type": "execute_result"
    }
   ],
   "source": [
    "# Check elements present in the NumPy array\n",
    "10 in B"
   ]
  },
  {
   "cell_type": "code",
   "execution_count": 579,
   "id": "303332d0-15bb-4571-994f-b1d1680fb046",
   "metadata": {},
   "outputs": [
    {
     "data": {
      "text/plain": [
       "array([[[1., 8.],\n",
       "        [8., 2.]],\n",
       "\n",
       "       [[0., 4.],\n",
       "        [4., 6.]]])"
      ]
     },
     "execution_count": 579,
     "metadata": {},
     "output_type": "execute_result"
    }
   ],
   "source": [
    "# Combined array index by index\n",
    "np.stack((m,n),axis = 1)"
   ]
  },
  {
   "cell_type": "code",
   "execution_count": 587,
   "id": "3ad6115f-5ecc-4242-a708-d3222dd9f819",
   "metadata": {},
   "outputs": [
    {
     "data": {
      "text/plain": [
       "array([[8., 2.],\n",
       "       [4., 6.],\n",
       "       [1., 8.],\n",
       "       [0., 4.]])"
      ]
     },
     "execution_count": 587,
     "metadata": {},
     "output_type": "execute_result"
    }
   ],
   "source": [
    "np.concatenate((n,m),axis=0)"
   ]
  },
  {
   "cell_type": "code",
   "execution_count": 589,
   "id": "3a68a8b3-7c10-413d-9983-57e694fbf4ec",
   "metadata": {},
   "outputs": [
    {
     "data": {
      "text/plain": [
       "array([[ 9., 10.],\n",
       "       [ 4., 10.]])"
      ]
     },
     "execution_count": 589,
     "metadata": {},
     "output_type": "execute_result"
    }
   ],
   "source": [
    "m+n"
   ]
  },
  {
   "cell_type": "code",
   "execution_count": 591,
   "id": "cd77c926-a6b4-4914-abf2-2331233f4832",
   "metadata": {},
   "outputs": [],
   "source": [
    "# Questions on NumPy Sorting and Searching\n",
    "# --------------------------"
   ]
  },
  {
   "cell_type": "code",
   "execution_count": 595,
   "id": "0a12f17b-5dc8-45b3-9dfb-bd44bbd7836d",
   "metadata": {},
   "outputs": [
    {
     "data": {
      "text/plain": [
       "array([[ 7,  9,  2,  3,  4,  5, 10,  9,  9,  0]], dtype=int32)"
      ]
     },
     "execution_count": 595,
     "metadata": {},
     "output_type": "execute_result"
    }
   ],
   "source": [
    "# How to get the indices of the sorted array using NumPy in Python?\n",
    "C = np.array(np.round(np.random.rand(1,10)*10),dtype=np.int32)\n",
    "C"
   ]
  },
  {
   "cell_type": "code",
   "execution_count": 601,
   "id": "a264335d-08f0-4c12-b8cc-d5c915165cab",
   "metadata": {},
   "outputs": [
    {
     "data": {
      "text/plain": [
       "array([[9, 2, 3, 4, 5, 0, 1, 7, 8, 6]])"
      ]
     },
     "execution_count": 601,
     "metadata": {},
     "output_type": "execute_result"
    }
   ],
   "source": [
    "np.argsort(C)"
   ]
  },
  {
   "cell_type": "code",
   "execution_count": 631,
   "id": "7cf46310-a212-44ec-98bc-c8cb1520568c",
   "metadata": {},
   "outputs": [],
   "source": [
    "# Finding the k smallest values of a NumPy array\n",
    "# Method1: Partition\n",
    "k = 4\n",
    "smallest_k = np.partition(C, k)[:k]"
   ]
  },
  {
   "cell_type": "code",
   "execution_count": 633,
   "id": "430e560c-aeec-4043-9139-2276f307a5b5",
   "metadata": {},
   "outputs": [
    {
     "data": {
      "text/plain": [
       "array([[ 0,  3,  2,  4,  5,  7,  9,  9,  9, 10]], dtype=int32)"
      ]
     },
     "execution_count": 633,
     "metadata": {},
     "output_type": "execute_result"
    }
   ],
   "source": [
    "smallest_k"
   ]
  },
  {
   "cell_type": "code",
   "execution_count": 635,
   "id": "ba29d0ce-8410-4d67-8d67-4bc4cb11b705",
   "metadata": {},
   "outputs": [
    {
     "data": {
      "text/plain": [
       "array([], shape=(0, 10, 3, 4), dtype=int64)"
      ]
     },
     "execution_count": 635,
     "metadata": {},
     "output_type": "execute_result"
    }
   ],
   "source": [
    "# Method2: argsort()\n",
    "arr[np.argsort(C)[k:]]"
   ]
  },
  {
   "cell_type": "code",
   "execution_count": null,
   "id": "eef32e4a-8fc3-41dd-8167-58376d052cd7",
   "metadata": {},
   "outputs": [],
   "source": []
  }
 ],
 "metadata": {
  "kernelspec": {
   "display_name": "Python [conda env:base] *",
   "language": "python",
   "name": "conda-base-py"
  },
  "language_info": {
   "codemirror_mode": {
    "name": "ipython",
    "version": 3
   },
   "file_extension": ".py",
   "mimetype": "text/x-python",
   "name": "python",
   "nbconvert_exporter": "python",
   "pygments_lexer": "ipython3",
   "version": "3.10.9"
  }
 },
 "nbformat": 4,
 "nbformat_minor": 5
}
